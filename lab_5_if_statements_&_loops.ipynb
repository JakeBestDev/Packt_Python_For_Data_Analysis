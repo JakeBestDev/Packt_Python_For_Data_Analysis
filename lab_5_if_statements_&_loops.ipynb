{
 "cells": [
  {
   "cell_type": "markdown",
   "id": "a2289deb-48e2-4555-90e7-96d3b87886ce",
   "metadata": {},
   "source": [
    "## if statements"
   ]
  },
  {
   "cell_type": "code",
   "execution_count": 1,
   "id": "2420bbd2-ca36-4929-bcb8-43bd77664ed2",
   "metadata": {},
   "outputs": [
    {
     "name": "stdout",
     "output_type": "stream",
     "text": [
      "this is true\n"
     ]
    }
   ],
   "source": [
    "if 2 == 2:\n",
    "    print('this is true')"
   ]
  },
  {
   "cell_type": "code",
   "execution_count": 7,
   "id": "e9a7c5c5-bbcf-4eb9-acb7-e3edec370db2",
   "metadata": {},
   "outputs": [
    {
     "name": "stdout",
     "output_type": "stream",
     "text": [
      "maybe we can go to the park\n"
     ]
    }
   ],
   "source": [
    "weather = 'cloudy'\n",
    "if weather == 'rainy':\n",
    "    print('weather is rainy')\n",
    "elif weather == 'cloudy':\n",
    "    print('maybe we can go to the park')\n",
    "else:\n",
    "    print('weather is not rainy')"
   ]
  },
  {
   "cell_type": "markdown",
   "id": "3ba7e8e1-f2df-48f3-a302-3ada7633bb7a",
   "metadata": {},
   "source": [
    "## For loop"
   ]
  },
  {
   "cell_type": "code",
   "execution_count": 8,
   "id": "2e1f3e33-e608-4e73-baf5-a11ddb5cc413",
   "metadata": {},
   "outputs": [
    {
     "name": "stdout",
     "output_type": "stream",
     "text": [
      "1\n",
      "2\n",
      "3\n",
      "4\n",
      "5\n",
      "6\n"
     ]
    }
   ],
   "source": [
    "l1 = [1,2,3,4,5,6]\n",
    "\n",
    "for e in l1:\n",
    "    print(e)"
   ]
  },
  {
   "cell_type": "code",
   "execution_count": 10,
   "id": "294db491-54a1-41a2-8732-faf332700db7",
   "metadata": {},
   "outputs": [
    {
     "name": "stdout",
     "output_type": "stream",
     "text": [
      "1 is not an even number\n",
      "2\n",
      "3 is not an even number\n",
      "4\n",
      "5 is not an even number\n",
      "6\n"
     ]
    }
   ],
   "source": [
    "for e in l1:\n",
    "    if e % 2 == 0:\n",
    "        print(e)\n",
    "    else:\n",
    "        print(f'{e} is not an even number')"
   ]
  },
  {
   "cell_type": "code",
   "execution_count": 13,
   "id": "cc329e8a-138f-4703-83ab-3bed5b3b3485",
   "metadata": {},
   "outputs": [
    {
     "data": {
      "text/plain": [
       "21"
      ]
     },
     "execution_count": 13,
     "metadata": {},
     "output_type": "execute_result"
    }
   ],
   "source": [
    "tot_num = 0\n",
    "\n",
    "for e in l1:\n",
    "    tot_num = tot_num+e\n",
    "\n",
    "tot_num"
   ]
  },
  {
   "cell_type": "code",
   "execution_count": 14,
   "id": "9fd0c816-a4c4-4b3a-9c53-9a56ac1aafc5",
   "metadata": {},
   "outputs": [
    {
     "name": "stdout",
     "output_type": "stream",
     "text": [
      "d\n",
      "a\n",
      "t\n",
      "a\n",
      " \n",
      "s\n",
      "c\n",
      "i\n",
      "e\n",
      "n\n",
      "c\n",
      "e\n"
     ]
    }
   ],
   "source": [
    "s1 = 'data science'\n",
    "for e in s1:\n",
    "    print(e)"
   ]
  },
  {
   "cell_type": "code",
   "execution_count": 15,
   "id": "37214b37-33b4-432e-b5bc-fa7f2530d203",
   "metadata": {},
   "outputs": [],
   "source": [
    "l2 = [(1,2),(3,4),(5,6)]"
   ]
  },
  {
   "cell_type": "code",
   "execution_count": 17,
   "id": "c77bd783-fed5-4f1e-864f-d3de04d44a18",
   "metadata": {},
   "outputs": [
    {
     "name": "stdout",
     "output_type": "stream",
     "text": [
      "1\n",
      "2\n"
     ]
    }
   ],
   "source": [
    "v1,v2 = 1,2\n",
    "print(v1)\n",
    "print(v2)\n",
    "## multiple assignment"
   ]
  },
  {
   "cell_type": "code",
   "execution_count": 18,
   "id": "715fbffb-8ef0-4a47-88a6-0715c89a45d4",
   "metadata": {},
   "outputs": [
    {
     "name": "stdout",
     "output_type": "stream",
     "text": [
      "3\n",
      "7\n",
      "11\n"
     ]
    }
   ],
   "source": [
    "for v1,v2 in l2:\n",
    "    print(v1+v2)\n",
    "    "
   ]
  },
  {
   "cell_type": "code",
   "execution_count": 22,
   "id": "bf0565b3-58db-45e4-ace7-1e31ea6c79e6",
   "metadata": {},
   "outputs": [
    {
     "name": "stdout",
     "output_type": "stream",
     "text": [
      "('key1', 1)\n",
      "('key2', 2)\n",
      "key1 1\n",
      "key2 2\n"
     ]
    }
   ],
   "source": [
    "d1 = {'key1':1,'key2':2}\n",
    "\n",
    "for pair in d1.items():\n",
    "    print(pair)\n",
    "\n",
    "for key,value in d1.items():\n",
    "    print(key,value)"
   ]
  },
  {
   "cell_type": "markdown",
   "id": "2c14b718-9f41-4673-b1b1-f12f89c25531",
   "metadata": {},
   "source": [
    "## while loop"
   ]
  },
  {
   "cell_type": "code",
   "execution_count": 25,
   "id": "ede18725-5ce1-405b-a7b8-b27a6d1cd7a9",
   "metadata": {},
   "outputs": [
    {
     "name": "stdout",
     "output_type": "stream",
     "text": [
      "3\n",
      "5\n",
      "7\n",
      "9\n",
      "11\n",
      "num is larger than 10\n"
     ]
    }
   ],
   "source": [
    "num = 1\n",
    "while num < 10:\n",
    "    num +=2\n",
    "    print(num)\n",
    "else:\n",
    "    print('num is larger than 10')"
   ]
  },
  {
   "cell_type": "code",
   "execution_count": null,
   "id": "244bde60-41d1-4fab-a659-65581f0d57a1",
   "metadata": {},
   "outputs": [],
   "source": []
  },
  {
   "cell_type": "markdown",
   "id": "1261d247-5c18-4bfd-9fdf-a17afa6822fc",
   "metadata": {},
   "source": [
    "## Useful Loops"
   ]
  },
  {
   "cell_type": "code",
   "execution_count": 32,
   "id": "731ec800-d587-49fa-b355-17e98faff456",
   "metadata": {},
   "outputs": [
    {
     "name": "stdout",
     "output_type": "stream",
     "text": [
      "0\n",
      "1\n",
      "2\n",
      "3\n",
      "4\n",
      "notice no 5\n",
      "0\n",
      "1\n",
      "2\n",
      "3\n",
      "4\n",
      "5\n",
      "now includes 5\n",
      "2\n",
      "4\n",
      "6\n",
      "notice only prints evens\n"
     ]
    }
   ],
   "source": [
    "# range generator\n",
    "for i in range(5):\n",
    "    print(i)\n",
    "print('notice no 5')\n",
    "for i in range(6):\n",
    "    print(i)\n",
    "print('now includes 5')\n",
    "\n",
    "for i in range(2,7,2):\n",
    "    print(i)\n",
    "print('notice only prints evens')"
   ]
  },
  {
   "cell_type": "code",
   "execution_count": 37,
   "id": "71223b7d-5ac9-4288-ad43-34ccdd53363f",
   "metadata": {},
   "outputs": [
    {
     "name": "stdout",
     "output_type": "stream",
     "text": [
      "1\n",
      "2\n",
      "3\n",
      "4\n",
      "4 is the count\n",
      "1\n",
      "2\n",
      "3\n",
      "4\n",
      "3 is the count, its 3 due to starting at 0.\n"
     ]
    }
   ],
   "source": [
    "## enumerate function\n",
    "\n",
    "l1 = [1,2,3,4]\n",
    "count = 0\n",
    "\n",
    "for i in l1:\n",
    "    print(i)\n",
    "    count+=1\n",
    "\n",
    "print(f'{count} is the count')\n",
    "\n",
    "l1 = [1,2,3,4]\n",
    "count = 0\n",
    "\n",
    "for count, i in enumerate(l1):\n",
    "    print(i)\n",
    "\n",
    "print(f'{count} is the count, its 3 due to starting at 0.')"
   ]
  },
  {
   "cell_type": "code",
   "execution_count": null,
   "id": "1f7885e0-3b72-482a-92d6-fb3f33b714fa",
   "metadata": {},
   "outputs": [],
   "source": []
  },
  {
   "cell_type": "code",
   "execution_count": null,
   "id": "0be1ad07-a57d-4264-8371-15fdb470708e",
   "metadata": {},
   "outputs": [],
   "source": []
  },
  {
   "cell_type": "code",
   "execution_count": null,
   "id": "c4a02aba-4008-44f7-a169-ea948d4960ea",
   "metadata": {},
   "outputs": [],
   "source": []
  },
  {
   "cell_type": "code",
   "execution_count": null,
   "id": "352b1d0a-2deb-4f84-9bd0-7c65c9df5c75",
   "metadata": {},
   "outputs": [],
   "source": []
  },
  {
   "cell_type": "code",
   "execution_count": null,
   "id": "00d62466-ca00-44e0-b0b1-b9894acfb4ee",
   "metadata": {},
   "outputs": [],
   "source": []
  },
  {
   "cell_type": "code",
   "execution_count": null,
   "id": "ef8e4fa9-a1ea-4f87-9d68-9a49e9d5dfd9",
   "metadata": {},
   "outputs": [],
   "source": []
  },
  {
   "cell_type": "code",
   "execution_count": null,
   "id": "a0c1614e-331a-4903-aaea-176679d250c2",
   "metadata": {},
   "outputs": [],
   "source": []
  },
  {
   "cell_type": "code",
   "execution_count": null,
   "id": "da02ae9d-60ef-4ef3-9629-aed9ff9d8820",
   "metadata": {},
   "outputs": [],
   "source": []
  },
  {
   "cell_type": "code",
   "execution_count": null,
   "id": "46283385-a31e-4a5e-9fb1-40d5c18acd07",
   "metadata": {},
   "outputs": [],
   "source": []
  },
  {
   "cell_type": "code",
   "execution_count": null,
   "id": "7ac8d524-9dc7-4375-a2c6-70aecc827ed3",
   "metadata": {},
   "outputs": [],
   "source": []
  },
  {
   "cell_type": "code",
   "execution_count": null,
   "id": "7b5b2bcd-e769-4ea5-bc35-122b27a2cf99",
   "metadata": {},
   "outputs": [],
   "source": []
  },
  {
   "cell_type": "code",
   "execution_count": null,
   "id": "afbe54d8-8a18-4d14-beac-5ed26365ec81",
   "metadata": {},
   "outputs": [],
   "source": []
  },
  {
   "cell_type": "code",
   "execution_count": null,
   "id": "8d2f91b3-51d8-497c-acad-dfab76196555",
   "metadata": {},
   "outputs": [],
   "source": []
  },
  {
   "cell_type": "code",
   "execution_count": null,
   "id": "07a08459-c91c-466d-8514-212e61a972f5",
   "metadata": {},
   "outputs": [],
   "source": []
  },
  {
   "cell_type": "code",
   "execution_count": null,
   "id": "f49881c7-1dd9-454b-83e4-748ee95729e0",
   "metadata": {},
   "outputs": [],
   "source": []
  },
  {
   "cell_type": "code",
   "execution_count": null,
   "id": "49b93391-5bde-4be0-85ad-c54825c530fc",
   "metadata": {},
   "outputs": [],
   "source": []
  },
  {
   "cell_type": "code",
   "execution_count": null,
   "id": "99635363-b126-4ab8-bf40-49b7ddcf7577",
   "metadata": {},
   "outputs": [],
   "source": []
  },
  {
   "cell_type": "code",
   "execution_count": null,
   "id": "03ac1d38-fcfd-4488-a221-88c77dd3ddb1",
   "metadata": {},
   "outputs": [],
   "source": []
  },
  {
   "cell_type": "code",
   "execution_count": null,
   "id": "86b4121a-ce1d-44cf-ade1-7f0dbbe2d3b6",
   "metadata": {},
   "outputs": [],
   "source": []
  },
  {
   "cell_type": "code",
   "execution_count": null,
   "id": "fcd350ab-72d4-4882-a113-260bf21b4d63",
   "metadata": {},
   "outputs": [],
   "source": []
  },
  {
   "cell_type": "code",
   "execution_count": null,
   "id": "d95695d7-d2f0-4e37-9312-a9a40874fa51",
   "metadata": {},
   "outputs": [],
   "source": []
  },
  {
   "cell_type": "code",
   "execution_count": null,
   "id": "de969f28-5f58-432a-8f24-29475eb744dc",
   "metadata": {},
   "outputs": [],
   "source": []
  },
  {
   "cell_type": "code",
   "execution_count": null,
   "id": "3387b439-f760-4fb0-8d09-edb9a1698049",
   "metadata": {},
   "outputs": [],
   "source": []
  },
  {
   "cell_type": "code",
   "execution_count": null,
   "id": "64dde314-7c7f-4562-a1e6-167e27fb451c",
   "metadata": {},
   "outputs": [],
   "source": []
  }
 ],
 "metadata": {
  "kernelspec": {
   "display_name": "Python 3 (ipykernel)",
   "language": "python",
   "name": "python3"
  },
  "language_info": {
   "codemirror_mode": {
    "name": "ipython",
    "version": 3
   },
   "file_extension": ".py",
   "mimetype": "text/x-python",
   "name": "python",
   "nbconvert_exporter": "python",
   "pygments_lexer": "ipython3",
   "version": "3.11.7"
  }
 },
 "nbformat": 4,
 "nbformat_minor": 5
}
