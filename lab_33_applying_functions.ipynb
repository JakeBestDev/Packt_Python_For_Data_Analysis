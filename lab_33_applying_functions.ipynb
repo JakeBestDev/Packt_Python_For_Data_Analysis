{
 "cells": [
  {
   "cell_type": "markdown",
   "id": "27fc0b3c-b897-4d6f-b851-98480f742c88",
   "metadata": {},
   "source": [
    "## Applying Functions"
   ]
  },
  {
   "cell_type": "code",
   "execution_count": 2,
   "id": "b6329823-cecb-433f-8cee-9b368a302a09",
   "metadata": {},
   "outputs": [],
   "source": [
    "import pandas as pd\n",
    "air_quality = pd.read_pickle('air_quality.pkl')"
   ]
  },
  {
   "cell_type": "markdown",
   "id": "aa340ecc-e9a5-442e-98ba-be5d70fd8c34",
   "metadata": {},
   "source": [
    "## .apply() method"
   ]
  },
  {
   "cell_type": "markdown",
   "id": "7ec19f7c-4295-4f74-bde8-be0a565bd4ad",
   "metadata": {},
   "source": [
    "### Built In Functions With .apply()"
   ]
  },
  {
   "cell_type": "code",
   "execution_count": 7,
   "id": "68bc671a-40ec-424e-ad77-e0f63e3280e0",
   "metadata": {},
   "outputs": [
    {
     "data": {
      "text/html": [
       "<div>\n",
       "<style scoped>\n",
       "    .dataframe tbody tr th:only-of-type {\n",
       "        vertical-align: middle;\n",
       "    }\n",
       "\n",
       "    .dataframe tbody tr th {\n",
       "        vertical-align: top;\n",
       "    }\n",
       "\n",
       "    .dataframe thead th {\n",
       "        text-align: right;\n",
       "    }\n",
       "</style>\n",
       "<table border=\"1\" class=\"dataframe\">\n",
       "  <thead>\n",
       "    <tr style=\"text-align: right;\">\n",
       "      <th></th>\n",
       "      <th>PM2.5</th>\n",
       "      <th>PM10</th>\n",
       "    </tr>\n",
       "  </thead>\n",
       "  <tbody>\n",
       "    <tr>\n",
       "      <th>0</th>\n",
       "      <td>9.0</td>\n",
       "      <td>9.0</td>\n",
       "    </tr>\n",
       "    <tr>\n",
       "      <th>1</th>\n",
       "      <td>4.0</td>\n",
       "      <td>4.0</td>\n",
       "    </tr>\n",
       "    <tr>\n",
       "      <th>2</th>\n",
       "      <td>4.0</td>\n",
       "      <td>4.0</td>\n",
       "    </tr>\n",
       "    <tr>\n",
       "      <th>3</th>\n",
       "      <td>5.0</td>\n",
       "      <td>5.0</td>\n",
       "    </tr>\n",
       "    <tr>\n",
       "      <th>4</th>\n",
       "      <td>3.0</td>\n",
       "      <td>6.0</td>\n",
       "    </tr>\n",
       "    <tr>\n",
       "      <th>...</th>\n",
       "      <td>...</td>\n",
       "      <td>...</td>\n",
       "    </tr>\n",
       "    <tr>\n",
       "      <th>95680</th>\n",
       "      <td>9.0</td>\n",
       "      <td>9.0</td>\n",
       "    </tr>\n",
       "    <tr>\n",
       "      <th>95681</th>\n",
       "      <td>10.0</td>\n",
       "      <td>29.0</td>\n",
       "    </tr>\n",
       "    <tr>\n",
       "      <th>95682</th>\n",
       "      <td>18.0</td>\n",
       "      <td>32.0</td>\n",
       "    </tr>\n",
       "    <tr>\n",
       "      <th>95683</th>\n",
       "      <td>15.0</td>\n",
       "      <td>42.0</td>\n",
       "    </tr>\n",
       "    <tr>\n",
       "      <th>95684</th>\n",
       "      <td>15.0</td>\n",
       "      <td>50.0</td>\n",
       "    </tr>\n",
       "  </tbody>\n",
       "</table>\n",
       "<p>95685 rows × 2 columns</p>\n",
       "</div>"
      ],
      "text/plain": [
       "       PM2.5  PM10\n",
       "0        9.0   9.0\n",
       "1        4.0   4.0\n",
       "2        4.0   4.0\n",
       "3        5.0   5.0\n",
       "4        3.0   6.0\n",
       "...      ...   ...\n",
       "95680    9.0   9.0\n",
       "95681   10.0  29.0\n",
       "95682   18.0  32.0\n",
       "95683   15.0  42.0\n",
       "95684   15.0  50.0\n",
       "\n",
       "[95685 rows x 2 columns]"
      ]
     },
     "execution_count": 7,
     "metadata": {},
     "output_type": "execute_result"
    }
   ],
   "source": [
    "air_quality[['PM2.5','PM10']]"
   ]
  },
  {
   "cell_type": "code",
   "execution_count": 4,
   "id": "bbc9b082-8d47-413a-ba98-2843d2516ae0",
   "metadata": {},
   "outputs": [
    {
     "data": {
      "text/plain": [
       "PM2.5     83.477884\n",
       "PM10     111.899959\n",
       "dtype: float64"
      ]
     },
     "execution_count": 4,
     "metadata": {},
     "output_type": "execute_result"
    }
   ],
   "source": [
    "# apply the built in mean function\n",
    "air_quality[['PM2.5','PM10']].apply('mean')"
   ]
  },
  {
   "cell_type": "code",
   "execution_count": 5,
   "id": "c50625ac-07ad-47ea-87c4-54b644b5cfb6",
   "metadata": {},
   "outputs": [
    {
     "data": {
      "text/plain": [
       "PM2.5     83.477884\n",
       "PM10     111.899959\n",
       "dtype: float64"
      ]
     },
     "execution_count": 5,
     "metadata": {},
     "output_type": "execute_result"
    }
   ],
   "source": [
    "# By default axis =  0 so notice how its not different below with axis = 0\n",
    "# The axis can be 1 or 0\n",
    "# if 0 or 'index' it will apply the function to each colum in its entirety\n",
    "# If 1 or 'colums' then it applies the function to each row.\n",
    "air_quality[['PM2.5','PM10']].apply('mean', axis = 0)"
   ]
  },
  {
   "cell_type": "code",
   "execution_count": 6,
   "id": "0b02631b-bd83-48da-8592-4e3f77b39403",
   "metadata": {},
   "outputs": [
    {
     "data": {
      "text/plain": [
       "0         9.0\n",
       "1         4.0\n",
       "2         4.0\n",
       "3         5.0\n",
       "4         4.5\n",
       "         ... \n",
       "95680     9.0\n",
       "95681    19.5\n",
       "95682    25.0\n",
       "95683    28.5\n",
       "95684    32.5\n",
       "Length: 95685, dtype: float64"
      ]
     },
     "execution_count": 6,
     "metadata": {},
     "output_type": "execute_result"
    }
   ],
   "source": [
    "# Now with axis = 1 notice the mean function being applied across the rows.\n",
    "# Row 4 demonstrates the best. Look how the mean is 4.5. That is the mean of 3 and 6 from row 4 above when the two colums were ran together. \n",
    "# Look at 2nd line above to see the 3 and 6\n",
    "# You can also see more examples in the lower portion of the output. Like 19.5 and 25\n",
    "air_quality[['PM2.5','PM10']].apply('mean', axis = 1)"
   ]
  },
  {
   "cell_type": "markdown",
   "id": "c04dc5c7-12fb-43ad-bec7-37307bcc3ddf",
   "metadata": {},
   "source": [
    "#### Now how is this different from the above?\n",
    "\n",
    "#### This is the issue with apply(). It's more efficient to use just the functions themselves like .mean() insead of apply(mean).\n",
    "#### The .apply() is cappable but not necessary, like for this example\n",
    "\n",
    "### .apply() is considered a last resort and should only be used for complicated functions."
   ]
  },
  {
   "cell_type": "code",
   "execution_count": 8,
   "id": "fa615bfe-2ee9-4881-b294-20086ee507bb",
   "metadata": {},
   "outputs": [
    {
     "data": {
      "text/plain": [
       "PM2.5     83.477884\n",
       "PM10     111.899959\n",
       "dtype: float64"
      ]
     },
     "execution_count": 8,
     "metadata": {},
     "output_type": "execute_result"
    }
   ],
   "source": [
    "air_quality[['PM2.5','PM10']].mean()"
   ]
  },
  {
   "cell_type": "code",
   "execution_count": 9,
   "id": "5d9faaf2-b6e5-4755-8037-02a0f09a5add",
   "metadata": {},
   "outputs": [
    {
     "data": {
      "text/plain": [
       "0         9.0\n",
       "1         4.0\n",
       "2         4.0\n",
       "3         5.0\n",
       "4         4.5\n",
       "         ... \n",
       "95680     9.0\n",
       "95681    19.5\n",
       "95682    25.0\n",
       "95683    28.5\n",
       "95684    32.5\n",
       "Length: 95685, dtype: float64"
      ]
     },
     "execution_count": 9,
     "metadata": {},
     "output_type": "execute_result"
    }
   ],
   "source": [
    "air_quality[['PM2.5','PM10']].mean(axis = 1)"
   ]
  },
  {
   "cell_type": "markdown",
   "id": "a7389596-d7eb-47e0-bb6f-496ab8dd9188",
   "metadata": {},
   "source": [
    "## Custom Functions With .apply() method"
   ]
  },
  {
   "cell_type": "code",
   "execution_count": 12,
   "id": "019bee1d-1dc7-4a1a-b14b-c3f1d4a0a017",
   "metadata": {},
   "outputs": [
    {
     "data": {
      "text/plain": [
       "0        1.000000\n",
       "1        1.000000\n",
       "2        1.000000\n",
       "3        1.000000\n",
       "4        0.500000\n",
       "           ...   \n",
       "95680    1.000000\n",
       "95681    0.344828\n",
       "95682    0.562500\n",
       "95683    0.357143\n",
       "95684    0.300000\n",
       "Length: 95685, dtype: float64"
      ]
     },
     "execution_count": 12,
     "metadata": {},
     "output_type": "execute_result"
    }
   ],
   "source": [
    "# Want to divide the PM2.5 by PM10. No built in function to preform this action so for this example use a custom function.\n",
    "# Use axis =  1 because we want this to apply across each row.\n",
    "def pm_ratio(row):\n",
    "    return row['PM2.5']/row['PM10']\n",
    "\n",
    "air_quality.apply(pm_ratio, axis = 1)"
   ]
  },
  {
   "cell_type": "markdown",
   "id": "370f4bfa-da45-4cb3-b335-e1ed312ce090",
   "metadata": {},
   "source": [
    "## Lambda Function .apply() method"
   ]
  },
  {
   "cell_type": "code",
   "execution_count": 14,
   "id": "ef3b587e-ddb0-480d-a262-dfe687a93840",
   "metadata": {},
   "outputs": [
    {
     "data": {
      "text/plain": [
       "0        1.000000\n",
       "1        1.000000\n",
       "2        1.000000\n",
       "3        1.000000\n",
       "4        0.500000\n",
       "           ...   \n",
       "95680    1.000000\n",
       "95681    0.344828\n",
       "95682    0.562500\n",
       "95683    0.357143\n",
       "95684    0.300000\n",
       "Length: 95685, dtype: float64"
      ]
     },
     "execution_count": 14,
     "metadata": {},
     "output_type": "execute_result"
    }
   ],
   "source": [
    "# Doing the same as above but as a lambda function\n",
    "air_quality[['PM2.5','PM10']].apply(lambda row: row['PM2.5']/row['PM10'], axis = 1)"
   ]
  },
  {
   "cell_type": "markdown",
   "id": "c970d9df-3954-44ca-b37d-743fc2e4f13c",
   "metadata": {},
   "source": [
    "## How is this different than above?\n",
    "#### It returns the same values but is simpler.\n",
    "#### Yet another time when apply was unnecessary to use"
   ]
  },
  {
   "cell_type": "code",
   "execution_count": 15,
   "id": "a7d553f7-176b-4c60-a972-37deb0e838c7",
   "metadata": {},
   "outputs": [
    {
     "data": {
      "text/plain": [
       "0        1.000000\n",
       "1        1.000000\n",
       "2        1.000000\n",
       "3        1.000000\n",
       "4        0.500000\n",
       "           ...   \n",
       "95680    1.000000\n",
       "95681    0.344828\n",
       "95682    0.562500\n",
       "95683    0.357143\n",
       "95684    0.300000\n",
       "Length: 95685, dtype: float64"
      ]
     },
     "execution_count": 15,
     "metadata": {},
     "output_type": "execute_result"
    }
   ],
   "source": [
    "air_quality['PM2.5']/air_quality['PM10']"
   ]
  },
  {
   "cell_type": "markdown",
   "id": "2db8f9ec-ec26-4d80-991b-5fbfc77815bb",
   "metadata": {},
   "source": [
    "## So when is .apply() best used?\n",
    "#### Its best used for complicated functions. See below for example\n",
    "#### Assume we wnat to add a new column to air_quality. 'Go outside', 'Stay inside'\n",
    "#### Based on PM25_category, TEMP_category, RAIN"
   ]
  },
  {
   "cell_type": "code",
   "execution_count": 19,
   "id": "b4cf53bc-414f-4733-88af-d739288ad21a",
   "metadata": {},
   "outputs": [
    {
     "data": {
      "text/plain": [
       "0        Stay inside\n",
       "1        Stay inside\n",
       "2        Stay inside\n",
       "3        Stay inside\n",
       "4        Stay inside\n",
       "            ...     \n",
       "95680     Go outside\n",
       "95681     Go outside\n",
       "95682     Go outside\n",
       "95683     Go outside\n",
       "95684    Stay inside\n",
       "Length: 95685, dtype: object"
      ]
     },
     "execution_count": 19,
     "metadata": {},
     "output_type": "execute_result"
    }
   ],
   "source": [
    "# Create the custom function\n",
    "# Use a lambda function to apply specific rows. VERY IMPORTANT! I tried using standard air_quality[['PM2.5....]] and get error so use LAMBDA!\n",
    "def activity_decision(pm25_category, temp_category, rain):\n",
    "        if pm25_category in ['Good','Moderate'] and temp_category in ['Warm', 'Hot'] and rain == 0:\n",
    "            return 'Go outside'\n",
    "        else:\n",
    "            return 'Stay inside'\n",
    "\n",
    "air_quality.apply(lambda row: activity_decision(row['PM2.5_category'], row['TEMP_category'], row['RAIN']), axis = 1)"
   ]
  },
  {
   "cell_type": "code",
   "execution_count": 20,
   "id": "697a0629-de8f-43b7-a2c3-edb425180584",
   "metadata": {},
   "outputs": [],
   "source": [
    "# Now lets assign to new column\n",
    "air_quality['activity'] = air_quality.apply(lambda row: activity_decision(row['PM2.5_category'], row['TEMP_category'], row['RAIN']), axis = 1)"
   ]
  },
  {
   "cell_type": "code",
   "execution_count": 21,
   "id": "633eafbd-7b16-474f-aa67-49303b3ea6d2",
   "metadata": {},
   "outputs": [
    {
     "data": {
      "text/html": [
       "<div>\n",
       "<style scoped>\n",
       "    .dataframe tbody tr th:only-of-type {\n",
       "        vertical-align: middle;\n",
       "    }\n",
       "\n",
       "    .dataframe tbody tr th {\n",
       "        vertical-align: top;\n",
       "    }\n",
       "\n",
       "    .dataframe thead th {\n",
       "        text-align: right;\n",
       "    }\n",
       "</style>\n",
       "<table border=\"1\" class=\"dataframe\">\n",
       "  <thead>\n",
       "    <tr style=\"text-align: right;\">\n",
       "      <th></th>\n",
       "      <th>activity</th>\n",
       "      <th>PM2.5_category</th>\n",
       "      <th>TEMP_category</th>\n",
       "      <th>RAIN</th>\n",
       "    </tr>\n",
       "  </thead>\n",
       "  <tbody>\n",
       "    <tr>\n",
       "      <th>0</th>\n",
       "      <td>Stay inside</td>\n",
       "      <td>Good</td>\n",
       "      <td>Very Cold</td>\n",
       "      <td>0.0</td>\n",
       "    </tr>\n",
       "    <tr>\n",
       "      <th>1</th>\n",
       "      <td>Stay inside</td>\n",
       "      <td>Good</td>\n",
       "      <td>Very Cold</td>\n",
       "      <td>0.0</td>\n",
       "    </tr>\n",
       "    <tr>\n",
       "      <th>2</th>\n",
       "      <td>Stay inside</td>\n",
       "      <td>Good</td>\n",
       "      <td>Very Cold</td>\n",
       "      <td>0.0</td>\n",
       "    </tr>\n",
       "    <tr>\n",
       "      <th>3</th>\n",
       "      <td>Stay inside</td>\n",
       "      <td>Good</td>\n",
       "      <td>Very Cold</td>\n",
       "      <td>0.0</td>\n",
       "    </tr>\n",
       "    <tr>\n",
       "      <th>4</th>\n",
       "      <td>Stay inside</td>\n",
       "      <td>Good</td>\n",
       "      <td>Very Cold</td>\n",
       "      <td>0.0</td>\n",
       "    </tr>\n",
       "    <tr>\n",
       "      <th>...</th>\n",
       "      <td>...</td>\n",
       "      <td>...</td>\n",
       "      <td>...</td>\n",
       "      <td>...</td>\n",
       "    </tr>\n",
       "    <tr>\n",
       "      <th>95680</th>\n",
       "      <td>Go outside</td>\n",
       "      <td>Good</td>\n",
       "      <td>Warm</td>\n",
       "      <td>0.0</td>\n",
       "    </tr>\n",
       "    <tr>\n",
       "      <th>95681</th>\n",
       "      <td>Go outside</td>\n",
       "      <td>Good</td>\n",
       "      <td>Warm</td>\n",
       "      <td>0.0</td>\n",
       "    </tr>\n",
       "    <tr>\n",
       "      <th>95682</th>\n",
       "      <td>Go outside</td>\n",
       "      <td>Moderate</td>\n",
       "      <td>Warm</td>\n",
       "      <td>0.0</td>\n",
       "    </tr>\n",
       "    <tr>\n",
       "      <th>95683</th>\n",
       "      <td>Go outside</td>\n",
       "      <td>Moderate</td>\n",
       "      <td>Warm</td>\n",
       "      <td>0.0</td>\n",
       "    </tr>\n",
       "    <tr>\n",
       "      <th>95684</th>\n",
       "      <td>Stay inside</td>\n",
       "      <td>Moderate</td>\n",
       "      <td>Cold</td>\n",
       "      <td>0.0</td>\n",
       "    </tr>\n",
       "  </tbody>\n",
       "</table>\n",
       "<p>95685 rows × 4 columns</p>\n",
       "</div>"
      ],
      "text/plain": [
       "          activity PM2.5_category TEMP_category  RAIN\n",
       "0      Stay inside           Good     Very Cold   0.0\n",
       "1      Stay inside           Good     Very Cold   0.0\n",
       "2      Stay inside           Good     Very Cold   0.0\n",
       "3      Stay inside           Good     Very Cold   0.0\n",
       "4      Stay inside           Good     Very Cold   0.0\n",
       "...            ...            ...           ...   ...\n",
       "95680   Go outside           Good          Warm   0.0\n",
       "95681   Go outside           Good          Warm   0.0\n",
       "95682   Go outside       Moderate          Warm   0.0\n",
       "95683   Go outside       Moderate          Warm   0.0\n",
       "95684  Stay inside       Moderate          Cold   0.0\n",
       "\n",
       "[95685 rows x 4 columns]"
      ]
     },
     "execution_count": 21,
     "metadata": {},
     "output_type": "execute_result"
    }
   ],
   "source": [
    "# Check new column with other columns\n",
    "air_quality[['activity', 'PM2.5_category','TEMP_category','RAIN']]"
   ]
  },
  {
   "cell_type": "code",
   "execution_count": 22,
   "id": "5c24b9b1-9066-4018-b708-ba72fd71ab7b",
   "metadata": {},
   "outputs": [
    {
     "data": {
      "text/plain": [
       "activity\n",
       "Stay inside    0.874777\n",
       "Go outside     0.125223\n",
       "Name: proportion, dtype: float64"
      ]
     },
     "execution_count": 22,
     "metadata": {},
     "output_type": "execute_result"
    }
   ],
   "source": [
    "# Now we can analyze the data of how often we could go outside.\n",
    "# We could only go outside 12.5% of the time... not good\n",
    "air_quality['activity'].value_counts(normalize=True)"
   ]
  },
  {
   "cell_type": "code",
   "execution_count": null,
   "id": "c6ae205e-cf6a-4c71-8443-585930be0d76",
   "metadata": {},
   "outputs": [],
   "source": []
  },
  {
   "cell_type": "code",
   "execution_count": null,
   "id": "86bfc3bb-77a8-4fba-99c0-117bb8c47ff6",
   "metadata": {},
   "outputs": [],
   "source": []
  },
  {
   "cell_type": "code",
   "execution_count": null,
   "id": "71324349-a8d3-4931-9850-7eb610313f36",
   "metadata": {},
   "outputs": [],
   "source": []
  },
  {
   "cell_type": "code",
   "execution_count": null,
   "id": "2d874565-5f62-45f2-af2d-41283fe37fa0",
   "metadata": {},
   "outputs": [],
   "source": []
  },
  {
   "cell_type": "code",
   "execution_count": null,
   "id": "a68cb73d-c3c9-4d14-b915-deb9ea694c24",
   "metadata": {},
   "outputs": [],
   "source": []
  },
  {
   "cell_type": "code",
   "execution_count": null,
   "id": "67b35e93-2d53-4764-834e-8cf9d1b0ce7f",
   "metadata": {},
   "outputs": [],
   "source": []
  },
  {
   "cell_type": "code",
   "execution_count": null,
   "id": "77870cc1-9ee2-4dbf-94fd-6043b8c888ff",
   "metadata": {},
   "outputs": [],
   "source": []
  },
  {
   "cell_type": "code",
   "execution_count": null,
   "id": "ea452725-f28a-4a24-9a46-b3000db616aa",
   "metadata": {},
   "outputs": [],
   "source": []
  },
  {
   "cell_type": "code",
   "execution_count": null,
   "id": "f78fef5e-ffde-405f-8a8e-763524f0a1e7",
   "metadata": {},
   "outputs": [],
   "source": []
  },
  {
   "cell_type": "code",
   "execution_count": null,
   "id": "8268cd71-dfc3-4bf7-b898-2c1434bfd00c",
   "metadata": {},
   "outputs": [],
   "source": []
  },
  {
   "cell_type": "code",
   "execution_count": null,
   "id": "ab429bd5-6cbe-4140-9180-1625375ccd24",
   "metadata": {},
   "outputs": [],
   "source": []
  },
  {
   "cell_type": "code",
   "execution_count": null,
   "id": "13e28f1b-3334-443b-8757-568c9a175aef",
   "metadata": {},
   "outputs": [],
   "source": []
  },
  {
   "cell_type": "code",
   "execution_count": null,
   "id": "89c799d9-c7dd-4c09-b78a-bb073bdcdec1",
   "metadata": {},
   "outputs": [],
   "source": []
  },
  {
   "cell_type": "code",
   "execution_count": null,
   "id": "0b5e0be1-d01b-4471-96be-0a284e9fd469",
   "metadata": {},
   "outputs": [],
   "source": []
  },
  {
   "cell_type": "code",
   "execution_count": null,
   "id": "a1a964bc-c7fc-4abf-9146-f419de0b57a8",
   "metadata": {},
   "outputs": [],
   "source": []
  },
  {
   "cell_type": "code",
   "execution_count": null,
   "id": "5759d662-2419-468d-8018-06f60a0d058e",
   "metadata": {},
   "outputs": [],
   "source": []
  },
  {
   "cell_type": "code",
   "execution_count": null,
   "id": "dc0eda7f-67fd-4945-b8d4-d22ce2f7649a",
   "metadata": {},
   "outputs": [],
   "source": []
  },
  {
   "cell_type": "code",
   "execution_count": null,
   "id": "2fbd1260-dd0b-4883-ad8e-4eef9e4aecf5",
   "metadata": {},
   "outputs": [],
   "source": []
  },
  {
   "cell_type": "code",
   "execution_count": null,
   "id": "5e0f0e8c-26a4-4af9-bd7a-ebc259a7fbc5",
   "metadata": {},
   "outputs": [],
   "source": []
  },
  {
   "cell_type": "code",
   "execution_count": null,
   "id": "df66e52c-74f9-499a-8652-437f9dda9168",
   "metadata": {},
   "outputs": [],
   "source": []
  },
  {
   "cell_type": "code",
   "execution_count": null,
   "id": "45c0e2be-764a-4648-90d1-3e30739c127c",
   "metadata": {},
   "outputs": [],
   "source": []
  },
  {
   "cell_type": "code",
   "execution_count": null,
   "id": "10b82815-4d39-4cbd-bf56-d1ef06984cce",
   "metadata": {},
   "outputs": [],
   "source": []
  },
  {
   "cell_type": "code",
   "execution_count": null,
   "id": "3cab2c1a-e1e8-4c37-b293-8f240e5787bc",
   "metadata": {},
   "outputs": [],
   "source": []
  },
  {
   "cell_type": "code",
   "execution_count": null,
   "id": "603754c2-daf5-4688-89c6-91e9e390bbe1",
   "metadata": {},
   "outputs": [],
   "source": []
  },
  {
   "cell_type": "code",
   "execution_count": null,
   "id": "372a04fb-cdb0-448d-85ae-231390622394",
   "metadata": {},
   "outputs": [],
   "source": []
  },
  {
   "cell_type": "code",
   "execution_count": null,
   "id": "27190619-4a24-4ab9-86e0-12cde96e2483",
   "metadata": {},
   "outputs": [],
   "source": []
  },
  {
   "cell_type": "code",
   "execution_count": null,
   "id": "1cd58fbb-1069-4d07-a315-e3cb89e18e1b",
   "metadata": {},
   "outputs": [],
   "source": []
  },
  {
   "cell_type": "code",
   "execution_count": null,
   "id": "437ffe93-4bcc-4d33-b25e-72cf51d074be",
   "metadata": {},
   "outputs": [],
   "source": []
  },
  {
   "cell_type": "code",
   "execution_count": null,
   "id": "46a5b090-e2ee-4f4b-91df-5494dab4b730",
   "metadata": {},
   "outputs": [],
   "source": []
  },
  {
   "cell_type": "code",
   "execution_count": null,
   "id": "d0b363de-1862-45a5-8179-7474f4bd4fb5",
   "metadata": {},
   "outputs": [],
   "source": []
  },
  {
   "cell_type": "code",
   "execution_count": null,
   "id": "2ef62906-6030-4ccc-ac94-882a2189191f",
   "metadata": {},
   "outputs": [],
   "source": []
  },
  {
   "cell_type": "code",
   "execution_count": null,
   "id": "88eef453-989b-4e15-9522-3073b02834c2",
   "metadata": {},
   "outputs": [],
   "source": []
  },
  {
   "cell_type": "code",
   "execution_count": null,
   "id": "b39813f8-4f87-4ee2-8a66-99f86b220a97",
   "metadata": {},
   "outputs": [],
   "source": []
  },
  {
   "cell_type": "code",
   "execution_count": null,
   "id": "8d8a29cf-2525-4bd1-8952-415de9b869a2",
   "metadata": {},
   "outputs": [],
   "source": []
  },
  {
   "cell_type": "code",
   "execution_count": null,
   "id": "6355729d-cd89-4cea-87d3-ac6d46cbeba3",
   "metadata": {},
   "outputs": [],
   "source": []
  },
  {
   "cell_type": "code",
   "execution_count": null,
   "id": "64c3d678-4c0b-4459-835e-de6765fe71a8",
   "metadata": {},
   "outputs": [],
   "source": []
  },
  {
   "cell_type": "code",
   "execution_count": null,
   "id": "e445bb8f-f880-4257-9366-a741a5eb1a0e",
   "metadata": {},
   "outputs": [],
   "source": []
  },
  {
   "cell_type": "code",
   "execution_count": null,
   "id": "841c9058-a9a0-47e5-a7ae-243bf8f66463",
   "metadata": {},
   "outputs": [],
   "source": []
  },
  {
   "cell_type": "code",
   "execution_count": null,
   "id": "e3b6c672-38a5-49df-86d3-af2283784f61",
   "metadata": {},
   "outputs": [],
   "source": []
  },
  {
   "cell_type": "code",
   "execution_count": null,
   "id": "d73d9908-2080-49f7-8ed4-dcb7bf40bbc5",
   "metadata": {},
   "outputs": [],
   "source": []
  },
  {
   "cell_type": "code",
   "execution_count": null,
   "id": "495b40b0-08df-47ae-b3a8-bea5f3ab385e",
   "metadata": {},
   "outputs": [],
   "source": []
  },
  {
   "cell_type": "code",
   "execution_count": null,
   "id": "8c9a9723-cdfe-495e-84e0-00909377d2b7",
   "metadata": {},
   "outputs": [],
   "source": []
  },
  {
   "cell_type": "code",
   "execution_count": null,
   "id": "b8e21da7-57ff-471b-a84c-ca26bd067722",
   "metadata": {},
   "outputs": [],
   "source": []
  },
  {
   "cell_type": "code",
   "execution_count": null,
   "id": "9aea9ea7-df05-40b4-99cf-aaf1076b5ff1",
   "metadata": {},
   "outputs": [],
   "source": []
  },
  {
   "cell_type": "code",
   "execution_count": null,
   "id": "197eb0ee-20a6-4964-8c80-78f749307ff2",
   "metadata": {},
   "outputs": [],
   "source": []
  },
  {
   "cell_type": "code",
   "execution_count": null,
   "id": "c78bcc82-afa7-46e9-87a6-f16f4ec714a8",
   "metadata": {},
   "outputs": [],
   "source": []
  },
  {
   "cell_type": "code",
   "execution_count": null,
   "id": "35bda4f8-bf40-424b-809f-9a14bd7131b5",
   "metadata": {},
   "outputs": [],
   "source": []
  },
  {
   "cell_type": "code",
   "execution_count": null,
   "id": "b8cd1dc8-24f0-4edd-b87c-213461968051",
   "metadata": {},
   "outputs": [],
   "source": []
  },
  {
   "cell_type": "code",
   "execution_count": null,
   "id": "4fc25763-741d-48e0-be4a-feb3b688d2b4",
   "metadata": {},
   "outputs": [],
   "source": []
  },
  {
   "cell_type": "code",
   "execution_count": null,
   "id": "40af7308-e412-4eeb-99bd-ff03a5a4b4cb",
   "metadata": {},
   "outputs": [],
   "source": []
  },
  {
   "cell_type": "code",
   "execution_count": null,
   "id": "543faefb-2405-46a1-ac55-52067be78d10",
   "metadata": {},
   "outputs": [],
   "source": []
  },
  {
   "cell_type": "code",
   "execution_count": null,
   "id": "49f92db4-2da8-4605-ace6-b8ad0bc0c4c3",
   "metadata": {},
   "outputs": [],
   "source": []
  },
  {
   "cell_type": "code",
   "execution_count": null,
   "id": "e91dc1d4-3321-4293-8e45-a44b8f5f80c2",
   "metadata": {},
   "outputs": [],
   "source": []
  },
  {
   "cell_type": "code",
   "execution_count": null,
   "id": "9d7b9f89-1f25-434c-ab45-255cddcb50b8",
   "metadata": {},
   "outputs": [],
   "source": []
  },
  {
   "cell_type": "code",
   "execution_count": null,
   "id": "ea71e83d-50c2-4da2-8667-179ce04bdd21",
   "metadata": {},
   "outputs": [],
   "source": []
  },
  {
   "cell_type": "code",
   "execution_count": null,
   "id": "ab0bfd8a-6a4c-4242-96e6-a7fbf580147d",
   "metadata": {},
   "outputs": [],
   "source": []
  },
  {
   "cell_type": "code",
   "execution_count": null,
   "id": "e4750e1d-8381-4071-a3cc-f108ab13e48b",
   "metadata": {},
   "outputs": [],
   "source": []
  },
  {
   "cell_type": "code",
   "execution_count": null,
   "id": "7a10dc1c-07f7-4b4d-b879-96cd1ce97363",
   "metadata": {},
   "outputs": [],
   "source": []
  },
  {
   "cell_type": "code",
   "execution_count": null,
   "id": "20ac03d8-8cb9-48d7-a496-e542ebf0b30b",
   "metadata": {},
   "outputs": [],
   "source": []
  }
 ],
 "metadata": {
  "kernelspec": {
   "display_name": "Python 3 (ipykernel)",
   "language": "python",
   "name": "python3"
  },
  "language_info": {
   "codemirror_mode": {
    "name": "ipython",
    "version": 3
   },
   "file_extension": ".py",
   "mimetype": "text/x-python",
   "name": "python",
   "nbconvert_exporter": "python",
   "pygments_lexer": "ipython3",
   "version": "3.11.7"
  }
 },
 "nbformat": 4,
 "nbformat_minor": 5
}
