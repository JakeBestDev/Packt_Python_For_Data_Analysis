{
 "cells": [
  {
   "cell_type": "markdown",
   "id": "1201eb62-fd3e-4242-a71a-7da0b6fa0fb5",
   "metadata": {},
   "source": [
    "## Making Copy Of Dataframe"
   ]
  },
  {
   "cell_type": "markdown",
   "id": "9568c357-b7aa-4dec-85c1-07e699c3cb5a",
   "metadata": {},
   "source": [
    "#### This is a continuation of lab 18. Making a copy of new data we've made.\n",
    "#### I will copy changes made in that lab here for the purpose of getting full lesson"
   ]
  },
  {
   "cell_type": "code",
   "execution_count": 14,
   "id": "1eaebb72-fde7-4d0f-b210-a49e0366d627",
   "metadata": {},
   "outputs": [],
   "source": [
    "import pandas as pd\n",
    "hero = pd.read_pickle('hero.pkl')"
   ]
  },
  {
   "cell_type": "code",
   "execution_count": 15,
   "id": "4c57865b-4bd2-4dc4-88ba-5d9906dc6580",
   "metadata": {},
   "outputs": [
    {
     "name": "stderr",
     "output_type": "stream",
     "text": [
      "C:\\Users\\jakeb\\AppData\\Local\\Temp\\ipykernel_2876\\529987126.py:5: PerformanceWarning: DataFrame is highly fragmented.  This is usually the result of calling `frame.insert` many times, which has poor performance.  Consider joining all columns at once using pd.concat(axis=1) instead. To get a de-fragmented frame, use `newframe = frame.copy()`\n",
      "  hero['bmi'] = hero['weight']/(hero['height']/3.28084)**2\n"
     ]
    }
   ],
   "source": [
    "hero.loc[hero['race'] == '-','race'] = 'Unknown'\n",
    "hero.loc[10000]=hero.loc[533]\n",
    "hero.iloc[536] = hero.iloc[533]\n",
    "hero['height'] = hero['height']*0.0328084\n",
    "hero['bmi'] = hero['weight']/(hero['height']/3.28084)**2"
   ]
  },
  {
   "cell_type": "code",
   "execution_count": 16,
   "id": "c6316b2b-8f50-44ca-a835-2ccf5395315d",
   "metadata": {},
   "outputs": [
    {
     "data": {
      "text/html": [
       "<div>\n",
       "<style scoped>\n",
       "    .dataframe tbody tr th:only-of-type {\n",
       "        vertical-align: middle;\n",
       "    }\n",
       "\n",
       "    .dataframe tbody tr th {\n",
       "        vertical-align: top;\n",
       "    }\n",
       "\n",
       "    .dataframe thead th {\n",
       "        text-align: right;\n",
       "    }\n",
       "</style>\n",
       "<table border=\"1\" class=\"dataframe\">\n",
       "  <thead>\n",
       "    <tr style=\"text-align: right;\">\n",
       "      <th></th>\n",
       "      <th>name</th>\n",
       "      <th>gender</th>\n",
       "      <th>eye color</th>\n",
       "      <th>race</th>\n",
       "      <th>hair color</th>\n",
       "      <th>height</th>\n",
       "      <th>publisher</th>\n",
       "      <th>alignment</th>\n",
       "      <th>weight</th>\n",
       "      <th>hero names</th>\n",
       "      <th>...</th>\n",
       "      <th>reality warping</th>\n",
       "      <th>odin force</th>\n",
       "      <th>symbiote costume</th>\n",
       "      <th>speed force</th>\n",
       "      <th>phoenix force</th>\n",
       "      <th>molecular dissipation</th>\n",
       "      <th>vision - cryo</th>\n",
       "      <th>omnipresent</th>\n",
       "      <th>omniscient</th>\n",
       "      <th>bmi</th>\n",
       "    </tr>\n",
       "  </thead>\n",
       "  <tbody>\n",
       "    <tr>\n",
       "      <th>0</th>\n",
       "      <td>Abin Sur</td>\n",
       "      <td>Male</td>\n",
       "      <td>blue</td>\n",
       "      <td>Ungaran</td>\n",
       "      <td>No Hair</td>\n",
       "      <td>6.069554</td>\n",
       "      <td>DC Comics</td>\n",
       "      <td>good</td>\n",
       "      <td>90.0</td>\n",
       "      <td>Abin Sur</td>\n",
       "      <td>...</td>\n",
       "      <td>False</td>\n",
       "      <td>False</td>\n",
       "      <td>False</td>\n",
       "      <td>False</td>\n",
       "      <td>False</td>\n",
       "      <td>False</td>\n",
       "      <td>False</td>\n",
       "      <td>False</td>\n",
       "      <td>False</td>\n",
       "      <td>26.296567</td>\n",
       "    </tr>\n",
       "    <tr>\n",
       "      <th>1</th>\n",
       "      <td>Adam Strange</td>\n",
       "      <td>Male</td>\n",
       "      <td>blue</td>\n",
       "      <td>Human</td>\n",
       "      <td>Blond</td>\n",
       "      <td>6.069554</td>\n",
       "      <td>DC Comics</td>\n",
       "      <td>good</td>\n",
       "      <td>88.0</td>\n",
       "      <td>Adam Strange</td>\n",
       "      <td>...</td>\n",
       "      <td>False</td>\n",
       "      <td>False</td>\n",
       "      <td>False</td>\n",
       "      <td>False</td>\n",
       "      <td>False</td>\n",
       "      <td>False</td>\n",
       "      <td>False</td>\n",
       "      <td>False</td>\n",
       "      <td>False</td>\n",
       "      <td>25.712199</td>\n",
       "    </tr>\n",
       "    <tr>\n",
       "      <th>2</th>\n",
       "      <td>Alan Scott</td>\n",
       "      <td>Male</td>\n",
       "      <td>blue</td>\n",
       "      <td>Unknown</td>\n",
       "      <td>Blond</td>\n",
       "      <td>5.905512</td>\n",
       "      <td>DC Comics</td>\n",
       "      <td>good</td>\n",
       "      <td>90.0</td>\n",
       "      <td>Alan Scott</td>\n",
       "      <td>...</td>\n",
       "      <td>False</td>\n",
       "      <td>False</td>\n",
       "      <td>False</td>\n",
       "      <td>False</td>\n",
       "      <td>False</td>\n",
       "      <td>False</td>\n",
       "      <td>False</td>\n",
       "      <td>False</td>\n",
       "      <td>False</td>\n",
       "      <td>27.777778</td>\n",
       "    </tr>\n",
       "    <tr>\n",
       "      <th>3</th>\n",
       "      <td>Amazo</td>\n",
       "      <td>Male</td>\n",
       "      <td>red</td>\n",
       "      <td>Android</td>\n",
       "      <td>-</td>\n",
       "      <td>8.431759</td>\n",
       "      <td>DC Comics</td>\n",
       "      <td>bad</td>\n",
       "      <td>173.0</td>\n",
       "      <td>Amazo</td>\n",
       "      <td>...</td>\n",
       "      <td>False</td>\n",
       "      <td>False</td>\n",
       "      <td>False</td>\n",
       "      <td>False</td>\n",
       "      <td>False</td>\n",
       "      <td>False</td>\n",
       "      <td>False</td>\n",
       "      <td>False</td>\n",
       "      <td>False</td>\n",
       "      <td>26.192675</td>\n",
       "    </tr>\n",
       "    <tr>\n",
       "      <th>4</th>\n",
       "      <td>Animal Man</td>\n",
       "      <td>Male</td>\n",
       "      <td>blue</td>\n",
       "      <td>Human</td>\n",
       "      <td>Blond</td>\n",
       "      <td>6.003937</td>\n",
       "      <td>DC Comics</td>\n",
       "      <td>good</td>\n",
       "      <td>83.0</td>\n",
       "      <td>Animal Man</td>\n",
       "      <td>...</td>\n",
       "      <td>False</td>\n",
       "      <td>False</td>\n",
       "      <td>False</td>\n",
       "      <td>False</td>\n",
       "      <td>False</td>\n",
       "      <td>False</td>\n",
       "      <td>False</td>\n",
       "      <td>False</td>\n",
       "      <td>False</td>\n",
       "      <td>24.784258</td>\n",
       "    </tr>\n",
       "  </tbody>\n",
       "</table>\n",
       "<p>5 rows × 178 columns</p>\n",
       "</div>"
      ],
      "text/plain": [
       "           name gender eye color     race hair color    height  publisher  \\\n",
       "0      Abin Sur   Male      blue  Ungaran    No Hair  6.069554  DC Comics   \n",
       "1  Adam Strange   Male      blue    Human      Blond  6.069554  DC Comics   \n",
       "2    Alan Scott   Male      blue  Unknown      Blond  5.905512  DC Comics   \n",
       "3         Amazo   Male       red  Android          -  8.431759  DC Comics   \n",
       "4    Animal Man   Male      blue    Human      Blond  6.003937  DC Comics   \n",
       "\n",
       "  alignment  weight    hero names  ...  reality warping  odin force  \\\n",
       "0      good    90.0      Abin Sur  ...            False       False   \n",
       "1      good    88.0  Adam Strange  ...            False       False   \n",
       "2      good    90.0    Alan Scott  ...            False       False   \n",
       "3       bad   173.0         Amazo  ...            False       False   \n",
       "4      good    83.0    Animal Man  ...            False       False   \n",
       "\n",
       "   symbiote costume  speed force  phoenix force  molecular dissipation  \\\n",
       "0             False        False          False                  False   \n",
       "1             False        False          False                  False   \n",
       "2             False        False          False                  False   \n",
       "3             False        False          False                  False   \n",
       "4             False        False          False                  False   \n",
       "\n",
       "   vision - cryo  omnipresent  omniscient        bmi  \n",
       "0          False        False       False  26.296567  \n",
       "1          False        False       False  25.712199  \n",
       "2          False        False       False  27.777778  \n",
       "3          False        False       False  26.192675  \n",
       "4          False        False       False  24.784258  \n",
       "\n",
       "[5 rows x 178 columns]"
      ]
     },
     "execution_count": 16,
     "metadata": {},
     "output_type": "execute_result"
    }
   ],
   "source": [
    "hero.head()"
   ]
  },
  {
   "cell_type": "code",
   "execution_count": 19,
   "id": "3163304a-9dc3-417b-940c-8674da03d3c8",
   "metadata": {},
   "outputs": [],
   "source": [
    "## showing why the first method below is wrong and 2nd is correct\n",
    "hero_ref = hero\n",
    "hero_copy= hero.copy()"
   ]
  },
  {
   "cell_type": "code",
   "execution_count": 20,
   "id": "9b3b7776-8937-4b8e-82bf-db8150e661d0",
   "metadata": {},
   "outputs": [
    {
     "name": "stderr",
     "output_type": "stream",
     "text": [
      "C:\\Users\\jakeb\\AppData\\Local\\Temp\\ipykernel_2876\\3767516982.py:1: PerformanceWarning: DataFrame is highly fragmented.  This is usually the result of calling `frame.insert` many times, which has poor performance.  Consider joining all columns at once using pd.concat(axis=1) instead. To get a de-fragmented frame, use `newframe = frame.copy()`\n",
      "  hero['original_ind']=True\n",
      "C:\\Users\\jakeb\\AppData\\Local\\Temp\\ipykernel_2876\\3767516982.py:2: PerformanceWarning: DataFrame is highly fragmented.  This is usually the result of calling `frame.insert` many times, which has poor performance.  Consider joining all columns at once using pd.concat(axis=1) instead. To get a de-fragmented frame, use `newframe = frame.copy()`\n",
      "  hero_ref['ref_ind']=True\n"
     ]
    }
   ],
   "source": [
    "hero['original_ind']=True\n",
    "hero_ref['ref_ind']=True\n",
    "hero_copy['copy_ind']=True"
   ]
  },
  {
   "cell_type": "code",
   "execution_count": 21,
   "id": "51ebb577-11f4-43ea-bab2-fbe332dd6637",
   "metadata": {},
   "outputs": [
    {
     "data": {
      "text/plain": [
       "Index(['name', 'gender', 'eye color', 'race', 'hair color', 'height',\n",
       "       'publisher', 'alignment', 'weight', 'hero names',\n",
       "       ...\n",
       "       'symbiote costume', 'speed force', 'phoenix force',\n",
       "       'molecular dissipation', 'vision - cryo', 'omnipresent', 'omniscient',\n",
       "       'bmi', 'original_ind', 'ref_ind'],\n",
       "      dtype='object', length=180)"
      ]
     },
     "execution_count": 21,
     "metadata": {},
     "output_type": "execute_result"
    }
   ],
   "source": [
    "# Notice that there are both original_ind and ref_ind now and not the singular intended original_ind.\n",
    "# Her_ref is a refrence and not a copy. basically its a second veriable name fot hero\n",
    "hero.columns"
   ]
  },
  {
   "cell_type": "code",
   "execution_count": 22,
   "id": "1375b28d-11bf-4561-a74b-110bdf246dc1",
   "metadata": {},
   "outputs": [
    {
     "data": {
      "text/plain": [
       "Index(['name', 'gender', 'eye color', 'race', 'hair color', 'height',\n",
       "       'publisher', 'alignment', 'weight', 'hero names',\n",
       "       ...\n",
       "       'symbiote costume', 'speed force', 'phoenix force',\n",
       "       'molecular dissipation', 'vision - cryo', 'omnipresent', 'omniscient',\n",
       "       'bmi', 'original_ind', 'ref_ind'],\n",
       "      dtype='object', length=180)"
      ]
     },
     "execution_count": 22,
     "metadata": {},
     "output_type": "execute_result"
    }
   ],
   "source": [
    "hero_ref.columns"
   ]
  },
  {
   "cell_type": "code",
   "execution_count": 23,
   "id": "3351feb5-5cb5-4a71-92c7-c6ff0115ef80",
   "metadata": {},
   "outputs": [
    {
     "data": {
      "text/plain": [
       "Index(['name', 'gender', 'eye color', 'race', 'hair color', 'height',\n",
       "       'publisher', 'alignment', 'weight', 'hero names',\n",
       "       ...\n",
       "       'odin force', 'symbiote costume', 'speed force', 'phoenix force',\n",
       "       'molecular dissipation', 'vision - cryo', 'omnipresent', 'omniscient',\n",
       "       'bmi', 'copy_ind'],\n",
       "      dtype='object', length=179)"
      ]
     },
     "execution_count": 23,
     "metadata": {},
     "output_type": "execute_result"
    }
   ],
   "source": [
    "# Notice only copy_ind is present.\n",
    "hero_copy.columns"
   ]
  },
  {
   "cell_type": "markdown",
   "id": "7ef8caf6-3cfb-4ca0-a55c-6d08d8be41d8",
   "metadata": {},
   "source": [
    "## verify with 'is' operator"
   ]
  },
  {
   "cell_type": "code",
   "execution_count": 24,
   "id": "77eabc6b-8ddd-4949-9f6b-d2f29fc57d2f",
   "metadata": {},
   "outputs": [
    {
     "data": {
      "text/plain": [
       "True"
      ]
     },
     "execution_count": 24,
     "metadata": {},
     "output_type": "execute_result"
    }
   ],
   "source": [
    "hero is hero_ref"
   ]
  },
  {
   "cell_type": "code",
   "execution_count": 25,
   "id": "92b5707f-997d-4a5b-8cf1-cb3a44ccf36a",
   "metadata": {},
   "outputs": [
    {
     "data": {
      "text/plain": [
       "False"
      ]
     },
     "execution_count": 25,
     "metadata": {},
     "output_type": "execute_result"
    }
   ],
   "source": [
    "hero is hero_copy "
   ]
  },
  {
   "cell_type": "code",
   "execution_count": 26,
   "id": "4edb7ab5-124e-4b28-b9fd-7c6b6ca3e0ba",
   "metadata": {},
   "outputs": [
    {
     "data": {
      "text/plain": [
       "False"
      ]
     },
     "execution_count": 26,
     "metadata": {},
     "output_type": "execute_result"
    }
   ],
   "source": [
    "hero_ref is hero_copy"
   ]
  },
  {
   "cell_type": "code",
   "execution_count": null,
   "id": "f49d2403-db0c-495f-bb4a-dfafeadadcbb",
   "metadata": {},
   "outputs": [],
   "source": []
  },
  {
   "cell_type": "code",
   "execution_count": null,
   "id": "d5c23f72-521d-4987-b9ca-3c6b9cbb73f6",
   "metadata": {},
   "outputs": [],
   "source": []
  },
  {
   "cell_type": "code",
   "execution_count": null,
   "id": "737ca97f-d209-4131-958b-13da682bfcda",
   "metadata": {},
   "outputs": [],
   "source": []
  },
  {
   "cell_type": "code",
   "execution_count": null,
   "id": "c3f34835-2d98-452d-ab07-28648ea996dd",
   "metadata": {},
   "outputs": [],
   "source": []
  },
  {
   "cell_type": "code",
   "execution_count": null,
   "id": "8cc7096e-6f93-43ac-ba1e-fd04e2f82e57",
   "metadata": {},
   "outputs": [],
   "source": []
  },
  {
   "cell_type": "code",
   "execution_count": null,
   "id": "7cfc05a3-dd2e-47bb-bef7-006dbd6bc542",
   "metadata": {},
   "outputs": [],
   "source": []
  },
  {
   "cell_type": "code",
   "execution_count": null,
   "id": "7572dbc9-c12d-40db-8dcd-57790bd9b2cd",
   "metadata": {},
   "outputs": [],
   "source": []
  },
  {
   "cell_type": "code",
   "execution_count": null,
   "id": "912b5996-ecac-43a5-843b-aa5053cca850",
   "metadata": {},
   "outputs": [],
   "source": []
  },
  {
   "cell_type": "code",
   "execution_count": null,
   "id": "1668f99c-17ce-4399-96be-1dc21308ee3f",
   "metadata": {},
   "outputs": [],
   "source": []
  },
  {
   "cell_type": "code",
   "execution_count": null,
   "id": "f76e22fb-ac13-40d7-8463-96d5575ebe99",
   "metadata": {},
   "outputs": [],
   "source": []
  },
  {
   "cell_type": "code",
   "execution_count": null,
   "id": "96a7cbd3-8618-4e27-98e5-443fe5f7d360",
   "metadata": {},
   "outputs": [],
   "source": []
  },
  {
   "cell_type": "code",
   "execution_count": null,
   "id": "be18c885-c016-49f7-81b9-619af519fa67",
   "metadata": {},
   "outputs": [],
   "source": []
  },
  {
   "cell_type": "code",
   "execution_count": null,
   "id": "f4f81eb4-e47c-487f-b4d7-0bae25bfb21c",
   "metadata": {},
   "outputs": [],
   "source": []
  },
  {
   "cell_type": "code",
   "execution_count": null,
   "id": "19936e92-b15c-4017-9ff5-7271ae908da9",
   "metadata": {},
   "outputs": [],
   "source": []
  },
  {
   "cell_type": "code",
   "execution_count": null,
   "id": "8c50965c-73c3-4ba9-b739-fef70b3625c2",
   "metadata": {},
   "outputs": [],
   "source": []
  },
  {
   "cell_type": "code",
   "execution_count": null,
   "id": "5fe53eea-c8da-4240-bdbd-7a37de9e72fa",
   "metadata": {},
   "outputs": [],
   "source": []
  },
  {
   "cell_type": "code",
   "execution_count": null,
   "id": "8f321209-7d8c-4a73-a5c5-6f567cc583ae",
   "metadata": {},
   "outputs": [],
   "source": []
  },
  {
   "cell_type": "code",
   "execution_count": null,
   "id": "7fa667c0-f2bc-41f0-a262-60b785ce9a5e",
   "metadata": {},
   "outputs": [],
   "source": []
  },
  {
   "cell_type": "code",
   "execution_count": null,
   "id": "3a7e3249-e0a5-4895-a24e-6214217144ec",
   "metadata": {},
   "outputs": [],
   "source": []
  },
  {
   "cell_type": "code",
   "execution_count": null,
   "id": "635eaefa-ed85-4c86-b4ce-63109328bcba",
   "metadata": {},
   "outputs": [],
   "source": []
  },
  {
   "cell_type": "code",
   "execution_count": null,
   "id": "c5c6d5b9-9a30-4fb4-87a6-edd7adecd292",
   "metadata": {},
   "outputs": [],
   "source": []
  },
  {
   "cell_type": "code",
   "execution_count": null,
   "id": "f6de5610-1cd7-46f2-9f95-59a3ff14b508",
   "metadata": {},
   "outputs": [],
   "source": []
  },
  {
   "cell_type": "code",
   "execution_count": null,
   "id": "f4a3d743-07de-4a0c-9aae-1dce470d7c6e",
   "metadata": {},
   "outputs": [],
   "source": []
  },
  {
   "cell_type": "code",
   "execution_count": null,
   "id": "43ee96b4-66a5-44c5-8b5a-5a3af074389c",
   "metadata": {},
   "outputs": [],
   "source": []
  },
  {
   "cell_type": "code",
   "execution_count": null,
   "id": "ea06a86c-a070-449c-92d1-840947586b06",
   "metadata": {},
   "outputs": [],
   "source": []
  },
  {
   "cell_type": "code",
   "execution_count": null,
   "id": "6a64c06e-c8a1-4bfe-abad-919335136a89",
   "metadata": {},
   "outputs": [],
   "source": []
  },
  {
   "cell_type": "code",
   "execution_count": null,
   "id": "881ef7d7-59e1-4e40-8799-d1ac574f3192",
   "metadata": {},
   "outputs": [],
   "source": []
  },
  {
   "cell_type": "code",
   "execution_count": null,
   "id": "cccb15a9-da40-415a-b2b0-eda48cd83602",
   "metadata": {},
   "outputs": [],
   "source": []
  },
  {
   "cell_type": "code",
   "execution_count": null,
   "id": "b231bc49-d260-49ab-b4fa-e65e0686980c",
   "metadata": {},
   "outputs": [],
   "source": []
  },
  {
   "cell_type": "code",
   "execution_count": null,
   "id": "26ee86fd-6d93-44f6-b0b5-76cd575493c8",
   "metadata": {},
   "outputs": [],
   "source": []
  },
  {
   "cell_type": "code",
   "execution_count": null,
   "id": "8a32d5fb-2a78-4a72-bf6b-89c21132df36",
   "metadata": {},
   "outputs": [],
   "source": []
  },
  {
   "cell_type": "code",
   "execution_count": null,
   "id": "6141bc59-0801-4fa8-aa9d-af0c62fefd11",
   "metadata": {},
   "outputs": [],
   "source": []
  },
  {
   "cell_type": "code",
   "execution_count": null,
   "id": "35b887a2-2b06-40ce-a7ed-9f6c9304f9f6",
   "metadata": {},
   "outputs": [],
   "source": []
  },
  {
   "cell_type": "code",
   "execution_count": null,
   "id": "503d032a-374b-4cd0-865a-7eaa2f58e162",
   "metadata": {},
   "outputs": [],
   "source": []
  },
  {
   "cell_type": "code",
   "execution_count": null,
   "id": "cb6ceb2b-acd3-416f-8332-545b85fdc813",
   "metadata": {},
   "outputs": [],
   "source": []
  },
  {
   "cell_type": "code",
   "execution_count": null,
   "id": "e8a1dd7c-7c25-4e50-8f55-2d3964066e33",
   "metadata": {},
   "outputs": [],
   "source": []
  },
  {
   "cell_type": "code",
   "execution_count": null,
   "id": "d6c55b08-8f3c-444a-a0b6-a79a1b8f2a71",
   "metadata": {},
   "outputs": [],
   "source": []
  },
  {
   "cell_type": "code",
   "execution_count": null,
   "id": "8bf63f65-5538-4551-a9b1-2f9fd6717bd0",
   "metadata": {},
   "outputs": [],
   "source": []
  },
  {
   "cell_type": "code",
   "execution_count": null,
   "id": "3f49ee02-dc4c-4bf0-abff-a6ef83cc66c5",
   "metadata": {},
   "outputs": [],
   "source": []
  },
  {
   "cell_type": "code",
   "execution_count": null,
   "id": "27f464f2-a248-4f5c-8381-e82f168b1098",
   "metadata": {},
   "outputs": [],
   "source": []
  }
 ],
 "metadata": {
  "kernelspec": {
   "display_name": "Python 3 (ipykernel)",
   "language": "python",
   "name": "python3"
  },
  "language_info": {
   "codemirror_mode": {
    "name": "ipython",
    "version": 3
   },
   "file_extension": ".py",
   "mimetype": "text/x-python",
   "name": "python",
   "nbconvert_exporter": "python",
   "pygments_lexer": "ipython3",
   "version": "3.11.7"
  }
 },
 "nbformat": 4,
 "nbformat_minor": 5
}
