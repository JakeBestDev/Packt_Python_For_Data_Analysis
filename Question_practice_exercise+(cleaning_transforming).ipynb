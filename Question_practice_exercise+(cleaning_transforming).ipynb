{
 "cells": [
  {
   "cell_type": "markdown",
   "metadata": {},
   "source": [
    "# Practice Exercise: Cleaning data & Transforming columns/features"
   ]
  },
  {
   "cell_type": "markdown",
   "metadata": {},
   "source": [
    "## Context:\n",
    "- The data is based on real anonymized Czech bank transactions and account info.\n",
    "- We'll be focusing on practicing the data cleaning, columns transformations, and other techniques that we've learned in the course. \n",
    "- But here is the original task description of the dataset publishers:\n",
    "\n",
    "*The bank wants to improve their services. For instance, the bank managers have only vague idea, who is a good client (whom to offer some additional services)   and who is a bad client (whom to watch carefully to minimize the bank losses). Fortunately, the bank stores data about their clients, the accounts (transactions within several months), the loans already granted, the credit cards issued. The bank managers hope to improve their understanding of customers and seek specific actions to improve services.*\n",
    "\n",
    "- We've made minor changes on the data to fit this exercise, such as changing the column names. Check out the original source if you are interested in using this data for other purposes (https://data.world/lpetrocelli/czech-financial-dataset-real-anonymized-transactions)"
   ]
  },
  {
   "cell_type": "markdown",
   "metadata": {},
   "source": [
    "## Dataset Description:\n",
    "\n",
    "We'll work on three datasets (in three separate csv files):\n",
    "\n",
    "  - **account**: each record describes static characteristics of an account\n",
    "  - **transaction**: each record describes one transaction on an account\n",
    "  - **district**: each record describes demographic characteristics of a district\n",
    "  \n",
    "In reality, the organizations like banks often have data stored in multiple datasets. Assume we want to study the transactional level data, we'll need to combine these three datasets together to have transactions data with account and district data."
   ]
  },
  {
   "cell_type": "markdown",
   "metadata": {},
   "source": [
    "## Objective: \n",
    "   - Examine/clean the individual dataset\n",
    "   - Combine them into a single dataset, which is subject to more cleaning\n",
    "   - Create new columns based on existing columns\n",
    "\n",
    "By the end, the new dataset is ready for more analysis."
   ]
  },
  {
   "cell_type": "markdown",
   "metadata": {},
   "source": [
    "### 1. Import the libraries"
   ]
  },
  {
   "cell_type": "code",
   "execution_count": 1,
   "metadata": {},
   "outputs": [],
   "source": [
    "import pandas as pd"
   ]
  },
  {
   "cell_type": "markdown",
   "metadata": {},
   "source": [
    "### 2. Import the data from three csv files as DataFrames `account`, `district`, `trans`\n",
    "Hint: \n",
    "- the `read_csv` function can automatically infer and load zip file, read its documentation of parameter `compression` if you are interested in details\n",
    "- you may ignore the warning when reading the `trans.csv.zip` file. It is optional to follow the warning instructions to remove it."
   ]
  },
  {
   "cell_type": "code",
   "execution_count": 3,
   "metadata": {},
   "outputs": [
    {
     "name": "stderr",
     "output_type": "stream",
     "text": [
      "C:\\Users\\jakeb\\AppData\\Local\\Temp\\ipykernel_22100\\1315527715.py:3: DtypeWarning: Columns (8) have mixed types. Specify dtype option on import or set low_memory=False.\n",
      "  trans = pd.read_csv('trans.csv')\n"
     ]
    }
   ],
   "source": [
    "account = pd.read_csv('account.csv')\n",
    "district = pd.read_csv('district.csv')\n",
    "trans = pd.read_csv('trans.csv')"
   ]
  },
  {
   "cell_type": "markdown",
   "metadata": {},
   "source": [
    "### 3. Look at the info summary, head of each DataFrame"
   ]
  },
  {
   "cell_type": "code",
   "execution_count": 5,
   "metadata": {},
   "outputs": [
    {
     "name": "stdout",
     "output_type": "stream",
     "text": [
      "   account_id  district_id           frequency account_open_date  client_id\n",
      "0         576           55  MONTHLY STATEMENTS        1993-01-01        692\n",
      "         account_id  district_id     client_id\n",
      "count   4500.000000  4500.000000   4500.000000\n",
      "mean    2786.067556    37.310444   3381.096444\n",
      "std     2313.811984    25.177217   2839.605215\n",
      "min        1.000000     1.000000      1.000000\n",
      "25%     1182.750000    13.000000   1424.750000\n",
      "50%     2368.000000    38.000000   2861.000000\n",
      "75%     3552.250000    60.000000   4287.250000\n",
      "max    11382.000000    77.000000  13998.000000\n",
      "<class 'pandas.core.frame.DataFrame'>\n",
      "RangeIndex: 4500 entries, 0 to 4499\n",
      "Data columns (total 5 columns):\n",
      " #   Column             Non-Null Count  Dtype \n",
      "---  ------             --------------  ----- \n",
      " 0   account_id         4500 non-null   int64 \n",
      " 1   district_id        4500 non-null   int64 \n",
      " 2   frequency          4500 non-null   object\n",
      " 3   account_open_date  4500 non-null   object\n",
      " 4   client_id          4500 non-null   int64 \n",
      "dtypes: int64(3), object(2)\n",
      "memory usage: 175.9+ KB\n"
     ]
    }
   ],
   "source": [
    "## Account\n",
    "\n",
    "print(account.head(1))\n",
    "print(account.describe())\n",
    "account.info()"
   ]
  },
  {
   "cell_type": "code",
   "execution_count": 6,
   "metadata": {},
   "outputs": [
    {
     "name": "stdout",
     "output_type": "stream",
     "text": [
      "   district_id district_name  region  population  average_salary  \\\n",
      "0            1   Hl.m. Praha  Prague     1204953         12541.0   \n",
      "\n",
      "   unemployment_rate  num_committed_crimes  \n",
      "0               0.43               99107.0  \n",
      "       district_id    population  average_salary  unemployment_rate  \\\n",
      "count    76.000000  7.600000e+01       66.000000          66.000000   \n",
      "mean     38.500000  1.336920e+05     8984.378788           3.836364   \n",
      "std      22.083176  1.378127e+05      782.234172           1.839614   \n",
      "min       1.000000  4.282100e+04     8110.000000           0.430000   \n",
      "25%      19.750000  8.472500e+04     8441.750000           2.455000   \n",
      "50%      38.500000  1.083910e+05     8755.500000           3.655000   \n",
      "75%      57.250000  1.382770e+05     9298.250000           4.670000   \n",
      "max      76.000000  1.204953e+06    12541.000000           9.400000   \n",
      "\n",
      "       num_committed_crimes  \n",
      "count             67.000000  \n",
      "mean            5164.567164  \n",
      "std            12069.628890  \n",
      "min              888.000000  \n",
      "25%             2081.000000  \n",
      "50%             2822.000000  \n",
      "75%             4505.000000  \n",
      "max            99107.000000  \n",
      "<class 'pandas.core.frame.DataFrame'>\n",
      "RangeIndex: 76 entries, 0 to 75\n",
      "Data columns (total 7 columns):\n",
      " #   Column                Non-Null Count  Dtype  \n",
      "---  ------                --------------  -----  \n",
      " 0   district_id           76 non-null     int64  \n",
      " 1   district_name         76 non-null     object \n",
      " 2   region                76 non-null     object \n",
      " 3   population            76 non-null     int64  \n",
      " 4   average_salary        66 non-null     float64\n",
      " 5   unemployment_rate     66 non-null     float64\n",
      " 6   num_committed_crimes  67 non-null     float64\n",
      "dtypes: float64(3), int64(2), object(2)\n",
      "memory usage: 4.3+ KB\n"
     ]
    }
   ],
   "source": [
    "## District\n",
    "\n",
    "print(district.head(1))\n",
    "print(district.describe())\n",
    "district.info()"
   ]
  },
  {
   "cell_type": "code",
   "execution_count": 7,
   "metadata": {},
   "outputs": [
    {
     "name": "stdout",
     "output_type": "stream",
     "text": [
      "   trans_id  account_id        date    type  operation_type  amount  balance  \\\n",
      "0    695247        2378  1993-01-01  CREDIT  CREDIT IN CASH   700.0    700.0   \n",
      "\n",
      "  description partner_bank  partner_account  \n",
      "0         NaN          NaN              NaN  \n",
      "           trans_id    account_id        amount       balance  partner_account\n",
      "count  1.056320e+06  1.056320e+06  1.056320e+06  1.056320e+06     2.953890e+05\n",
      "mean   1.335311e+06  2.936867e+03  5.924146e+03  3.851833e+04     4.567092e+07\n",
      "std    1.227487e+06  2.477345e+03  9.522735e+03  2.211787e+04     3.066340e+07\n",
      "min    1.000000e+00  1.000000e+00  0.000000e+00 -4.112570e+04     0.000000e+00\n",
      "25%    4.302628e+05  1.204000e+03  1.359000e+02  2.240250e+04     1.782858e+07\n",
      "50%    8.585065e+05  2.434000e+03  2.100000e+03  3.314340e+04     4.575095e+07\n",
      "75%    2.060979e+06  3.660000e+03  6.800000e+03  4.960362e+04     7.201341e+07\n",
      "max    3.682987e+06  1.138200e+04  8.740000e+04  2.096370e+05     9.999420e+07\n",
      "<class 'pandas.core.frame.DataFrame'>\n",
      "RangeIndex: 1056320 entries, 0 to 1056319\n",
      "Data columns (total 10 columns):\n",
      " #   Column           Non-Null Count    Dtype  \n",
      "---  ------           --------------    -----  \n",
      " 0   trans_id         1056320 non-null  int64  \n",
      " 1   account_id       1056320 non-null  int64  \n",
      " 2   date             1056320 non-null  object \n",
      " 3   type             1056320 non-null  object \n",
      " 4   operation_type   873206 non-null   object \n",
      " 5   amount           1056320 non-null  float64\n",
      " 6   balance          1056320 non-null  float64\n",
      " 7   description      574439 non-null   object \n",
      " 8   partner_bank     273508 non-null   object \n",
      " 9   partner_account  295389 non-null   float64\n",
      "dtypes: float64(3), int64(2), object(5)\n",
      "memory usage: 80.6+ MB\n"
     ]
    }
   ],
   "source": [
    "## Trans\n",
    "\n",
    "print(trans.head(1))\n",
    "print(trans.describe())\n",
    "trans.info()"
   ]
  },
  {
   "cell_type": "markdown",
   "metadata": {},
   "source": [
    "### 4. Check for the unique values and their counts in each column for the three DataFrames"
   ]
  },
  {
   "cell_type": "code",
   "execution_count": 9,
   "metadata": {},
   "outputs": [
    {
     "data": {
      "text/plain": [
       "account_id           4500\n",
       "district_id            77\n",
       "frequency               3\n",
       "account_open_date    1535\n",
       "client_id            4500\n",
       "dtype: int64"
      ]
     },
     "execution_count": 9,
     "metadata": {},
     "output_type": "execute_result"
    }
   ],
   "source": [
    "account.nunique()"
   ]
  },
  {
   "cell_type": "code",
   "execution_count": 10,
   "metadata": {},
   "outputs": [
    {
     "data": {
      "text/plain": [
       "district_id             76\n",
       "district_name           76\n",
       "region                   8\n",
       "population              76\n",
       "average_salary          65\n",
       "unemployment_rate       63\n",
       "num_committed_crimes    66\n",
       "dtype: int64"
      ]
     },
     "execution_count": 10,
     "metadata": {},
     "output_type": "execute_result"
    }
   ],
   "source": [
    "district.nunique()"
   ]
  },
  {
   "cell_type": "code",
   "execution_count": 11,
   "metadata": {},
   "outputs": [
    {
     "data": {
      "text/plain": [
       "trans_id           1056320\n",
       "account_id            4500\n",
       "date                  2191\n",
       "type                     2\n",
       "operation_type           5\n",
       "amount               40400\n",
       "balance             542739\n",
       "description              8\n",
       "partner_bank            13\n",
       "partner_account       7665\n",
       "dtype: int64"
      ]
     },
     "execution_count": 11,
     "metadata": {},
     "output_type": "execute_result"
    }
   ],
   "source": [
    "trans.nunique()"
   ]
  },
  {
   "cell_type": "markdown",
   "metadata": {},
   "source": [
    "### 5. Check for duplicates in the three DataFrames"
   ]
  },
  {
   "cell_type": "code",
   "execution_count": 13,
   "metadata": {},
   "outputs": [
    {
     "data": {
      "text/plain": [
       "False    4500\n",
       "Name: count, dtype: int64"
      ]
     },
     "execution_count": 13,
     "metadata": {},
     "output_type": "execute_result"
    }
   ],
   "source": [
    "account[account.duplicated()]\n",
    "account.duplicated().value_counts()"
   ]
  },
  {
   "cell_type": "code",
   "execution_count": 14,
   "metadata": {},
   "outputs": [
    {
     "data": {
      "text/plain": [
       "False    76\n",
       "Name: count, dtype: int64"
      ]
     },
     "execution_count": 14,
     "metadata": {},
     "output_type": "execute_result"
    }
   ],
   "source": [
    "district[district.duplicated()]\n",
    "district.duplicated().value_counts()"
   ]
  },
  {
   "cell_type": "code",
   "execution_count": 15,
   "metadata": {},
   "outputs": [
    {
     "data": {
      "text/plain": [
       "False    1056320\n",
       "Name: count, dtype: int64"
      ]
     },
     "execution_count": 15,
     "metadata": {},
     "output_type": "execute_result"
    }
   ],
   "source": [
    "trans[trans.duplicated()]\n",
    "trans.duplicated().value_counts()"
   ]
  },
  {
   "cell_type": "markdown",
   "metadata": {},
   "source": [
    "### 6. Convert column `account_open_date` in `account` and column `date` in `trans` into datetime dtypes"
   ]
  },
  {
   "cell_type": "code",
   "execution_count": 17,
   "metadata": {},
   "outputs": [],
   "source": [
    "account['account_open_date'] = pd.to_datetime(account['account_open_date'])"
   ]
  },
  {
   "cell_type": "code",
   "execution_count": 18,
   "metadata": {},
   "outputs": [],
   "source": [
    "trans['date'] = pd.to_datetime(trans['date'])"
   ]
  },
  {
   "cell_type": "markdown",
   "metadata": {},
   "source": [
    "### 7. Convert the columns `region` and `district_name` in `district` to all uppercase"
   ]
  },
  {
   "cell_type": "code",
   "execution_count": 20,
   "metadata": {},
   "outputs": [
    {
     "data": {
      "text/html": [
       "<div>\n",
       "<style scoped>\n",
       "    .dataframe tbody tr th:only-of-type {\n",
       "        vertical-align: middle;\n",
       "    }\n",
       "\n",
       "    .dataframe tbody tr th {\n",
       "        vertical-align: top;\n",
       "    }\n",
       "\n",
       "    .dataframe thead th {\n",
       "        text-align: right;\n",
       "    }\n",
       "</style>\n",
       "<table border=\"1\" class=\"dataframe\">\n",
       "  <thead>\n",
       "    <tr style=\"text-align: right;\">\n",
       "      <th></th>\n",
       "      <th>region</th>\n",
       "    </tr>\n",
       "  </thead>\n",
       "  <tbody>\n",
       "    <tr>\n",
       "      <th>0</th>\n",
       "      <td>Prague</td>\n",
       "    </tr>\n",
       "    <tr>\n",
       "      <th>1</th>\n",
       "      <td>central Bohemia</td>\n",
       "    </tr>\n",
       "    <tr>\n",
       "      <th>2</th>\n",
       "      <td>central Bohemia</td>\n",
       "    </tr>\n",
       "    <tr>\n",
       "      <th>3</th>\n",
       "      <td>central Bohemia</td>\n",
       "    </tr>\n",
       "    <tr>\n",
       "      <th>4</th>\n",
       "      <td>central Bohemia</td>\n",
       "    </tr>\n",
       "    <tr>\n",
       "      <th>...</th>\n",
       "      <td>...</td>\n",
       "    </tr>\n",
       "    <tr>\n",
       "      <th>71</th>\n",
       "      <td>north Moravia</td>\n",
       "    </tr>\n",
       "    <tr>\n",
       "      <th>72</th>\n",
       "      <td>north Moravia</td>\n",
       "    </tr>\n",
       "    <tr>\n",
       "      <th>73</th>\n",
       "      <td>north Moravia</td>\n",
       "    </tr>\n",
       "    <tr>\n",
       "      <th>74</th>\n",
       "      <td>north Moravia</td>\n",
       "    </tr>\n",
       "    <tr>\n",
       "      <th>75</th>\n",
       "      <td>north Moravia</td>\n",
       "    </tr>\n",
       "  </tbody>\n",
       "</table>\n",
       "<p>76 rows × 1 columns</p>\n",
       "</div>"
      ],
      "text/plain": [
       "             region\n",
       "0            Prague\n",
       "1   central Bohemia\n",
       "2   central Bohemia\n",
       "3   central Bohemia\n",
       "4   central Bohemia\n",
       "..              ...\n",
       "71    north Moravia\n",
       "72    north Moravia\n",
       "73    north Moravia\n",
       "74    north Moravia\n",
       "75    north Moravia\n",
       "\n",
       "[76 rows x 1 columns]"
      ]
     },
     "execution_count": 20,
     "metadata": {},
     "output_type": "execute_result"
    }
   ],
   "source": [
    "district[['region']]"
   ]
  },
  {
   "cell_type": "code",
   "execution_count": 21,
   "metadata": {},
   "outputs": [],
   "source": [
    "district['region'] = district['region'].str.upper()\n",
    "district['district_name'] = district['district_name'].str.upper()"
   ]
  },
  {
   "cell_type": "code",
   "execution_count": 22,
   "metadata": {},
   "outputs": [
    {
     "data": {
      "text/html": [
       "<div>\n",
       "<style scoped>\n",
       "    .dataframe tbody tr th:only-of-type {\n",
       "        vertical-align: middle;\n",
       "    }\n",
       "\n",
       "    .dataframe tbody tr th {\n",
       "        vertical-align: top;\n",
       "    }\n",
       "\n",
       "    .dataframe thead th {\n",
       "        text-align: right;\n",
       "    }\n",
       "</style>\n",
       "<table border=\"1\" class=\"dataframe\">\n",
       "  <thead>\n",
       "    <tr style=\"text-align: right;\">\n",
       "      <th></th>\n",
       "      <th>district_name</th>\n",
       "    </tr>\n",
       "  </thead>\n",
       "  <tbody>\n",
       "    <tr>\n",
       "      <th>0</th>\n",
       "      <td>HL.M. PRAHA</td>\n",
       "    </tr>\n",
       "    <tr>\n",
       "      <th>1</th>\n",
       "      <td>BENESOV</td>\n",
       "    </tr>\n",
       "    <tr>\n",
       "      <th>2</th>\n",
       "      <td>BEROUN</td>\n",
       "    </tr>\n",
       "    <tr>\n",
       "      <th>3</th>\n",
       "      <td>KLADNO</td>\n",
       "    </tr>\n",
       "    <tr>\n",
       "      <th>4</th>\n",
       "      <td>KOLIN</td>\n",
       "    </tr>\n",
       "    <tr>\n",
       "      <th>...</th>\n",
       "      <td>...</td>\n",
       "    </tr>\n",
       "    <tr>\n",
       "      <th>71</th>\n",
       "      <td>OLOMOUC</td>\n",
       "    </tr>\n",
       "    <tr>\n",
       "      <th>72</th>\n",
       "      <td>OPAVA</td>\n",
       "    </tr>\n",
       "    <tr>\n",
       "      <th>73</th>\n",
       "      <td>OSTRAVA - MESTO</td>\n",
       "    </tr>\n",
       "    <tr>\n",
       "      <th>74</th>\n",
       "      <td>PREROV</td>\n",
       "    </tr>\n",
       "    <tr>\n",
       "      <th>75</th>\n",
       "      <td>SUMPERK</td>\n",
       "    </tr>\n",
       "  </tbody>\n",
       "</table>\n",
       "<p>76 rows × 1 columns</p>\n",
       "</div>"
      ],
      "text/plain": [
       "      district_name\n",
       "0       HL.M. PRAHA\n",
       "1           BENESOV\n",
       "2            BEROUN\n",
       "3            KLADNO\n",
       "4             KOLIN\n",
       "..              ...\n",
       "71          OLOMOUC\n",
       "72            OPAVA\n",
       "73  OSTRAVA - MESTO\n",
       "74           PREROV\n",
       "75          SUMPERK\n",
       "\n",
       "[76 rows x 1 columns]"
      ]
     },
     "execution_count": 22,
     "metadata": {},
     "output_type": "execute_result"
    }
   ],
   "source": [
    "district[['district_name']]"
   ]
  },
  {
   "cell_type": "markdown",
   "metadata": {},
   "source": [
    "### 8. Check for missing data by columns in `account` using the `isna` method"
   ]
  },
  {
   "cell_type": "code",
   "execution_count": 24,
   "metadata": {},
   "outputs": [
    {
     "data": {
      "text/plain": [
       "account_id  district_id  frequency  account_open_date  client_id\n",
       "False       False        False      False              False        4500\n",
       "Name: count, dtype: int64"
      ]
     },
     "execution_count": 24,
     "metadata": {},
     "output_type": "execute_result"
    }
   ],
   "source": [
    "account.isna().value_counts()"
   ]
  },
  {
   "cell_type": "markdown",
   "metadata": {},
   "source": [
    "### 9. Check for missing data by columns in `district` using the `isna` method"
   ]
  },
  {
   "cell_type": "code",
   "execution_count": 26,
   "metadata": {},
   "outputs": [
    {
     "data": {
      "text/plain": [
       "district_id  district_name  region  population  average_salary  unemployment_rate  num_committed_crimes\n",
       "False        False          False   False       False           False              False                   48\n",
       "                                                                                   True                     9\n",
       "                                                                True               False                    9\n",
       "                                                True            False              False                    9\n",
       "                                                                True               False                    1\n",
       "Name: count, dtype: int64"
      ]
     },
     "execution_count": 26,
     "metadata": {},
     "output_type": "execute_result"
    }
   ],
   "source": [
    "district.isna().value_counts()"
   ]
  },
  {
   "cell_type": "markdown",
   "metadata": {},
   "source": [
    "`district` has numeric features that could have relationships with each other. Let's use iterative imputation on them."
   ]
  },
  {
   "cell_type": "markdown",
   "metadata": {},
   "source": [
    "#### Use `IterativeImputer` in `sklearn` to impute based on columns `population`, `average_salary`, `unemployment_rate`, `num_committed_crimes`"
   ]
  },
  {
   "cell_type": "markdown",
   "metadata": {},
   "source": [
    "##### Import libraries"
   ]
  },
  {
   "cell_type": "code",
   "execution_count": 30,
   "metadata": {},
   "outputs": [],
   "source": [
    "from sklearn.impute import SimpleImputer\n",
    "from sklearn.experimental import enable_iterative_imputer\n",
    "from sklearn.impute import IterativeImputer"
   ]
  },
  {
   "cell_type": "markdown",
   "metadata": {},
   "source": [
    "##### Build a list of columns that will be used for imputation, which are `population`, `average_salary`, `unemployment_rate`, `num_committed_crimes`\n",
    "These are the columns that might be related to each other "
   ]
  },
  {
   "cell_type": "code",
   "execution_count": 32,
   "metadata": {},
   "outputs": [
    {
     "name": "stdout",
     "output_type": "stream",
     "text": [
      "<class 'pandas.core.frame.DataFrame'>\n",
      "RangeIndex: 76 entries, 0 to 75\n",
      "Data columns (total 4 columns):\n",
      " #   Column                Non-Null Count  Dtype  \n",
      "---  ------                --------------  -----  \n",
      " 0   population            76 non-null     int64  \n",
      " 1   average_salary        66 non-null     float64\n",
      " 2   unemployment_rate     66 non-null     float64\n",
      " 3   num_committed_crimes  67 non-null     float64\n",
      "dtypes: float64(3), int64(1)\n",
      "memory usage: 2.5 KB\n"
     ]
    }
   ],
   "source": [
    "impu_list = district[['population','average_salary','unemployment_rate','num_committed_crimes']]\n",
    "impu_list.info()"
   ]
  },
  {
   "cell_type": "markdown",
   "metadata": {},
   "source": [
    "##### Create `IterativeImputer` object and set its `min_value` and `max_value` parameters to be the minumum and maximum of corresponding columns"
   ]
  },
  {
   "cell_type": "code",
   "execution_count": 34,
   "metadata": {},
   "outputs": [],
   "source": [
    "iter_imp = IterativeImputer(min_value=impu_list.min(), max_value=impu_list.max())"
   ]
  },
  {
   "cell_type": "markdown",
   "metadata": {},
   "source": [
    "##### Apply the imputer to fit and transform the columns to an imputed NumPy array"
   ]
  },
  {
   "cell_type": "code",
   "execution_count": 36,
   "metadata": {},
   "outputs": [],
   "source": [
    "imputed_num = iter_imp.fit_transform(impu_list)"
   ]
  },
  {
   "cell_type": "markdown",
   "metadata": {},
   "source": [
    "##### Assign the imputed array back to the original DataFrame's columns"
   ]
  },
  {
   "cell_type": "code",
   "execution_count": 38,
   "metadata": {},
   "outputs": [],
   "source": [
    "district[['population','average_salary','unemployment_rate','num_committed_crimes']] = imputed_num"
   ]
  },
  {
   "cell_type": "markdown",
   "metadata": {},
   "source": [
    "##### Double check that the columns are imputed"
   ]
  },
  {
   "cell_type": "code",
   "execution_count": 182,
   "metadata": {},
   "outputs": [
    {
     "data": {
      "text/plain": [
       "population  average_salary  unemployment_rate  num_committed_crimes\n",
       "False       False           False              False                   76\n",
       "Name: count, dtype: int64"
      ]
     },
     "execution_count": 182,
     "metadata": {},
     "output_type": "execute_result"
    }
   ],
   "source": [
    "district[['population','average_salary','unemployment_rate','num_committed_crimes']].isna().value_counts()"
   ]
  },
  {
   "cell_type": "markdown",
   "metadata": {},
   "source": [
    "### 10. Check for missing data by columns in `trans` using the `isna` method"
   ]
  },
  {
   "cell_type": "code",
   "execution_count": 42,
   "metadata": {},
   "outputs": [
    {
     "data": {
      "text/plain": [
       "trans_id  account_id  date   type   operation_type  amount  balance  description  partner_bank  partner_account\n",
       "False     False       False  False  False           False   False    True         True          True               420407\n",
       "                                                                     False        False         False              230465\n",
       "                                    True            False   False    False        True          True               183114\n",
       "                                    False           False   False    False        True          True               157410\n",
       "                                                                     True         False         False               43043\n",
       "                                                                                  True          False               18431\n",
       "                                                                     False        True          False                3450\n",
       "Name: count, dtype: int64"
      ]
     },
     "execution_count": 42,
     "metadata": {},
     "output_type": "execute_result"
    }
   ],
   "source": [
    "trans.isna().value_counts()"
   ]
  },
  {
   "cell_type": "markdown",
   "metadata": {},
   "source": [
    "#### Divide the columns into numeric columns and categorical columns, then use the `fillna` method to fill numeric columns with -999, fill categorical columns with 'UNKNOWN'"
   ]
  },
  {
   "cell_type": "code",
   "execution_count": 44,
   "metadata": {},
   "outputs": [
    {
     "data": {
      "text/plain": [
       "Index(['trans_id', 'account_id', 'amount', 'balance', 'partner_account'], dtype='object')"
      ]
     },
     "execution_count": 44,
     "metadata": {},
     "output_type": "execute_result"
    }
   ],
   "source": [
    "trans_numeric = trans.select_dtypes(include = 'number').columns\n",
    "trans_numeric"
   ]
  },
  {
   "cell_type": "code",
   "execution_count": 45,
   "metadata": {},
   "outputs": [
    {
     "data": {
      "text/plain": [
       "Index(['date', 'type', 'operation_type', 'description', 'partner_bank'], dtype='object')"
      ]
     },
     "execution_count": 45,
     "metadata": {},
     "output_type": "execute_result"
    }
   ],
   "source": [
    "trans_cat = trans.select_dtypes(exclude = 'number').columns\n",
    "trans_cat"
   ]
  },
  {
   "cell_type": "code",
   "execution_count": 46,
   "metadata": {},
   "outputs": [],
   "source": [
    "trans[trans_numeric] = trans[trans_numeric].fillna(-999)\n",
    "trans[trans_cat] = trans[trans_cat].fillna('UNKNOWN')"
   ]
  },
  {
   "cell_type": "code",
   "execution_count": 176,
   "metadata": {},
   "outputs": [
    {
     "data": {
      "text/html": [
       "<div>\n",
       "<style scoped>\n",
       "    .dataframe tbody tr th:only-of-type {\n",
       "        vertical-align: middle;\n",
       "    }\n",
       "\n",
       "    .dataframe tbody tr th {\n",
       "        vertical-align: top;\n",
       "    }\n",
       "\n",
       "    .dataframe thead th {\n",
       "        text-align: right;\n",
       "    }\n",
       "</style>\n",
       "<table border=\"1\" class=\"dataframe\">\n",
       "  <thead>\n",
       "    <tr style=\"text-align: right;\">\n",
       "      <th></th>\n",
       "      <th>trans_id</th>\n",
       "      <th>account_id</th>\n",
       "      <th>amount</th>\n",
       "      <th>balance</th>\n",
       "      <th>partner_account</th>\n",
       "    </tr>\n",
       "  </thead>\n",
       "  <tbody>\n",
       "    <tr>\n",
       "      <th>0</th>\n",
       "      <td>695247</td>\n",
       "      <td>2378</td>\n",
       "      <td>700.0</td>\n",
       "      <td>700.0</td>\n",
       "      <td>-999.0</td>\n",
       "    </tr>\n",
       "    <tr>\n",
       "      <th>1</th>\n",
       "      <td>171812</td>\n",
       "      <td>576</td>\n",
       "      <td>900.0</td>\n",
       "      <td>900.0</td>\n",
       "      <td>-999.0</td>\n",
       "    </tr>\n",
       "    <tr>\n",
       "      <th>2</th>\n",
       "      <td>207264</td>\n",
       "      <td>704</td>\n",
       "      <td>1000.0</td>\n",
       "      <td>1000.0</td>\n",
       "      <td>-999.0</td>\n",
       "    </tr>\n",
       "    <tr>\n",
       "      <th>3</th>\n",
       "      <td>1117247</td>\n",
       "      <td>3818</td>\n",
       "      <td>600.0</td>\n",
       "      <td>600.0</td>\n",
       "      <td>-999.0</td>\n",
       "    </tr>\n",
       "    <tr>\n",
       "      <th>4</th>\n",
       "      <td>579373</td>\n",
       "      <td>1972</td>\n",
       "      <td>400.0</td>\n",
       "      <td>400.0</td>\n",
       "      <td>-999.0</td>\n",
       "    </tr>\n",
       "    <tr>\n",
       "      <th>5</th>\n",
       "      <td>771035</td>\n",
       "      <td>2632</td>\n",
       "      <td>1100.0</td>\n",
       "      <td>1100.0</td>\n",
       "      <td>-999.0</td>\n",
       "    </tr>\n",
       "    <tr>\n",
       "      <th>6</th>\n",
       "      <td>452728</td>\n",
       "      <td>1539</td>\n",
       "      <td>600.0</td>\n",
       "      <td>600.0</td>\n",
       "      <td>-999.0</td>\n",
       "    </tr>\n",
       "    <tr>\n",
       "      <th>7</th>\n",
       "      <td>725751</td>\n",
       "      <td>2484</td>\n",
       "      <td>1100.0</td>\n",
       "      <td>1100.0</td>\n",
       "      <td>-999.0</td>\n",
       "    </tr>\n",
       "    <tr>\n",
       "      <th>8</th>\n",
       "      <td>497211</td>\n",
       "      <td>1695</td>\n",
       "      <td>200.0</td>\n",
       "      <td>200.0</td>\n",
       "      <td>-999.0</td>\n",
       "    </tr>\n",
       "    <tr>\n",
       "      <th>9</th>\n",
       "      <td>232960</td>\n",
       "      <td>793</td>\n",
       "      <td>800.0</td>\n",
       "      <td>800.0</td>\n",
       "      <td>-999.0</td>\n",
       "    </tr>\n",
       "    <tr>\n",
       "      <th>10</th>\n",
       "      <td>505240</td>\n",
       "      <td>1726</td>\n",
       "      <td>1000.0</td>\n",
       "      <td>1000.0</td>\n",
       "      <td>-999.0</td>\n",
       "    </tr>\n",
       "    <tr>\n",
       "      <th>11</th>\n",
       "      <td>144541</td>\n",
       "      <td>485</td>\n",
       "      <td>300.0</td>\n",
       "      <td>300.0</td>\n",
       "      <td>-999.0</td>\n",
       "    </tr>\n",
       "    <tr>\n",
       "      <th>12</th>\n",
       "      <td>637741</td>\n",
       "      <td>2177</td>\n",
       "      <td>800.0</td>\n",
       "      <td>800.0</td>\n",
       "      <td>-999.0</td>\n",
       "    </tr>\n",
       "    <tr>\n",
       "      <th>13</th>\n",
       "      <td>689827</td>\n",
       "      <td>2357</td>\n",
       "      <td>800.0</td>\n",
       "      <td>800.0</td>\n",
       "      <td>-999.0</td>\n",
       "    </tr>\n",
       "    <tr>\n",
       "      <th>14</th>\n",
       "      <td>846006</td>\n",
       "      <td>2881</td>\n",
       "      <td>700.0</td>\n",
       "      <td>700.0</td>\n",
       "      <td>-999.0</td>\n",
       "    </tr>\n",
       "    <tr>\n",
       "      <th>15</th>\n",
       "      <td>637742</td>\n",
       "      <td>2177</td>\n",
       "      <td>5123.0</td>\n",
       "      <td>5923.0</td>\n",
       "      <td>62457513.0</td>\n",
       "    </tr>\n",
       "    <tr>\n",
       "      <th>16</th>\n",
       "      <td>2908688</td>\n",
       "      <td>9635</td>\n",
       "      <td>400.0</td>\n",
       "      <td>400.0</td>\n",
       "      <td>-999.0</td>\n",
       "    </tr>\n",
       "    <tr>\n",
       "      <th>17</th>\n",
       "      <td>232961</td>\n",
       "      <td>793</td>\n",
       "      <td>3401.0</td>\n",
       "      <td>4201.0</td>\n",
       "      <td>6149286.0</td>\n",
       "    </tr>\n",
       "    <tr>\n",
       "      <th>18</th>\n",
       "      <td>192096</td>\n",
       "      <td>652</td>\n",
       "      <td>700.0</td>\n",
       "      <td>700.0</td>\n",
       "      <td>-999.0</td>\n",
       "    </tr>\n",
       "    <tr>\n",
       "      <th>19</th>\n",
       "      <td>542215</td>\n",
       "      <td>1844</td>\n",
       "      <td>500.0</td>\n",
       "      <td>500.0</td>\n",
       "      <td>-999.0</td>\n",
       "    </tr>\n",
       "  </tbody>\n",
       "</table>\n",
       "</div>"
      ],
      "text/plain": [
       "    trans_id  account_id  amount  balance  partner_account\n",
       "0     695247        2378   700.0    700.0           -999.0\n",
       "1     171812         576   900.0    900.0           -999.0\n",
       "2     207264         704  1000.0   1000.0           -999.0\n",
       "3    1117247        3818   600.0    600.0           -999.0\n",
       "4     579373        1972   400.0    400.0           -999.0\n",
       "5     771035        2632  1100.0   1100.0           -999.0\n",
       "6     452728        1539   600.0    600.0           -999.0\n",
       "7     725751        2484  1100.0   1100.0           -999.0\n",
       "8     497211        1695   200.0    200.0           -999.0\n",
       "9     232960         793   800.0    800.0           -999.0\n",
       "10    505240        1726  1000.0   1000.0           -999.0\n",
       "11    144541         485   300.0    300.0           -999.0\n",
       "12    637741        2177   800.0    800.0           -999.0\n",
       "13    689827        2357   800.0    800.0           -999.0\n",
       "14    846006        2881   700.0    700.0           -999.0\n",
       "15    637742        2177  5123.0   5923.0       62457513.0\n",
       "16   2908688        9635   400.0    400.0           -999.0\n",
       "17    232961         793  3401.0   4201.0        6149286.0\n",
       "18    192096         652   700.0    700.0           -999.0\n",
       "19    542215        1844   500.0    500.0           -999.0"
      ]
     },
     "execution_count": 176,
     "metadata": {},
     "output_type": "execute_result"
    }
   ],
   "source": [
    "trans[trans_numeric].head(20)"
   ]
  },
  {
   "cell_type": "markdown",
   "metadata": {},
   "source": [
    "### 11. Check for outliers in `district` using the `describe` method, then look at the histograms of the suspicious columns"
   ]
  },
  {
   "cell_type": "code",
   "execution_count": 48,
   "metadata": {},
   "outputs": [
    {
     "data": {
      "text/plain": [
       "<bound method NDFrame.describe of     district_id    district_name           region  population  average_salary  \\\n",
       "0             1      HL.M. PRAHA           PRAGUE   1204953.0    12541.000000   \n",
       "1             2          BENESOV  CENTRAL BOHEMIA     88884.0     8813.969500   \n",
       "2             3           BEROUN  CENTRAL BOHEMIA     75232.0     8980.000000   \n",
       "3             4           KLADNO  CENTRAL BOHEMIA    149893.0     9753.000000   \n",
       "4             5            KOLIN  CENTRAL BOHEMIA     95616.0     9307.000000   \n",
       "..          ...              ...              ...         ...             ...   \n",
       "71           72          OLOMOUC    NORTH MORAVIA    226122.0     9333.878734   \n",
       "72           73            OPAVA    NORTH MORAVIA    182027.0     8746.000000   \n",
       "73           74  OSTRAVA - MESTO    NORTH MORAVIA    323870.0    10673.000000   \n",
       "74           75           PREROV    NORTH MORAVIA    138032.0     8819.000000   \n",
       "75           76          SUMPERK    NORTH MORAVIA    127369.0     8369.000000   \n",
       "\n",
       "    unemployment_rate  num_committed_crimes  \n",
       "0            0.430000          99107.000000  \n",
       "1            3.763873           2674.000000  \n",
       "2            2.210000           2813.000000  \n",
       "3            5.050000           6312.463514  \n",
       "4            4.430000           1920.272861  \n",
       "..                ...                   ...  \n",
       "71           4.790000           9208.000000  \n",
       "72           3.740000           4433.000000  \n",
       "73           5.440000          18347.000000  \n",
       "74           5.660000           4505.000000  \n",
       "75           3.818541           2807.000000  \n",
       "\n",
       "[76 rows x 7 columns]>"
      ]
     },
     "execution_count": 48,
     "metadata": {},
     "output_type": "execute_result"
    }
   ],
   "source": [
    "district.describe"
   ]
  },
  {
   "cell_type": "code",
   "execution_count": 49,
   "metadata": {},
   "outputs": [
    {
     "data": {
      "text/plain": [
       "array([[<Axes: title={'center': 'district_id'}>,\n",
       "        <Axes: title={'center': 'population'}>],\n",
       "       [<Axes: title={'center': 'average_salary'}>,\n",
       "        <Axes: title={'center': 'unemployment_rate'}>],\n",
       "       [<Axes: title={'center': 'num_committed_crimes'}>, <Axes: >]],\n",
       "      dtype=object)"
      ]
     },
     "execution_count": 49,
     "metadata": {},
     "output_type": "execute_result"
    },
    {
     "data": {
      "image/png": "[encoded data removed]",
      "text/plain": [
       "<Figure size 2000x2000 with 6 Axes>"
      ]
     },
     "metadata": {},
     "output_type": "display_data"
    }
   ],
   "source": [
    "district.hist(figsize=(20,20))"
   ]
  },
  {
   "cell_type": "markdown",
   "metadata": {},
   "source": [
    "## Suspect 2 of 3 of these graphs to have outliars\n",
    "## population, average_salary, num_committed_crimes\n",
    "## Going to explore these further below"
   ]
  },
  {
   "cell_type": "markdown",
   "metadata": {},
   "source": [
    "#### Explore the outliers in the dataset"
   ]
  },
  {
   "cell_type": "code",
   "execution_count": 52,
   "metadata": {},
   "outputs": [
    {
     "data": {
      "text/plain": [
       "<Axes: >"
      ]
     },
     "execution_count": 52,
     "metadata": {},
     "output_type": "execute_result"
    },
    {
     "data": {
      "image/png": "[encoded data removed]",
      "text/plain": [
       "<Figure size 640x480 with 1 Axes>"
      ]
     },
     "metadata": {},
     "output_type": "display_data"
    }
   ],
   "source": [
    "## Notice the large gap at the end\n",
    "district['population'].hist(bins = 50)"
   ]
  },
  {
   "cell_type": "code",
   "execution_count": 53,
   "metadata": {},
   "outputs": [
    {
     "data": {
      "text/html": [
       "<div>\n",
       "<style scoped>\n",
       "    .dataframe tbody tr th:only-of-type {\n",
       "        vertical-align: middle;\n",
       "    }\n",
       "\n",
       "    .dataframe tbody tr th {\n",
       "        vertical-align: top;\n",
       "    }\n",
       "\n",
       "    .dataframe thead th {\n",
       "        text-align: right;\n",
       "    }\n",
       "</style>\n",
       "<table border=\"1\" class=\"dataframe\">\n",
       "  <thead>\n",
       "    <tr style=\"text-align: right;\">\n",
       "      <th></th>\n",
       "      <th>district_id</th>\n",
       "      <th>population</th>\n",
       "    </tr>\n",
       "  </thead>\n",
       "  <tbody>\n",
       "    <tr>\n",
       "      <th>0</th>\n",
       "      <td>1</td>\n",
       "      <td>1204953.0</td>\n",
       "    </tr>\n",
       "    <tr>\n",
       "      <th>53</th>\n",
       "      <td>54</td>\n",
       "      <td>387570.0</td>\n",
       "    </tr>\n",
       "    <tr>\n",
       "      <th>73</th>\n",
       "      <td>74</td>\n",
       "      <td>323870.0</td>\n",
       "    </tr>\n",
       "    <tr>\n",
       "      <th>69</th>\n",
       "      <td>70</td>\n",
       "      <td>285387.0</td>\n",
       "    </tr>\n",
       "    <tr>\n",
       "      <th>67</th>\n",
       "      <td>68</td>\n",
       "      <td>228848.0</td>\n",
       "    </tr>\n",
       "    <tr>\n",
       "      <th>...</th>\n",
       "      <td>...</td>\n",
       "      <td>...</td>\n",
       "    </tr>\n",
       "    <tr>\n",
       "      <th>12</th>\n",
       "      <td>13</td>\n",
       "      <td>53921.0</td>\n",
       "    </tr>\n",
       "    <tr>\n",
       "      <th>18</th>\n",
       "      <td>19</td>\n",
       "      <td>51428.0</td>\n",
       "    </tr>\n",
       "    <tr>\n",
       "      <th>30</th>\n",
       "      <td>31</td>\n",
       "      <td>51313.0</td>\n",
       "    </tr>\n",
       "    <tr>\n",
       "      <th>28</th>\n",
       "      <td>29</td>\n",
       "      <td>45714.0</td>\n",
       "    </tr>\n",
       "    <tr>\n",
       "      <th>68</th>\n",
       "      <td>69</td>\n",
       "      <td>42821.0</td>\n",
       "    </tr>\n",
       "  </tbody>\n",
       "</table>\n",
       "<p>76 rows × 2 columns</p>\n",
       "</div>"
      ],
      "text/plain": [
       "    district_id  population\n",
       "0             1   1204953.0\n",
       "53           54    387570.0\n",
       "73           74    323870.0\n",
       "69           70    285387.0\n",
       "67           68    228848.0\n",
       "..          ...         ...\n",
       "12           13     53921.0\n",
       "18           19     51428.0\n",
       "30           31     51313.0\n",
       "28           29     45714.0\n",
       "68           69     42821.0\n",
       "\n",
       "[76 rows x 2 columns]"
      ]
     },
     "execution_count": 53,
     "metadata": {},
     "output_type": "execute_result"
    }
   ],
   "source": [
    "# Lets view the actual data. Using the sort_values we learned earlier we can sort the data by the population in decending order, \n",
    "# giving us the largest data first with their districts\n",
    "# District 1 seems to have a very unporportional number of population\n",
    "district[['district_id','population']].sort_values(by='population', ascending = False)"
   ]
  },
  {
   "cell_type": "code",
   "execution_count": 54,
   "metadata": {},
   "outputs": [
    {
     "data": {
      "text/plain": [
       "<Axes: >"
      ]
     },
     "execution_count": 54,
     "metadata": {},
     "output_type": "execute_result"
    },
    {
     "data": {
      "image/png": "[encoded data removed]",
      "text/plain": [
       "<Figure size 640x480 with 1 Axes>"
      ]
     },
     "metadata": {},
     "output_type": "display_data"
    }
   ],
   "source": [
    "## Notice the large gap at the end\n",
    "district['average_salary'].hist(bins = 50)"
   ]
  },
  {
   "cell_type": "code",
   "execution_count": 55,
   "metadata": {},
   "outputs": [
    {
     "data": {
      "text/html": [
       "<div>\n",
       "<style scoped>\n",
       "    .dataframe tbody tr th:only-of-type {\n",
       "        vertical-align: middle;\n",
       "    }\n",
       "\n",
       "    .dataframe tbody tr th {\n",
       "        vertical-align: top;\n",
       "    }\n",
       "\n",
       "    .dataframe thead th {\n",
       "        text-align: right;\n",
       "    }\n",
       "</style>\n",
       "<table border=\"1\" class=\"dataframe\">\n",
       "  <thead>\n",
       "    <tr style=\"text-align: right;\">\n",
       "      <th></th>\n",
       "      <th>district_id</th>\n",
       "      <th>average_salary</th>\n",
       "    </tr>\n",
       "  </thead>\n",
       "  <tbody>\n",
       "    <tr>\n",
       "      <th>0</th>\n",
       "      <td>1</td>\n",
       "      <td>12541.0</td>\n",
       "    </tr>\n",
       "    <tr>\n",
       "      <th>25</th>\n",
       "      <td>26</td>\n",
       "      <td>10787.0</td>\n",
       "    </tr>\n",
       "    <tr>\n",
       "      <th>73</th>\n",
       "      <td>74</td>\n",
       "      <td>10673.0</td>\n",
       "    </tr>\n",
       "    <tr>\n",
       "      <th>38</th>\n",
       "      <td>39</td>\n",
       "      <td>10446.0</td>\n",
       "    </tr>\n",
       "    <tr>\n",
       "      <th>69</th>\n",
       "      <td>70</td>\n",
       "      <td>10177.0</td>\n",
       "    </tr>\n",
       "    <tr>\n",
       "      <th>...</th>\n",
       "      <td>...</td>\n",
       "      <td>...</td>\n",
       "    </tr>\n",
       "    <tr>\n",
       "      <th>48</th>\n",
       "      <td>49</td>\n",
       "      <td>8208.0</td>\n",
       "    </tr>\n",
       "    <tr>\n",
       "      <th>49</th>\n",
       "      <td>50</td>\n",
       "      <td>8187.0</td>\n",
       "    </tr>\n",
       "    <tr>\n",
       "      <th>68</th>\n",
       "      <td>69</td>\n",
       "      <td>8173.0</td>\n",
       "    </tr>\n",
       "    <tr>\n",
       "      <th>16</th>\n",
       "      <td>17</td>\n",
       "      <td>8114.0</td>\n",
       "    </tr>\n",
       "    <tr>\n",
       "      <th>66</th>\n",
       "      <td>67</td>\n",
       "      <td>8110.0</td>\n",
       "    </tr>\n",
       "  </tbody>\n",
       "</table>\n",
       "<p>76 rows × 2 columns</p>\n",
       "</div>"
      ],
      "text/plain": [
       "    district_id  average_salary\n",
       "0             1         12541.0\n",
       "25           26         10787.0\n",
       "73           74         10673.0\n",
       "38           39         10446.0\n",
       "69           70         10177.0\n",
       "..          ...             ...\n",
       "48           49          8208.0\n",
       "49           50          8187.0\n",
       "68           69          8173.0\n",
       "16           17          8114.0\n",
       "66           67          8110.0\n",
       "\n",
       "[76 rows x 2 columns]"
      ]
     },
     "execution_count": 55,
     "metadata": {},
     "output_type": "execute_result"
    }
   ],
   "source": [
    "## District 1 has a higher average_salary. \n",
    "## This combined with the population could indicate district 1 to be a high population center\n",
    "district[['district_id','average_salary']].sort_values(by='average_salary', ascending = False)"
   ]
  },
  {
   "cell_type": "code",
   "execution_count": 56,
   "metadata": {},
   "outputs": [
    {
     "data": {
      "text/plain": [
       "<Axes: >"
      ]
     },
     "execution_count": 56,
     "metadata": {},
     "output_type": "execute_result"
    },
    {
     "data": {
      "image/png": "[encoded data removed]",
      "text/plain": [
       "<Figure size 640x480 with 1 Axes>"
      ]
     },
     "metadata": {},
     "output_type": "display_data"
    }
   ],
   "source": [
    "district['num_committed_crimes'].hist(bins = 50)"
   ]
  },
  {
   "cell_type": "code",
   "execution_count": 57,
   "metadata": {},
   "outputs": [
    {
     "data": {
      "text/html": [
       "<div>\n",
       "<style scoped>\n",
       "    .dataframe tbody tr th:only-of-type {\n",
       "        vertical-align: middle;\n",
       "    }\n",
       "\n",
       "    .dataframe tbody tr th {\n",
       "        vertical-align: top;\n",
       "    }\n",
       "\n",
       "    .dataframe thead th {\n",
       "        text-align: right;\n",
       "    }\n",
       "</style>\n",
       "<table border=\"1\" class=\"dataframe\">\n",
       "  <thead>\n",
       "    <tr style=\"text-align: right;\">\n",
       "      <th></th>\n",
       "      <th>district_id</th>\n",
       "      <th>num_committed_crimes</th>\n",
       "    </tr>\n",
       "  </thead>\n",
       "  <tbody>\n",
       "    <tr>\n",
       "      <th>0</th>\n",
       "      <td>1</td>\n",
       "      <td>99107.000000</td>\n",
       "    </tr>\n",
       "    <tr>\n",
       "      <th>53</th>\n",
       "      <td>54</td>\n",
       "      <td>18696.000000</td>\n",
       "    </tr>\n",
       "    <tr>\n",
       "      <th>73</th>\n",
       "      <td>74</td>\n",
       "      <td>18347.000000</td>\n",
       "    </tr>\n",
       "    <tr>\n",
       "      <th>67</th>\n",
       "      <td>68</td>\n",
       "      <td>12703.935555</td>\n",
       "    </tr>\n",
       "    <tr>\n",
       "      <th>69</th>\n",
       "      <td>70</td>\n",
       "      <td>10108.000000</td>\n",
       "    </tr>\n",
       "    <tr>\n",
       "      <th>...</th>\n",
       "      <td>...</td>\n",
       "      <td>...</td>\n",
       "    </tr>\n",
       "    <tr>\n",
       "      <th>21</th>\n",
       "      <td>22</td>\n",
       "      <td>1117.000000</td>\n",
       "    </tr>\n",
       "    <tr>\n",
       "      <th>18</th>\n",
       "      <td>19</td>\n",
       "      <td>1099.000000</td>\n",
       "    </tr>\n",
       "    <tr>\n",
       "      <th>48</th>\n",
       "      <td>49</td>\n",
       "      <td>888.000000</td>\n",
       "    </tr>\n",
       "    <tr>\n",
       "      <th>68</th>\n",
       "      <td>69</td>\n",
       "      <td>888.000000</td>\n",
       "    </tr>\n",
       "    <tr>\n",
       "      <th>28</th>\n",
       "      <td>29</td>\n",
       "      <td>888.000000</td>\n",
       "    </tr>\n",
       "  </tbody>\n",
       "</table>\n",
       "<p>76 rows × 2 columns</p>\n",
       "</div>"
      ],
      "text/plain": [
       "    district_id  num_committed_crimes\n",
       "0             1          99107.000000\n",
       "53           54          18696.000000\n",
       "73           74          18347.000000\n",
       "67           68          12703.935555\n",
       "69           70          10108.000000\n",
       "..          ...                   ...\n",
       "21           22           1117.000000\n",
       "18           19           1099.000000\n",
       "48           49            888.000000\n",
       "68           69            888.000000\n",
       "28           29            888.000000\n",
       "\n",
       "[76 rows x 2 columns]"
      ]
     },
     "execution_count": 57,
     "metadata": {},
     "output_type": "execute_result"
    }
   ],
   "source": [
    "## Appears district 1 has a large number of committed crimes \n",
    "## This combined with the number of population and average salary could point towards this not being an error but a large population center, such as a city\n",
    "## Thus explaining why there is such a large outliar compared to the other districts which might be less pop dense.\n",
    "district[['district_id','num_committed_crimes']].sort_values(by='num_committed_crimes', ascending = False)"
   ]
  },
  {
   "cell_type": "markdown",
   "metadata": {},
   "source": [
    "#### Appears district 1 has a large population, average-salary, and num of crimes\n",
    "#### This leads me to believe that district 1 is a dense population center and an outliar compared to the rest of the data"
   ]
  },
  {
   "cell_type": "markdown",
   "metadata": {},
   "source": [
    "### 12. Check for outliers in `trans` using the `describe` method, then look at the histograms of the suspicious columns"
   ]
  },
  {
   "cell_type": "code",
   "execution_count": 60,
   "metadata": {},
   "outputs": [
    {
     "data": {
      "text/plain": [
       "<bound method NDFrame.describe of          trans_id  account_id       date    type  operation_type  amount  \\\n",
       "0          695247        2378 1993-01-01  CREDIT  CREDIT IN CASH   700.0   \n",
       "1          171812         576 1993-01-01  CREDIT  CREDIT IN CASH   900.0   \n",
       "2          207264         704 1993-01-01  CREDIT  CREDIT IN CASH  1000.0   \n",
       "3         1117247        3818 1993-01-01  CREDIT  CREDIT IN CASH   600.0   \n",
       "4          579373        1972 1993-01-02  CREDIT  CREDIT IN CASH   400.0   \n",
       "...           ...         ...        ...     ...             ...     ...   \n",
       "1056315   3626622        2906 1998-12-31  CREDIT         UNKNOWN    62.3   \n",
       "1056316   3627616        2935 1998-12-31  CREDIT         UNKNOWN    81.3   \n",
       "1056317   3625403        2869 1998-12-31  CREDIT         UNKNOWN    60.2   \n",
       "1056318   3626683        2907 1998-12-31  CREDIT         UNKNOWN   107.5   \n",
       "1056319   3626540        2902 1998-12-31  CREDIT         UNKNOWN   164.1   \n",
       "\n",
       "         balance      description partner_bank  partner_account  \n",
       "0          700.0          UNKNOWN      UNKNOWN           -999.0  \n",
       "1          900.0          UNKNOWN      UNKNOWN           -999.0  \n",
       "2         1000.0          UNKNOWN      UNKNOWN           -999.0  \n",
       "3          600.0          UNKNOWN      UNKNOWN           -999.0  \n",
       "4          400.0          UNKNOWN      UNKNOWN           -999.0  \n",
       "...          ...              ...          ...              ...  \n",
       "1056315  13729.4  INTEREST CREDIT      UNKNOWN           -999.0  \n",
       "1056316  19544.9  INTEREST CREDIT      UNKNOWN           -999.0  \n",
       "1056317  14638.2  INTEREST CREDIT      UNKNOWN           -999.0  \n",
       "1056318  23453.0  INTEREST CREDIT      UNKNOWN           -999.0  \n",
       "1056319  41642.9  INTEREST CREDIT      UNKNOWN           -999.0  \n",
       "\n",
       "[1056320 rows x 10 columns]>"
      ]
     },
     "execution_count": 60,
     "metadata": {},
     "output_type": "execute_result"
    }
   ],
   "source": [
    "trans.describe"
   ]
  },
  {
   "cell_type": "markdown",
   "metadata": {},
   "source": [
    "#### Explore the outliers in the dataset"
   ]
  },
  {
   "cell_type": "code",
   "execution_count": 62,
   "metadata": {},
   "outputs": [
    {
     "data": {
      "text/plain": [
       "array([[<Axes: title={'center': 'trans_id'}>,\n",
       "        <Axes: title={'center': 'account_id'}>],\n",
       "       [<Axes: title={'center': 'date'}>,\n",
       "        <Axes: title={'center': 'amount'}>],\n",
       "       [<Axes: title={'center': 'balance'}>,\n",
       "        <Axes: title={'center': 'partner_account'}>]], dtype=object)"
      ]
     },
     "execution_count": 62,
     "metadata": {},
     "output_type": "execute_result"
    },
    {
     "data": {
      "image/png": "[encoded data removed]",
      "text/plain": [
       "<Figure size 2000x2000 with 6 Axes>"
      ]
     },
     "metadata": {},
     "output_type": "display_data"
    }
   ],
   "source": [
    "trans.hist(figsize=(20,20))"
   ]
  },
  {
   "cell_type": "markdown",
   "metadata": {},
   "source": [
    "#### amount seems the most suspicious to me. There is a disporportinate number of low number transactions.\n",
    "#### Though this might be due to there just being small transactions for common users"
   ]
  },
  {
   "cell_type": "code",
   "execution_count": 64,
   "metadata": {},
   "outputs": [
    {
     "data": {
      "text/html": [
       "<div>\n",
       "<style scoped>\n",
       "    .dataframe tbody tr th:only-of-type {\n",
       "        vertical-align: middle;\n",
       "    }\n",
       "\n",
       "    .dataframe tbody tr th {\n",
       "        vertical-align: top;\n",
       "    }\n",
       "\n",
       "    .dataframe thead th {\n",
       "        text-align: right;\n",
       "    }\n",
       "</style>\n",
       "<table border=\"1\" class=\"dataframe\">\n",
       "  <thead>\n",
       "    <tr style=\"text-align: right;\">\n",
       "      <th></th>\n",
       "      <th>trans_id</th>\n",
       "      <th>amount</th>\n",
       "    </tr>\n",
       "  </thead>\n",
       "  <tbody>\n",
       "    <tr>\n",
       "      <th>796237</th>\n",
       "      <td>3507085</td>\n",
       "      <td>0.0</td>\n",
       "    </tr>\n",
       "    <tr>\n",
       "      <th>83396</th>\n",
       "      <td>3455961</td>\n",
       "      <td>0.0</td>\n",
       "    </tr>\n",
       "    <tr>\n",
       "      <th>584641</th>\n",
       "      <td>3451866</td>\n",
       "      <td>0.0</td>\n",
       "    </tr>\n",
       "    <tr>\n",
       "      <th>108452</th>\n",
       "      <td>3451376</td>\n",
       "      <td>0.0</td>\n",
       "    </tr>\n",
       "    <tr>\n",
       "      <th>793200</th>\n",
       "      <td>3456218</td>\n",
       "      <td>0.0</td>\n",
       "    </tr>\n",
       "    <tr>\n",
       "      <th>...</th>\n",
       "      <td>...</td>\n",
       "      <td>...</td>\n",
       "    </tr>\n",
       "    <tr>\n",
       "      <th>891095</th>\n",
       "      <td>1170721</td>\n",
       "      <td>81900.0</td>\n",
       "    </tr>\n",
       "    <tr>\n",
       "      <th>892659</th>\n",
       "      <td>1207200</td>\n",
       "      <td>85800.0</td>\n",
       "    </tr>\n",
       "    <tr>\n",
       "      <th>335550</th>\n",
       "      <td>855512</td>\n",
       "      <td>86400.0</td>\n",
       "    </tr>\n",
       "    <tr>\n",
       "      <th>880698</th>\n",
       "      <td>1306770</td>\n",
       "      <td>87300.0</td>\n",
       "    </tr>\n",
       "    <tr>\n",
       "      <th>1047413</th>\n",
       "      <td>291346</td>\n",
       "      <td>87400.0</td>\n",
       "    </tr>\n",
       "  </tbody>\n",
       "</table>\n",
       "<p>1056320 rows × 2 columns</p>\n",
       "</div>"
      ],
      "text/plain": [
       "         trans_id   amount\n",
       "796237    3507085      0.0\n",
       "83396     3455961      0.0\n",
       "584641    3451866      0.0\n",
       "108452    3451376      0.0\n",
       "793200    3456218      0.0\n",
       "...           ...      ...\n",
       "891095    1170721  81900.0\n",
       "892659    1207200  85800.0\n",
       "335550     855512  86400.0\n",
       "880698    1306770  87300.0\n",
       "1047413    291346  87400.0\n",
       "\n",
       "[1056320 rows x 2 columns]"
      ]
     },
     "execution_count": 64,
     "metadata": {},
     "output_type": "execute_result"
    }
   ],
   "source": [
    "trans[['trans_id','amount']].sort_values(by='amount', ascending = True)"
   ]
  },
  {
   "cell_type": "code",
   "execution_count": 65,
   "metadata": {},
   "outputs": [
    {
     "data": {
      "text/plain": [
       "amount\n",
       "14.6       144098\n",
       "30.0         8495\n",
       "100.0        5082\n",
       "1200.0       4710\n",
       "1800.0       4705\n",
       "            ...  \n",
       "2837.0          1\n",
       "32650.0         1\n",
       "31306.0         1\n",
       "21221.0         1\n",
       "449.5           1\n",
       "Name: count, Length: 40400, dtype: int64"
      ]
     },
     "execution_count": 65,
     "metadata": {},
     "output_type": "execute_result"
    }
   ],
   "source": [
    "trans['amount'].value_counts(ascending = False)"
   ]
  },
  {
   "cell_type": "code",
   "execution_count": 66,
   "metadata": {},
   "outputs": [
    {
     "data": {
      "text/html": [
       "<div>\n",
       "<style scoped>\n",
       "    .dataframe tbody tr th:only-of-type {\n",
       "        vertical-align: middle;\n",
       "    }\n",
       "\n",
       "    .dataframe tbody tr th {\n",
       "        vertical-align: top;\n",
       "    }\n",
       "\n",
       "    .dataframe thead th {\n",
       "        text-align: right;\n",
       "    }\n",
       "</style>\n",
       "<table border=\"1\" class=\"dataframe\">\n",
       "  <thead>\n",
       "    <tr style=\"text-align: right;\">\n",
       "      <th></th>\n",
       "      <th>partner_account</th>\n",
       "      <th>amount</th>\n",
       "    </tr>\n",
       "  </thead>\n",
       "  <tbody>\n",
       "    <tr>\n",
       "      <th>796237</th>\n",
       "      <td>-999.0</td>\n",
       "      <td>0.0</td>\n",
       "    </tr>\n",
       "    <tr>\n",
       "      <th>83396</th>\n",
       "      <td>-999.0</td>\n",
       "      <td>0.0</td>\n",
       "    </tr>\n",
       "    <tr>\n",
       "      <th>584641</th>\n",
       "      <td>-999.0</td>\n",
       "      <td>0.0</td>\n",
       "    </tr>\n",
       "    <tr>\n",
       "      <th>108452</th>\n",
       "      <td>-999.0</td>\n",
       "      <td>0.0</td>\n",
       "    </tr>\n",
       "    <tr>\n",
       "      <th>793200</th>\n",
       "      <td>-999.0</td>\n",
       "      <td>0.0</td>\n",
       "    </tr>\n",
       "    <tr>\n",
       "      <th>...</th>\n",
       "      <td>...</td>\n",
       "      <td>...</td>\n",
       "    </tr>\n",
       "    <tr>\n",
       "      <th>891095</th>\n",
       "      <td>-999.0</td>\n",
       "      <td>81900.0</td>\n",
       "    </tr>\n",
       "    <tr>\n",
       "      <th>892659</th>\n",
       "      <td>-999.0</td>\n",
       "      <td>85800.0</td>\n",
       "    </tr>\n",
       "    <tr>\n",
       "      <th>335550</th>\n",
       "      <td>-999.0</td>\n",
       "      <td>86400.0</td>\n",
       "    </tr>\n",
       "    <tr>\n",
       "      <th>880698</th>\n",
       "      <td>-999.0</td>\n",
       "      <td>87300.0</td>\n",
       "    </tr>\n",
       "    <tr>\n",
       "      <th>1047413</th>\n",
       "      <td>-999.0</td>\n",
       "      <td>87400.0</td>\n",
       "    </tr>\n",
       "  </tbody>\n",
       "</table>\n",
       "<p>1056320 rows × 2 columns</p>\n",
       "</div>"
      ],
      "text/plain": [
       "         partner_account   amount\n",
       "796237            -999.0      0.0\n",
       "83396             -999.0      0.0\n",
       "584641            -999.0      0.0\n",
       "108452            -999.0      0.0\n",
       "793200            -999.0      0.0\n",
       "...                  ...      ...\n",
       "891095            -999.0  81900.0\n",
       "892659            -999.0  85800.0\n",
       "335550            -999.0  86400.0\n",
       "880698            -999.0  87300.0\n",
       "1047413           -999.0  87400.0\n",
       "\n",
       "[1056320 rows x 2 columns]"
      ]
     },
     "execution_count": 66,
     "metadata": {},
     "output_type": "execute_result"
    }
   ],
   "source": [
    "trans[['partner_account','amount']].sort_values(by='amount', ascending = True)"
   ]
  },
  {
   "cell_type": "code",
   "execution_count": 67,
   "metadata": {},
   "outputs": [
    {
     "data": {
      "text/plain": [
       "partner_account\n",
       "-999.0         760931\n",
       " 0.0            21881\n",
       " 66487163.0       140\n",
       " 13943797.0       130\n",
       " 95437645.0        95\n",
       "                ...  \n",
       " 78677373.0         1\n",
       " 54632151.0         1\n",
       " 5624032.0          1\n",
       " 58251345.0         1\n",
       " 74396675.0         1\n",
       "Name: count, Length: 7666, dtype: int64"
      ]
     },
     "execution_count": 67,
     "metadata": {},
     "output_type": "execute_result"
    }
   ],
   "source": [
    "trans['partner_account'].value_counts(ascending = False)"
   ]
  },
  {
   "cell_type": "markdown",
   "metadata": {},
   "source": [
    "The DataFrame `account` doesn't have any columns that could have outliers, so we are not exploring it."
   ]
  },
  {
   "cell_type": "markdown",
   "metadata": {},
   "source": [
    "### 13. Merge (left join) `account` and `district` into a new DataFrame called `account_district` using their common columns"
   ]
  },
  {
   "cell_type": "code",
   "execution_count": 70,
   "metadata": {},
   "outputs": [
    {
     "data": {
      "text/plain": [
       "Index(['account_id', 'district_id', 'frequency', 'account_open_date',\n",
       "       'client_id'],\n",
       "      dtype='object')"
      ]
     },
     "execution_count": 70,
     "metadata": {},
     "output_type": "execute_result"
    }
   ],
   "source": [
    "account.columns"
   ]
  },
  {
   "cell_type": "code",
   "execution_count": 71,
   "metadata": {},
   "outputs": [
    {
     "data": {
      "text/plain": [
       "Index(['district_id', 'district_name', 'region', 'population',\n",
       "       'average_salary', 'unemployment_rate', 'num_committed_crimes'],\n",
       "      dtype='object')"
      ]
     },
     "execution_count": 71,
     "metadata": {},
     "output_type": "execute_result"
    }
   ],
   "source": [
    "district.columns"
   ]
  },
  {
   "cell_type": "code",
   "execution_count": 72,
   "metadata": {},
   "outputs": [
    {
     "data": {
      "text/plain": [
       "Index(['trans_id', 'account_id', 'date', 'type', 'operation_type', 'amount',\n",
       "       'balance', 'description', 'partner_bank', 'partner_account'],\n",
       "      dtype='object')"
      ]
     },
     "execution_count": 72,
     "metadata": {},
     "output_type": "execute_result"
    }
   ],
   "source": [
    "trans.columns"
   ]
  },
  {
   "cell_type": "code",
   "execution_count": 73,
   "metadata": {},
   "outputs": [],
   "source": [
    "account_district = pd.merge(left=district, right=account,on='district_id',how = 'left')"
   ]
  },
  {
   "cell_type": "markdown",
   "metadata": {},
   "source": [
    "### 14. Check the information summary of `account_district`, any missing data?"
   ]
  },
  {
   "cell_type": "code",
   "execution_count": 75,
   "metadata": {},
   "outputs": [
    {
     "name": "stdout",
     "output_type": "stream",
     "text": [
      "<class 'pandas.core.frame.DataFrame'>\n",
      "RangeIndex: 4460 entries, 0 to 4459\n",
      "Data columns (total 11 columns):\n",
      " #   Column                Non-Null Count  Dtype         \n",
      "---  ------                --------------  -----         \n",
      " 0   district_id           4460 non-null   int64         \n",
      " 1   district_name         4460 non-null   object        \n",
      " 2   region                4460 non-null   object        \n",
      " 3   population            4460 non-null   float64       \n",
      " 4   average_salary        4460 non-null   float64       \n",
      " 5   unemployment_rate     4460 non-null   float64       \n",
      " 6   num_committed_crimes  4460 non-null   float64       \n",
      " 7   account_id            4460 non-null   int64         \n",
      " 8   frequency             4460 non-null   object        \n",
      " 9   account_open_date     4460 non-null   datetime64[ns]\n",
      " 10  client_id             4460 non-null   int64         \n",
      "dtypes: datetime64[ns](1), float64(4), int64(3), object(3)\n",
      "memory usage: 383.4+ KB\n"
     ]
    }
   ],
   "source": [
    "account_district.info()"
   ]
  },
  {
   "cell_type": "markdown",
   "metadata": {},
   "source": [
    "#### Look at the rows with missing data in `account_district`"
   ]
  },
  {
   "cell_type": "code",
   "execution_count": 77,
   "metadata": {},
   "outputs": [
    {
     "data": {
      "text/plain": [
       "district_id  district_name  region  population  average_salary  unemployment_rate  num_committed_crimes  account_id  frequency  account_open_date  client_id\n",
       "False        False          False   False       False           False              False                 False       False      False              False        4460\n",
       "Name: count, dtype: int64"
      ]
     },
     "execution_count": 77,
     "metadata": {},
     "output_type": "execute_result"
    }
   ],
   "source": [
    "account_district.isna().value_counts()"
   ]
  },
  {
   "cell_type": "markdown",
   "metadata": {},
   "source": [
    "#### Use `SimpleImputer` from `sklearn` to impute the missing data in columns `population`, `average_salary`, `unemployment_rate`, `num_committed_crimes` with their means"
   ]
  },
  {
   "cell_type": "code",
   "execution_count": 79,
   "metadata": {},
   "outputs": [],
   "source": [
    "impu_list = account_district[['population', 'average_salary', 'unemployment_rate', 'num_committed_crimes']]"
   ]
  },
  {
   "cell_type": "code",
   "execution_count": 80,
   "metadata": {},
   "outputs": [],
   "source": [
    "# Step 1\n",
    "simple_imp_min = SimpleImputer(strategy= 'mean')"
   ]
  },
  {
   "cell_type": "code",
   "execution_count": 81,
   "metadata": {},
   "outputs": [],
   "source": [
    "# Step 2\n",
    "imputer_num = simple_imp_min.fit_transform(impu_list)"
   ]
  },
  {
   "cell_type": "code",
   "execution_count": 82,
   "metadata": {},
   "outputs": [],
   "source": [
    "account_district[['population', 'average_salary', 'unemployment_rate', 'num_committed_crimes']] = imputer_num"
   ]
  },
  {
   "cell_type": "code",
   "execution_count": 83,
   "metadata": {},
   "outputs": [
    {
     "data": {
      "text/plain": [
       "district_id  district_name  region  population  average_salary  unemployment_rate  num_committed_crimes  account_id  frequency  account_open_date  client_id\n",
       "False        False          False   False       False           False              False                 False       False      False              False        4460\n",
       "Name: count, dtype: int64"
      ]
     },
     "execution_count": 83,
     "metadata": {},
     "output_type": "execute_result"
    }
   ],
   "source": [
    "account_district.isna().value_counts()"
   ]
  },
  {
   "cell_type": "markdown",
   "metadata": {},
   "source": [
    "#### Use `fillna` method to impute the missing data in columns `district_name` and `region` with 'UNKNOWN'"
   ]
  },
  {
   "cell_type": "code",
   "execution_count": 85,
   "metadata": {},
   "outputs": [],
   "source": [
    "account_district['district_name'] = account_district['district_name'].fillna('UNKNOWN')\n",
    "account_district['region'] = account_district['region'].fillna('UNKNOWN')"
   ]
  },
  {
   "cell_type": "markdown",
   "metadata": {},
   "source": [
    "### 15. Merge (left join) `trans` and `account_district` into a new DataFrame called `all_data` using their common columns"
   ]
  },
  {
   "cell_type": "code",
   "execution_count": 87,
   "metadata": {},
   "outputs": [
    {
     "data": {
      "text/plain": [
       "Index(['district_id', 'district_name', 'region', 'population',\n",
       "       'average_salary', 'unemployment_rate', 'num_committed_crimes',\n",
       "       'account_id', 'frequency', 'account_open_date', 'client_id'],\n",
       "      dtype='object')"
      ]
     },
     "execution_count": 87,
     "metadata": {},
     "output_type": "execute_result"
    }
   ],
   "source": [
    "account_district.columns"
   ]
  },
  {
   "cell_type": "code",
   "execution_count": 88,
   "metadata": {},
   "outputs": [
    {
     "data": {
      "text/plain": [
       "Index(['trans_id', 'account_id', 'date', 'type', 'operation_type', 'amount',\n",
       "       'balance', 'description', 'partner_bank', 'partner_account'],\n",
       "      dtype='object')"
      ]
     },
     "execution_count": 88,
     "metadata": {},
     "output_type": "execute_result"
    }
   ],
   "source": [
    "trans.columns"
   ]
  },
  {
   "cell_type": "code",
   "execution_count": 89,
   "metadata": {},
   "outputs": [],
   "source": [
    "all_data = pd.merge(left=trans, right=account_district,on='account_id',how = 'left')"
   ]
  },
  {
   "cell_type": "markdown",
   "metadata": {},
   "source": [
    "#### Check the information summary of `all_data`"
   ]
  },
  {
   "cell_type": "code",
   "execution_count": 91,
   "metadata": {},
   "outputs": [
    {
     "name": "stdout",
     "output_type": "stream",
     "text": [
      "<class 'pandas.core.frame.DataFrame'>\n",
      "RangeIndex: 1056320 entries, 0 to 1056319\n",
      "Data columns (total 20 columns):\n",
      " #   Column                Non-Null Count    Dtype         \n",
      "---  ------                --------------    -----         \n",
      " 0   trans_id              1056320 non-null  int64         \n",
      " 1   account_id            1056320 non-null  int64         \n",
      " 2   date                  1056320 non-null  datetime64[ns]\n",
      " 3   type                  1056320 non-null  object        \n",
      " 4   operation_type        1056320 non-null  object        \n",
      " 5   amount                1056320 non-null  float64       \n",
      " 6   balance               1056320 non-null  float64       \n",
      " 7   description           1056320 non-null  object        \n",
      " 8   partner_bank          1056320 non-null  object        \n",
      " 9   partner_account       1056320 non-null  float64       \n",
      " 10  district_id           1046264 non-null  float64       \n",
      " 11  district_name         1046264 non-null  object        \n",
      " 12  region                1046264 non-null  object        \n",
      " 13  population            1046264 non-null  float64       \n",
      " 14  average_salary        1046264 non-null  float64       \n",
      " 15  unemployment_rate     1046264 non-null  float64       \n",
      " 16  num_committed_crimes  1046264 non-null  float64       \n",
      " 17  frequency             1046264 non-null  object        \n",
      " 18  account_open_date     1046264 non-null  datetime64[ns]\n",
      " 19  client_id             1046264 non-null  float64       \n",
      "dtypes: datetime64[ns](2), float64(9), int64(2), object(7)\n",
      "memory usage: 161.2+ MB\n"
     ]
    }
   ],
   "source": [
    "all_data.info()"
   ]
  },
  {
   "cell_type": "markdown",
   "metadata": {},
   "source": [
    "### 16. Create a new column `account_open_year` and assign it as the year from column `account_open_date`"
   ]
  },
  {
   "cell_type": "code",
   "execution_count": 93,
   "metadata": {},
   "outputs": [
    {
     "data": {
      "text/plain": [
       "0          1993.0\n",
       "1          1993.0\n",
       "2          1993.0\n",
       "3          1993.0\n",
       "4             NaN\n",
       "            ...  \n",
       "1056315    1996.0\n",
       "1056316    1995.0\n",
       "1056317    1996.0\n",
       "1056318    1993.0\n",
       "1056319    1993.0\n",
       "Name: account_open_year, Length: 1056320, dtype: float64"
      ]
     },
     "execution_count": 93,
     "metadata": {},
     "output_type": "execute_result"
    }
   ],
   "source": [
    "all_data['account_open_year'] = all_data['account_open_date'].dt.year\n",
    "all_data['account_open_year']"
   ]
  },
  {
   "cell_type": "markdown",
   "metadata": {},
   "source": [
    "### 17. Calculate the difference between columns `date` (transaction date) and `account_open_date`"
   ]
  },
  {
   "cell_type": "code",
   "execution_count": 95,
   "metadata": {},
   "outputs": [
    {
     "data": {
      "text/plain": [
       "0            0 days\n",
       "1            0 days\n",
       "2            0 days\n",
       "3            0 days\n",
       "4               NaT\n",
       "             ...   \n",
       "1056315    832 days\n",
       "1056316   1326 days\n",
       "1056317    825 days\n",
       "1056318   1939 days\n",
       "1056319   2163 days\n",
       "Length: 1056320, dtype: timedelta64[ns]"
      ]
     },
     "execution_count": 95,
     "metadata": {},
     "output_type": "execute_result"
    }
   ],
   "source": [
    "all_data['date'] - all_data['account_open_date']"
   ]
  },
  {
   "cell_type": "markdown",
   "metadata": {},
   "source": [
    "### 18. Create a new column `account_age_days` and assign it as the difference in days between columns `date` (transaction date) and `account_open_date`"
   ]
  },
  {
   "cell_type": "code",
   "execution_count": 97,
   "metadata": {},
   "outputs": [],
   "source": [
    "all_data['account_age_days'] = (all_data['date'] - all_data['account_open_date'])"
   ]
  },
  {
   "cell_type": "code",
   "execution_count": 98,
   "metadata": {},
   "outputs": [
    {
     "data": {
      "text/plain": [
       "0            0 days\n",
       "1            0 days\n",
       "2            0 days\n",
       "3            0 days\n",
       "4               NaT\n",
       "             ...   \n",
       "1056315    832 days\n",
       "1056316   1326 days\n",
       "1056317    825 days\n",
       "1056318   1939 days\n",
       "1056319   2163 days\n",
       "Name: account_age_days, Length: 1056320, dtype: timedelta64[ns]"
      ]
     },
     "execution_count": 98,
     "metadata": {},
     "output_type": "execute_result"
    }
   ],
   "source": [
    "all_data['account_age_days']"
   ]
  },
  {
   "cell_type": "markdown",
   "metadata": {},
   "source": [
    "### 19. Create a new column `amount_category` by cutting the column `amount` into 3 equal-sized bins, and label the bins as 'low_amount', 'medium_amount', 'high_amount'"
   ]
  },
  {
   "cell_type": "code",
   "execution_count": 100,
   "metadata": {},
   "outputs": [],
   "source": [
    "all_data['amount_category'] = pd.qcut(all_data['amount'], q = 3, labels = ['low_amount', ' medium_amount', 'high_amount'])"
   ]
  },
  {
   "cell_type": "markdown",
   "metadata": {},
   "source": [
    "#### Verify the categories and their counts in `amount_category`"
   ]
  },
  {
   "cell_type": "code",
   "execution_count": 102,
   "metadata": {},
   "outputs": [
    {
     "data": {
      "text/plain": [
       "amount_category\n",
       " medium_amount    352394\n",
       "low_amount        352118\n",
       "high_amount       351808\n",
       "Name: count, dtype: int64"
      ]
     },
     "execution_count": 102,
     "metadata": {},
     "output_type": "execute_result"
    }
   ],
   "source": [
    "all_data['amount_category'].value_counts()"
   ]
  },
  {
   "cell_type": "markdown",
   "metadata": {},
   "source": [
    "### 20. Create a new column `account_age_days_category` by cutting the column `account_age_days` into 5 equal-width bins"
   ]
  },
  {
   "cell_type": "code",
   "execution_count": 104,
   "metadata": {},
   "outputs": [],
   "source": [
    "all_data['account_age_days_category'] = pd.qcut(all_data['account_age_days'], q = 5)"
   ]
  },
  {
   "cell_type": "markdown",
   "metadata": {},
   "source": [
    "#### Verify the categories and their counts in `account_age_days_category`"
   ]
  },
  {
   "cell_type": "code",
   "execution_count": 106,
   "metadata": {},
   "outputs": [
    {
     "data": {
      "text/plain": [
       "account_age_days_category\n",
       "(-1 days +23:59:59.999999999, 304 days 00:00:00]    209809\n",
       "(304 days 00:00:00, 544 days 00:00:00]              209316\n",
       "(830 days 00:00:00, 1254 days 00:00:00]             209249\n",
       "(1254 days 00:00:00, 2190 days 00:00:00]            209154\n",
       "(544 days 00:00:00, 830 days 00:00:00]              208736\n",
       "Name: count, dtype: int64"
      ]
     },
     "execution_count": 106,
     "metadata": {},
     "output_type": "execute_result"
    }
   ],
   "source": [
    "all_data['account_age_days_category'].value_counts()"
   ]
  },
  {
   "cell_type": "markdown",
   "metadata": {},
   "source": [
    "#### Print out the first 20 rows of `all_data` to look at the newly added columns"
   ]
  },
  {
   "cell_type": "code",
   "execution_count": 108,
   "metadata": {},
   "outputs": [
    {
     "data": {
      "text/html": [
       "<div>\n",
       "<style scoped>\n",
       "    .dataframe tbody tr th:only-of-type {\n",
       "        vertical-align: middle;\n",
       "    }\n",
       "\n",
       "    .dataframe tbody tr th {\n",
       "        vertical-align: top;\n",
       "    }\n",
       "\n",
       "    .dataframe thead th {\n",
       "        text-align: right;\n",
       "    }\n",
       "</style>\n",
       "<table border=\"1\" class=\"dataframe\">\n",
       "  <thead>\n",
       "    <tr style=\"text-align: right;\">\n",
       "      <th></th>\n",
       "      <th>trans_id</th>\n",
       "      <th>account_id</th>\n",
       "      <th>date</th>\n",
       "      <th>type</th>\n",
       "      <th>operation_type</th>\n",
       "      <th>amount</th>\n",
       "      <th>balance</th>\n",
       "      <th>description</th>\n",
       "      <th>partner_bank</th>\n",
       "      <th>partner_account</th>\n",
       "      <th>...</th>\n",
       "      <th>average_salary</th>\n",
       "      <th>unemployment_rate</th>\n",
       "      <th>num_committed_crimes</th>\n",
       "      <th>frequency</th>\n",
       "      <th>account_open_date</th>\n",
       "      <th>client_id</th>\n",
       "      <th>account_open_year</th>\n",
       "      <th>account_age_days</th>\n",
       "      <th>amount_category</th>\n",
       "      <th>account_age_days_category</th>\n",
       "    </tr>\n",
       "  </thead>\n",
       "  <tbody>\n",
       "    <tr>\n",
       "      <th>0</th>\n",
       "      <td>695247</td>\n",
       "      <td>2378</td>\n",
       "      <td>1993-01-01</td>\n",
       "      <td>CREDIT</td>\n",
       "      <td>CREDIT IN CASH</td>\n",
       "      <td>700.0</td>\n",
       "      <td>700.0</td>\n",
       "      <td>UNKNOWN</td>\n",
       "      <td>UNKNOWN</td>\n",
       "      <td>-999.0</td>\n",
       "      <td>...</td>\n",
       "      <td>8427.000000</td>\n",
       "      <td>1.540000</td>\n",
       "      <td>1913.0</td>\n",
       "      <td>MONTHLY STATEMENTS</td>\n",
       "      <td>1993-01-01</td>\n",
       "      <td>2873.0</td>\n",
       "      <td>1993.0</td>\n",
       "      <td>0 days</td>\n",
       "      <td>medium_amount</td>\n",
       "      <td>(-1 days +23:59:59.999999999, 304 days 00:00:00]</td>\n",
       "    </tr>\n",
       "    <tr>\n",
       "      <th>1</th>\n",
       "      <td>171812</td>\n",
       "      <td>576</td>\n",
       "      <td>1993-01-01</td>\n",
       "      <td>CREDIT</td>\n",
       "      <td>CREDIT IN CASH</td>\n",
       "      <td>900.0</td>\n",
       "      <td>900.0</td>\n",
       "      <td>UNKNOWN</td>\n",
       "      <td>UNKNOWN</td>\n",
       "      <td>-999.0</td>\n",
       "      <td>...</td>\n",
       "      <td>9072.274638</td>\n",
       "      <td>2.430000</td>\n",
       "      <td>3894.0</td>\n",
       "      <td>MONTHLY STATEMENTS</td>\n",
       "      <td>1993-01-01</td>\n",
       "      <td>692.0</td>\n",
       "      <td>1993.0</td>\n",
       "      <td>0 days</td>\n",
       "      <td>medium_amount</td>\n",
       "      <td>(-1 days +23:59:59.999999999, 304 days 00:00:00]</td>\n",
       "    </tr>\n",
       "    <tr>\n",
       "      <th>2</th>\n",
       "      <td>207264</td>\n",
       "      <td>704</td>\n",
       "      <td>1993-01-01</td>\n",
       "      <td>CREDIT</td>\n",
       "      <td>CREDIT IN CASH</td>\n",
       "      <td>1000.0</td>\n",
       "      <td>1000.0</td>\n",
       "      <td>UNKNOWN</td>\n",
       "      <td>UNKNOWN</td>\n",
       "      <td>-999.0</td>\n",
       "      <td>...</td>\n",
       "      <td>9072.274638</td>\n",
       "      <td>2.430000</td>\n",
       "      <td>3894.0</td>\n",
       "      <td>MONTHLY STATEMENTS</td>\n",
       "      <td>1993-01-01</td>\n",
       "      <td>844.0</td>\n",
       "      <td>1993.0</td>\n",
       "      <td>0 days</td>\n",
       "      <td>medium_amount</td>\n",
       "      <td>(-1 days +23:59:59.999999999, 304 days 00:00:00]</td>\n",
       "    </tr>\n",
       "    <tr>\n",
       "      <th>3</th>\n",
       "      <td>1117247</td>\n",
       "      <td>3818</td>\n",
       "      <td>1993-01-01</td>\n",
       "      <td>CREDIT</td>\n",
       "      <td>CREDIT IN CASH</td>\n",
       "      <td>600.0</td>\n",
       "      <td>600.0</td>\n",
       "      <td>UNKNOWN</td>\n",
       "      <td>UNKNOWN</td>\n",
       "      <td>-999.0</td>\n",
       "      <td>...</td>\n",
       "      <td>10673.000000</td>\n",
       "      <td>5.440000</td>\n",
       "      <td>18347.0</td>\n",
       "      <td>MONTHLY STATEMENTS</td>\n",
       "      <td>1993-01-01</td>\n",
       "      <td>4601.0</td>\n",
       "      <td>1993.0</td>\n",
       "      <td>0 days</td>\n",
       "      <td>medium_amount</td>\n",
       "      <td>(-1 days +23:59:59.999999999, 304 days 00:00:00]</td>\n",
       "    </tr>\n",
       "    <tr>\n",
       "      <th>4</th>\n",
       "      <td>579373</td>\n",
       "      <td>1972</td>\n",
       "      <td>1993-01-02</td>\n",
       "      <td>CREDIT</td>\n",
       "      <td>CREDIT IN CASH</td>\n",
       "      <td>400.0</td>\n",
       "      <td>400.0</td>\n",
       "      <td>UNKNOWN</td>\n",
       "      <td>UNKNOWN</td>\n",
       "      <td>-999.0</td>\n",
       "      <td>...</td>\n",
       "      <td>NaN</td>\n",
       "      <td>NaN</td>\n",
       "      <td>NaN</td>\n",
       "      <td>NaN</td>\n",
       "      <td>NaT</td>\n",
       "      <td>NaN</td>\n",
       "      <td>NaN</td>\n",
       "      <td>NaT</td>\n",
       "      <td>medium_amount</td>\n",
       "      <td>NaN</td>\n",
       "    </tr>\n",
       "    <tr>\n",
       "      <th>5</th>\n",
       "      <td>771035</td>\n",
       "      <td>2632</td>\n",
       "      <td>1993-01-02</td>\n",
       "      <td>CREDIT</td>\n",
       "      <td>CREDIT IN CASH</td>\n",
       "      <td>1100.0</td>\n",
       "      <td>1100.0</td>\n",
       "      <td>UNKNOWN</td>\n",
       "      <td>UNKNOWN</td>\n",
       "      <td>-999.0</td>\n",
       "      <td>...</td>\n",
       "      <td>8991.000000</td>\n",
       "      <td>2.010000</td>\n",
       "      <td>5273.0</td>\n",
       "      <td>MONTHLY STATEMENTS</td>\n",
       "      <td>1993-01-02</td>\n",
       "      <td>3177.0</td>\n",
       "      <td>1993.0</td>\n",
       "      <td>0 days</td>\n",
       "      <td>medium_amount</td>\n",
       "      <td>(-1 days +23:59:59.999999999, 304 days 00:00:00]</td>\n",
       "    </tr>\n",
       "    <tr>\n",
       "      <th>6</th>\n",
       "      <td>452728</td>\n",
       "      <td>1539</td>\n",
       "      <td>1993-01-03</td>\n",
       "      <td>CREDIT</td>\n",
       "      <td>CREDIT IN CASH</td>\n",
       "      <td>600.0</td>\n",
       "      <td>600.0</td>\n",
       "      <td>UNKNOWN</td>\n",
       "      <td>UNKNOWN</td>\n",
       "      <td>-999.0</td>\n",
       "      <td>...</td>\n",
       "      <td>12541.000000</td>\n",
       "      <td>0.430000</td>\n",
       "      <td>99107.0</td>\n",
       "      <td>STATEMENTS AFTER TRANSACTION</td>\n",
       "      <td>1993-01-03</td>\n",
       "      <td>1866.0</td>\n",
       "      <td>1993.0</td>\n",
       "      <td>0 days</td>\n",
       "      <td>medium_amount</td>\n",
       "      <td>(-1 days +23:59:59.999999999, 304 days 00:00:00]</td>\n",
       "    </tr>\n",
       "    <tr>\n",
       "      <th>7</th>\n",
       "      <td>725751</td>\n",
       "      <td>2484</td>\n",
       "      <td>1993-01-03</td>\n",
       "      <td>CREDIT</td>\n",
       "      <td>CREDIT IN CASH</td>\n",
       "      <td>1100.0</td>\n",
       "      <td>1100.0</td>\n",
       "      <td>UNKNOWN</td>\n",
       "      <td>UNKNOWN</td>\n",
       "      <td>-999.0</td>\n",
       "      <td>...</td>\n",
       "      <td>10673.000000</td>\n",
       "      <td>5.440000</td>\n",
       "      <td>18347.0</td>\n",
       "      <td>MONTHLY STATEMENTS</td>\n",
       "      <td>1993-01-03</td>\n",
       "      <td>2999.0</td>\n",
       "      <td>1993.0</td>\n",
       "      <td>0 days</td>\n",
       "      <td>medium_amount</td>\n",
       "      <td>(-1 days +23:59:59.999999999, 304 days 00:00:00]</td>\n",
       "    </tr>\n",
       "    <tr>\n",
       "      <th>8</th>\n",
       "      <td>497211</td>\n",
       "      <td>1695</td>\n",
       "      <td>1993-01-03</td>\n",
       "      <td>CREDIT</td>\n",
       "      <td>CREDIT IN CASH</td>\n",
       "      <td>200.0</td>\n",
       "      <td>200.0</td>\n",
       "      <td>UNKNOWN</td>\n",
       "      <td>UNKNOWN</td>\n",
       "      <td>-999.0</td>\n",
       "      <td>...</td>\n",
       "      <td>8369.000000</td>\n",
       "      <td>3.818541</td>\n",
       "      <td>2807.0</td>\n",
       "      <td>MONTHLY STATEMENTS</td>\n",
       "      <td>1993-01-03</td>\n",
       "      <td>2058.0</td>\n",
       "      <td>1993.0</td>\n",
       "      <td>0 days</td>\n",
       "      <td>low_amount</td>\n",
       "      <td>(-1 days +23:59:59.999999999, 304 days 00:00:00]</td>\n",
       "    </tr>\n",
       "    <tr>\n",
       "      <th>9</th>\n",
       "      <td>232960</td>\n",
       "      <td>793</td>\n",
       "      <td>1993-01-03</td>\n",
       "      <td>CREDIT</td>\n",
       "      <td>CREDIT IN CASH</td>\n",
       "      <td>800.0</td>\n",
       "      <td>800.0</td>\n",
       "      <td>UNKNOWN</td>\n",
       "      <td>UNKNOWN</td>\n",
       "      <td>-999.0</td>\n",
       "      <td>...</td>\n",
       "      <td>9538.000000</td>\n",
       "      <td>4.315642</td>\n",
       "      <td>5410.0</td>\n",
       "      <td>MONTHLY STATEMENTS</td>\n",
       "      <td>1993-01-03</td>\n",
       "      <td>950.0</td>\n",
       "      <td>1993.0</td>\n",
       "      <td>0 days</td>\n",
       "      <td>medium_amount</td>\n",
       "      <td>(-1 days +23:59:59.999999999, 304 days 00:00:00]</td>\n",
       "    </tr>\n",
       "    <tr>\n",
       "      <th>10</th>\n",
       "      <td>505240</td>\n",
       "      <td>1726</td>\n",
       "      <td>1993-01-03</td>\n",
       "      <td>CREDIT</td>\n",
       "      <td>CREDIT IN CASH</td>\n",
       "      <td>1000.0</td>\n",
       "      <td>1000.0</td>\n",
       "      <td>UNKNOWN</td>\n",
       "      <td>UNKNOWN</td>\n",
       "      <td>-999.0</td>\n",
       "      <td>...</td>\n",
       "      <td>9060.000000</td>\n",
       "      <td>2.440000</td>\n",
       "      <td>1717.0</td>\n",
       "      <td>MONTHLY STATEMENTS</td>\n",
       "      <td>1993-01-03</td>\n",
       "      <td>2093.0</td>\n",
       "      <td>1993.0</td>\n",
       "      <td>0 days</td>\n",
       "      <td>medium_amount</td>\n",
       "      <td>(-1 days +23:59:59.999999999, 304 days 00:00:00]</td>\n",
       "    </tr>\n",
       "    <tr>\n",
       "      <th>11</th>\n",
       "      <td>144541</td>\n",
       "      <td>485</td>\n",
       "      <td>1993-01-04</td>\n",
       "      <td>CREDIT</td>\n",
       "      <td>CREDIT IN CASH</td>\n",
       "      <td>300.0</td>\n",
       "      <td>300.0</td>\n",
       "      <td>UNKNOWN</td>\n",
       "      <td>UNKNOWN</td>\n",
       "      <td>-999.0</td>\n",
       "      <td>...</td>\n",
       "      <td>8546.000000</td>\n",
       "      <td>4.020000</td>\n",
       "      <td>3120.0</td>\n",
       "      <td>STATEMENTS AFTER TRANSACTION</td>\n",
       "      <td>1993-01-04</td>\n",
       "      <td>583.0</td>\n",
       "      <td>1993.0</td>\n",
       "      <td>0 days</td>\n",
       "      <td>medium_amount</td>\n",
       "      <td>(-1 days +23:59:59.999999999, 304 days 00:00:00]</td>\n",
       "    </tr>\n",
       "    <tr>\n",
       "      <th>12</th>\n",
       "      <td>637741</td>\n",
       "      <td>2177</td>\n",
       "      <td>1993-01-04</td>\n",
       "      <td>CREDIT</td>\n",
       "      <td>CREDIT IN CASH</td>\n",
       "      <td>800.0</td>\n",
       "      <td>800.0</td>\n",
       "      <td>UNKNOWN</td>\n",
       "      <td>UNKNOWN</td>\n",
       "      <td>-999.0</td>\n",
       "      <td>...</td>\n",
       "      <td>8544.000000</td>\n",
       "      <td>1.860000</td>\n",
       "      <td>2906.0</td>\n",
       "      <td>MONTHLY STATEMENTS</td>\n",
       "      <td>1993-01-04</td>\n",
       "      <td>2636.0</td>\n",
       "      <td>1993.0</td>\n",
       "      <td>0 days</td>\n",
       "      <td>medium_amount</td>\n",
       "      <td>(-1 days +23:59:59.999999999, 304 days 00:00:00]</td>\n",
       "    </tr>\n",
       "    <tr>\n",
       "      <th>13</th>\n",
       "      <td>689827</td>\n",
       "      <td>2357</td>\n",
       "      <td>1993-01-04</td>\n",
       "      <td>CREDIT</td>\n",
       "      <td>CREDIT IN CASH</td>\n",
       "      <td>800.0</td>\n",
       "      <td>800.0</td>\n",
       "      <td>UNKNOWN</td>\n",
       "      <td>UNKNOWN</td>\n",
       "      <td>-999.0</td>\n",
       "      <td>...</td>\n",
       "      <td>8402.000000</td>\n",
       "      <td>3.980000</td>\n",
       "      <td>1099.0</td>\n",
       "      <td>MONTHLY STATEMENTS</td>\n",
       "      <td>1993-01-04</td>\n",
       "      <td>2849.0</td>\n",
       "      <td>1993.0</td>\n",
       "      <td>0 days</td>\n",
       "      <td>medium_amount</td>\n",
       "      <td>(-1 days +23:59:59.999999999, 304 days 00:00:00]</td>\n",
       "    </tr>\n",
       "    <tr>\n",
       "      <th>14</th>\n",
       "      <td>846006</td>\n",
       "      <td>2881</td>\n",
       "      <td>1993-01-04</td>\n",
       "      <td>CREDIT</td>\n",
       "      <td>CREDIT IN CASH</td>\n",
       "      <td>700.0</td>\n",
       "      <td>700.0</td>\n",
       "      <td>UNKNOWN</td>\n",
       "      <td>UNKNOWN</td>\n",
       "      <td>-999.0</td>\n",
       "      <td>...</td>\n",
       "      <td>10177.000000</td>\n",
       "      <td>7.750000</td>\n",
       "      <td>10108.0</td>\n",
       "      <td>MONTHLY STATEMENTS</td>\n",
       "      <td>1993-01-04</td>\n",
       "      <td>3483.0</td>\n",
       "      <td>1993.0</td>\n",
       "      <td>0 days</td>\n",
       "      <td>medium_amount</td>\n",
       "      <td>(-1 days +23:59:59.999999999, 304 days 00:00:00]</td>\n",
       "    </tr>\n",
       "    <tr>\n",
       "      <th>15</th>\n",
       "      <td>637742</td>\n",
       "      <td>2177</td>\n",
       "      <td>1993-01-05</td>\n",
       "      <td>CREDIT</td>\n",
       "      <td>COLLECTION FROM ANOTHER BANK</td>\n",
       "      <td>5123.0</td>\n",
       "      <td>5923.0</td>\n",
       "      <td>PENSION</td>\n",
       "      <td>YZ</td>\n",
       "      <td>62457513.0</td>\n",
       "      <td>...</td>\n",
       "      <td>8544.000000</td>\n",
       "      <td>1.860000</td>\n",
       "      <td>2906.0</td>\n",
       "      <td>MONTHLY STATEMENTS</td>\n",
       "      <td>1993-01-04</td>\n",
       "      <td>2636.0</td>\n",
       "      <td>1993.0</td>\n",
       "      <td>1 days</td>\n",
       "      <td>high_amount</td>\n",
       "      <td>(-1 days +23:59:59.999999999, 304 days 00:00:00]</td>\n",
       "    </tr>\n",
       "    <tr>\n",
       "      <th>16</th>\n",
       "      <td>2908688</td>\n",
       "      <td>9635</td>\n",
       "      <td>1993-01-05</td>\n",
       "      <td>CREDIT</td>\n",
       "      <td>CREDIT IN CASH</td>\n",
       "      <td>400.0</td>\n",
       "      <td>400.0</td>\n",
       "      <td>UNKNOWN</td>\n",
       "      <td>UNKNOWN</td>\n",
       "      <td>-999.0</td>\n",
       "      <td>...</td>\n",
       "      <td>10177.000000</td>\n",
       "      <td>7.750000</td>\n",
       "      <td>10108.0</td>\n",
       "      <td>MONTHLY STATEMENTS</td>\n",
       "      <td>1993-01-05</td>\n",
       "      <td>11860.0</td>\n",
       "      <td>1993.0</td>\n",
       "      <td>0 days</td>\n",
       "      <td>medium_amount</td>\n",
       "      <td>(-1 days +23:59:59.999999999, 304 days 00:00:00]</td>\n",
       "    </tr>\n",
       "    <tr>\n",
       "      <th>17</th>\n",
       "      <td>232961</td>\n",
       "      <td>793</td>\n",
       "      <td>1993-01-05</td>\n",
       "      <td>CREDIT</td>\n",
       "      <td>COLLECTION FROM ANOTHER BANK</td>\n",
       "      <td>3401.0</td>\n",
       "      <td>4201.0</td>\n",
       "      <td>UNKNOWN</td>\n",
       "      <td>IJ</td>\n",
       "      <td>6149286.0</td>\n",
       "      <td>...</td>\n",
       "      <td>9538.000000</td>\n",
       "      <td>4.315642</td>\n",
       "      <td>5410.0</td>\n",
       "      <td>MONTHLY STATEMENTS</td>\n",
       "      <td>1993-01-03</td>\n",
       "      <td>950.0</td>\n",
       "      <td>1993.0</td>\n",
       "      <td>2 days</td>\n",
       "      <td>medium_amount</td>\n",
       "      <td>(-1 days +23:59:59.999999999, 304 days 00:00:00]</td>\n",
       "    </tr>\n",
       "    <tr>\n",
       "      <th>18</th>\n",
       "      <td>192096</td>\n",
       "      <td>652</td>\n",
       "      <td>1993-01-05</td>\n",
       "      <td>CREDIT</td>\n",
       "      <td>CREDIT IN CASH</td>\n",
       "      <td>700.0</td>\n",
       "      <td>700.0</td>\n",
       "      <td>UNKNOWN</td>\n",
       "      <td>UNKNOWN</td>\n",
       "      <td>-999.0</td>\n",
       "      <td>...</td>\n",
       "      <td>9104.000000</td>\n",
       "      <td>2.070000</td>\n",
       "      <td>2354.0</td>\n",
       "      <td>MONTHLY STATEMENTS</td>\n",
       "      <td>1993-01-05</td>\n",
       "      <td>782.0</td>\n",
       "      <td>1993.0</td>\n",
       "      <td>0 days</td>\n",
       "      <td>medium_amount</td>\n",
       "      <td>(-1 days +23:59:59.999999999, 304 days 00:00:00]</td>\n",
       "    </tr>\n",
       "    <tr>\n",
       "      <th>19</th>\n",
       "      <td>542215</td>\n",
       "      <td>1844</td>\n",
       "      <td>1993-01-06</td>\n",
       "      <td>CREDIT</td>\n",
       "      <td>CREDIT IN CASH</td>\n",
       "      <td>500.0</td>\n",
       "      <td>500.0</td>\n",
       "      <td>UNKNOWN</td>\n",
       "      <td>UNKNOWN</td>\n",
       "      <td>-999.0</td>\n",
       "      <td>...</td>\n",
       "      <td>8254.000000</td>\n",
       "      <td>3.760000</td>\n",
       "      <td>2325.0</td>\n",
       "      <td>MONTHLY STATEMENTS</td>\n",
       "      <td>1993-01-06</td>\n",
       "      <td>2236.0</td>\n",
       "      <td>1993.0</td>\n",
       "      <td>0 days</td>\n",
       "      <td>medium_amount</td>\n",
       "      <td>(-1 days +23:59:59.999999999, 304 days 00:00:00]</td>\n",
       "    </tr>\n",
       "  </tbody>\n",
       "</table>\n",
       "<p>20 rows × 24 columns</p>\n",
       "</div>"
      ],
      "text/plain": [
       "    trans_id  account_id       date    type                operation_type  \\\n",
       "0     695247        2378 1993-01-01  CREDIT                CREDIT IN CASH   \n",
       "1     171812         576 1993-01-01  CREDIT                CREDIT IN CASH   \n",
       "2     207264         704 1993-01-01  CREDIT                CREDIT IN CASH   \n",
       "3    1117247        3818 1993-01-01  CREDIT                CREDIT IN CASH   \n",
       "4     579373        1972 1993-01-02  CREDIT                CREDIT IN CASH   \n",
       "5     771035        2632 1993-01-02  CREDIT                CREDIT IN CASH   \n",
       "6     452728        1539 1993-01-03  CREDIT                CREDIT IN CASH   \n",
       "7     725751        2484 1993-01-03  CREDIT                CREDIT IN CASH   \n",
       "8     497211        1695 1993-01-03  CREDIT                CREDIT IN CASH   \n",
       "9     232960         793 1993-01-03  CREDIT                CREDIT IN CASH   \n",
       "10    505240        1726 1993-01-03  CREDIT                CREDIT IN CASH   \n",
       "11    144541         485 1993-01-04  CREDIT                CREDIT IN CASH   \n",
       "12    637741        2177 1993-01-04  CREDIT                CREDIT IN CASH   \n",
       "13    689827        2357 1993-01-04  CREDIT                CREDIT IN CASH   \n",
       "14    846006        2881 1993-01-04  CREDIT                CREDIT IN CASH   \n",
       "15    637742        2177 1993-01-05  CREDIT  COLLECTION FROM ANOTHER BANK   \n",
       "16   2908688        9635 1993-01-05  CREDIT                CREDIT IN CASH   \n",
       "17    232961         793 1993-01-05  CREDIT  COLLECTION FROM ANOTHER BANK   \n",
       "18    192096         652 1993-01-05  CREDIT                CREDIT IN CASH   \n",
       "19    542215        1844 1993-01-06  CREDIT                CREDIT IN CASH   \n",
       "\n",
       "    amount  balance description partner_bank  partner_account  ...  \\\n",
       "0    700.0    700.0     UNKNOWN      UNKNOWN           -999.0  ...   \n",
       "1    900.0    900.0     UNKNOWN      UNKNOWN           -999.0  ...   \n",
       "2   1000.0   1000.0     UNKNOWN      UNKNOWN           -999.0  ...   \n",
       "3    600.0    600.0     UNKNOWN      UNKNOWN           -999.0  ...   \n",
       "4    400.0    400.0     UNKNOWN      UNKNOWN           -999.0  ...   \n",
       "5   1100.0   1100.0     UNKNOWN      UNKNOWN           -999.0  ...   \n",
       "6    600.0    600.0     UNKNOWN      UNKNOWN           -999.0  ...   \n",
       "7   1100.0   1100.0     UNKNOWN      UNKNOWN           -999.0  ...   \n",
       "8    200.0    200.0     UNKNOWN      UNKNOWN           -999.0  ...   \n",
       "9    800.0    800.0     UNKNOWN      UNKNOWN           -999.0  ...   \n",
       "10  1000.0   1000.0     UNKNOWN      UNKNOWN           -999.0  ...   \n",
       "11   300.0    300.0     UNKNOWN      UNKNOWN           -999.0  ...   \n",
       "12   800.0    800.0     UNKNOWN      UNKNOWN           -999.0  ...   \n",
       "13   800.0    800.0     UNKNOWN      UNKNOWN           -999.0  ...   \n",
       "14   700.0    700.0     UNKNOWN      UNKNOWN           -999.0  ...   \n",
       "15  5123.0   5923.0     PENSION           YZ       62457513.0  ...   \n",
       "16   400.0    400.0     UNKNOWN      UNKNOWN           -999.0  ...   \n",
       "17  3401.0   4201.0     UNKNOWN           IJ        6149286.0  ...   \n",
       "18   700.0    700.0     UNKNOWN      UNKNOWN           -999.0  ...   \n",
       "19   500.0    500.0     UNKNOWN      UNKNOWN           -999.0  ...   \n",
       "\n",
       "    average_salary unemployment_rate num_committed_crimes  \\\n",
       "0      8427.000000          1.540000               1913.0   \n",
       "1      9072.274638          2.430000               3894.0   \n",
       "2      9072.274638          2.430000               3894.0   \n",
       "3     10673.000000          5.440000              18347.0   \n",
       "4              NaN               NaN                  NaN   \n",
       "5      8991.000000          2.010000               5273.0   \n",
       "6     12541.000000          0.430000              99107.0   \n",
       "7     10673.000000          5.440000              18347.0   \n",
       "8      8369.000000          3.818541               2807.0   \n",
       "9      9538.000000          4.315642               5410.0   \n",
       "10     9060.000000          2.440000               1717.0   \n",
       "11     8546.000000          4.020000               3120.0   \n",
       "12     8544.000000          1.860000               2906.0   \n",
       "13     8402.000000          3.980000               1099.0   \n",
       "14    10177.000000          7.750000              10108.0   \n",
       "15     8544.000000          1.860000               2906.0   \n",
       "16    10177.000000          7.750000              10108.0   \n",
       "17     9538.000000          4.315642               5410.0   \n",
       "18     9104.000000          2.070000               2354.0   \n",
       "19     8254.000000          3.760000               2325.0   \n",
       "\n",
       "                       frequency  account_open_date  client_id  \\\n",
       "0             MONTHLY STATEMENTS         1993-01-01     2873.0   \n",
       "1             MONTHLY STATEMENTS         1993-01-01      692.0   \n",
       "2             MONTHLY STATEMENTS         1993-01-01      844.0   \n",
       "3             MONTHLY STATEMENTS         1993-01-01     4601.0   \n",
       "4                            NaN                NaT        NaN   \n",
       "5             MONTHLY STATEMENTS         1993-01-02     3177.0   \n",
       "6   STATEMENTS AFTER TRANSACTION         1993-01-03     1866.0   \n",
       "7             MONTHLY STATEMENTS         1993-01-03     2999.0   \n",
       "8             MONTHLY STATEMENTS         1993-01-03     2058.0   \n",
       "9             MONTHLY STATEMENTS         1993-01-03      950.0   \n",
       "10            MONTHLY STATEMENTS         1993-01-03     2093.0   \n",
       "11  STATEMENTS AFTER TRANSACTION         1993-01-04      583.0   \n",
       "12            MONTHLY STATEMENTS         1993-01-04     2636.0   \n",
       "13            MONTHLY STATEMENTS         1993-01-04     2849.0   \n",
       "14            MONTHLY STATEMENTS         1993-01-04     3483.0   \n",
       "15            MONTHLY STATEMENTS         1993-01-04     2636.0   \n",
       "16            MONTHLY STATEMENTS         1993-01-05    11860.0   \n",
       "17            MONTHLY STATEMENTS         1993-01-03      950.0   \n",
       "18            MONTHLY STATEMENTS         1993-01-05      782.0   \n",
       "19            MONTHLY STATEMENTS         1993-01-06     2236.0   \n",
       "\n",
       "    account_open_year account_age_days amount_category  \\\n",
       "0              1993.0           0 days   medium_amount   \n",
       "1              1993.0           0 days   medium_amount   \n",
       "2              1993.0           0 days   medium_amount   \n",
       "3              1993.0           0 days   medium_amount   \n",
       "4                 NaN              NaT   medium_amount   \n",
       "5              1993.0           0 days   medium_amount   \n",
       "6              1993.0           0 days   medium_amount   \n",
       "7              1993.0           0 days   medium_amount   \n",
       "8              1993.0           0 days      low_amount   \n",
       "9              1993.0           0 days   medium_amount   \n",
       "10             1993.0           0 days   medium_amount   \n",
       "11             1993.0           0 days   medium_amount   \n",
       "12             1993.0           0 days   medium_amount   \n",
       "13             1993.0           0 days   medium_amount   \n",
       "14             1993.0           0 days   medium_amount   \n",
       "15             1993.0           1 days     high_amount   \n",
       "16             1993.0           0 days   medium_amount   \n",
       "17             1993.0           2 days   medium_amount   \n",
       "18             1993.0           0 days   medium_amount   \n",
       "19             1993.0           0 days   medium_amount   \n",
       "\n",
       "                           account_age_days_category  \n",
       "0   (-1 days +23:59:59.999999999, 304 days 00:00:00]  \n",
       "1   (-1 days +23:59:59.999999999, 304 days 00:00:00]  \n",
       "2   (-1 days +23:59:59.999999999, 304 days 00:00:00]  \n",
       "3   (-1 days +23:59:59.999999999, 304 days 00:00:00]  \n",
       "4                                                NaN  \n",
       "5   (-1 days +23:59:59.999999999, 304 days 00:00:00]  \n",
       "6   (-1 days +23:59:59.999999999, 304 days 00:00:00]  \n",
       "7   (-1 days +23:59:59.999999999, 304 days 00:00:00]  \n",
       "8   (-1 days +23:59:59.999999999, 304 days 00:00:00]  \n",
       "9   (-1 days +23:59:59.999999999, 304 days 00:00:00]  \n",
       "10  (-1 days +23:59:59.999999999, 304 days 00:00:00]  \n",
       "11  (-1 days +23:59:59.999999999, 304 days 00:00:00]  \n",
       "12  (-1 days +23:59:59.999999999, 304 days 00:00:00]  \n",
       "13  (-1 days +23:59:59.999999999, 304 days 00:00:00]  \n",
       "14  (-1 days +23:59:59.999999999, 304 days 00:00:00]  \n",
       "15  (-1 days +23:59:59.999999999, 304 days 00:00:00]  \n",
       "16  (-1 days +23:59:59.999999999, 304 days 00:00:00]  \n",
       "17  (-1 days +23:59:59.999999999, 304 days 00:00:00]  \n",
       "18  (-1 days +23:59:59.999999999, 304 days 00:00:00]  \n",
       "19  (-1 days +23:59:59.999999999, 304 days 00:00:00]  \n",
       "\n",
       "[20 rows x 24 columns]"
      ]
     },
     "execution_count": 108,
     "metadata": {},
     "output_type": "execute_result"
    }
   ],
   "source": [
    "all_data.head(20)"
   ]
  }
 ],
 "metadata": {
  "kernelspec": {
   "display_name": "Python 3 (ipykernel)",
   "language": "python",
   "name": "python3"
  },
  "language_info": {
   "codemirror_mode": {
    "name": "ipython",
    "version": 3
   },
   "file_extension": ".py",
   "mimetype": "text/x-python",
   "name": "python",
   "nbconvert_exporter": "python",
   "pygments_lexer": "ipython3",
   "version": "3.11.7"
  }
 },
 "nbformat": 4,
 "nbformat_minor": 4
}
