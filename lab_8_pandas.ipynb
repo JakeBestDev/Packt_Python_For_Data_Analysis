{
 "cells": [
  {
   "cell_type": "code",
   "execution_count": 1,
   "id": "73d64db9-8742-442b-b669-a79a6bde1f61",
   "metadata": {},
   "outputs": [],
   "source": [
    "import pandas as pd"
   ]
  },
  {
   "cell_type": "markdown",
   "id": "6676605b-a157-4572-aba6-225347469fbb",
   "metadata": {},
   "source": [
    "## Series"
   ]
  },
  {
   "cell_type": "code",
   "execution_count": 3,
   "id": "e460f94e-4316-4a3c-afe1-5ff2a556ce2c",
   "metadata": {},
   "outputs": [],
   "source": [
    "s = pd.Series([1,2,3,4,5,6,7])"
   ]
  },
  {
   "cell_type": "code",
   "execution_count": 4,
   "id": "78cd934b-ed83-4aca-bba6-1e21256a99ce",
   "metadata": {},
   "outputs": [
    {
     "data": {
      "text/plain": [
       "0    1\n",
       "1    2\n",
       "2    3\n",
       "3    4\n",
       "4    5\n",
       "5    6\n",
       "6    7\n",
       "dtype: int64"
      ]
     },
     "execution_count": 4,
     "metadata": {},
     "output_type": "execute_result"
    }
   ],
   "source": [
    "s"
   ]
  },
  {
   "cell_type": "code",
   "execution_count": 6,
   "id": "4d5e4f36-5a24-485e-a54b-429420d54497",
   "metadata": {},
   "outputs": [],
   "source": [
    "index_day = ['Monday','Tuesday','Wednesday','Thursday','Friday','Saturday','Sunday']\n",
    "data = [1,2,3,4,5,6,7]"
   ]
  },
  {
   "cell_type": "code",
   "execution_count": 8,
   "id": "8b35763a-d06a-48c3-90e4-848c38084129",
   "metadata": {},
   "outputs": [],
   "source": [
    "s2 = pd.Series(data, index=index_day)"
   ]
  },
  {
   "cell_type": "code",
   "execution_count": 9,
   "id": "dd0a3764-41bb-455a-8236-cd1454b19259",
   "metadata": {},
   "outputs": [
    {
     "data": {
      "text/plain": [
       "Monday       1\n",
       "Tuesday      2\n",
       "Wednesday    3\n",
       "Thursday     4\n",
       "Friday       5\n",
       "Saturday     6\n",
       "Sunday       7\n",
       "dtype: int64"
      ]
     },
     "execution_count": 9,
     "metadata": {},
     "output_type": "execute_result"
    }
   ],
   "source": [
    "s2"
   ]
  },
  {
   "cell_type": "code",
   "execution_count": 10,
   "id": "6affb304-e2aa-4a7f-a1fb-9ca9e243edfe",
   "metadata": {},
   "outputs": [
    {
     "name": "stderr",
     "output_type": "stream",
     "text": [
      "C:\\Users\\jakeb\\AppData\\Local\\Temp\\ipykernel_14288\\2344841457.py:1: FutureWarning: Series.__getitem__ treating keys as positions is deprecated. In a future version, integer keys will always be treated as labels (consistent with DataFrame behavior). To access a value by position, use `ser.iloc[pos]`\n",
      "  s2[0]\n"
     ]
    },
    {
     "data": {
      "text/plain": [
       "1"
      ]
     },
     "execution_count": 10,
     "metadata": {},
     "output_type": "execute_result"
    }
   ],
   "source": [
    "s2[0]"
   ]
  },
  {
   "cell_type": "code",
   "execution_count": 11,
   "id": "084482e5-373a-454f-842e-593740e14242",
   "metadata": {},
   "outputs": [
    {
     "name": "stderr",
     "output_type": "stream",
     "text": [
      "C:\\Users\\jakeb\\AppData\\Local\\Temp\\ipykernel_14288\\2220985530.py:1: FutureWarning: Series.__getitem__ treating keys as positions is deprecated. In a future version, integer keys will always be treated as labels (consistent with DataFrame behavior). To access a value by position, use `ser.iloc[pos]`\n",
      "  s2[6]\n"
     ]
    },
    {
     "data": {
      "text/plain": [
       "7"
      ]
     },
     "execution_count": 11,
     "metadata": {},
     "output_type": "execute_result"
    }
   ],
   "source": [
    "s2[6]"
   ]
  },
  {
   "cell_type": "code",
   "execution_count": 13,
   "id": "6f3f9be5-b70d-46fc-acba-d6110e06a095",
   "metadata": {},
   "outputs": [
    {
     "data": {
      "text/plain": [
       "7"
      ]
     },
     "execution_count": 13,
     "metadata": {},
     "output_type": "execute_result"
    }
   ],
   "source": [
    "s2['Sunday']"
   ]
  },
  {
   "cell_type": "code",
   "execution_count": 14,
   "id": "fdfb4ea5-8086-4e4f-b1b6-5a5a33ffe0ce",
   "metadata": {},
   "outputs": [],
   "source": [
    "s2['Sunday'] = 8"
   ]
  },
  {
   "cell_type": "code",
   "execution_count": 15,
   "id": "9c4ec3e7-34bf-46cb-bdfa-9acd05fa757e",
   "metadata": {},
   "outputs": [
    {
     "data": {
      "text/plain": [
       "Monday       1\n",
       "Tuesday      2\n",
       "Wednesday    3\n",
       "Thursday     4\n",
       "Friday       5\n",
       "Saturday     6\n",
       "Sunday       8\n",
       "dtype: int64"
      ]
     },
     "execution_count": 15,
     "metadata": {},
     "output_type": "execute_result"
    }
   ],
   "source": [
    "s2"
   ]
  },
  {
   "cell_type": "code",
   "execution_count": 17,
   "id": "a20b6684-f53c-4d52-9a2a-1de214913d1b",
   "metadata": {},
   "outputs": [
    {
     "data": {
      "text/plain": [
       "4.142857142857143"
      ]
     },
     "execution_count": 17,
     "metadata": {},
     "output_type": "execute_result"
    }
   ],
   "source": [
    "s2.mean()"
   ]
  },
  {
   "cell_type": "code",
   "execution_count": 18,
   "id": "a3f6e7da-9532-47fb-bf55-397152426fa8",
   "metadata": {},
   "outputs": [
    {
     "data": {
      "text/plain": [
       "Monday        3\n",
       "Tuesday       6\n",
       "Wednesday     9\n",
       "Thursday     12\n",
       "Friday       15\n",
       "Saturday     18\n",
       "Sunday       24\n",
       "dtype: int64"
      ]
     },
     "execution_count": 18,
     "metadata": {},
     "output_type": "execute_result"
    }
   ],
   "source": [
    "s2*3"
   ]
  },
  {
   "cell_type": "code",
   "execution_count": 20,
   "id": "b42934d9-8ab2-4567-9691-0f51791737f5",
   "metadata": {},
   "outputs": [
    {
     "data": {
      "text/plain": [
       "Monday        2\n",
       "Tuesday       4\n",
       "Wednesday     6\n",
       "Thursday      8\n",
       "Friday       10\n",
       "Saturday     12\n",
       "Sunday       16\n",
       "dtype: int64"
      ]
     },
     "execution_count": 20,
     "metadata": {},
     "output_type": "execute_result"
    }
   ],
   "source": [
    "s2+s2"
   ]
  },
  {
   "cell_type": "markdown",
   "id": "5f78b2c0-fab3-4805-8e5f-67069c1e155d",
   "metadata": {},
   "source": [
    "## Dataframe"
   ]
  },
  {
   "cell_type": "code",
   "execution_count": 21,
   "id": "10b25b57-e0b8-491f-a856-71f4fcf31509",
   "metadata": {},
   "outputs": [],
   "source": [
    "df = pd.DataFrame({'first':s2,'second':s2*2})"
   ]
  },
  {
   "cell_type": "code",
   "execution_count": 22,
   "id": "954716cc-5059-46ea-b44c-a733d361b5cf",
   "metadata": {},
   "outputs": [
    {
     "data": {
      "text/html": [
       "<div>\n",
       "<style scoped>\n",
       "    .dataframe tbody tr th:only-of-type {\n",
       "        vertical-align: middle;\n",
       "    }\n",
       "\n",
       "    .dataframe tbody tr th {\n",
       "        vertical-align: top;\n",
       "    }\n",
       "\n",
       "    .dataframe thead th {\n",
       "        text-align: right;\n",
       "    }\n",
       "</style>\n",
       "<table border=\"1\" class=\"dataframe\">\n",
       "  <thead>\n",
       "    <tr style=\"text-align: right;\">\n",
       "      <th></th>\n",
       "      <th>first</th>\n",
       "      <th>second</th>\n",
       "    </tr>\n",
       "  </thead>\n",
       "  <tbody>\n",
       "    <tr>\n",
       "      <th>Monday</th>\n",
       "      <td>1</td>\n",
       "      <td>2</td>\n",
       "    </tr>\n",
       "    <tr>\n",
       "      <th>Tuesday</th>\n",
       "      <td>2</td>\n",
       "      <td>4</td>\n",
       "    </tr>\n",
       "    <tr>\n",
       "      <th>Wednesday</th>\n",
       "      <td>3</td>\n",
       "      <td>6</td>\n",
       "    </tr>\n",
       "    <tr>\n",
       "      <th>Thursday</th>\n",
       "      <td>4</td>\n",
       "      <td>8</td>\n",
       "    </tr>\n",
       "    <tr>\n",
       "      <th>Friday</th>\n",
       "      <td>5</td>\n",
       "      <td>10</td>\n",
       "    </tr>\n",
       "    <tr>\n",
       "      <th>Saturday</th>\n",
       "      <td>6</td>\n",
       "      <td>12</td>\n",
       "    </tr>\n",
       "    <tr>\n",
       "      <th>Sunday</th>\n",
       "      <td>8</td>\n",
       "      <td>16</td>\n",
       "    </tr>\n",
       "  </tbody>\n",
       "</table>\n",
       "</div>"
      ],
      "text/plain": [
       "           first  second\n",
       "Monday         1       2\n",
       "Tuesday        2       4\n",
       "Wednesday      3       6\n",
       "Thursday       4       8\n",
       "Friday         5      10\n",
       "Saturday       6      12\n",
       "Sunday         8      16"
      ]
     },
     "execution_count": 22,
     "metadata": {},
     "output_type": "execute_result"
    }
   ],
   "source": [
    "df"
   ]
  },
  {
   "cell_type": "code",
   "execution_count": 24,
   "id": "b3705630-b1b7-4660-9a17-fbe7628d50ce",
   "metadata": {},
   "outputs": [],
   "source": [
    "colunm_names = ['city','population']\n",
    "index_country = ['Japan','India', 'China','Brazil','Mexico']\n"
   ]
  },
  {
   "cell_type": "code",
   "execution_count": 23,
   "id": "9fb7f74d-5022-400b-a14d-150ab41f7c8e",
   "metadata": {},
   "outputs": [],
   "source": [
    "row1 = ['Tokyo',37.4]\n",
    "row2 = ['Delhi', 28.5]\n",
    "row3 = ['Shanghai',25.6]\n",
    "row4 = ['Sap Paulo',21.7]\n",
    "row5 = ['Mexico City',21.6]"
   ]
  },
  {
   "cell_type": "code",
   "execution_count": 27,
   "id": "6d01e531-cad9-487f-8897-fe7b98aada48",
   "metadata": {},
   "outputs": [
    {
     "data": {
      "text/plain": [
       "[['Tokyo', 37.4],\n",
       " ['Delhi', 28.5],\n",
       " ['Shanghai', 25.6],\n",
       " ['Sap Paulo', 21.7],\n",
       " ['Mexico City', 21.6]]"
      ]
     },
     "execution_count": 27,
     "metadata": {},
     "output_type": "execute_result"
    }
   ],
   "source": [
    "data = [row1,row2,row3,row4,row5]\n",
    "data"
   ]
  },
  {
   "cell_type": "code",
   "execution_count": 29,
   "id": "45fdfc2f-cf33-4198-b566-1b180235fc2d",
   "metadata": {},
   "outputs": [],
   "source": [
    "df= pd.DataFrame(data,index=index_country,columns=colunm_names)"
   ]
  },
  {
   "cell_type": "code",
   "execution_count": 30,
   "id": "e4678314-b4ff-4e8f-9c68-e6a23802bec7",
   "metadata": {},
   "outputs": [
    {
     "data": {
      "text/html": [
       "<div>\n",
       "<style scoped>\n",
       "    .dataframe tbody tr th:only-of-type {\n",
       "        vertical-align: middle;\n",
       "    }\n",
       "\n",
       "    .dataframe tbody tr th {\n",
       "        vertical-align: top;\n",
       "    }\n",
       "\n",
       "    .dataframe thead th {\n",
       "        text-align: right;\n",
       "    }\n",
       "</style>\n",
       "<table border=\"1\" class=\"dataframe\">\n",
       "  <thead>\n",
       "    <tr style=\"text-align: right;\">\n",
       "      <th></th>\n",
       "      <th>city</th>\n",
       "      <th>population</th>\n",
       "    </tr>\n",
       "  </thead>\n",
       "  <tbody>\n",
       "    <tr>\n",
       "      <th>Japan</th>\n",
       "      <td>Tokyo</td>\n",
       "      <td>37.4</td>\n",
       "    </tr>\n",
       "    <tr>\n",
       "      <th>India</th>\n",
       "      <td>Delhi</td>\n",
       "      <td>28.5</td>\n",
       "    </tr>\n",
       "    <tr>\n",
       "      <th>China</th>\n",
       "      <td>Shanghai</td>\n",
       "      <td>25.6</td>\n",
       "    </tr>\n",
       "    <tr>\n",
       "      <th>Brazil</th>\n",
       "      <td>Sap Paulo</td>\n",
       "      <td>21.7</td>\n",
       "    </tr>\n",
       "    <tr>\n",
       "      <th>Mexico</th>\n",
       "      <td>Mexico City</td>\n",
       "      <td>21.6</td>\n",
       "    </tr>\n",
       "  </tbody>\n",
       "</table>\n",
       "</div>"
      ],
      "text/plain": [
       "               city  population\n",
       "Japan         Tokyo        37.4\n",
       "India         Delhi        28.5\n",
       "China      Shanghai        25.6\n",
       "Brazil    Sap Paulo        21.7\n",
       "Mexico  Mexico City        21.6"
      ]
     },
     "execution_count": 30,
     "metadata": {},
     "output_type": "execute_result"
    }
   ],
   "source": [
    "df"
   ]
  },
  {
   "cell_type": "code",
   "execution_count": 32,
   "id": "3487a5a6-76fd-4bf0-824e-15bee1a749be",
   "metadata": {},
   "outputs": [],
   "source": [
    "cities=['Tokyo','Delhi','Shanghai','Sao Paulo','Mexico City']\n",
    "population=[37.4,28.5,25.6,21.7,21.6]"
   ]
  },
  {
   "cell_type": "code",
   "execution_count": 34,
   "id": "04536799-57be-4181-a4bd-194d2e4be1d8",
   "metadata": {},
   "outputs": [
    {
     "data": {
      "text/plain": [
       "{'city': ['Tokyo', 'Delhi', 'Shanghai', 'Sao Paulo', 'Mexico City'],\n",
       " 'population': [37.4, 28.5, 25.6, 21.7, 21.6]}"
      ]
     },
     "execution_count": 34,
     "metadata": {},
     "output_type": "execute_result"
    }
   ],
   "source": [
    "dict_popu = {'city':cities, 'population':population}\n",
    "dict_popu"
   ]
  },
  {
   "cell_type": "code",
   "execution_count": 37,
   "id": "24a58741-53e6-46bf-bf52-fa063803384a",
   "metadata": {},
   "outputs": [
    {
     "data": {
      "text/html": [
       "<div>\n",
       "<style scoped>\n",
       "    .dataframe tbody tr th:only-of-type {\n",
       "        vertical-align: middle;\n",
       "    }\n",
       "\n",
       "    .dataframe tbody tr th {\n",
       "        vertical-align: top;\n",
       "    }\n",
       "\n",
       "    .dataframe thead th {\n",
       "        text-align: right;\n",
       "    }\n",
       "</style>\n",
       "<table border=\"1\" class=\"dataframe\">\n",
       "  <thead>\n",
       "    <tr style=\"text-align: right;\">\n",
       "      <th></th>\n",
       "      <th>city</th>\n",
       "      <th>population</th>\n",
       "    </tr>\n",
       "  </thead>\n",
       "  <tbody>\n",
       "    <tr>\n",
       "      <th>Japan</th>\n",
       "      <td>Tokyo</td>\n",
       "      <td>37.4</td>\n",
       "    </tr>\n",
       "    <tr>\n",
       "      <th>India</th>\n",
       "      <td>Delhi</td>\n",
       "      <td>28.5</td>\n",
       "    </tr>\n",
       "    <tr>\n",
       "      <th>China</th>\n",
       "      <td>Shanghai</td>\n",
       "      <td>25.6</td>\n",
       "    </tr>\n",
       "    <tr>\n",
       "      <th>Brazil</th>\n",
       "      <td>Sao Paulo</td>\n",
       "      <td>21.7</td>\n",
       "    </tr>\n",
       "    <tr>\n",
       "      <th>Mexico</th>\n",
       "      <td>Mexico City</td>\n",
       "      <td>21.6</td>\n",
       "    </tr>\n",
       "  </tbody>\n",
       "</table>\n",
       "</div>"
      ],
      "text/plain": [
       "               city  population\n",
       "Japan         Tokyo        37.4\n",
       "India         Delhi        28.5\n",
       "China      Shanghai        25.6\n",
       "Brazil    Sao Paulo        21.7\n",
       "Mexico  Mexico City        21.6"
      ]
     },
     "execution_count": 37,
     "metadata": {},
     "output_type": "execute_result"
    }
   ],
   "source": [
    "df = pd.DataFrame(dict_popu ,index=index_country)\n",
    "df"
   ]
  },
  {
   "cell_type": "code",
   "execution_count": 39,
   "id": "748d5ca3-d0ae-46c4-84ed-f9b53bf28c27",
   "metadata": {},
   "outputs": [
    {
     "data": {
      "text/plain": [
       "Japan           Tokyo\n",
       "India           Delhi\n",
       "China        Shanghai\n",
       "Brazil      Sao Paulo\n",
       "Mexico    Mexico City\n",
       "Name: city, dtype: object"
      ]
     },
     "execution_count": 39,
     "metadata": {},
     "output_type": "execute_result"
    }
   ],
   "source": [
    "df['city']"
   ]
  },
  {
   "cell_type": "code",
   "execution_count": 40,
   "id": "fb1132cf-fbca-4a7b-ac4f-67aa7f4a4fe8",
   "metadata": {},
   "outputs": [
    {
     "data": {
      "text/plain": [
       "Japan     37.4\n",
       "India     28.5\n",
       "China     25.6\n",
       "Brazil    21.7\n",
       "Mexico    21.6\n",
       "Name: population, dtype: float64"
      ]
     },
     "execution_count": 40,
     "metadata": {},
     "output_type": "execute_result"
    }
   ],
   "source": [
    "df['population']"
   ]
  },
  {
   "cell_type": "code",
   "execution_count": null,
   "id": "e616bc83-d584-4fb7-989d-ef0c9e8e76a8",
   "metadata": {},
   "outputs": [],
   "source": []
  },
  {
   "cell_type": "code",
   "execution_count": null,
   "id": "9b37a559-3f9e-41c9-a183-928e9e9f6ff0",
   "metadata": {},
   "outputs": [],
   "source": []
  },
  {
   "cell_type": "code",
   "execution_count": null,
   "id": "0aaa9dd3-f83b-46a4-9819-01c1e9e56b6e",
   "metadata": {},
   "outputs": [],
   "source": []
  },
  {
   "cell_type": "code",
   "execution_count": null,
   "id": "72974e04-8ccb-413b-8047-11c454c47f35",
   "metadata": {},
   "outputs": [],
   "source": []
  },
  {
   "cell_type": "code",
   "execution_count": null,
   "id": "f18481e5-fa87-441a-ae9f-8f62aba63bf0",
   "metadata": {},
   "outputs": [],
   "source": []
  },
  {
   "cell_type": "code",
   "execution_count": null,
   "id": "a725fdb5-97f4-484b-9a03-23439de269cd",
   "metadata": {},
   "outputs": [],
   "source": []
  },
  {
   "cell_type": "code",
   "execution_count": null,
   "id": "a3a6c73d-44eb-49d8-a3c9-cd16c7e9cc4e",
   "metadata": {},
   "outputs": [],
   "source": []
  },
  {
   "cell_type": "code",
   "execution_count": null,
   "id": "1deed8ab-d301-4a35-9df5-cb62a8fc61a3",
   "metadata": {},
   "outputs": [],
   "source": []
  },
  {
   "cell_type": "code",
   "execution_count": null,
   "id": "8c8147dd-e9a1-4888-8ff1-55932de9b68f",
   "metadata": {},
   "outputs": [],
   "source": []
  },
  {
   "cell_type": "code",
   "execution_count": null,
   "id": "6a9ed475-6da4-46c6-9cbf-5aee2c3b3b5e",
   "metadata": {},
   "outputs": [],
   "source": []
  },
  {
   "cell_type": "code",
   "execution_count": null,
   "id": "28752a34-767b-4500-84ce-c3ce9fbaba1c",
   "metadata": {},
   "outputs": [],
   "source": []
  },
  {
   "cell_type": "code",
   "execution_count": null,
   "id": "d5d38846-2728-4662-aaa0-c734c5d2838e",
   "metadata": {},
   "outputs": [],
   "source": []
  },
  {
   "cell_type": "code",
   "execution_count": null,
   "id": "f340025a-43ac-4e68-a617-07661749a984",
   "metadata": {},
   "outputs": [],
   "source": []
  },
  {
   "cell_type": "code",
   "execution_count": null,
   "id": "02528cfb-a41d-48f7-a7d6-fae69c71b3af",
   "metadata": {},
   "outputs": [],
   "source": []
  },
  {
   "cell_type": "code",
   "execution_count": null,
   "id": "c11819fe-8890-46e5-85f6-bf5bf0dd495c",
   "metadata": {},
   "outputs": [],
   "source": []
  },
  {
   "cell_type": "code",
   "execution_count": null,
   "id": "c6d9fe80-6bca-4e4b-bc09-b4a5bea1c6ef",
   "metadata": {},
   "outputs": [],
   "source": []
  },
  {
   "cell_type": "code",
   "execution_count": null,
   "id": "5702c31c-be2b-42ce-a93e-0f21917b0b01",
   "metadata": {},
   "outputs": [],
   "source": []
  },
  {
   "cell_type": "code",
   "execution_count": null,
   "id": "9c7cc9be-c026-4401-9dc2-37accc265d97",
   "metadata": {},
   "outputs": [],
   "source": []
  },
  {
   "cell_type": "code",
   "execution_count": null,
   "id": "6a755005-3e81-44ab-98c1-34a181b3e15b",
   "metadata": {},
   "outputs": [],
   "source": []
  },
  {
   "cell_type": "code",
   "execution_count": null,
   "id": "eeb65ef9-76c4-4176-bf7f-102722796d3e",
   "metadata": {},
   "outputs": [],
   "source": []
  },
  {
   "cell_type": "code",
   "execution_count": null,
   "id": "de18c733-03bf-4502-b2a7-f965f77e87d1",
   "metadata": {},
   "outputs": [],
   "source": []
  },
  {
   "cell_type": "code",
   "execution_count": null,
   "id": "e4b56fbf-92f6-4272-8a59-f29e7055f189",
   "metadata": {},
   "outputs": [],
   "source": []
  },
  {
   "cell_type": "code",
   "execution_count": null,
   "id": "316d8bdd-ed4c-433c-b39e-5ae6d21171c8",
   "metadata": {},
   "outputs": [],
   "source": []
  },
  {
   "cell_type": "code",
   "execution_count": null,
   "id": "9c7e78af-753d-4fcc-b881-dd3f608e688d",
   "metadata": {},
   "outputs": [],
   "source": []
  },
  {
   "cell_type": "code",
   "execution_count": null,
   "id": "6d9adf5c-baaa-4559-bf76-8effc5a32e9a",
   "metadata": {},
   "outputs": [],
   "source": []
  },
  {
   "cell_type": "code",
   "execution_count": null,
   "id": "0e83a7b4-13e2-4815-9547-c4d6ad0c711c",
   "metadata": {},
   "outputs": [],
   "source": []
  },
  {
   "cell_type": "code",
   "execution_count": null,
   "id": "1957b6ce-3a12-41a0-8e84-b85191dbead1",
   "metadata": {},
   "outputs": [],
   "source": []
  },
  {
   "cell_type": "code",
   "execution_count": null,
   "id": "b1b32979-e2e6-429d-a13f-29e204356e76",
   "metadata": {},
   "outputs": [],
   "source": []
  }
 ],
 "metadata": {
  "kernelspec": {
   "display_name": "Python 3 (ipykernel)",
   "language": "python",
   "name": "python3"
  },
  "language_info": {
   "codemirror_mode": {
    "name": "ipython",
    "version": 3
   },
   "file_extension": ".py",
   "mimetype": "text/x-python",
   "name": "python",
   "nbconvert_exporter": "python",
   "pygments_lexer": "ipython3",
   "version": "3.11.7"
  }
 },
 "nbformat": 4,
 "nbformat_minor": 5
}
