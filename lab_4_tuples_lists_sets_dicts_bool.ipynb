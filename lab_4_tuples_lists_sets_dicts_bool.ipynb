{
 "cells": [
  {
   "cell_type": "markdown",
   "id": "e737df57-4086-461c-9365-6ad6a0ada543",
   "metadata": {},
   "source": [
    "## Lists"
   ]
  },
  {
   "cell_type": "code",
   "execution_count": 2,
   "id": "84e4021a-983f-4bed-8bec-e41d392d7163",
   "metadata": {},
   "outputs": [],
   "source": [
    "l1 = [1,2,3]\n",
    "l2 = [1,'hello','test', 2.0]"
   ]
  },
  {
   "cell_type": "code",
   "execution_count": 3,
   "id": "d034cec2-62e8-4152-a48b-b089a25e0c94",
   "metadata": {},
   "outputs": [
    {
     "data": {
      "text/plain": [
       "1"
      ]
     },
     "execution_count": 3,
     "metadata": {},
     "output_type": "execute_result"
    }
   ],
   "source": [
    "l1[0]"
   ]
  },
  {
   "cell_type": "code",
   "execution_count": 4,
   "id": "b7676a2f-1ddd-47bc-831b-a1c0aa189dc2",
   "metadata": {},
   "outputs": [
    {
     "data": {
      "text/plain": [
       "[2, 3]"
      ]
     },
     "execution_count": 4,
     "metadata": {},
     "output_type": "execute_result"
    }
   ],
   "source": [
    "l1[1:]"
   ]
  },
  {
   "cell_type": "code",
   "execution_count": 5,
   "id": "33031aef-f46b-4e00-8ae2-a89e0cf52b89",
   "metadata": {},
   "outputs": [
    {
     "data": {
      "text/plain": [
       "4"
      ]
     },
     "execution_count": 5,
     "metadata": {},
     "output_type": "execute_result"
    }
   ],
   "source": [
    "len(l2)"
   ]
  },
  {
   "cell_type": "code",
   "execution_count": 6,
   "id": "fc48bb65-2252-4f68-be18-48957cd2da7f",
   "metadata": {},
   "outputs": [
    {
     "data": {
      "text/plain": [
       "[1, 2, 3, 1, 'hello', 'test', 2.0]"
      ]
     },
     "execution_count": 6,
     "metadata": {},
     "output_type": "execute_result"
    }
   ],
   "source": [
    "l1+l2"
   ]
  },
  {
   "cell_type": "code",
   "execution_count": 7,
   "id": "151d74ee-c56c-4b67-991e-c97d8f3363c2",
   "metadata": {},
   "outputs": [],
   "source": [
    "l1.append(4)"
   ]
  },
  {
   "cell_type": "code",
   "execution_count": 8,
   "id": "53fcce8b-8ed7-4e0e-921b-d481d6a015d3",
   "metadata": {},
   "outputs": [
    {
     "data": {
      "text/plain": [
       "[1, 2, 3, 4]"
      ]
     },
     "execution_count": 8,
     "metadata": {},
     "output_type": "execute_result"
    }
   ],
   "source": [
    "l1"
   ]
  },
  {
   "cell_type": "code",
   "execution_count": 9,
   "id": "1fa9a6b2-9f7d-418b-853f-f292ad58b271",
   "metadata": {},
   "outputs": [
    {
     "data": {
      "text/plain": [
       "4"
      ]
     },
     "execution_count": 9,
     "metadata": {},
     "output_type": "execute_result"
    }
   ],
   "source": [
    "l1.pop()"
   ]
  },
  {
   "cell_type": "code",
   "execution_count": 10,
   "id": "aabcc203-5d2d-4879-9298-26e0d6afef90",
   "metadata": {},
   "outputs": [
    {
     "data": {
      "text/plain": [
       "[1, 2, 3]"
      ]
     },
     "execution_count": 10,
     "metadata": {},
     "output_type": "execute_result"
    }
   ],
   "source": [
    "l1"
   ]
  },
  {
   "cell_type": "code",
   "execution_count": 11,
   "id": "44c1294c-5c41-4aa3-b260-d971907854fe",
   "metadata": {},
   "outputs": [
    {
     "data": {
      "text/plain": [
       "1"
      ]
     },
     "execution_count": 11,
     "metadata": {},
     "output_type": "execute_result"
    }
   ],
   "source": [
    "l1.pop(0)"
   ]
  },
  {
   "cell_type": "code",
   "execution_count": 12,
   "id": "6378da9a-9220-4a41-a661-74f5f58081c5",
   "metadata": {},
   "outputs": [
    {
     "data": {
      "text/plain": [
       "[2, 3]"
      ]
     },
     "execution_count": 12,
     "metadata": {},
     "output_type": "execute_result"
    }
   ],
   "source": [
    "l1"
   ]
  },
  {
   "cell_type": "code",
   "execution_count": 13,
   "id": "71ad5e32-9091-432d-8e34-8162127a513f",
   "metadata": {},
   "outputs": [],
   "source": [
    "new_list = ['a','e','x','b','c']\n"
   ]
  },
  {
   "cell_type": "code",
   "execution_count": 14,
   "id": "316d7fd5-0406-4f67-b016-2fb4b3493d0a",
   "metadata": {},
   "outputs": [
    {
     "data": {
      "text/plain": [
       "['a', 'e', 'x', 'b', 'c']"
      ]
     },
     "execution_count": 14,
     "metadata": {},
     "output_type": "execute_result"
    }
   ],
   "source": [
    "new_list"
   ]
  },
  {
   "cell_type": "code",
   "execution_count": 15,
   "id": "73a730de-2082-489c-b0b5-611bdaf45f83",
   "metadata": {},
   "outputs": [],
   "source": [
    "num_list = [2,1,5,3]"
   ]
  },
  {
   "cell_type": "code",
   "execution_count": 17,
   "id": "66f36557-4c42-447b-a440-fb06efe590c4",
   "metadata": {},
   "outputs": [
    {
     "data": {
      "text/plain": [
       "[2, 1, 5, 3]"
      ]
     },
     "execution_count": 17,
     "metadata": {},
     "output_type": "execute_result"
    }
   ],
   "source": [
    "num_list"
   ]
  },
  {
   "cell_type": "code",
   "execution_count": 18,
   "id": "1fff61aa-2690-4a5e-a144-3f9620f7bd2f",
   "metadata": {},
   "outputs": [],
   "source": [
    "new_list.sort()\n",
    "num_list.sort()"
   ]
  },
  {
   "cell_type": "code",
   "execution_count": 19,
   "id": "619729bf-cf1d-419b-b10d-eb18462a2861",
   "metadata": {},
   "outputs": [
    {
     "data": {
      "text/plain": [
       "['a', 'b', 'c', 'e', 'x']"
      ]
     },
     "execution_count": 19,
     "metadata": {},
     "output_type": "execute_result"
    }
   ],
   "source": [
    "new_list"
   ]
  },
  {
   "cell_type": "code",
   "execution_count": 20,
   "id": "9332eaf0-15a0-4932-84ec-a62c55837ec5",
   "metadata": {},
   "outputs": [
    {
     "data": {
      "text/plain": [
       "[1, 2, 3, 5]"
      ]
     },
     "execution_count": 20,
     "metadata": {},
     "output_type": "execute_result"
    }
   ],
   "source": [
    "num_list"
   ]
  },
  {
   "cell_type": "code",
   "execution_count": 21,
   "id": "2a1bea59-30b7-4e44-97c1-c6bcae1008c8",
   "metadata": {},
   "outputs": [
    {
     "data": {
      "text/plain": [
       "1"
      ]
     },
     "execution_count": 21,
     "metadata": {},
     "output_type": "execute_result"
    }
   ],
   "source": [
    "min(num_list)"
   ]
  },
  {
   "cell_type": "code",
   "execution_count": 22,
   "id": "438b45a4-2e35-434f-b8f4-d7cf6f4de0ed",
   "metadata": {},
   "outputs": [
    {
     "data": {
      "text/plain": [
       "5"
      ]
     },
     "execution_count": 22,
     "metadata": {},
     "output_type": "execute_result"
    }
   ],
   "source": [
    "max(num_list)"
   ]
  },
  {
   "cell_type": "markdown",
   "id": "f47c5eab-e505-4eb2-88ce-cd091c3a4395",
   "metadata": {},
   "source": [
    "## Tuples"
   ]
  },
  {
   "cell_type": "code",
   "execution_count": 23,
   "id": "3203ee17-f2dd-41c7-bc16-a510290d62c3",
   "metadata": {},
   "outputs": [],
   "source": [
    "t1 = (1,2,3)"
   ]
  },
  {
   "cell_type": "code",
   "execution_count": 24,
   "id": "8441d210-2da7-4882-a06a-884299f9ce28",
   "metadata": {},
   "outputs": [
    {
     "data": {
      "text/plain": [
       "[2, 3]"
      ]
     },
     "execution_count": 24,
     "metadata": {},
     "output_type": "execute_result"
    }
   ],
   "source": [
    "l1"
   ]
  },
  {
   "cell_type": "code",
   "execution_count": 25,
   "id": "31d2ad39-ea97-41f7-8ddd-1b2718ca92f7",
   "metadata": {},
   "outputs": [],
   "source": [
    "l1[0] = '11'"
   ]
  },
  {
   "cell_type": "code",
   "execution_count": 26,
   "id": "90de5ccb-d5e2-4ea4-b024-b117cdfd7f18",
   "metadata": {},
   "outputs": [
    {
     "data": {
      "text/plain": [
       "['11', 3]"
      ]
     },
     "execution_count": 26,
     "metadata": {},
     "output_type": "execute_result"
    }
   ],
   "source": [
    "l1"
   ]
  },
  {
   "cell_type": "code",
   "execution_count": 29,
   "id": "95606ff8-c474-4839-aae7-ae599bbc2f2f",
   "metadata": {},
   "outputs": [
    {
     "ename": "TypeError",
     "evalue": "'tuple' object does not support item assignment",
     "output_type": "error",
     "traceback": [
      "\u001b[1;31m---------------------------------------------------------------------------\u001b[0m",
      "\u001b[1;31mTypeError\u001b[0m                                 Traceback (most recent call last)",
      "Cell \u001b[1;32mIn[29], line 1\u001b[0m\n\u001b[1;32m----> 1\u001b[0m t1[\u001b[38;5;241m0\u001b[39m] \u001b[38;5;241m=\u001b[39m \u001b[38;5;124m'\u001b[39m\u001b[38;5;124m11\u001b[39m\u001b[38;5;124m'\u001b[39m\n",
      "\u001b[1;31mTypeError\u001b[0m: 'tuple' object does not support item assignment"
     ]
    }
   ],
   "source": [
    "t1[0] = '11'\n",
    "## error thrown due to tuple being immutable\n",
    "# meaning it cannot change\n",
    "# tuples are immutable to ensure elements cannot change, meaning this is why they are important"
   ]
  },
  {
   "cell_type": "markdown",
   "id": "1feb416f-89fe-4f1d-9d97-6dfdfce79cac",
   "metadata": {},
   "source": [
    "## Sets"
   ]
  },
  {
   "cell_type": "code",
   "execution_count": 30,
   "id": "bc6cba8c-03a4-41ee-8a6a-5a4905f7c333",
   "metadata": {},
   "outputs": [],
   "source": [
    "## Sets\n",
    "\n",
    "s1 = {1,2,3}"
   ]
  },
  {
   "cell_type": "code",
   "execution_count": 41,
   "id": "6e58a021-06ce-473d-a702-93b1f677950d",
   "metadata": {},
   "outputs": [],
   "source": [
    "s2 = set([1,2,3,4,5])\n",
    "s3 = {1,2,3,5}"
   ]
  },
  {
   "cell_type": "code",
   "execution_count": 32,
   "id": "e2f9a73b-cfde-4c76-b770-e72495b56972",
   "metadata": {},
   "outputs": [
    {
     "data": {
      "text/plain": [
       "set"
      ]
     },
     "execution_count": 32,
     "metadata": {},
     "output_type": "execute_result"
    }
   ],
   "source": [
    "type(s2)"
   ]
  },
  {
   "cell_type": "code",
   "execution_count": 33,
   "id": "dca32683-2503-4318-8996-1a919e25b2e8",
   "metadata": {},
   "outputs": [],
   "source": [
    "s1.add(4)"
   ]
  },
  {
   "cell_type": "code",
   "execution_count": 34,
   "id": "3ce767f9-ad00-4586-b9ff-b4f7d2c9cb6d",
   "metadata": {},
   "outputs": [
    {
     "data": {
      "text/plain": [
       "{1, 2, 3, 4}"
      ]
     },
     "execution_count": 34,
     "metadata": {},
     "output_type": "execute_result"
    }
   ],
   "source": [
    "s1"
   ]
  },
  {
   "cell_type": "code",
   "execution_count": 35,
   "id": "5ea942d9-8c66-4828-b0d9-1957bf9e7b7d",
   "metadata": {},
   "outputs": [],
   "source": [
    "s1.add(2)"
   ]
  },
  {
   "cell_type": "code",
   "execution_count": 36,
   "id": "e9f4b6a9-2caf-4a9a-80d2-21a62f5aed9d",
   "metadata": {},
   "outputs": [
    {
     "data": {
      "text/plain": [
       "{1, 2, 3, 4}"
      ]
     },
     "execution_count": 36,
     "metadata": {},
     "output_type": "execute_result"
    }
   ],
   "source": [
    "s1\n",
    "## did not add 2 because sets only allow unique values in. 4 was added because it was not there originally at beginning"
   ]
  },
  {
   "cell_type": "code",
   "execution_count": 42,
   "id": "0b96b19a-6d7c-4e9c-b81c-661f6133652c",
   "metadata": {},
   "outputs": [
    {
     "data": {
      "text/plain": [
       "{4}"
      ]
     },
     "execution_count": 42,
     "metadata": {},
     "output_type": "execute_result"
    }
   ],
   "source": [
    "s1-s3\n",
    "# difference (-) determines what is in one set and absent in another"
   ]
  },
  {
   "cell_type": "code",
   "execution_count": 43,
   "id": "cea8f6fa-c1a7-46e6-968e-f17239c5eb08",
   "metadata": {},
   "outputs": [
    {
     "data": {
      "text/plain": [
       "{1, 2, 3}"
      ]
     },
     "execution_count": 43,
     "metadata": {},
     "output_type": "execute_result"
    }
   ],
   "source": [
    "s1&s3\n",
    "# intersection (&) shows what is in both sets. Needs to be in both"
   ]
  },
  {
   "cell_type": "code",
   "execution_count": 44,
   "id": "b4fae714-c828-4d2f-81d0-2fae197c6a19",
   "metadata": {},
   "outputs": [
    {
     "data": {
      "text/plain": [
       "{1, 2, 3, 4, 5}"
      ]
     },
     "execution_count": 44,
     "metadata": {},
     "output_type": "execute_result"
    }
   ],
   "source": [
    "s1|s3\n",
    "# union (|) shows all unique elements presnt in both sets. "
   ]
  },
  {
   "cell_type": "markdown",
   "id": "35ee4e5f-5e54-4dd7-a4fe-9f45e627cf0d",
   "metadata": {},
   "source": [
    "## Dictonaries"
   ]
  },
  {
   "cell_type": "code",
   "execution_count": 45,
   "id": "19b7df20-6653-482d-b79b-9a80ba915f41",
   "metadata": {},
   "outputs": [],
   "source": [
    "d1 = {'k1':'value1','k2':'value2'}"
   ]
  },
  {
   "cell_type": "code",
   "execution_count": 46,
   "id": "20b863ae-e8d4-4d40-b12c-c0d7a6a986a2",
   "metadata": {},
   "outputs": [
    {
     "data": {
      "text/plain": [
       "{'k1': 'value1', 'k2': 'value2'}"
      ]
     },
     "execution_count": 46,
     "metadata": {},
     "output_type": "execute_result"
    }
   ],
   "source": [
    "d1"
   ]
  },
  {
   "cell_type": "code",
   "execution_count": 47,
   "id": "e86c9e87-d5f4-4c92-8a23-e261ab715f26",
   "metadata": {},
   "outputs": [
    {
     "data": {
      "text/plain": [
       "'value1'"
      ]
     },
     "execution_count": 47,
     "metadata": {},
     "output_type": "execute_result"
    }
   ],
   "source": [
    "d1['k1']"
   ]
  },
  {
   "cell_type": "code",
   "execution_count": 48,
   "id": "65c2c18b-a540-459d-8830-f17ad196e607",
   "metadata": {},
   "outputs": [],
   "source": [
    "d2 = {'k1':123,'k2':[2,3,4],'k3':{'insidekey':100}}"
   ]
  },
  {
   "cell_type": "code",
   "execution_count": 50,
   "id": "6e35e4b4-b144-4d94-b01e-71b5f9823331",
   "metadata": {},
   "outputs": [
    {
     "data": {
      "text/plain": [
       "[2, 3, 4]"
      ]
     },
     "execution_count": 50,
     "metadata": {},
     "output_type": "execute_result"
    }
   ],
   "source": [
    "d2['k2']"
   ]
  },
  {
   "cell_type": "code",
   "execution_count": 52,
   "id": "9cbe0533-af9b-4b79-aad9-bd215b514774",
   "metadata": {},
   "outputs": [
    {
     "data": {
      "text/plain": [
       "100"
      ]
     },
     "execution_count": 52,
     "metadata": {},
     "output_type": "execute_result"
    }
   ],
   "source": [
    "d2['k3']['insidekey']"
   ]
  },
  {
   "cell_type": "code",
   "execution_count": 53,
   "id": "9684ecd4-2ccd-43bd-aa06-dd9d85d0ca10",
   "metadata": {},
   "outputs": [],
   "source": [
    "d2['k4'] = 200"
   ]
  },
  {
   "cell_type": "code",
   "execution_count": 54,
   "id": "355910dc-f108-4d1a-90ce-a1d7513fd429",
   "metadata": {},
   "outputs": [
    {
     "data": {
      "text/plain": [
       "{'k1': 123, 'k2': [2, 3, 4], 'k3': {'insidekey': 100}, 'k4': 200}"
      ]
     },
     "execution_count": 54,
     "metadata": {},
     "output_type": "execute_result"
    }
   ],
   "source": [
    "d2"
   ]
  },
  {
   "cell_type": "markdown",
   "id": "56049fe6-2514-4d58-9444-5b993c4d814d",
   "metadata": {},
   "source": [
    "## boolian type"
   ]
  },
  {
   "cell_type": "code",
   "execution_count": null,
   "id": "bf0d4b51-e005-4c8c-8621-0a8710519732",
   "metadata": {},
   "outputs": [],
   "source": [
    "True\n",
    "False"
   ]
  },
  {
   "cell_type": "code",
   "execution_count": 55,
   "id": "efc8b736-2444-498d-b528-36601e6c50a7",
   "metadata": {},
   "outputs": [
    {
     "data": {
      "text/plain": [
       "False"
      ]
     },
     "execution_count": 55,
     "metadata": {},
     "output_type": "execute_result"
    }
   ],
   "source": [
    "1==0"
   ]
  },
  {
   "cell_type": "code",
   "execution_count": 56,
   "id": "164360a4-197e-4cf6-96d7-42b3e23a517e",
   "metadata": {},
   "outputs": [
    {
     "data": {
      "text/plain": [
       "True"
      ]
     },
     "execution_count": 56,
     "metadata": {},
     "output_type": "execute_result"
    }
   ],
   "source": [
    "1==1"
   ]
  },
  {
   "cell_type": "code",
   "execution_count": 57,
   "id": "9d526f4e-fd74-4410-b200-fe91770abc1a",
   "metadata": {},
   "outputs": [
    {
     "data": {
      "text/plain": [
       "False"
      ]
     },
     "execution_count": 57,
     "metadata": {},
     "output_type": "execute_result"
    }
   ],
   "source": [
    "'Hello' == 'hello'"
   ]
  },
  {
   "cell_type": "code",
   "execution_count": 58,
   "id": "23083f69-a89f-42e5-b646-099aeaea8bee",
   "metadata": {},
   "outputs": [
    {
     "data": {
      "text/plain": [
       "True"
      ]
     },
     "execution_count": 58,
     "metadata": {},
     "output_type": "execute_result"
    }
   ],
   "source": [
    "1<3"
   ]
  },
  {
   "cell_type": "code",
   "execution_count": 59,
   "id": "c7944ea0-4eeb-4d0b-aac8-c50969027d97",
   "metadata": {},
   "outputs": [
    {
     "data": {
      "text/plain": [
       "True"
      ]
     },
     "execution_count": 59,
     "metadata": {},
     "output_type": "execute_result"
    }
   ],
   "source": [
    "2<=2"
   ]
  },
  {
   "cell_type": "code",
   "execution_count": 60,
   "id": "f810c72a-ffc9-46d0-a5e7-8511ca08a62a",
   "metadata": {},
   "outputs": [
    {
     "data": {
      "text/plain": [
       "False"
      ]
     },
     "execution_count": 60,
     "metadata": {},
     "output_type": "execute_result"
    }
   ],
   "source": [
    "1!=1"
   ]
  },
  {
   "cell_type": "code",
   "execution_count": 62,
   "id": "1781d6ea-ae4a-499e-aa93-cb60b74aaea3",
   "metadata": {},
   "outputs": [
    {
     "data": {
      "text/plain": [
       "True"
      ]
     },
     "execution_count": 62,
     "metadata": {},
     "output_type": "execute_result"
    }
   ],
   "source": [
    "'h' =='h' and  2==2"
   ]
  },
  {
   "cell_type": "code",
   "execution_count": 63,
   "id": "89fc3cea-25f0-40ec-b483-f480d588ce9b",
   "metadata": {},
   "outputs": [
    {
     "data": {
      "text/plain": [
       "True"
      ]
     },
     "execution_count": 63,
     "metadata": {},
     "output_type": "execute_result"
    }
   ],
   "source": [
    "1==1 or 2==3"
   ]
  },
  {
   "cell_type": "code",
   "execution_count": 64,
   "id": "752d85b1-2c4d-410c-8b6b-2c509cd4dc6e",
   "metadata": {},
   "outputs": [
    {
     "data": {
      "text/plain": [
       "False"
      ]
     },
     "execution_count": 64,
     "metadata": {},
     "output_type": "execute_result"
    }
   ],
   "source": [
    "not 1==1"
   ]
  },
  {
   "cell_type": "code",
   "execution_count": 65,
   "id": "7a5bb813-365e-4eeb-910d-28dfba427e13",
   "metadata": {},
   "outputs": [
    {
     "data": {
      "text/plain": [
       "True"
      ]
     },
     "execution_count": 65,
     "metadata": {},
     "output_type": "execute_result"
    }
   ],
   "source": [
    "'x' in ['x','s']"
   ]
  },
  {
   "cell_type": "code",
   "execution_count": 66,
   "id": "f97f66a7-a4f2-40ed-b9fb-e8bbf29ccbc9",
   "metadata": {},
   "outputs": [
    {
     "data": {
      "text/plain": [
       "False"
      ]
     },
     "execution_count": 66,
     "metadata": {},
     "output_type": "execute_result"
    }
   ],
   "source": [
    "'data' not in 'data science'"
   ]
  },
  {
   "cell_type": "code",
   "execution_count": 67,
   "id": "26e8af92-9266-4783-8126-b23a0343f586",
   "metadata": {},
   "outputs": [
    {
     "data": {
      "text/plain": [
       "True"
      ]
     },
     "execution_count": 67,
     "metadata": {},
     "output_type": "execute_result"
    }
   ],
   "source": [
    "phone_dict = {'jake':123}\n",
    "'jake' in phone_dict"
   ]
  },
  {
   "cell_type": "code",
   "execution_count": null,
   "id": "d6fa88ca-b19a-4fc6-9396-0ee7869c8206",
   "metadata": {},
   "outputs": [],
   "source": []
  },
  {
   "cell_type": "code",
   "execution_count": null,
   "id": "0c4155c6-baaa-44f8-a2f0-7801b1e43c78",
   "metadata": {},
   "outputs": [],
   "source": []
  },
  {
   "cell_type": "code",
   "execution_count": null,
   "id": "40d935bf-6252-49e4-9420-3bb638bc61a8",
   "metadata": {},
   "outputs": [],
   "source": []
  },
  {
   "cell_type": "code",
   "execution_count": null,
   "id": "ff4d7a44-0f18-4a31-ad40-be5444f3192c",
   "metadata": {},
   "outputs": [],
   "source": []
  },
  {
   "cell_type": "code",
   "execution_count": null,
   "id": "ffc4e6e0-53de-43f0-9df1-895119c57e18",
   "metadata": {},
   "outputs": [],
   "source": []
  }
 ],
 "metadata": {
  "kernelspec": {
   "display_name": "Python 3 (ipykernel)",
   "language": "python",
   "name": "python3"
  },
  "language_info": {
   "codemirror_mode": {
    "name": "ipython",
    "version": 3
   },
   "file_extension": ".py",
   "mimetype": "text/x-python",
   "name": "python",
   "nbconvert_exporter": "python",
   "pygments_lexer": "ipython3",
   "version": "3.11.7"
  }
 },
 "nbformat": 4,
 "nbformat_minor": 5
}
