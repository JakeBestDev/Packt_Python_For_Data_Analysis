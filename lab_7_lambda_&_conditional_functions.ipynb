{
 "cells": [
  {
   "cell_type": "markdown",
   "id": "9086379a-516e-4d08-ad79-d2d14d2c7f2c",
   "metadata": {},
   "source": [
    "## Lambda"
   ]
  },
  {
   "cell_type": "code",
   "execution_count": 1,
   "id": "867f1442-2a20-4eca-8f0a-2343068287d4",
   "metadata": {},
   "outputs": [],
   "source": [
    "def print_itself(a):\n",
    "    return a"
   ]
  },
  {
   "cell_type": "code",
   "execution_count": 2,
   "id": "d5a32d08-dcef-4104-a225-90a23114bf99",
   "metadata": {},
   "outputs": [
    {
     "data": {
      "text/plain": [
       "'hello'"
      ]
     },
     "execution_count": 2,
     "metadata": {},
     "output_type": "execute_result"
    }
   ],
   "source": [
    "print_itself('hello')"
   ]
  },
  {
   "cell_type": "code",
   "execution_count": 3,
   "id": "02b08535-f92f-4635-b2c8-cd9a2a9fd2a8",
   "metadata": {},
   "outputs": [
    {
     "data": {
      "text/plain": [
       "<function __main__.<lambda>(a)>"
      ]
     },
     "execution_count": 3,
     "metadata": {},
     "output_type": "execute_result"
    }
   ],
   "source": [
    "lambda a:a "
   ]
  },
  {
   "cell_type": "code",
   "execution_count": 4,
   "id": "0084071e-4717-44b4-9083-0d421421d105",
   "metadata": {},
   "outputs": [
    {
     "data": {
      "text/plain": [
       "'Hello'"
      ]
     },
     "execution_count": 4,
     "metadata": {},
     "output_type": "execute_result"
    }
   ],
   "source": [
    "(lambda a:a)('Hello')"
   ]
  },
  {
   "cell_type": "code",
   "execution_count": 5,
   "id": "a7bf57a1-6b80-4bf7-aded-465c43c849bc",
   "metadata": {},
   "outputs": [],
   "source": [
    "print_itself_lambda = lambda a:a"
   ]
  },
  {
   "cell_type": "code",
   "execution_count": 6,
   "id": "5b611225-609d-441a-bc97-cf8f04bf2519",
   "metadata": {},
   "outputs": [
    {
     "data": {
      "text/plain": [
       "'hello'"
      ]
     },
     "execution_count": 6,
     "metadata": {},
     "output_type": "execute_result"
    }
   ],
   "source": [
    "print_itself_lambda('hello')"
   ]
  },
  {
   "cell_type": "code",
   "execution_count": 7,
   "id": "fe71d1e4-c947-4da0-85da-00b4ff77a153",
   "metadata": {},
   "outputs": [],
   "source": [
    "sum_lam = lambda a,b,c:a+b+c"
   ]
  },
  {
   "cell_type": "code",
   "execution_count": 8,
   "id": "5006f3ab-4ea1-46ee-bc33-d2350ca55fff",
   "metadata": {},
   "outputs": [
    {
     "data": {
      "text/plain": [
       "6"
      ]
     },
     "execution_count": 8,
     "metadata": {},
     "output_type": "execute_result"
    }
   ],
   "source": [
    "sum_lam(1,2,3)"
   ]
  },
  {
   "cell_type": "code",
   "execution_count": 13,
   "id": "f31e5783-ef51-4d3d-89b3-f1b010082611",
   "metadata": {},
   "outputs": [],
   "source": [
    "sum_lam = lambda a = 1 ,b = 2,c = 3:a+b+c"
   ]
  },
  {
   "cell_type": "code",
   "execution_count": 14,
   "id": "8a6ab92c-85c3-4aac-bdf6-7ef866be7483",
   "metadata": {},
   "outputs": [
    {
     "data": {
      "text/plain": [
       "6"
      ]
     },
     "execution_count": 14,
     "metadata": {},
     "output_type": "execute_result"
    }
   ],
   "source": [
    "sum_lam()"
   ]
  },
  {
   "cell_type": "code",
   "execution_count": 18,
   "id": "260e7b87-0dda-4e72-b573-67027286bc83",
   "metadata": {},
   "outputs": [],
   "source": [
    "id_strings = ['a2', 'b1','d4', 'c3']"
   ]
  },
  {
   "cell_type": "code",
   "execution_count": 20,
   "id": "2239066b-f04a-47ca-9388-b311e497ae2a",
   "metadata": {},
   "outputs": [
    {
     "data": {
      "text/plain": [
       "['a2', 'b1', 'c3', 'd4']"
      ]
     },
     "execution_count": 20,
     "metadata": {},
     "output_type": "execute_result"
    }
   ],
   "source": [
    "id_strings.sort()\n",
    "id_strings"
   ]
  },
  {
   "cell_type": "code",
   "execution_count": 21,
   "id": "cb95fbef-98f8-4d54-afa0-1fafbe4433b4",
   "metadata": {},
   "outputs": [],
   "source": [
    "id_strings = ['a2', 'b1','d4', 'c3']"
   ]
  },
  {
   "cell_type": "code",
   "execution_count": 22,
   "id": "215a1910-7c7d-4da7-b3ee-f146fefe4796",
   "metadata": {},
   "outputs": [
    {
     "data": {
      "text/plain": [
       "['b1', 'a2', 'c3', 'd4']"
      ]
     },
     "execution_count": 22,
     "metadata": {},
     "output_type": "execute_result"
    }
   ],
   "source": [
    "def grab_num(x):\n",
    "    return x[1]\n",
    "\n",
    "id_strings.sort(key = grab_num)\n",
    "id_strings"
   ]
  },
  {
   "cell_type": "code",
   "execution_count": 25,
   "id": "a9581215-3c35-4585-a648-9a5e6812f598",
   "metadata": {},
   "outputs": [
    {
     "data": {
      "text/plain": [
       "['b1', 'a2', 'c3', 'd4']"
      ]
     },
     "execution_count": 25,
     "metadata": {},
     "output_type": "execute_result"
    }
   ],
   "source": [
    "id_strings = ['a2', 'b1','d4', 'c3']\n",
    "\n",
    "id_strings.sort(key = lambda a:a[1])\n",
    "id_strings"
   ]
  },
  {
   "cell_type": "markdown",
   "id": "6ddee829-9bbc-4bbe-9a8d-ccfda5e54664",
   "metadata": {},
   "source": [
    "## Conditional Expressions"
   ]
  },
  {
   "cell_type": "code",
   "execution_count": 26,
   "id": "b9582415-4672-497e-bc70-d8e94da7f73d",
   "metadata": {},
   "outputs": [
    {
     "data": {
      "text/plain": [
       "'Stay Home'"
      ]
     },
     "execution_count": 26,
     "metadata": {},
     "output_type": "execute_result"
    }
   ],
   "source": [
    "is_raining = True\n",
    "\n",
    "if  is_raining == True:\n",
    "    action = 'Stay Home'\n",
    "\n",
    "else:\n",
    "    action = 'go out'\n",
    "\n",
    "action"
   ]
  },
  {
   "cell_type": "code",
   "execution_count": 29,
   "id": "895439b4-efa9-4719-aea8-0c5cc6fddb63",
   "metadata": {},
   "outputs": [
    {
     "name": "stdout",
     "output_type": "stream",
     "text": [
      "stay home\n",
      "go out\n"
     ]
    }
   ],
   "source": [
    "is_raining = True\n",
    "action = 'stay home' if is_raining else 'go out'\n",
    "print(action)\n",
    "\n",
    "is_raining = False\n",
    "action = 'stay home' if is_raining else 'go out'\n",
    "print(action)"
   ]
  },
  {
   "cell_type": "code",
   "execution_count": 34,
   "id": "342a85f0-e7e1-486d-82f0-b5e25fafeb0b",
   "metadata": {},
   "outputs": [
    {
     "name": "stdout",
     "output_type": "stream",
     "text": [
      "num not 1,2,3\n",
      "2\n"
     ]
    }
   ],
   "source": [
    "a = 0 \n",
    "action = 1 if a == 1 else 2 if a == 2 else 3 if a == 3 else 'num not 1,2,3'\n",
    "print(action)\n",
    "\n",
    "a = 2\n",
    "action = 1 if a == 1 else 2 if a == 2 else 3 if a == 3 else 'num not 1,2,3'\n",
    "print(action)"
   ]
  },
  {
   "cell_type": "code",
   "execution_count": 36,
   "id": "c4691c8d-f5e4-4dd5-890f-85becf8505e8",
   "metadata": {},
   "outputs": [],
   "source": [
    "abs_val =lambda k:k if k>0 else -k"
   ]
  },
  {
   "cell_type": "code",
   "execution_count": 37,
   "id": "93aab7c4-8c69-4064-9b7b-9c4eae32be69",
   "metadata": {},
   "outputs": [
    {
     "data": {
      "text/plain": [
       "5"
      ]
     },
     "execution_count": 37,
     "metadata": {},
     "output_type": "execute_result"
    }
   ],
   "source": [
    "abs_val(5)"
   ]
  },
  {
   "cell_type": "code",
   "execution_count": 38,
   "id": "963e55aa-4dea-4c8e-95a7-5d728c334f3b",
   "metadata": {},
   "outputs": [
    {
     "data": {
      "text/plain": [
       "10"
      ]
     },
     "execution_count": 38,
     "metadata": {},
     "output_type": "execute_result"
    }
   ],
   "source": [
    "abs_val(-10)"
   ]
  },
  {
   "cell_type": "code",
   "execution_count": null,
   "id": "ea36f6f6-7b45-4193-86da-1179902bd134",
   "metadata": {},
   "outputs": [],
   "source": []
  },
  {
   "cell_type": "code",
   "execution_count": null,
   "id": "336316df-17e0-46b7-8013-a383b162b820",
   "metadata": {},
   "outputs": [],
   "source": []
  },
  {
   "cell_type": "code",
   "execution_count": null,
   "id": "00c99615-0596-48aa-8725-828025d25790",
   "metadata": {},
   "outputs": [],
   "source": []
  },
  {
   "cell_type": "code",
   "execution_count": null,
   "id": "305e1a4e-b5c3-4361-bf6c-cb7c3861c3ac",
   "metadata": {},
   "outputs": [],
   "source": []
  },
  {
   "cell_type": "code",
   "execution_count": null,
   "id": "be6ba9f3-7de8-4bb1-8c37-c53dcd2b6aa9",
   "metadata": {},
   "outputs": [],
   "source": []
  },
  {
   "cell_type": "code",
   "execution_count": null,
   "id": "13b9ce03-253c-40f6-b09d-6b2b345f86ca",
   "metadata": {},
   "outputs": [],
   "source": []
  },
  {
   "cell_type": "code",
   "execution_count": null,
   "id": "abbfd793-cdd4-4254-ab89-c368786e77ab",
   "metadata": {},
   "outputs": [],
   "source": []
  },
  {
   "cell_type": "code",
   "execution_count": null,
   "id": "b5200415-f9ed-4202-8b62-636cb4d48769",
   "metadata": {},
   "outputs": [],
   "source": []
  },
  {
   "cell_type": "code",
   "execution_count": null,
   "id": "c5f37a75-e5c7-4b0d-b748-d6310c8a622d",
   "metadata": {},
   "outputs": [],
   "source": []
  },
  {
   "cell_type": "code",
   "execution_count": null,
   "id": "d18ee26c-5ca8-447d-8db4-f7558ac5f641",
   "metadata": {},
   "outputs": [],
   "source": []
  },
  {
   "cell_type": "code",
   "execution_count": null,
   "id": "7970ad7f-e7f8-4b30-a5d4-6990980cc5f0",
   "metadata": {},
   "outputs": [],
   "source": []
  },
  {
   "cell_type": "code",
   "execution_count": null,
   "id": "943bd767-274e-46c7-8d85-e088fede697f",
   "metadata": {},
   "outputs": [],
   "source": []
  },
  {
   "cell_type": "code",
   "execution_count": null,
   "id": "9ec799cf-1bbd-4773-9ab5-5ab40e724c44",
   "metadata": {},
   "outputs": [],
   "source": []
  },
  {
   "cell_type": "code",
   "execution_count": null,
   "id": "8692ba0b-418b-466e-8927-1c4bb645c160",
   "metadata": {},
   "outputs": [],
   "source": []
  },
  {
   "cell_type": "code",
   "execution_count": null,
   "id": "248cc8c7-c474-418b-8b2d-36ca3fe0ef30",
   "metadata": {},
   "outputs": [],
   "source": []
  },
  {
   "cell_type": "code",
   "execution_count": null,
   "id": "19365442-57e8-4408-8a7c-cb4d078caa0d",
   "metadata": {},
   "outputs": [],
   "source": []
  },
  {
   "cell_type": "code",
   "execution_count": null,
   "id": "20d7117b-21e9-4555-8f9e-d907dfa9b4dc",
   "metadata": {},
   "outputs": [],
   "source": []
  },
  {
   "cell_type": "code",
   "execution_count": null,
   "id": "274eb866-ea0f-407c-9aae-00f72d4fcc24",
   "metadata": {},
   "outputs": [],
   "source": []
  },
  {
   "cell_type": "code",
   "execution_count": null,
   "id": "b880eaa0-2210-4fa7-a520-d0cea25871ae",
   "metadata": {},
   "outputs": [],
   "source": []
  },
  {
   "cell_type": "code",
   "execution_count": null,
   "id": "d4329657-91fb-4463-a125-d138301a2d2c",
   "metadata": {},
   "outputs": [],
   "source": []
  },
  {
   "cell_type": "code",
   "execution_count": null,
   "id": "85dc5384-ee3f-4584-90be-cf65b08661af",
   "metadata": {},
   "outputs": [],
   "source": []
  },
  {
   "cell_type": "code",
   "execution_count": null,
   "id": "b8659869-04ba-4744-af0b-af0e6907fb1e",
   "metadata": {},
   "outputs": [],
   "source": []
  },
  {
   "cell_type": "code",
   "execution_count": null,
   "id": "160ba9d6-2a3b-47b9-b15d-b96a3d227f3f",
   "metadata": {},
   "outputs": [],
   "source": []
  },
  {
   "cell_type": "code",
   "execution_count": null,
   "id": "997eba7e-3fb8-4808-84d6-b5d416f973ff",
   "metadata": {},
   "outputs": [],
   "source": []
  },
  {
   "cell_type": "code",
   "execution_count": null,
   "id": "26971924-ae28-4fdd-bb01-35f5ac022dfb",
   "metadata": {},
   "outputs": [],
   "source": []
  },
  {
   "cell_type": "code",
   "execution_count": null,
   "id": "ad3084ba-e3ac-41c2-b407-beec1b81838d",
   "metadata": {},
   "outputs": [],
   "source": []
  },
  {
   "cell_type": "code",
   "execution_count": null,
   "id": "59a5d418-844d-4bd5-97e3-f1de58a81043",
   "metadata": {},
   "outputs": [],
   "source": []
  },
  {
   "cell_type": "code",
   "execution_count": null,
   "id": "08bdedcc-14a3-4a2f-8d16-66a792622f93",
   "metadata": {},
   "outputs": [],
   "source": []
  },
  {
   "cell_type": "code",
   "execution_count": null,
   "id": "88282a6a-555e-4135-acaf-a24000fdec22",
   "metadata": {},
   "outputs": [],
   "source": []
  },
  {
   "cell_type": "code",
   "execution_count": null,
   "id": "4487b01d-9923-40cd-a300-4fc41b2d44b3",
   "metadata": {},
   "outputs": [],
   "source": []
  },
  {
   "cell_type": "code",
   "execution_count": null,
   "id": "0c2a76ad-f927-4160-92f5-b7dfef888572",
   "metadata": {},
   "outputs": [],
   "source": []
  }
 ],
 "metadata": {
  "kernelspec": {
   "display_name": "Python 3 (ipykernel)",
   "language": "python",
   "name": "python3"
  },
  "language_info": {
   "codemirror_mode": {
    "name": "ipython",
    "version": 3
   },
   "file_extension": ".py",
   "mimetype": "text/x-python",
   "name": "python",
   "nbconvert_exporter": "python",
   "pygments_lexer": "ipython3",
   "version": "3.11.7"
  }
 },
 "nbformat": 4,
 "nbformat_minor": 5
}
