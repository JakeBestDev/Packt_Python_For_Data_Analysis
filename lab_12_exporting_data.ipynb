{
 "cells": [
  {
   "cell_type": "markdown",
   "id": "8171f21c-aa71-43d0-9ab2-d6b005dfde96",
   "metadata": {},
   "source": [
    "## Exporting Data"
   ]
  },
  {
   "cell_type": "code",
   "execution_count": 21,
   "id": "5f34fcf2-2037-4239-a3ed-9d9b7ef6cdf0",
   "metadata": {},
   "outputs": [],
   "source": [
    "import pandas as pd"
   ]
  },
  {
   "cell_type": "code",
   "execution_count": 22,
   "id": "f8ec2f25-883a-45c0-bfd3-a584684fa471",
   "metadata": {},
   "outputs": [],
   "source": [
    "hero_dype = {'name':'string',\n",
    "             'Gender':'category',\n",
    "             'Eye color':'string',\n",
    "             'Race':'string',\n",
    "             'Hair color':'string',\n",
    "             'Publisher':'string',\n",
    "             'Alignment':'category'}"
   ]
  },
  {
   "cell_type": "code",
   "execution_count": 23,
   "id": "98946e8c-8337-4b81-a454-a25b58a57b41",
   "metadata": {},
   "outputs": [],
   "source": [
    "hero_powers = pd.read_csv('superhero_powers.csv',dtype={'hero_names':'string'})\n",
    "hero_dc = pd.read_excel('superhero_info.xlsx',dtype = hero_dype, sheet_name = 'DC Comics')\n",
    "hero_marvel = pd.read_excel('superhero_info.xlsx',dtype = hero_dype, sheet_name = 'Marvel Comics')"
   ]
  },
  {
   "cell_type": "code",
   "execution_count": 24,
   "id": "3326af2c-c4aa-4ebc-b72a-e8149aad8454",
   "metadata": {},
   "outputs": [],
   "source": [
    "## Index set to False so that the first colunm isn't the row numbers. By default it's set to True.\n",
    "hero_dc.to_csv('hero_dc.csv',index=False)"
   ]
  },
  {
   "cell_type": "code",
   "execution_count": 25,
   "id": "4b679ba2-86e8-4a52-af04-f662777952b5",
   "metadata": {},
   "outputs": [],
   "source": [
    "hero_dc.to_pickle('hero_dc.pkl')"
   ]
  },
  {
   "cell_type": "code",
   "execution_count": 26,
   "id": "8eb601bc-16d5-4612-87a7-ca57eef290d7",
   "metadata": {},
   "outputs": [],
   "source": [
    "hero_dc_csv = pd.read_csv('hero_dc.csv')"
   ]
  },
  {
   "cell_type": "markdown",
   "id": "d6220a31-c66b-40fe-9ba6-515b89f02af1",
   "metadata": {},
   "source": [
    "## Notice that the columns are different types between the two. We changed the types previously but did not save so we'd have to do that again..."
   ]
  },
  {
   "cell_type": "code",
   "execution_count": 27,
   "id": "9179b387-8976-4410-963f-2c181e42f3b7",
   "metadata": {},
   "outputs": [
    {
     "name": "stdout",
     "output_type": "stream",
     "text": [
      "<class 'pandas.core.frame.DataFrame'>\n",
      "RangeIndex: 215 entries, 0 to 214\n",
      "Data columns (total 9 columns):\n",
      " #   Column      Non-Null Count  Dtype  \n",
      "---  ------      --------------  -----  \n",
      " 0   name        215 non-null    object \n",
      " 1   Gender      215 non-null    object \n",
      " 2   Eye color   215 non-null    object \n",
      " 3   Race        215 non-null    object \n",
      " 4   Hair color  215 non-null    object \n",
      " 5   Height      215 non-null    int64  \n",
      " 6   Publisher   215 non-null    object \n",
      " 7   Alignment   215 non-null    object \n",
      " 8   Weight      144 non-null    float64\n",
      "dtypes: float64(1), int64(1), object(7)\n",
      "memory usage: 15.2+ KB\n"
     ]
    }
   ],
   "source": [
    "hero_dc_csv.info()"
   ]
  },
  {
   "cell_type": "code",
   "execution_count": 28,
   "id": "5c5612a8-dbb5-44d4-a8aa-72e1f0cbc5e6",
   "metadata": {},
   "outputs": [
    {
     "name": "stdout",
     "output_type": "stream",
     "text": [
      "<class 'pandas.core.frame.DataFrame'>\n",
      "RangeIndex: 215 entries, 0 to 214\n",
      "Data columns (total 9 columns):\n",
      " #   Column      Non-Null Count  Dtype   \n",
      "---  ------      --------------  -----   \n",
      " 0   name        215 non-null    string  \n",
      " 1   Gender      215 non-null    category\n",
      " 2   Eye color   215 non-null    string  \n",
      " 3   Race        215 non-null    string  \n",
      " 4   Hair color  215 non-null    string  \n",
      " 5   Height      215 non-null    int64   \n",
      " 6   Publisher   215 non-null    string  \n",
      " 7   Alignment   215 non-null    category\n",
      " 8   Weight      144 non-null    float64 \n",
      "dtypes: category(2), float64(1), int64(1), string(5)\n",
      "memory usage: 12.6 KB\n"
     ]
    }
   ],
   "source": [
    "hero_dc.info()"
   ]
  },
  {
   "cell_type": "markdown",
   "id": "ae0de033-e84f-4d62-ba46-d77e8b20adeb",
   "metadata": {},
   "source": [
    "## Now the Pickle file"
   ]
  },
  {
   "cell_type": "code",
   "execution_count": 29,
   "id": "e8ac24bb-499e-4c51-8cd8-742a5e4e9170",
   "metadata": {},
   "outputs": [],
   "source": [
    "hero_dc_pkl = pd.read_pickle('hero_dc.pkl')"
   ]
  },
  {
   "cell_type": "code",
   "execution_count": 30,
   "id": "90c93148-981a-436d-afd9-39a5742b1f9a",
   "metadata": {},
   "outputs": [
    {
     "name": "stdout",
     "output_type": "stream",
     "text": [
      "<class 'pandas.core.frame.DataFrame'>\n",
      "RangeIndex: 215 entries, 0 to 214\n",
      "Data columns (total 9 columns):\n",
      " #   Column      Non-Null Count  Dtype   \n",
      "---  ------      --------------  -----   \n",
      " 0   name        215 non-null    string  \n",
      " 1   Gender      215 non-null    category\n",
      " 2   Eye color   215 non-null    string  \n",
      " 3   Race        215 non-null    string  \n",
      " 4   Hair color  215 non-null    string  \n",
      " 5   Height      215 non-null    int64   \n",
      " 6   Publisher   215 non-null    string  \n",
      " 7   Alignment   215 non-null    category\n",
      " 8   Weight      144 non-null    float64 \n",
      "dtypes: category(2), float64(1), int64(1), string(5)\n",
      "memory usage: 12.4 KB\n"
     ]
    }
   ],
   "source": [
    "# Notice how the data types here are saved. This is great! \n",
    "hero_dc_pkl.info()"
   ]
  },
  {
   "cell_type": "code",
   "execution_count": null,
   "id": "2838bab1-d5d8-42f9-b2c5-e8478a765161",
   "metadata": {},
   "outputs": [],
   "source": []
  },
  {
   "cell_type": "markdown",
   "id": "63bf2214-08c7-4160-b1c1-37165b39547b",
   "metadata": {},
   "source": [
    "# Never read UNTRUSTWORTHY PICKLE FILES!! This can cause malware."
   ]
  },
  {
   "cell_type": "code",
   "execution_count": 31,
   "id": "ddc4db59-a9d4-409f-b4a4-c31dedf2f439",
   "metadata": {},
   "outputs": [],
   "source": [
    "hero_marvel.to_pickle('hero_marvel.pkl')\n",
    "hero_powers.to_pickle('hero_powers.pkl')"
   ]
  },
  {
   "cell_type": "code",
   "execution_count": null,
   "id": "c70b647a-39e1-404d-b77c-55dbccec9fb0",
   "metadata": {},
   "outputs": [],
   "source": []
  },
  {
   "cell_type": "code",
   "execution_count": null,
   "id": "0d176e18-e2e8-4473-b45f-0217576288f8",
   "metadata": {},
   "outputs": [],
   "source": []
  },
  {
   "cell_type": "code",
   "execution_count": null,
   "id": "43f251ef-7faa-4e0a-bdc5-de5fbec4a7f8",
   "metadata": {},
   "outputs": [],
   "source": []
  },
  {
   "cell_type": "code",
   "execution_count": null,
   "id": "19929447-4c85-49b3-97a3-a1bd1a5678e7",
   "metadata": {},
   "outputs": [],
   "source": []
  },
  {
   "cell_type": "code",
   "execution_count": null,
   "id": "5f1c5e5b-a73b-4caa-8e8d-9f80f9da9152",
   "metadata": {},
   "outputs": [],
   "source": []
  },
  {
   "cell_type": "code",
   "execution_count": null,
   "id": "6e06f9ca-4ce3-4c33-a823-9207e85908a4",
   "metadata": {},
   "outputs": [],
   "source": []
  },
  {
   "cell_type": "code",
   "execution_count": null,
   "id": "8a5c9137-bcea-45fb-be26-f4b0e44e6123",
   "metadata": {},
   "outputs": [],
   "source": []
  },
  {
   "cell_type": "code",
   "execution_count": null,
   "id": "758d96a3-9bb1-4f9b-a369-b421d2c85c4f",
   "metadata": {},
   "outputs": [],
   "source": []
  },
  {
   "cell_type": "code",
   "execution_count": null,
   "id": "d0eacee2-4959-4bc8-8bd5-76edacfa637c",
   "metadata": {},
   "outputs": [],
   "source": []
  },
  {
   "cell_type": "code",
   "execution_count": null,
   "id": "bcbb224f-52f5-4c0b-bdce-6455677b11ac",
   "metadata": {},
   "outputs": [],
   "source": []
  },
  {
   "cell_type": "code",
   "execution_count": null,
   "id": "22ac5871-41f9-49ce-9408-05c3c30fa3c8",
   "metadata": {},
   "outputs": [],
   "source": []
  },
  {
   "cell_type": "code",
   "execution_count": null,
   "id": "f90cfbd0-469b-411d-9d98-ddc269c13e5f",
   "metadata": {},
   "outputs": [],
   "source": []
  },
  {
   "cell_type": "code",
   "execution_count": null,
   "id": "954ecf15-93c9-46e7-81b6-9cbb11dd833f",
   "metadata": {},
   "outputs": [],
   "source": []
  },
  {
   "cell_type": "code",
   "execution_count": null,
   "id": "a6cc580a-8458-4013-8551-e88fd8a4fab0",
   "metadata": {},
   "outputs": [],
   "source": []
  },
  {
   "cell_type": "code",
   "execution_count": null,
   "id": "8da7d7f3-d6c6-4553-90c9-25cc7342abcf",
   "metadata": {},
   "outputs": [],
   "source": []
  },
  {
   "cell_type": "code",
   "execution_count": null,
   "id": "ae1d3b8f-eb85-4bf2-b27e-7cf6a09bc4e7",
   "metadata": {},
   "outputs": [],
   "source": []
  },
  {
   "cell_type": "code",
   "execution_count": null,
   "id": "0472f6e3-46aa-4e8c-bed4-e1d34cdee4b5",
   "metadata": {},
   "outputs": [],
   "source": []
  },
  {
   "cell_type": "code",
   "execution_count": null,
   "id": "b7d6d205-2d9b-43d5-9692-8cb2168525db",
   "metadata": {},
   "outputs": [],
   "source": []
  },
  {
   "cell_type": "code",
   "execution_count": null,
   "id": "3cc9b2e9-36fa-4a77-af33-1e7120f7778f",
   "metadata": {},
   "outputs": [],
   "source": []
  },
  {
   "cell_type": "code",
   "execution_count": null,
   "id": "bd2c6ee0-a947-4482-a7fe-ed50806f8ff9",
   "metadata": {},
   "outputs": [],
   "source": []
  },
  {
   "cell_type": "code",
   "execution_count": null,
   "id": "5dd5dd76-3edb-4b17-ba10-6d95d7a0e497",
   "metadata": {},
   "outputs": [],
   "source": []
  },
  {
   "cell_type": "code",
   "execution_count": null,
   "id": "ac731a55-5d3b-47e5-a5ca-4a9ef2c9a9e9",
   "metadata": {},
   "outputs": [],
   "source": []
  },
  {
   "cell_type": "code",
   "execution_count": null,
   "id": "5c27f90b-ca7b-44aa-b12d-6fe6538efb6b",
   "metadata": {},
   "outputs": [],
   "source": []
  },
  {
   "cell_type": "code",
   "execution_count": null,
   "id": "b17d63fb-14ed-4df8-84f8-7160be0de281",
   "metadata": {},
   "outputs": [],
   "source": []
  },
  {
   "cell_type": "code",
   "execution_count": null,
   "id": "2fadea84-2596-418c-8cba-1b351cd76cf0",
   "metadata": {},
   "outputs": [],
   "source": []
  }
 ],
 "metadata": {
  "kernelspec": {
   "display_name": "Python 3 (ipykernel)",
   "language": "python",
   "name": "python3"
  },
  "language_info": {
   "codemirror_mode": {
    "name": "ipython",
    "version": 3
   },
   "file_extension": ".py",
   "mimetype": "text/x-python",
   "name": "python",
   "nbconvert_exporter": "python",
   "pygments_lexer": "ipython3",
   "version": "3.11.7"
  }
 },
 "nbformat": 4,
 "nbformat_minor": 5
}
