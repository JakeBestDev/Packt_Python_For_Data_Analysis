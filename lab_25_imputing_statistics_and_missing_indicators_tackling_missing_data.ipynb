{
 "cells": [
  {
   "cell_type": "markdown",
   "id": "e850820c-238e-4531-b345-e622dd76c25a",
   "metadata": {},
   "source": [
    "## Tackling Missing Data: Imputing With Statistics and Missing Indicators"
   ]
  },
  {
   "cell_type": "code",
   "execution_count": 7,
   "id": "51aefe71-df67-4332-a9fe-b5bb17e1f942",
   "metadata": {},
   "outputs": [],
   "source": [
    "import pandas as pd\n",
    "wdi = pd.read_pickle('wdi.pkl')\n",
    "numeric_cols = wdi.select_dtypes(include ='number').columns\n",
    "cat_cols = wdi.select_dtypes(exclude = 'number').columns"
   ]
  },
  {
   "cell_type": "markdown",
   "id": "fc80a91c-bc47-42a1-9812-e2ce39f85a02",
   "metadata": {},
   "source": [
    "### fillna() Methods"
   ]
  },
  {
   "cell_type": "code",
   "execution_count": 13,
   "id": "a56ac1f1-7b5c-41d8-b5cf-43ccddd6b13c",
   "metadata": {},
   "outputs": [
    {
     "name": "stdout",
     "output_type": "stream",
     "text": [
      "<class 'pandas.core.frame.DataFrame'>\n",
      "RangeIndex: 434 entries, 0 to 433\n",
      "Data columns (total 19 columns):\n",
      " #   Column                          Non-Null Count  Dtype  \n",
      "---  ------                          --------------  -----  \n",
      " 0   country_name                    434 non-null    object \n",
      " 1   access_to_electricity_pct       434 non-null    float64\n",
      " 2   atms_per_100000                 406 non-null    float64\n",
      " 3   compulsory_education_years      412 non-null    float64\n",
      " 4   health_expenditure_pct_of_gdp   427 non-null    float64\n",
      " 5   gdp_per_capita_usd              434 non-null    float64\n",
      " 6   gdp_per_capita_ppp              434 non-null    float64\n",
      " 7   life_expectancy_female          434 non-null    float64\n",
      " 8   life_expectancy_male            434 non-null    float64\n",
      " 9   life_expectancy                 434 non-null    float64\n",
      " 10  population_density              432 non-null    float64\n",
      " 11  population                      434 non-null    float64\n",
      " 12  alcohol_consumption_per_capita  215 non-null    float64\n",
      " 13  unemployment_rate_female        434 non-null    float64\n",
      " 14  unemployment_rate_male          434 non-null    float64\n",
      " 15  unemployment_rate               434 non-null    float64\n",
      " 16  year                            434 non-null    int64  \n",
      " 17  country_category                282 non-null    object \n",
      " 18  is_region                       434 non-null    int64  \n",
      "dtypes: float64(15), int64(2), object(2)\n",
      "memory usage: 64.6+ KB\n"
     ]
    }
   ],
   "source": [
    "wdi.info()"
   ]
  },
  {
   "cell_type": "markdown",
   "id": "db069ebd-cf4a-47db-87e2-d444ec070648",
   "metadata": {},
   "source": [
    "### Numeric Columns Using fillna() with mean() or median()"
   ]
  },
  {
   "cell_type": "code",
   "execution_count": 10,
   "id": "60ebd23f-adaf-41dd-be5a-2c87990d889b",
   "metadata": {},
   "outputs": [
    {
     "data": {
      "text/plain": [
       "access_to_electricity_pct         8.421552e+01\n",
       "atms_per_100000                   4.812857e+01\n",
       "compulsory_education_years        9.701456e+00\n",
       "health_expenditure_pct_of_gdp     6.433350e+00\n",
       "gdp_per_capita_usd                1.359989e+04\n",
       "gdp_per_capita_ppp                1.992523e+04\n",
       "life_expectancy_female            7.456947e+01\n",
       "life_expectancy_male              6.986652e+01\n",
       "life_expectancy                   7.217627e+01\n",
       "population_density                2.099738e+02\n",
       "population                        3.690135e+08\n",
       "alcohol_consumption_per_capita    6.016516e+00\n",
       "unemployment_rate_female          8.404762e+00\n",
       "unemployment_rate_male            6.465617e+00\n",
       "unemployment_rate                 7.047682e+00\n",
       "year                              2.017500e+03\n",
       "is_region                         2.119816e-01\n",
       "dtype: float64"
      ]
     },
     "execution_count": 10,
     "metadata": {},
     "output_type": "execute_result"
    }
   ],
   "source": [
    "wdi[numeric_cols].mean()"
   ]
  },
  {
   "cell_type": "code",
   "execution_count": 12,
   "id": "0c65a108-b3cf-4e88-9096-1bce803b825a",
   "metadata": {},
   "outputs": [
    {
     "data": {
      "text/plain": [
       "access_to_electricity_pct         9.891294e+01\n",
       "atms_per_100000                   3.941107e+01\n",
       "compulsory_education_years        1.000000e+01\n",
       "health_expenditure_pct_of_gdp     6.006967e+00\n",
       "gdp_per_capita_usd                5.783711e+03\n",
       "gdp_per_capita_ppp                1.310845e+04\n",
       "life_expectancy_female            7.608850e+01\n",
       "life_expectancy_male              7.081350e+01\n",
       "life_expectancy                   7.358550e+01\n",
       "population_density                6.961068e+01\n",
       "population                        1.604842e+07\n",
       "alcohol_consumption_per_capita    5.837431e+00\n",
       "unemployment_rate_female          5.836087e+00\n",
       "unemployment_rate_male            5.351708e+00\n",
       "unemployment_rate                 5.606500e+00\n",
       "year                              2.017500e+03\n",
       "is_region                         0.000000e+00\n",
       "dtype: float64"
      ]
     },
     "execution_count": 12,
     "metadata": {},
     "output_type": "execute_result"
    }
   ],
   "source": [
    "wdi[numeric_cols].median()"
   ]
  },
  {
   "cell_type": "code",
   "execution_count": 14,
   "id": "e04f506a-bef1-4fc1-b798-d4e37d5a6e86",
   "metadata": {},
   "outputs": [],
   "source": [
    "wdi[numeric_cols] = wdi[numeric_cols].fillna(wdi[numeric_cols].mean())"
   ]
  },
  {
   "cell_type": "code",
   "execution_count": 15,
   "id": "4c3c9c00-f1f6-4551-a500-33caf79a9a7e",
   "metadata": {},
   "outputs": [
    {
     "data": {
      "text/plain": [
       "alcohol_consumption_per_capita\n",
       "6.016516     219\n",
       "0.690000       3\n",
       "9.230000       2\n",
       "12.030000      2\n",
       "0.682988       2\n",
       "            ... \n",
       "1.110000       1\n",
       "5.380000       1\n",
       "6.890000       1\n",
       "2.730000       1\n",
       "4.670000       1\n",
       "Name: count, Length: 205, dtype: int64"
      ]
     },
     "execution_count": 15,
     "metadata": {},
     "output_type": "execute_result"
    }
   ],
   "source": [
    "# The value of 6.016516 now has 219 instances in the database. As it was the mean amount and then it was used to replace all NaN values.\n",
    "wdi['alcohol_consumption_per_capita'].value_counts()"
   ]
  },
  {
   "cell_type": "markdown",
   "id": "0a5ac9ed-9a8b-4565-b3d7-529aec08e9c3",
   "metadata": {},
   "source": [
    "### Categorical Columns Finding Most Frequent Value And Assigning To Missing Values Using fillna()"
   ]
  },
  {
   "cell_type": "code",
   "execution_count": 16,
   "id": "569f0edb-07d2-4203-b788-0c6f5e5e7fd1",
   "metadata": {},
   "outputs": [
    {
     "data": {
      "text/html": [
       "<div>\n",
       "<style scoped>\n",
       "    .dataframe tbody tr th:only-of-type {\n",
       "        vertical-align: middle;\n",
       "    }\n",
       "\n",
       "    .dataframe tbody tr th {\n",
       "        vertical-align: top;\n",
       "    }\n",
       "\n",
       "    .dataframe thead th {\n",
       "        text-align: right;\n",
       "    }\n",
       "</style>\n",
       "<table border=\"1\" class=\"dataframe\">\n",
       "  <thead>\n",
       "    <tr style=\"text-align: right;\">\n",
       "      <th></th>\n",
       "      <th>country_name</th>\n",
       "      <th>country_category</th>\n",
       "    </tr>\n",
       "  </thead>\n",
       "  <tbody>\n",
       "    <tr>\n",
       "      <th>0</th>\n",
       "      <td>Afghanistan</td>\n",
       "      <td>DEVELOPING</td>\n",
       "    </tr>\n",
       "    <tr>\n",
       "      <th>1</th>\n",
       "      <td>Albania</td>\n",
       "      <td>DEVELOPING</td>\n",
       "    </tr>\n",
       "    <tr>\n",
       "      <th>2</th>\n",
       "      <td>Algeria</td>\n",
       "      <td>DEVELOPING</td>\n",
       "    </tr>\n",
       "    <tr>\n",
       "      <th>3</th>\n",
       "      <td>Angola</td>\n",
       "      <td>DEVELOPING</td>\n",
       "    </tr>\n",
       "    <tr>\n",
       "      <th>4</th>\n",
       "      <td>Arab World</td>\n",
       "      <td>NaN</td>\n",
       "    </tr>\n",
       "    <tr>\n",
       "      <th>...</th>\n",
       "      <td>...</td>\n",
       "      <td>...</td>\n",
       "    </tr>\n",
       "    <tr>\n",
       "      <th>429</th>\n",
       "      <td>Vietnam</td>\n",
       "      <td>DEVELOPING</td>\n",
       "    </tr>\n",
       "    <tr>\n",
       "      <th>430</th>\n",
       "      <td>West Bank and Gaza</td>\n",
       "      <td>DEVELOPING</td>\n",
       "    </tr>\n",
       "    <tr>\n",
       "      <th>431</th>\n",
       "      <td>World</td>\n",
       "      <td>NaN</td>\n",
       "    </tr>\n",
       "    <tr>\n",
       "      <th>432</th>\n",
       "      <td>Zambia</td>\n",
       "      <td>DEVELOPING</td>\n",
       "    </tr>\n",
       "    <tr>\n",
       "      <th>433</th>\n",
       "      <td>Zimbabwe</td>\n",
       "      <td>DEVELOPING</td>\n",
       "    </tr>\n",
       "  </tbody>\n",
       "</table>\n",
       "<p>434 rows × 2 columns</p>\n",
       "</div>"
      ],
      "text/plain": [
       "           country_name country_category\n",
       "0           Afghanistan       DEVELOPING\n",
       "1               Albania       DEVELOPING\n",
       "2               Algeria       DEVELOPING\n",
       "3                Angola       DEVELOPING\n",
       "4            Arab World              NaN\n",
       "..                  ...              ...\n",
       "429             Vietnam       DEVELOPING\n",
       "430  West Bank and Gaza       DEVELOPING\n",
       "431               World              NaN\n",
       "432              Zambia       DEVELOPING\n",
       "433            Zimbabwe       DEVELOPING\n",
       "\n",
       "[434 rows x 2 columns]"
      ]
     },
     "execution_count": 16,
     "metadata": {},
     "output_type": "execute_result"
    }
   ],
   "source": [
    "wdi[cat_cols]"
   ]
  },
  {
   "cell_type": "code",
   "execution_count": 17,
   "id": "392fa008-061d-450c-ba16-1163d42e96af",
   "metadata": {},
   "outputs": [
    {
     "data": {
      "text/html": [
       "<div>\n",
       "<style scoped>\n",
       "    .dataframe tbody tr th:only-of-type {\n",
       "        vertical-align: middle;\n",
       "    }\n",
       "\n",
       "    .dataframe tbody tr th {\n",
       "        vertical-align: top;\n",
       "    }\n",
       "\n",
       "    .dataframe thead th {\n",
       "        text-align: right;\n",
       "    }\n",
       "</style>\n",
       "<table border=\"1\" class=\"dataframe\">\n",
       "  <thead>\n",
       "    <tr style=\"text-align: right;\">\n",
       "      <th></th>\n",
       "      <th>country_name</th>\n",
       "      <th>country_category</th>\n",
       "    </tr>\n",
       "  </thead>\n",
       "  <tbody>\n",
       "    <tr>\n",
       "      <th>count</th>\n",
       "      <td>434</td>\n",
       "      <td>282</td>\n",
       "    </tr>\n",
       "    <tr>\n",
       "      <th>unique</th>\n",
       "      <td>217</td>\n",
       "      <td>2</td>\n",
       "    </tr>\n",
       "    <tr>\n",
       "      <th>top</th>\n",
       "      <td>Afghanistan</td>\n",
       "      <td>DEVELOPING</td>\n",
       "    </tr>\n",
       "    <tr>\n",
       "      <th>freq</th>\n",
       "      <td>2</td>\n",
       "      <td>224</td>\n",
       "    </tr>\n",
       "  </tbody>\n",
       "</table>\n",
       "</div>"
      ],
      "text/plain": [
       "       country_name country_category\n",
       "count           434              282\n",
       "unique          217                2\n",
       "top     Afghanistan       DEVELOPING\n",
       "freq              2              224"
      ]
     },
     "execution_count": 17,
     "metadata": {},
     "output_type": "execute_result"
    }
   ],
   "source": [
    "# Notice that it gives us a 'top' category. Those are the most frequent categories selected in those columns\n",
    "wdi[cat_cols].describe()"
   ]
  },
  {
   "cell_type": "code",
   "execution_count": 22,
   "id": "75e83c0b-6d20-4692-bde7-42b2857ef63e",
   "metadata": {},
   "outputs": [
    {
     "data": {
      "text/plain": [
       "country_name        Afghanistan\n",
       "country_category     DEVELOPING\n",
       "Name: top, dtype: object"
      ]
     },
     "execution_count": 22,
     "metadata": {},
     "output_type": "execute_result"
    }
   ],
   "source": [
    "# Can use the .loc property on this to grab just the 'top' row. Giving us the most frequent categories.\n",
    "wdi[cat_cols].describe().loc['top']"
   ]
  },
  {
   "cell_type": "code",
   "execution_count": 23,
   "id": "5386d611-1464-48d5-a4b3-a34b5c8e1b40",
   "metadata": {},
   "outputs": [
    {
     "data": {
      "text/plain": [
       "country_name        Afghanistan\n",
       "country_category     DEVELOPING\n",
       "Name: top, dtype: object"
      ]
     },
     "execution_count": 23,
     "metadata": {},
     "output_type": "execute_result"
    }
   ],
   "source": [
    "# We can also use iloc. Needs the indexing, dont forget!\n",
    "wdi[cat_cols].describe().iloc[2]"
   ]
  },
  {
   "cell_type": "code",
   "execution_count": 25,
   "id": "5ede054b-e336-4e7d-af7a-728f78b9a9b9",
   "metadata": {},
   "outputs": [],
   "source": [
    "most_freq = wdi[cat_cols].describe().loc['top']"
   ]
  },
  {
   "cell_type": "code",
   "execution_count": 27,
   "id": "823600b4-746e-4681-8a5e-1880620d0e38",
   "metadata": {},
   "outputs": [],
   "source": [
    "wdi[cat_cols] = wdi[cat_cols].fillna(most_freq)"
   ]
  },
  {
   "cell_type": "code",
   "execution_count": 29,
   "id": "d75cbf84-d016-4ccb-837e-f5327c87b12b",
   "metadata": {},
   "outputs": [
    {
     "data": {
      "text/plain": [
       "country_category\n",
       "DEVELOPING    376\n",
       "DEVELOPED      58\n",
       "Name: count, dtype: int64"
      ]
     },
     "execution_count": 29,
     "metadata": {},
     "output_type": "execute_result"
    }
   ],
   "source": [
    "wdi['country_category'].value_counts(dropna = False)"
   ]
  },
  {
   "cell_type": "markdown",
   "id": "ced699f3-0d83-4c16-8300-60c052c43e9a",
   "metadata": {},
   "source": [
    "### Alright now check out the dataframe using .info() to see if every column has the same number of records and no missing data"
   ]
  },
  {
   "cell_type": "code",
   "execution_count": 31,
   "id": "0b534aa2-d95f-41be-80e0-7552de983a8a",
   "metadata": {},
   "outputs": [
    {
     "name": "stdout",
     "output_type": "stream",
     "text": [
      "<class 'pandas.core.frame.DataFrame'>\n",
      "RangeIndex: 434 entries, 0 to 433\n",
      "Data columns (total 19 columns):\n",
      " #   Column                          Non-Null Count  Dtype  \n",
      "---  ------                          --------------  -----  \n",
      " 0   country_name                    434 non-null    object \n",
      " 1   access_to_electricity_pct       434 non-null    float64\n",
      " 2   atms_per_100000                 434 non-null    float64\n",
      " 3   compulsory_education_years      434 non-null    float64\n",
      " 4   health_expenditure_pct_of_gdp   434 non-null    float64\n",
      " 5   gdp_per_capita_usd              434 non-null    float64\n",
      " 6   gdp_per_capita_ppp              434 non-null    float64\n",
      " 7   life_expectancy_female          434 non-null    float64\n",
      " 8   life_expectancy_male            434 non-null    float64\n",
      " 9   life_expectancy                 434 non-null    float64\n",
      " 10  population_density              434 non-null    float64\n",
      " 11  population                      434 non-null    float64\n",
      " 12  alcohol_consumption_per_capita  434 non-null    float64\n",
      " 13  unemployment_rate_female        434 non-null    float64\n",
      " 14  unemployment_rate_male          434 non-null    float64\n",
      " 15  unemployment_rate               434 non-null    float64\n",
      " 16  year                            434 non-null    int64  \n",
      " 17  country_category                434 non-null    object \n",
      " 18  is_region                       434 non-null    int64  \n",
      "dtypes: float64(15), int64(2), object(2)\n",
      "memory usage: 64.6+ KB\n"
     ]
    }
   ],
   "source": [
    "# Great!\n",
    "wdi.info()"
   ]
  },
  {
   "cell_type": "markdown",
   "id": "e4c0809e-394b-4868-be53-4764e6842e83",
   "metadata": {},
   "source": [
    "## SimpleImputer Method"
   ]
  },
  {
   "cell_type": "code",
   "execution_count": 35,
   "id": "4895ed19-6a11-4ec9-8b8e-4fbea4f42db4",
   "metadata": {},
   "outputs": [],
   "source": [
    "## Reset the dataframe and import SimpleImputer\n",
    "from sklearn.impute import SimpleImputer\n",
    "wdi = pd.read_pickle('wdi.pkl')\n",
    "numeric_cols = wdi.select_dtypes(include ='number').columns\n",
    "cat_cols = wdi.select_dtypes(exclude = 'number').columns"
   ]
  },
  {
   "cell_type": "markdown",
   "id": "6f865b53-b5ad-41db-b870-950fe2cb4619",
   "metadata": {},
   "source": [
    "### Numberic SimpleImputer"
   ]
  },
  {
   "cell_type": "markdown",
   "id": "15f22a0c-5c31-460e-ba67-37d152498001",
   "metadata": {},
   "source": [
    "#### Remember the 3 steps for SimpleImputer\n",
    "###### 1) Set up SimpleImputer class object\n",
    "###### 2) fit_transform the object using the dataframe and assign to a veriable.\n",
    "###### 3) Assign the new variable to your dataframe to update the data."
   ]
  },
  {
   "cell_type": "code",
   "execution_count": 36,
   "id": "a45e7bee-7c8d-4bea-b13b-ced4e4e1d193",
   "metadata": {},
   "outputs": [],
   "source": [
    "# Step 1\n",
    "simple_imp_min = SimpleImputer(strategy= 'mean')"
   ]
  },
  {
   "cell_type": "code",
   "execution_count": 37,
   "id": "441618aa-ff67-4bd6-b828-2b2b7466df0a",
   "metadata": {},
   "outputs": [],
   "source": [
    "# Step 2\n",
    "imputer_num = simple_imp_min.fit_transform(wdi[numeric_cols])"
   ]
  },
  {
   "cell_type": "code",
   "execution_count": 38,
   "id": "6a1d037a-6a41-4343-ac58-d982df4df22e",
   "metadata": {},
   "outputs": [
    {
     "data": {
      "text/plain": [
       "(434, 17)"
      ]
     },
     "execution_count": 38,
     "metadata": {},
     "output_type": "execute_result"
    }
   ],
   "source": [
    "imputer_num.shape"
   ]
  },
  {
   "cell_type": "code",
   "execution_count": 39,
   "id": "c52d0a28-c9c4-4246-9046-c5940e4f9df8",
   "metadata": {},
   "outputs": [
    {
     "data": {
      "text/plain": [
       "(434, 17)"
      ]
     },
     "execution_count": 39,
     "metadata": {},
     "output_type": "execute_result"
    }
   ],
   "source": [
    "wdi[numeric_cols].shape"
   ]
  },
  {
   "cell_type": "code",
   "execution_count": 40,
   "id": "560a8e3d-f812-42cf-9369-1e9ad494a93d",
   "metadata": {},
   "outputs": [],
   "source": [
    "#Step 3\n",
    "wdi[numeric_cols] = imputer_num"
   ]
  },
  {
   "cell_type": "code",
   "execution_count": 41,
   "id": "d8d3f5ed-a4b8-498b-abf3-315a6151ee1b",
   "metadata": {},
   "outputs": [
    {
     "data": {
      "text/plain": [
       "alcohol_consumption_per_capita\n",
       "6.016516     219\n",
       "0.690000       3\n",
       "9.230000       2\n",
       "12.030000      2\n",
       "0.682988       2\n",
       "            ... \n",
       "1.110000       1\n",
       "5.380000       1\n",
       "6.890000       1\n",
       "2.730000       1\n",
       "4.670000       1\n",
       "Name: count, Length: 205, dtype: int64"
      ]
     },
     "execution_count": 41,
     "metadata": {},
     "output_type": "execute_result"
    }
   ],
   "source": [
    "# Check\n",
    "# Notice that there are 219 instances of 6.016516. The means using the SimpleImputer has replaced the NaN values.\n",
    "wdi['alcohol_consumption_per_capita'].value_counts()"
   ]
  },
  {
   "cell_type": "markdown",
   "id": "cce16024-0af8-4fb1-b917-3e3286114ae0",
   "metadata": {},
   "source": [
    "## Categorical SimpleImputer"
   ]
  },
  {
   "cell_type": "markdown",
   "id": "0bacde11-19ad-43ff-bfce-cf1eaae4db8a",
   "metadata": {},
   "source": [
    "#### Don't forget the steps for SimpleImputer\n",
    "###### 1) Set SimpleImputer class object\n",
    "###### 2) fit_transform the dataframe to the SimpleImputer and then assign to variable\n",
    "###### 3) Update the Dataframe with the variable created in step 2"
   ]
  },
  {
   "cell_type": "code",
   "execution_count": 42,
   "id": "9375b9db-327c-4e42-993d-0320fcceac5f",
   "metadata": {},
   "outputs": [],
   "source": [
    "# Step 1\n",
    "most_freq_imp = SimpleImputer(strategy='most_frequent')"
   ]
  },
  {
   "cell_type": "code",
   "execution_count": 43,
   "id": "7608f511-79f8-4bd9-87ff-f1f1da7aed63",
   "metadata": {},
   "outputs": [],
   "source": [
    "# Step 2\n",
    "imputer_cat = most_freq_imp.fit_transform(wdi[cat_cols])"
   ]
  },
  {
   "cell_type": "code",
   "execution_count": 44,
   "id": "bd190219-eca0-44e6-bd00-3ee122f20073",
   "metadata": {},
   "outputs": [],
   "source": [
    "# Step 3\n",
    "wdi[cat_cols] = imputer_cat"
   ]
  },
  {
   "cell_type": "code",
   "execution_count": 46,
   "id": "c2e4142c-f893-46a0-b03e-131944c1a718",
   "metadata": {},
   "outputs": [
    {
     "data": {
      "text/plain": [
       "country_category\n",
       "DEVELOPING    376\n",
       "DEVELOPED      58\n",
       "Name: count, dtype: int64"
      ]
     },
     "execution_count": 46,
     "metadata": {},
     "output_type": "execute_result"
    }
   ],
   "source": [
    "# Check\n",
    "wdi['country_category'].value_counts()"
   ]
  },
  {
   "cell_type": "markdown",
   "id": "227f55cf-e506-4152-9679-998e73de3ccb",
   "metadata": {},
   "source": [
    "### Alright! Lets check the dataframe to see if there is any missing data"
   ]
  },
  {
   "cell_type": "code",
   "execution_count": 47,
   "id": "35c5c655-a929-48a3-b2fa-2d864a38c240",
   "metadata": {},
   "outputs": [
    {
     "name": "stdout",
     "output_type": "stream",
     "text": [
      "<class 'pandas.core.frame.DataFrame'>\n",
      "RangeIndex: 434 entries, 0 to 433\n",
      "Data columns (total 19 columns):\n",
      " #   Column                          Non-Null Count  Dtype  \n",
      "---  ------                          --------------  -----  \n",
      " 0   country_name                    434 non-null    object \n",
      " 1   access_to_electricity_pct       434 non-null    float64\n",
      " 2   atms_per_100000                 434 non-null    float64\n",
      " 3   compulsory_education_years      434 non-null    float64\n",
      " 4   health_expenditure_pct_of_gdp   434 non-null    float64\n",
      " 5   gdp_per_capita_usd              434 non-null    float64\n",
      " 6   gdp_per_capita_ppp              434 non-null    float64\n",
      " 7   life_expectancy_female          434 non-null    float64\n",
      " 8   life_expectancy_male            434 non-null    float64\n",
      " 9   life_expectancy                 434 non-null    float64\n",
      " 10  population_density              434 non-null    float64\n",
      " 11  population                      434 non-null    float64\n",
      " 12  alcohol_consumption_per_capita  434 non-null    float64\n",
      " 13  unemployment_rate_female        434 non-null    float64\n",
      " 14  unemployment_rate_male          434 non-null    float64\n",
      " 15  unemployment_rate               434 non-null    float64\n",
      " 16  year                            434 non-null    float64\n",
      " 17  country_category                434 non-null    object \n",
      " 18  is_region                       434 non-null    float64\n",
      "dtypes: float64(17), object(2)\n",
      "memory usage: 64.6+ KB\n"
     ]
    }
   ],
   "source": [
    "wdi.info()"
   ]
  },
  {
   "cell_type": "markdown",
   "id": "b17ba27c-9674-420f-9cd1-529bca45ffcd",
   "metadata": {},
   "source": [
    "## How To Mark Missing Data Using SimpleImputer"
   ]
  },
  {
   "cell_type": "code",
   "execution_count": 49,
   "id": "6db55cec-68e2-4bd7-aebf-f85473dbe467",
   "metadata": {},
   "outputs": [],
   "source": [
    "# Reset the dataframe to have missing values\n",
    "wdi = pd.read_pickle('wdi.pkl')\n",
    "numeric_cols = wdi.select_dtypes(include ='number').columns\n",
    "cat_cols = wdi.select_dtypes(exclude = 'number').columns"
   ]
  },
  {
   "cell_type": "code",
   "execution_count": 51,
   "id": "fd1e8021-358c-46dd-b604-f64db1d55f92",
   "metadata": {},
   "outputs": [],
   "source": [
    "# Using the add_indicator where if True will account for missing data despite imputation. - Found using documentation using shift+tab next to 'mean' \n",
    "simple_imp_ind = SimpleImputer(strategy='mean',add_indicator = True)"
   ]
  },
  {
   "cell_type": "code",
   "execution_count": 52,
   "id": "9e3e1d00-1476-45f6-8696-762ea838fdfd",
   "metadata": {},
   "outputs": [
    {
     "data": {
      "text/html": [
       "<div>\n",
       "<style scoped>\n",
       "    .dataframe tbody tr th:only-of-type {\n",
       "        vertical-align: middle;\n",
       "    }\n",
       "\n",
       "    .dataframe tbody tr th {\n",
       "        vertical-align: top;\n",
       "    }\n",
       "\n",
       "    .dataframe thead th {\n",
       "        text-align: right;\n",
       "    }\n",
       "</style>\n",
       "<table border=\"1\" class=\"dataframe\">\n",
       "  <thead>\n",
       "    <tr style=\"text-align: right;\">\n",
       "      <th></th>\n",
       "      <th>compulsory_education_years</th>\n",
       "    </tr>\n",
       "  </thead>\n",
       "  <tbody>\n",
       "    <tr>\n",
       "      <th>0</th>\n",
       "      <td>9.0</td>\n",
       "    </tr>\n",
       "    <tr>\n",
       "      <th>1</th>\n",
       "      <td>9.0</td>\n",
       "    </tr>\n",
       "    <tr>\n",
       "      <th>2</th>\n",
       "      <td>10.0</td>\n",
       "    </tr>\n",
       "    <tr>\n",
       "      <th>3</th>\n",
       "      <td>6.0</td>\n",
       "    </tr>\n",
       "    <tr>\n",
       "      <th>4</th>\n",
       "      <td>9.0</td>\n",
       "    </tr>\n",
       "    <tr>\n",
       "      <th>...</th>\n",
       "      <td>...</td>\n",
       "    </tr>\n",
       "    <tr>\n",
       "      <th>429</th>\n",
       "      <td>10.0</td>\n",
       "    </tr>\n",
       "    <tr>\n",
       "      <th>430</th>\n",
       "      <td>10.0</td>\n",
       "    </tr>\n",
       "    <tr>\n",
       "      <th>431</th>\n",
       "      <td>10.0</td>\n",
       "    </tr>\n",
       "    <tr>\n",
       "      <th>432</th>\n",
       "      <td>7.0</td>\n",
       "    </tr>\n",
       "    <tr>\n",
       "      <th>433</th>\n",
       "      <td>7.0</td>\n",
       "    </tr>\n",
       "  </tbody>\n",
       "</table>\n",
       "<p>434 rows × 1 columns</p>\n",
       "</div>"
      ],
      "text/plain": [
       "     compulsory_education_years\n",
       "0                           9.0\n",
       "1                           9.0\n",
       "2                          10.0\n",
       "3                           6.0\n",
       "4                           9.0\n",
       "..                          ...\n",
       "429                        10.0\n",
       "430                        10.0\n",
       "431                        10.0\n",
       "432                         7.0\n",
       "433                         7.0\n",
       "\n",
       "[434 rows x 1 columns]"
      ]
     },
     "execution_count": 52,
     "metadata": {},
     "output_type": "execute_result"
    }
   ],
   "source": [
    "wdi[['compulsory_education_years']]"
   ]
  },
  {
   "cell_type": "code",
   "execution_count": 53,
   "id": "dd065cd3-c3dc-428d-866d-4d5730f8bc13",
   "metadata": {},
   "outputs": [],
   "source": [
    "## Using just one column to make it more clear as to whats happening. \n",
    "# Remember to use 2 [] for the single column since if just one is used it will be a series, not a dataframe, whcih is what we need to use fit_transform.\n",
    "imputed_ind = simple_imp_ind.fit_transform(wdi[['compulsory_education_years']])"
   ]
  },
  {
   "cell_type": "code",
   "execution_count": 57,
   "id": "c64b83e3-7ad4-43b9-9fc9-1476b98cd587",
   "metadata": {},
   "outputs": [
    {
     "data": {
      "text/plain": [
       "array([[ 9.        ,  0.        ],\n",
       "       [ 9.        ,  0.        ],\n",
       "       [10.        ,  0.        ],\n",
       "       [ 6.        ,  0.        ],\n",
       "       [ 9.        ,  0.        ],\n",
       "       [14.        ,  0.        ],\n",
       "       [12.        ,  0.        ],\n",
       "       [10.        ,  0.        ],\n",
       "       [13.        ,  0.        ],\n",
       "       [10.        ,  0.        ],\n",
       "       [12.        ,  0.        ],\n",
       "       [ 9.        ,  0.        ],\n",
       "       [ 5.        ,  0.        ],\n",
       "       [11.        ,  0.        ],\n",
       "       [ 9.        ,  0.        ],\n",
       "       [12.        ,  0.        ],\n",
       "       [ 8.        ,  0.        ],\n",
       "       [ 6.        ,  0.        ],\n",
       "       [ 9.70145631,  1.        ],\n",
       "       [14.        ,  0.        ]])"
      ]
     },
     "execution_count": 57,
     "metadata": {},
     "output_type": "execute_result"
    }
   ],
   "source": [
    "## Using slicing to show the second column(head won't work). Notice the 0's and the 1's. A 1 indicated a change was made in that row where a 0 means it was unchanged.\n",
    "# So 9.70145631 for example was changed to have the mean as indicated by the 1 in the 2nd column\n",
    "imputed_ind[:20]"
   ]
  },
  {
   "cell_type": "code",
   "execution_count": 58,
   "id": "c34ea595-0d0b-4b27-ab9a-5d2f0d494af3",
   "metadata": {},
   "outputs": [
    {
     "data": {
      "text/plain": [
       "(434, 2)"
      ]
     },
     "execution_count": 58,
     "metadata": {},
     "output_type": "execute_result"
    }
   ],
   "source": [
    "imputed_ind.shape"
   ]
  },
  {
   "cell_type": "code",
   "execution_count": 61,
   "id": "f543923f-7ff4-4409-9ef8-05b7c145d05b",
   "metadata": {},
   "outputs": [],
   "source": [
    "# Need to create a 2nd column to add the imputed data as there is now a 2nd column showing which columns changed\n",
    "# We created 'compulsory_education_years_missing'\n",
    "wdi[['compulsory_education_years','compulsory_education_years_missing']] = imputed_ind"
   ]
  },
  {
   "cell_type": "code",
   "execution_count": 63,
   "id": "e97654ce-6287-4ead-a8f1-b99f0a3fe71a",
   "metadata": {},
   "outputs": [
    {
     "data": {
      "text/html": [
       "<div>\n",
       "<style scoped>\n",
       "    .dataframe tbody tr th:only-of-type {\n",
       "        vertical-align: middle;\n",
       "    }\n",
       "\n",
       "    .dataframe tbody tr th {\n",
       "        vertical-align: top;\n",
       "    }\n",
       "\n",
       "    .dataframe thead th {\n",
       "        text-align: right;\n",
       "    }\n",
       "</style>\n",
       "<table border=\"1\" class=\"dataframe\">\n",
       "  <thead>\n",
       "    <tr style=\"text-align: right;\">\n",
       "      <th></th>\n",
       "      <th>compulsory_education_years</th>\n",
       "      <th>compulsory_education_years_missing</th>\n",
       "    </tr>\n",
       "  </thead>\n",
       "  <tbody>\n",
       "    <tr>\n",
       "      <th>0</th>\n",
       "      <td>9.000000</td>\n",
       "      <td>0.0</td>\n",
       "    </tr>\n",
       "    <tr>\n",
       "      <th>1</th>\n",
       "      <td>9.000000</td>\n",
       "      <td>0.0</td>\n",
       "    </tr>\n",
       "    <tr>\n",
       "      <th>2</th>\n",
       "      <td>10.000000</td>\n",
       "      <td>0.0</td>\n",
       "    </tr>\n",
       "    <tr>\n",
       "      <th>3</th>\n",
       "      <td>6.000000</td>\n",
       "      <td>0.0</td>\n",
       "    </tr>\n",
       "    <tr>\n",
       "      <th>4</th>\n",
       "      <td>9.000000</td>\n",
       "      <td>0.0</td>\n",
       "    </tr>\n",
       "    <tr>\n",
       "      <th>5</th>\n",
       "      <td>14.000000</td>\n",
       "      <td>0.0</td>\n",
       "    </tr>\n",
       "    <tr>\n",
       "      <th>6</th>\n",
       "      <td>12.000000</td>\n",
       "      <td>0.0</td>\n",
       "    </tr>\n",
       "    <tr>\n",
       "      <th>7</th>\n",
       "      <td>10.000000</td>\n",
       "      <td>0.0</td>\n",
       "    </tr>\n",
       "    <tr>\n",
       "      <th>8</th>\n",
       "      <td>13.000000</td>\n",
       "      <td>0.0</td>\n",
       "    </tr>\n",
       "    <tr>\n",
       "      <th>9</th>\n",
       "      <td>10.000000</td>\n",
       "      <td>0.0</td>\n",
       "    </tr>\n",
       "    <tr>\n",
       "      <th>10</th>\n",
       "      <td>12.000000</td>\n",
       "      <td>0.0</td>\n",
       "    </tr>\n",
       "    <tr>\n",
       "      <th>11</th>\n",
       "      <td>9.000000</td>\n",
       "      <td>0.0</td>\n",
       "    </tr>\n",
       "    <tr>\n",
       "      <th>12</th>\n",
       "      <td>5.000000</td>\n",
       "      <td>0.0</td>\n",
       "    </tr>\n",
       "    <tr>\n",
       "      <th>13</th>\n",
       "      <td>11.000000</td>\n",
       "      <td>0.0</td>\n",
       "    </tr>\n",
       "    <tr>\n",
       "      <th>14</th>\n",
       "      <td>9.000000</td>\n",
       "      <td>0.0</td>\n",
       "    </tr>\n",
       "    <tr>\n",
       "      <th>15</th>\n",
       "      <td>12.000000</td>\n",
       "      <td>0.0</td>\n",
       "    </tr>\n",
       "    <tr>\n",
       "      <th>16</th>\n",
       "      <td>8.000000</td>\n",
       "      <td>0.0</td>\n",
       "    </tr>\n",
       "    <tr>\n",
       "      <th>17</th>\n",
       "      <td>6.000000</td>\n",
       "      <td>0.0</td>\n",
       "    </tr>\n",
       "    <tr>\n",
       "      <th>18</th>\n",
       "      <td>9.701456</td>\n",
       "      <td>1.0</td>\n",
       "    </tr>\n",
       "    <tr>\n",
       "      <th>19</th>\n",
       "      <td>14.000000</td>\n",
       "      <td>0.0</td>\n",
       "    </tr>\n",
       "  </tbody>\n",
       "</table>\n",
       "</div>"
      ],
      "text/plain": [
       "    compulsory_education_years  compulsory_education_years_missing\n",
       "0                     9.000000                                 0.0\n",
       "1                     9.000000                                 0.0\n",
       "2                    10.000000                                 0.0\n",
       "3                     6.000000                                 0.0\n",
       "4                     9.000000                                 0.0\n",
       "5                    14.000000                                 0.0\n",
       "6                    12.000000                                 0.0\n",
       "7                    10.000000                                 0.0\n",
       "8                    13.000000                                 0.0\n",
       "9                    10.000000                                 0.0\n",
       "10                   12.000000                                 0.0\n",
       "11                    9.000000                                 0.0\n",
       "12                    5.000000                                 0.0\n",
       "13                   11.000000                                 0.0\n",
       "14                    9.000000                                 0.0\n",
       "15                   12.000000                                 0.0\n",
       "16                    8.000000                                 0.0\n",
       "17                    6.000000                                 0.0\n",
       "18                    9.701456                                 1.0\n",
       "19                   14.000000                                 0.0"
      ]
     },
     "execution_count": 63,
     "metadata": {},
     "output_type": "execute_result"
    }
   ],
   "source": [
    "# So now we can see in our actual dataframe a record of the rows that were modified.\n",
    "# Like in row 18. It has a 1\n",
    "# This is how the add_indicator works within SimpleImputer\n",
    "wdi[['compulsory_education_years','compulsory_education_years_missing']].head(20)"
   ]
  },
  {
   "cell_type": "code",
   "execution_count": null,
   "id": "df6be035-ef54-49a2-9202-555c8c514030",
   "metadata": {},
   "outputs": [],
   "source": []
  },
  {
   "cell_type": "code",
   "execution_count": null,
   "id": "36ba03e9-797d-464b-9c12-5bff21a42f7f",
   "metadata": {},
   "outputs": [],
   "source": []
  },
  {
   "cell_type": "code",
   "execution_count": null,
   "id": "b40bad8c-c093-427e-bc4c-77ce33bd4a73",
   "metadata": {},
   "outputs": [],
   "source": []
  },
  {
   "cell_type": "code",
   "execution_count": null,
   "id": "1ea66a8b-f79c-43ec-b0af-3158f0fb5ad9",
   "metadata": {},
   "outputs": [],
   "source": []
  },
  {
   "cell_type": "code",
   "execution_count": null,
   "id": "ab97f405-57aa-496b-85e4-f8604905b5ba",
   "metadata": {},
   "outputs": [],
   "source": []
  },
  {
   "cell_type": "code",
   "execution_count": null,
   "id": "6ed0dc5c-248b-44c7-b10f-65bd0152a102",
   "metadata": {},
   "outputs": [],
   "source": []
  },
  {
   "cell_type": "code",
   "execution_count": null,
   "id": "b101ffdc-bce2-4d72-a448-e88aac466081",
   "metadata": {},
   "outputs": [],
   "source": []
  },
  {
   "cell_type": "code",
   "execution_count": null,
   "id": "fe3ee316-93fd-4f5a-8dd9-bee7b43d1588",
   "metadata": {},
   "outputs": [],
   "source": []
  },
  {
   "cell_type": "code",
   "execution_count": null,
   "id": "fd030e2e-5407-4927-9bb4-74659d09d963",
   "metadata": {},
   "outputs": [],
   "source": []
  },
  {
   "cell_type": "code",
   "execution_count": null,
   "id": "b9d301e8-57c3-450f-8c87-7d334a0ba76f",
   "metadata": {},
   "outputs": [],
   "source": []
  }
 ],
 "metadata": {
  "kernelspec": {
   "display_name": "Python 3 (ipykernel)",
   "language": "python",
   "name": "python3"
  },
  "language_info": {
   "codemirror_mode": {
    "name": "ipython",
    "version": 3
   },
   "file_extension": ".py",
   "mimetype": "text/x-python",
   "name": "python",
   "nbconvert_exporter": "python",
   "pygments_lexer": "ipython3",
   "version": "3.11.7"
  }
 },
 "nbformat": 4,
 "nbformat_minor": 5
}
