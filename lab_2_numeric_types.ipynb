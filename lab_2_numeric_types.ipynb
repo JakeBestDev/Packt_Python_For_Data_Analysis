{
 "cells": [
  {
   "cell_type": "code",
   "execution_count": 1,
   "id": "f8c4c320-f43d-4ba4-b160-843469e91b5a",
   "metadata": {},
   "outputs": [
    {
     "data": {
      "text/plain": [
       "2"
      ]
     },
     "execution_count": 1,
     "metadata": {},
     "output_type": "execute_result"
    }
   ],
   "source": [
    "1+1"
   ]
  },
  {
   "cell_type": "code",
   "execution_count": 2,
   "id": "05b5a4ab-706a-4db1-b275-f7308b29a0c5",
   "metadata": {},
   "outputs": [
    {
     "data": {
      "text/plain": [
       "-4"
      ]
     },
     "execution_count": 2,
     "metadata": {},
     "output_type": "execute_result"
    }
   ],
   "source": [
    "5-9"
   ]
  },
  {
   "cell_type": "code",
   "execution_count": 3,
   "id": "62c7dfb7-9f14-4261-9fb4-9e63775aa577",
   "metadata": {},
   "outputs": [
    {
     "data": {
      "text/plain": [
       "-2.0"
      ]
     },
     "execution_count": 3,
     "metadata": {},
     "output_type": "execute_result"
    }
   ],
   "source": [
    "-4/2"
   ]
  },
  {
   "cell_type": "code",
   "execution_count": 4,
   "id": "2d86d8cc-96ff-4bb4-8481-f4b3a3dd30ca",
   "metadata": {},
   "outputs": [
    {
     "data": {
      "text/plain": [
       "0.6451612903225806"
      ]
     },
     "execution_count": 4,
     "metadata": {},
     "output_type": "execute_result"
    }
   ],
   "source": [
    "2.0/3.1"
   ]
  },
  {
   "cell_type": "markdown",
   "id": "7ff9774c-9bc9-425e-bc18-1a2961d40cb2",
   "metadata": {},
   "source": [
    "exponent"
   ]
  },
  {
   "cell_type": "code",
   "execution_count": 5,
   "id": "47074c59-4856-41c1-ab88-2b64511e64d0",
   "metadata": {},
   "outputs": [
    {
     "data": {
      "text/plain": [
       "8"
      ]
     },
     "execution_count": 5,
     "metadata": {},
     "output_type": "execute_result"
    }
   ],
   "source": [
    "2**3"
   ]
  },
  {
   "cell_type": "code",
   "execution_count": 7,
   "id": "93fd5d96-9f18-4cc6-86ed-02df82ef779d",
   "metadata": {},
   "outputs": [
    {
     "data": {
      "text/plain": [
       "12"
      ]
     },
     "execution_count": 7,
     "metadata": {},
     "output_type": "execute_result"
    }
   ],
   "source": [
    "(2+1)*4"
   ]
  },
  {
   "cell_type": "markdown",
   "id": "8a7b566c-c4e3-4d65-99db-921ce029d18d",
   "metadata": {},
   "source": [
    "Modulo -  returns the remainder"
   ]
  },
  {
   "cell_type": "code",
   "execution_count": 9,
   "id": "5202e09e-85a0-4184-b1a7-8c5b342fb0ce",
   "metadata": {},
   "outputs": [
    {
     "data": {
      "text/plain": [
       "1"
      ]
     },
     "execution_count": 9,
     "metadata": {},
     "output_type": "execute_result"
    }
   ],
   "source": [
    "7%3"
   ]
  },
  {
   "cell_type": "code",
   "execution_count": 10,
   "id": "91108423-6322-4c44-b77a-fdb909ad9f81",
   "metadata": {},
   "outputs": [
    {
     "data": {
      "text/plain": [
       "0"
      ]
     },
     "execution_count": 10,
     "metadata": {},
     "output_type": "execute_result"
    }
   ],
   "source": [
    "50%2"
   ]
  },
  {
   "cell_type": "markdown",
   "id": "34841765-870a-4d8f-987b-8ded1f7577c3",
   "metadata": {},
   "source": [
    "Variables"
   ]
  },
  {
   "cell_type": "code",
   "execution_count": 12,
   "id": "2cbfcae1-8324-4af9-b2b0-7d3a1b585658",
   "metadata": {},
   "outputs": [],
   "source": [
    "x=7\n",
    "y='data'"
   ]
  },
  {
   "cell_type": "code",
   "execution_count": 13,
   "id": "e5065514-1c32-41b0-8716-977ddbb14169",
   "metadata": {},
   "outputs": [
    {
     "data": {
      "text/plain": [
       "7"
      ]
     },
     "execution_count": 13,
     "metadata": {},
     "output_type": "execute_result"
    }
   ],
   "source": [
    "x"
   ]
  },
  {
   "cell_type": "code",
   "execution_count": 14,
   "id": "95239688-593d-4b5a-b59f-843d92c08fe1",
   "metadata": {},
   "outputs": [
    {
     "data": {
      "text/plain": [
       "'data'"
      ]
     },
     "execution_count": 14,
     "metadata": {},
     "output_type": "execute_result"
    }
   ],
   "source": [
    "y"
   ]
  },
  {
   "cell_type": "code",
   "execution_count": null,
   "id": "f6209fb2-bfaa-4c6d-ae0d-5032cca71594",
   "metadata": {},
   "outputs": [],
   "source": []
  },
  {
   "cell_type": "code",
   "execution_count": null,
   "id": "e3f4f190-d308-4d17-8323-aeb42fab8371",
   "metadata": {},
   "outputs": [],
   "source": []
  },
  {
   "cell_type": "code",
   "execution_count": null,
   "id": "f3eb8541-fb70-4f40-a1f1-bdcfe8cb3d2d",
   "metadata": {},
   "outputs": [],
   "source": []
  },
  {
   "cell_type": "code",
   "execution_count": null,
   "id": "021d9ef1-0035-4808-ac70-7af03c790d49",
   "metadata": {},
   "outputs": [],
   "source": []
  },
  {
   "cell_type": "code",
   "execution_count": null,
   "id": "2ffd6f05-a0a5-41bd-ab5e-254cfad800fb",
   "metadata": {},
   "outputs": [],
   "source": []
  },
  {
   "cell_type": "code",
   "execution_count": null,
   "id": "ef9f7844-8177-414b-906d-2f86e73e47a4",
   "metadata": {},
   "outputs": [],
   "source": []
  },
  {
   "cell_type": "code",
   "execution_count": null,
   "id": "3c59ef2a-0151-410c-b9f1-55fa3fbc3b56",
   "metadata": {},
   "outputs": [],
   "source": []
  }
 ],
 "metadata": {
  "kernelspec": {
   "display_name": "Python 3 (ipykernel)",
   "language": "python",
   "name": "python3"
  },
  "language_info": {
   "codemirror_mode": {
    "name": "ipython",
    "version": 3
   },
   "file_extension": ".py",
   "mimetype": "text/x-python",
   "name": "python",
   "nbconvert_exporter": "python",
   "pygments_lexer": "ipython3",
   "version": "3.11.7"
  }
 },
 "nbformat": 4,
 "nbformat_minor": 5
}
