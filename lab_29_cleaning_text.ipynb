{
 "cells": [
  {
   "cell_type": "markdown",
   "id": "d3eca04b-381a-4667-87ec-b1bd15397c09",
   "metadata": {},
   "source": [
    "## Cleaning Text"
   ]
  },
  {
   "cell_type": "code",
   "execution_count": 1,
   "id": "68b7596e-0643-4505-8b7b-b440e74d7ae8",
   "metadata": {},
   "outputs": [],
   "source": [
    "import pandas as pd"
   ]
  },
  {
   "cell_type": "code",
   "execution_count": 2,
   "id": "1a31c358-835f-4ea6-98f0-577014c01f04",
   "metadata": {},
   "outputs": [],
   "source": [
    "## Using the nyc_federal_taxi.csv for this lesson\n",
    "taxi = pd.read_csv('nyc_federal_taxi.csv')"
   ]
  },
  {
   "cell_type": "code",
   "execution_count": 3,
   "id": "9e364828-081c-41f6-8a3d-a3e6bacb96ad",
   "metadata": {},
   "outputs": [
    {
     "data": {
      "text/html": [
       "<div>\n",
       "<style scoped>\n",
       "    .dataframe tbody tr th:only-of-type {\n",
       "        vertical-align: middle;\n",
       "    }\n",
       "\n",
       "    .dataframe tbody tr th {\n",
       "        vertical-align: top;\n",
       "    }\n",
       "\n",
       "    .dataframe thead th {\n",
       "        text-align: right;\n",
       "    }\n",
       "</style>\n",
       "<table border=\"1\" class=\"dataframe\">\n",
       "  <thead>\n",
       "    <tr style=\"text-align: right;\">\n",
       "      <th></th>\n",
       "      <th>Date</th>\n",
       "      <th>Time</th>\n",
       "      <th>PU_Address</th>\n",
       "      <th>DO_Address</th>\n",
       "      <th>Routing Details</th>\n",
       "      <th>PU_Address.1</th>\n",
       "      <th>Status</th>\n",
       "    </tr>\n",
       "  </thead>\n",
       "  <tbody>\n",
       "    <tr>\n",
       "      <th>0</th>\n",
       "      <td>07/01/2014</td>\n",
       "      <td>07:15 AM</td>\n",
       "      <td>Brooklyn Museum, 200 Eastern Pkwy., BK NY;</td>\n",
       "      <td>1 Brookdale Plaza, BK NY;</td>\n",
       "      <td>PU: Brooklyn Museum, 200 Eastern Pkwy., BK NY;...</td>\n",
       "      <td>Brooklyn Museum, 200 Eastern Pkwy., BK NY; DO:...</td>\n",
       "      <td>Cancelled</td>\n",
       "    </tr>\n",
       "    <tr>\n",
       "      <th>1</th>\n",
       "      <td>07/01/2014</td>\n",
       "      <td>07:30 AM</td>\n",
       "      <td>33 Robert Dr., Short Hills NJ;</td>\n",
       "      <td>John F Kennedy International Airport, vitona A...</td>\n",
       "      <td>PU: 33 Robert Dr., Short Hills NJ; DO: John F ...</td>\n",
       "      <td>33 Robert Dr., Short Hills NJ; DO: John F Kenn...</td>\n",
       "      <td>Arrived</td>\n",
       "    </tr>\n",
       "    <tr>\n",
       "      <th>2</th>\n",
       "      <td>07/01/2014</td>\n",
       "      <td>08:00 AM</td>\n",
       "      <td>60 Glenmore Ave., BK NY;</td>\n",
       "      <td>2171 Nostrand Ave., BK NY;</td>\n",
       "      <td>PU: 60 Glenmore Ave., BK NY; DO: 2171 Nostrand...</td>\n",
       "      <td>60 Glenmore Ave., BK NY; DO: 2171 Nostrand Ave...</td>\n",
       "      <td>Assigned</td>\n",
       "    </tr>\n",
       "    <tr>\n",
       "      <th>3</th>\n",
       "      <td>07/01/2014</td>\n",
       "      <td>09:00 AM</td>\n",
       "      <td>128 East 31 St., BK NY;</td>\n",
       "      <td>369 93rd St., BK NY;</td>\n",
       "      <td>PU: 128 East 31 St., BK NY; DO: 369 93rd St., ...</td>\n",
       "      <td>128 East 31 St., BK NY; DO: 369 93rd St., BK NY;</td>\n",
       "      <td>Assigned</td>\n",
       "    </tr>\n",
       "    <tr>\n",
       "      <th>4</th>\n",
       "      <td>07/01/2014</td>\n",
       "      <td>09:30 AM</td>\n",
       "      <td>139-39 35 ave., Flushing NY;</td>\n",
       "      <td>La Guardia Airport;</td>\n",
       "      <td>PU: 139-39 35 Ave., Flushing NY; DO: La Guardi...</td>\n",
       "      <td>139-39 35 Ave., Flushing NY; DO: La Guardia Ai...</td>\n",
       "      <td>Assigned</td>\n",
       "    </tr>\n",
       "  </tbody>\n",
       "</table>\n",
       "</div>"
      ],
      "text/plain": [
       "         Date      Time                                  PU_Address  \\\n",
       "0  07/01/2014  07:15 AM  Brooklyn Museum, 200 Eastern Pkwy., BK NY;   \n",
       "1  07/01/2014  07:30 AM              33 Robert Dr., Short Hills NJ;   \n",
       "2  07/01/2014  08:00 AM                   60 Glenmore Ave., BK NY;    \n",
       "3  07/01/2014  09:00 AM                     128 East 31 St., BK NY;   \n",
       "4  07/01/2014  09:30 AM                139-39 35 ave., Flushing NY;   \n",
       "\n",
       "                                          DO_Address  \\\n",
       "0                         1 Brookdale Plaza, BK NY;    \n",
       "1  John F Kennedy International Airport, vitona A...   \n",
       "2                        2171 Nostrand Ave., BK NY;    \n",
       "3                              369 93rd St., BK NY;    \n",
       "4                               La Guardia Airport;    \n",
       "\n",
       "                                     Routing Details  \\\n",
       "0  PU: Brooklyn Museum, 200 Eastern Pkwy., BK NY;...   \n",
       "1  PU: 33 Robert Dr., Short Hills NJ; DO: John F ...   \n",
       "2  PU: 60 Glenmore Ave., BK NY; DO: 2171 Nostrand...   \n",
       "3  PU: 128 East 31 St., BK NY; DO: 369 93rd St., ...   \n",
       "4  PU: 139-39 35 Ave., Flushing NY; DO: La Guardi...   \n",
       "\n",
       "                                        PU_Address.1     Status  \n",
       "0  Brooklyn Museum, 200 Eastern Pkwy., BK NY; DO:...  Cancelled  \n",
       "1  33 Robert Dr., Short Hills NJ; DO: John F Kenn...    Arrived  \n",
       "2  60 Glenmore Ave., BK NY; DO: 2171 Nostrand Ave...   Assigned  \n",
       "3  128 East 31 St., BK NY; DO: 369 93rd St., BK NY;    Assigned  \n",
       "4  139-39 35 Ave., Flushing NY; DO: La Guardia Ai...   Assigned  "
      ]
     },
     "execution_count": 3,
     "metadata": {},
     "output_type": "execute_result"
    }
   ],
   "source": [
    "taxi.head()"
   ]
  },
  {
   "cell_type": "code",
   "execution_count": 6,
   "id": "6070a381-04bb-4af5-8d1a-f3244ad565df",
   "metadata": {},
   "outputs": [
    {
     "data": {
      "text/plain": [
       "0     Brooklyn Museum, 200 Eastern Pkwy., BK NY;\n",
       "1                 33 Robert Dr., Short Hills NJ;\n",
       "2                      60 Glenmore Ave., BK NY; \n",
       "3                        128 East 31 St., BK NY;\n",
       "4                   139-39 35 ave., Flushing NY;\n",
       "5                            545 17 St., BK NY; \n",
       "6                       127 Guernsey St., BK NY;\n",
       "7                      657 St Marks Ave., BK NY;\n",
       "8                          1611 47th St., BK NY;\n",
       "9                        364 87th Street, BK NY;\n",
       "10                     35-36 32 St., Astoria NY;\n",
       "11                    862 East 21 Street, BK NY;\n",
       "12                      1539 71st Street, BK NY;\n",
       "13                       208 Elmwood ave, BK NY;\n",
       "14                             543 1 St., BK NY;\n",
       "15                   513 Montgomery StreetBK NY;\n",
       "16                     475 St Marks Ave., BK NY;\n",
       "17                   1094 Carroll Street, BK NY;\n",
       "18                           31 E. 2 St., BK NY;\n",
       "19                  220 Prospect Park W., BK NY;\n",
       "Name: PU_Address, dtype: object"
      ]
     },
     "execution_count": 6,
     "metadata": {},
     "output_type": "execute_result"
    }
   ],
   "source": [
    "# Will focus on the PU_Address Column\n",
    "# Notice Inconsistant capitalization, like in row 2 vs row 4\n",
    "# There is also spaces at the end of some rows like 2 and 5\n",
    "# We need to standardize the addresses for easy analysis\n",
    "taxi['PU_Address'].head(20)"
   ]
  },
  {
   "cell_type": "markdown",
   "id": "38a4868a-094f-4a75-8d29-d07b9ef02563",
   "metadata": {},
   "source": [
    "## Lets Get Capitalization Standardized"
   ]
  },
  {
   "cell_type": "code",
   "execution_count": 8,
   "id": "1cf6e347-5fb5-45cb-afe0-9cf9bdc04693",
   "metadata": {},
   "outputs": [],
   "source": [
    "# Lets set everything to lowercase\n",
    "taxi['PU_Address'] = taxi['PU_Address'].str.lower()"
   ]
  },
  {
   "cell_type": "code",
   "execution_count": 9,
   "id": "72fc1fb2-90b8-48f8-b6f4-925815440f10",
   "metadata": {},
   "outputs": [
    {
     "data": {
      "text/plain": [
       "0    brooklyn museum, 200 eastern pkwy., bk ny;\n",
       "1                33 robert dr., short hills nj;\n",
       "2                     60 glenmore ave., bk ny; \n",
       "3                       128 east 31 st., bk ny;\n",
       "4                  139-39 35 ave., flushing ny;\n",
       "5                           545 17 st., bk ny; \n",
       "6                      127 guernsey st., bk ny;\n",
       "7                     657 st marks ave., bk ny;\n",
       "8                         1611 47th st., bk ny;\n",
       "9                       364 87th street, bk ny;\n",
       "Name: PU_Address, dtype: object"
      ]
     },
     "execution_count": 9,
     "metadata": {},
     "output_type": "execute_result"
    }
   ],
   "source": [
    "taxi['PU_Address'].head(10)"
   ]
  },
  {
   "cell_type": "markdown",
   "id": "cfab7103-6175-4278-89fc-17e9a19f6b5a",
   "metadata": {},
   "source": [
    "## Now Lets Deal With Trailing Spaces (Whitespaces)"
   ]
  },
  {
   "cell_type": "code",
   "execution_count": 10,
   "id": "bf4a8223-f83e-4a28-8d9b-caef488edb58",
   "metadata": {},
   "outputs": [],
   "source": [
    "# Now lets deal with extra spaces\n",
    "# strip() removes leading and trailing characters like spaces\n",
    "taxi['PU_Address'] = taxi['PU_Address'].str.strip()"
   ]
  },
  {
   "cell_type": "code",
   "execution_count": 12,
   "id": "c5f3cae5-da43-4e4a-9396-576124d487d3",
   "metadata": {},
   "outputs": [
    {
     "data": {
      "text/plain": [
       "0    brooklyn museum, 200 eastern pkwy., bk ny;\n",
       "1                33 robert dr., short hills nj;\n",
       "2                      60 glenmore ave., bk ny;\n",
       "3                       128 east 31 st., bk ny;\n",
       "4                  139-39 35 ave., flushing ny;\n",
       "5                            545 17 st., bk ny;\n",
       "6                      127 guernsey st., bk ny;\n",
       "7                     657 st marks ave., bk ny;\n",
       "8                         1611 47th st., bk ny;\n",
       "9                       364 87th street, bk ny;\n",
       "Name: PU_Address, dtype: object"
      ]
     },
     "execution_count": 12,
     "metadata": {},
     "output_type": "execute_result"
    }
   ],
   "source": [
    "# Much better!\n",
    "taxi['PU_Address'].head(10)"
   ]
  },
  {
   "cell_type": "markdown",
   "id": "635d506a-d2a8-496b-b698-584c56c2b43d",
   "metadata": {},
   "source": [
    "## Now Lets Create A Column For Length Of The Strings"
   ]
  },
  {
   "cell_type": "code",
   "execution_count": 13,
   "id": "f38f111b-a6a0-4d1f-8e8d-e91370a97b6e",
   "metadata": {},
   "outputs": [],
   "source": [
    "taxi['PU_Address_Length'] = taxi['PU_Address'].str.len()"
   ]
  },
  {
   "cell_type": "code",
   "execution_count": 14,
   "id": "369e3c88-f468-49cf-96e8-fa8c597c50f8",
   "metadata": {},
   "outputs": [
    {
     "data": {
      "text/plain": [
       "0    42\n",
       "1    30\n",
       "2    24\n",
       "3    23\n",
       "4    28\n",
       "Name: PU_Address_Length, dtype: int64"
      ]
     },
     "execution_count": 14,
     "metadata": {},
     "output_type": "execute_result"
    }
   ],
   "source": [
    "taxi['PU_Address_Length'].head()"
   ]
  },
  {
   "cell_type": "code",
   "execution_count": 15,
   "id": "db7d297a-d5ee-4a4d-8fbe-6aafebb01797",
   "metadata": {},
   "outputs": [
    {
     "data": {
      "text/plain": [
       "<Axes: >"
      ]
     },
     "execution_count": 15,
     "metadata": {},
     "output_type": "execute_result"
    },
    {
     "data": {
      "image/png": "[encoded data removed]",
      "text/plain": [
       "<Figure size 640x480 with 1 Axes>"
      ]
     },
     "metadata": {},
     "output_type": "display_data"
    }
   ],
   "source": [
    "## Since we have this numeric value we can analyze. Like make graphs\n",
    "taxi['PU_Address_Length'].hist(bins=50)"
   ]
  },
  {
   "cell_type": "code",
   "execution_count": 16,
   "id": "fe4accd2-f357-47fd-b9f6-d20c06957cd5",
   "metadata": {},
   "outputs": [
    {
     "data": {
      "text/html": [
       "<div>\n",
       "<style scoped>\n",
       "    .dataframe tbody tr th:only-of-type {\n",
       "        vertical-align: middle;\n",
       "    }\n",
       "\n",
       "    .dataframe tbody tr th {\n",
       "        vertical-align: top;\n",
       "    }\n",
       "\n",
       "    .dataframe thead th {\n",
       "        text-align: right;\n",
       "    }\n",
       "</style>\n",
       "<table border=\"1\" class=\"dataframe\">\n",
       "  <thead>\n",
       "    <tr style=\"text-align: right;\">\n",
       "      <th></th>\n",
       "      <th>PU_Address</th>\n",
       "      <th>PU_Address_Length</th>\n",
       "    </tr>\n",
       "  </thead>\n",
       "  <tbody>\n",
       "    <tr>\n",
       "      <th>97</th>\n",
       "      <td>columbia university, 630 w 168 st., ny ny; st:...</td>\n",
       "      <td>105</td>\n",
       "    </tr>\n",
       "    <tr>\n",
       "      <th>73</th>\n",
       "      <td>356 w23 st., ny ny; st: newark liberty interna...</td>\n",
       "      <td>78</td>\n",
       "    </tr>\n",
       "    <tr>\n",
       "      <th>209</th>\n",
       "      <td>homewood suites by hilton harrisburg, 3990 tec...</td>\n",
       "      <td>70</td>\n",
       "    </tr>\n",
       "    <tr>\n",
       "      <th>203</th>\n",
       "      <td>john f kennedy international airport, klm roya...</td>\n",
       "      <td>63</td>\n",
       "    </tr>\n",
       "    <tr>\n",
       "      <th>221</th>\n",
       "      <td>john f kennedy international airport, vitona e...</td>\n",
       "      <td>62</td>\n",
       "    </tr>\n",
       "    <tr>\n",
       "      <th>225</th>\n",
       "      <td>john f kennedy international airport, vitona e...</td>\n",
       "      <td>62</td>\n",
       "    </tr>\n",
       "    <tr>\n",
       "      <th>98</th>\n",
       "      <td>john f kennedy international airport, cathay p...</td>\n",
       "      <td>61</td>\n",
       "    </tr>\n",
       "    <tr>\n",
       "      <th>155</th>\n",
       "      <td>john f kennedy international airport, cathay p...</td>\n",
       "      <td>61</td>\n",
       "    </tr>\n",
       "    <tr>\n",
       "      <th>260</th>\n",
       "      <td>279 prospect park west, bk ny; st: w41 st./ 10...</td>\n",
       "      <td>59</td>\n",
       "    </tr>\n",
       "    <tr>\n",
       "      <th>113</th>\n",
       "      <td>john f kennedy international airport, american...</td>\n",
       "      <td>56</td>\n",
       "    </tr>\n",
       "  </tbody>\n",
       "</table>\n",
       "</div>"
      ],
      "text/plain": [
       "                                            PU_Address  PU_Address_Length\n",
       "97   columbia university, 630 w 168 st., ny ny; st:...                105\n",
       "73   356 w23 st., ny ny; st: newark liberty interna...                 78\n",
       "209  homewood suites by hilton harrisburg, 3990 tec...                 70\n",
       "203  john f kennedy international airport, klm roya...                 63\n",
       "221  john f kennedy international airport, vitona e...                 62\n",
       "225  john f kennedy international airport, vitona e...                 62\n",
       "98   john f kennedy international airport, cathay p...                 61\n",
       "155  john f kennedy international airport, cathay p...                 61\n",
       "260  279 prospect park west, bk ny; st: w41 st./ 10...                 59\n",
       "113  john f kennedy international airport, american...                 56"
      ]
     },
     "execution_count": 16,
     "metadata": {},
     "output_type": "execute_result"
    }
   ],
   "source": [
    "# We see that some of the longer strings are too long to read. We can print them out individually to view further.\n",
    "taxi[['PU_Address','PU_Address_Length']].nlargest(n=10,columns='PU_Address_Length')"
   ]
  },
  {
   "cell_type": "code",
   "execution_count": 21,
   "id": "a9e92b65-e767-4f5f-b42f-f46473d9310c",
   "metadata": {},
   "outputs": [
    {
     "data": {
      "text/plain": [
       "'columbia university, 630 w 168 st., ny ny; st: woodburry outlets, 264 red apple court, central valley ny;'"
      ]
     },
     "execution_count": 21,
     "metadata": {},
     "output_type": "execute_result"
    }
   ],
   "source": [
    "## Appears to have multiple pickup addresses\n",
    "taxi.loc[97,'PU_Address']"
   ]
  },
  {
   "cell_type": "code",
   "execution_count": 22,
   "id": "56f6c4ab-92a7-466b-a722-515a7481829e",
   "metadata": {},
   "outputs": [
    {
     "data": {
      "text/plain": [
       "'356 w23 st., ny ny; st: newark liberty international airport, united airlines;'"
      ]
     },
     "execution_count": 22,
     "metadata": {},
     "output_type": "execute_result"
    }
   ],
   "source": [
    "## Appears to have multiple pickup addresses and includes the airlines which is likley excess info which is not needed\n",
    "taxi.loc[73,'PU_Address']"
   ]
  },
  {
   "cell_type": "code",
   "execution_count": 23,
   "id": "78f380e3-b5f2-4d8e-b672-1655e26ec4a3",
   "metadata": {},
   "outputs": [
    {
     "data": {
      "text/plain": [
       "'homewood suites by hilton harrisburg, 3990 tecport dr., harrisburg pa;'"
      ]
     },
     "execution_count": 23,
     "metadata": {},
     "output_type": "execute_result"
    }
   ],
   "source": [
    "## Appears to have multiple pickup addresses\n",
    "taxi.loc[209,'PU_Address']"
   ]
  },
  {
   "cell_type": "code",
   "execution_count": 24,
   "id": "78695c61-2d5b-4de1-86e9-e0222cd0dbd7",
   "metadata": {},
   "outputs": [
    {
     "data": {
      "text/plain": [
       "'john f kennedy international airport, klm royal dutch airlines;'"
      ]
     },
     "execution_count": 24,
     "metadata": {},
     "output_type": "execute_result"
    }
   ],
   "source": [
    "## Appears to have multiple pickup addresses and includes the airlines which is likley excess info which is not needed\n",
    "taxi.loc[203,'PU_Address']"
   ]
  },
  {
   "cell_type": "markdown",
   "id": "31ab712e-5bd0-468a-87d3-0e41fb8c4388",
   "metadata": {},
   "source": [
    "## Lets Check For Keywords"
   ]
  },
  {
   "cell_type": "code",
   "execution_count": 27,
   "id": "ec7a4406-5d1a-4d28-90a1-b40847d440a1",
   "metadata": {},
   "outputs": [
    {
     "data": {
      "text/plain": [
       "0      False\n",
       "1      False\n",
       "2      False\n",
       "3      False\n",
       "4      False\n",
       "       ...  \n",
       "262    False\n",
       "263    False\n",
       "264    False\n",
       "265    False\n",
       "266    False\n",
       "Name: PU_Address, Length: 267, dtype: bool"
      ]
     },
     "execution_count": 27,
     "metadata": {},
     "output_type": "execute_result"
    }
   ],
   "source": [
    "## Looking for airport addresses\n",
    "## contains checks for a certain string within a given string.\n",
    "## Returns a series of bools which can be placed within a df[] for filtering\n",
    "taxi['PU_Address'].str.contains('airport')"
   ]
  },
  {
   "cell_type": "code",
   "execution_count": 29,
   "id": "1382b8a5-32b8-4726-9570-8499e9d9a82a",
   "metadata": {},
   "outputs": [],
   "source": [
    "taxi_airport = taxi[taxi['PU_Address'].str.contains('airport')]"
   ]
  },
  {
   "cell_type": "code",
   "execution_count": 31,
   "id": "f986d2c1-5ae8-4e56-885a-671d1ad72fcb",
   "metadata": {},
   "outputs": [
    {
     "data": {
      "text/plain": [
       "PU_Address\n",
       "john f kennedy international airport, delta air lines;                            4\n",
       "la guardia airport, american airlines;                                            3\n",
       "john f kennedy international airport;                                             2\n",
       "la guardia airport, southwest airlines;                                           2\n",
       "john f kennedy international airport, cathay pacific airways;                     2\n",
       "john f kennedy international airport, vitona eastern airlines;                    2\n",
       "la guardia airport;                                                               2\n",
       "john f kennedy international airport, vitona airlines;                            2\n",
       "john f kennedy international airport, jetblue airways;                            1\n",
       "la guardia airport, united airlines;                                              1\n",
       "newark liberty international airport, united airlines;                            1\n",
       "john f kennedy international airport, klm royal dutch airlines;                   1\n",
       "john f kennedy international airport, japan airlines;                             1\n",
       "john f kennedy international airport, eva air;                                    1\n",
       "newark liberty international airport, american airlines;                          1\n",
       "la guardia airport, delta air lines;                                              1\n",
       "john f kennedy international airport, virgin atlantic;                            1\n",
       "la guardia airport, us airways;                                                   1\n",
       "john f kennedy international airport, american airlines;                          1\n",
       "la guardia airport, jetblue airways;                                              1\n",
       "356 w23 st., ny ny; st: newark liberty international airport, united airlines;    1\n",
       "john f kennedy international airport, korean air;                                 1\n",
       "Name: count, dtype: int64"
      ]
     },
     "execution_count": 31,
     "metadata": {},
     "output_type": "execute_result"
    }
   ],
   "source": [
    "taxi_airport['PU_Address'].value_counts()"
   ]
  },
  {
   "cell_type": "markdown",
   "id": "869e46ed-f9a1-4406-a2f3-9bed14c04b61",
   "metadata": {},
   "source": [
    "## Now Lets Grab Certain Parts Of Their Stings Using Indexing And Slicing"
   ]
  },
  {
   "cell_type": "code",
   "execution_count": 32,
   "id": "2ab9b168-c51e-496a-89ef-77af8b0a76cc",
   "metadata": {},
   "outputs": [
    {
     "data": {
      "text/plain": [
       "0           brooklyn museum, 200 eastern pkwy., bk ny;\n",
       "1                       33 robert dr., short hills nj;\n",
       "2                             60 glenmore ave., bk ny;\n",
       "3                              128 east 31 st., bk ny;\n",
       "4                         139-39 35 ave., flushing ny;\n",
       "                            ...                       \n",
       "262    907 59 st., bk ny; st: w66 st./broadway, ny ny;\n",
       "263                                20 west st., ny ny;\n",
       "264                         474 sackett street, bk ny;\n",
       "265                         474 sackett street, bk ny;\n",
       "266                                 152 7 ave., bk ny;\n",
       "Name: PU_Address, Length: 267, dtype: object"
      ]
     },
     "execution_count": 32,
     "metadata": {},
     "output_type": "execute_result"
    }
   ],
   "source": [
    "taxi['PU_Address']"
   ]
  },
  {
   "cell_type": "code",
   "execution_count": 34,
   "id": "8e67befc-dc79-4bfc-86a9-9a9e76634d59",
   "metadata": {},
   "outputs": [
    {
     "data": {
      "text/plain": [
       "0      b\n",
       "1      3\n",
       "2      6\n",
       "3      1\n",
       "4      1\n",
       "      ..\n",
       "262    9\n",
       "263    2\n",
       "264    4\n",
       "265    4\n",
       "266    1\n",
       "Name: PU_Address, Length: 267, dtype: object"
      ]
     },
     "execution_count": 34,
     "metadata": {},
     "output_type": "execute_result"
    }
   ],
   "source": [
    "# Returns a series of all the first character\n",
    "taxi['PU_Address'].str[0]"
   ]
  },
  {
   "cell_type": "code",
   "execution_count": 36,
   "id": "21bf0402-6d57-4060-894c-788c2a74df23",
   "metadata": {},
   "outputs": [
    {
     "data": {
      "text/plain": [
       "0      brook\n",
       "1      33 ro\n",
       "2      60 gl\n",
       "3      128 e\n",
       "4      139-3\n",
       "       ...  \n",
       "262    907 5\n",
       "263    20 we\n",
       "264    474 s\n",
       "265    474 s\n",
       "266    152 7\n",
       "Name: PU_Address, Length: 267, dtype: object"
      ]
     },
     "execution_count": 36,
     "metadata": {},
     "output_type": "execute_result"
    }
   ],
   "source": [
    "# Returns a series of all the first 5 characters\n",
    "taxi['PU_Address'].str[0:5]"
   ]
  },
  {
   "cell_type": "code",
   "execution_count": 38,
   "id": "d76acac1-d3a5-4a4a-8491-479f625a7ed2",
   "metadata": {},
   "outputs": [
    {
     "data": {
      "text/plain": [
       "0      ny;\n",
       "1      nj;\n",
       "2      ny;\n",
       "3      ny;\n",
       "4      ny;\n",
       "      ... \n",
       "262    ny;\n",
       "263    ny;\n",
       "264    ny;\n",
       "265    ny;\n",
       "266    ny;\n",
       "Name: PU_Address, Length: 267, dtype: object"
      ]
     },
     "execution_count": 38,
     "metadata": {},
     "output_type": "execute_result"
    }
   ],
   "source": [
    "# Returns a series of all the last 3 characters\n",
    "taxi['PU_Address'].str[-3:]"
   ]
  },
  {
   "cell_type": "markdown",
   "id": "425756d8-c59c-428e-91b6-fe1fa9cb350f",
   "metadata": {},
   "source": [
    "## Replace Strings"
   ]
  },
  {
   "cell_type": "code",
   "execution_count": 39,
   "id": "cdebb40f-ca53-455d-ada9-9641104be71a",
   "metadata": {},
   "outputs": [],
   "source": [
    "# Want to replace all 'ny' with full name 'new york'\n",
    "taxi['PU_Address'] = taxi['PU_Address'].str.replace(' ny;',' new york;')"
   ]
  },
  {
   "cell_type": "code",
   "execution_count": 40,
   "id": "989362ea-abd2-403e-bf54-345849f85d89",
   "metadata": {},
   "outputs": [
    {
     "data": {
      "text/plain": [
       "0       brooklyn museum, 200 eastern pkwy., bk new york;\n",
       "1                         33 robert dr., short hills nj;\n",
       "2                         60 glenmore ave., bk new york;\n",
       "3                          128 east 31 st., bk new york;\n",
       "4                     139-39 35 ave., flushing new york;\n",
       "                             ...                        \n",
       "262    907 59 st., bk new york; st: w66 st./broadway,...\n",
       "263                            20 west st., ny new york;\n",
       "264                     474 sackett street, bk new york;\n",
       "265                     474 sackett street, bk new york;\n",
       "266                             152 7 ave., bk new york;\n",
       "Name: PU_Address, Length: 267, dtype: object"
      ]
     },
     "execution_count": 40,
     "metadata": {},
     "output_type": "execute_result"
    }
   ],
   "source": [
    "taxi['PU_Address']"
   ]
  },
  {
   "cell_type": "markdown",
   "id": "8ba9b590-fa47-4690-9bd3-47d56f088353",
   "metadata": {},
   "source": [
    "## Find Strings That Start Or End With Certain Text"
   ]
  },
  {
   "cell_type": "code",
   "execution_count": 42,
   "id": "5487aa87-3948-4aaa-8f08-c1638abaf278",
   "metadata": {},
   "outputs": [
    {
     "data": {
      "text/plain": [
       "0      False\n",
       "1      False\n",
       "2      False\n",
       "3      False\n",
       "4      False\n",
       "       ...  \n",
       "262    False\n",
       "263    False\n",
       "264    False\n",
       "265    False\n",
       "266    False\n",
       "Name: PU_Address, Length: 267, dtype: bool"
      ]
     },
     "execution_count": 42,
     "metadata": {},
     "output_type": "execute_result"
    }
   ],
   "source": [
    "## We want to find all pickups that starts with 'best western'\n",
    "taxi['PU_Address'].str.startswith('best western')"
   ]
  },
  {
   "cell_type": "code",
   "execution_count": 44,
   "id": "47d0ec3a-2a81-467e-a591-7cb96ccb4ff0",
   "metadata": {},
   "outputs": [
    {
     "data": {
      "text/plain": [
       "42       best western inn, 522 w38 st., ny new york;\n",
       "102     best western inn, 522 w 38 st., ny new york;\n",
       "173    best western hotel, 522 w38 st., ny new york;\n",
       "194    best western hotel, 522 w38 st., ny new york;\n",
       "Name: PU_Address, dtype: object"
      ]
     },
     "execution_count": 44,
     "metadata": {},
     "output_type": "execute_result"
    }
   ],
   "source": [
    "taxi.loc[taxi['PU_Address'].str.startswith('best western'), 'PU_Address']"
   ]
  },
  {
   "cell_type": "code",
   "execution_count": null,
   "id": "605b6cf0-3701-4a55-935e-928d2b05345b",
   "metadata": {},
   "outputs": [],
   "source": [
    "## We want to find all pickups that ends with 'nj;'\n",
    "taxi['PU_Address'].str.endswith('nj;')"
   ]
  },
  {
   "cell_type": "code",
   "execution_count": 45,
   "id": "6376e67b-d73b-430e-b114-a6813cf19187",
   "metadata": {},
   "outputs": [
    {
     "data": {
      "text/plain": [
       "1                        33 robert dr., short hills nj;\n",
       "32                           91 bleeker st., newark nj;\n",
       "68    wyndham garden hotel, 550 route 1/9 south, new...\n",
       "Name: PU_Address, dtype: object"
      ]
     },
     "execution_count": 45,
     "metadata": {},
     "output_type": "execute_result"
    }
   ],
   "source": [
    "taxi.loc[taxi['PU_Address'].str.endswith('nj;'),'PU_Address']"
   ]
  },
  {
   "cell_type": "code",
   "execution_count": null,
   "id": "4ad61800-69be-40af-b584-175e55d21084",
   "metadata": {},
   "outputs": [],
   "source": []
  },
  {
   "cell_type": "code",
   "execution_count": null,
   "id": "4dd3b31b-4d0d-4311-811d-2c5047913500",
   "metadata": {},
   "outputs": [],
   "source": []
  },
  {
   "cell_type": "code",
   "execution_count": null,
   "id": "8197e0e3-9090-42ae-a3aa-84ba66e0bd42",
   "metadata": {},
   "outputs": [],
   "source": []
  },
  {
   "cell_type": "code",
   "execution_count": null,
   "id": "ef8da437-130d-40dc-b6ff-9e6a2f042352",
   "metadata": {},
   "outputs": [],
   "source": []
  },
  {
   "cell_type": "code",
   "execution_count": null,
   "id": "50f44f80-d7dd-43c7-8ba5-d2439a31f9be",
   "metadata": {},
   "outputs": [],
   "source": []
  },
  {
   "cell_type": "code",
   "execution_count": null,
   "id": "925f7cee-6993-4191-a089-ab52529a9c82",
   "metadata": {},
   "outputs": [],
   "source": []
  },
  {
   "cell_type": "code",
   "execution_count": null,
   "id": "949ac528-3c79-421d-b8b8-9d4c9887941b",
   "metadata": {},
   "outputs": [],
   "source": []
  },
  {
   "cell_type": "code",
   "execution_count": null,
   "id": "7b54a15c-dfe8-4b2c-87a1-672fef086d7b",
   "metadata": {},
   "outputs": [],
   "source": []
  },
  {
   "cell_type": "code",
   "execution_count": null,
   "id": "5f6ea5be-bb5a-42f5-a4b3-ab11ebba4e1a",
   "metadata": {},
   "outputs": [],
   "source": []
  },
  {
   "cell_type": "code",
   "execution_count": null,
   "id": "46949ad9-8805-445f-9dfe-110b14cf8e92",
   "metadata": {},
   "outputs": [],
   "source": []
  },
  {
   "cell_type": "code",
   "execution_count": null,
   "id": "b09b134e-28fe-493c-988d-230243adf00b",
   "metadata": {},
   "outputs": [],
   "source": []
  },
  {
   "cell_type": "code",
   "execution_count": null,
   "id": "ed520c82-c557-4bff-97ad-ce398907904c",
   "metadata": {},
   "outputs": [],
   "source": []
  },
  {
   "cell_type": "code",
   "execution_count": null,
   "id": "ef59897c-b4c7-413b-b24a-4f0d69553116",
   "metadata": {},
   "outputs": [],
   "source": []
  },
  {
   "cell_type": "code",
   "execution_count": null,
   "id": "0a8bfc7e-3c2e-42df-8d7a-9b680e00b2a4",
   "metadata": {},
   "outputs": [],
   "source": []
  },
  {
   "cell_type": "code",
   "execution_count": null,
   "id": "c109c29a-2885-4bd6-a84a-b486f4fae71f",
   "metadata": {},
   "outputs": [],
   "source": []
  },
  {
   "cell_type": "code",
   "execution_count": null,
   "id": "afb3cb74-2871-4270-9459-1b588ce230fb",
   "metadata": {},
   "outputs": [],
   "source": []
  },
  {
   "cell_type": "code",
   "execution_count": null,
   "id": "973a2517-9e19-427e-b64b-e2cb7ae7a87f",
   "metadata": {},
   "outputs": [],
   "source": []
  },
  {
   "cell_type": "code",
   "execution_count": null,
   "id": "67ea7990-5dbc-4e3f-b874-404f98bba50b",
   "metadata": {},
   "outputs": [],
   "source": []
  }
 ],
 "metadata": {
  "kernelspec": {
   "display_name": "Python 3 (ipykernel)",
   "language": "python",
   "name": "python3"
  },
  "language_info": {
   "codemirror_mode": {
    "name": "ipython",
    "version": 3
   },
   "file_extension": ".py",
   "mimetype": "text/x-python",
   "name": "python",
   "nbconvert_exporter": "python",
   "pygments_lexer": "ipython3",
   "version": "3.11.7"
  }
 },
 "nbformat": 4,
 "nbformat_minor": 5
}
