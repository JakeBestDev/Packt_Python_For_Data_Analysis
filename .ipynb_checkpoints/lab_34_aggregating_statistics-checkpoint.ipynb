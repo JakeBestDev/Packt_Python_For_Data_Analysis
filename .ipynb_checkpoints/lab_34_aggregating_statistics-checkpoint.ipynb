{
 "cells": [
  {
   "cell_type": "markdown",
   "id": "b90b0d43-dbdf-43c3-8470-d9ac272cd061",
   "metadata": {},
   "source": [
    "## Aggregating Statistics"
   ]
  },
  {
   "cell_type": "markdown",
   "id": "0bd7bd36-1ecd-4b2d-837d-ad406f9b3f6c",
   "metadata": {
    "jp-MarkdownHeadingCollapsed": true
   },
   "source": [
    "#### EDA = Exploratpry Data Analysis\n",
    "\n",
    "##### Main Types Of EDA:\n",
    "##### 1) Summary Statistics\n",
    "###### - Group By and Pivot Tables\n",
    "##### 2) Data Visualization\n",
    "###### - Numerical/Categorical Distrobutions of Feature, Seaborn Library, Relationships of Features in Numerical/Categorical Data"
   ]
  },
  {
   "cell_type": "code",
   "execution_count": 2,
   "id": "f42ed2e3-c6c8-42b4-aaee-1d429570d3aa",
   "metadata": {},
   "outputs": [],
   "source": [
    "import pandas as pd"
   ]
  },
  {
   "cell_type": "code",
   "execution_count": 3,
   "id": "add361c5-90da-4188-b28e-edf0ad51a570",
   "metadata": {},
   "outputs": [],
   "source": [
    "air_quality =  pd.read_pickle('air_quality.pkl')"
   ]
  },
  {
   "cell_type": "code",
   "execution_count": 4,
   "id": "ac5244b6-7c0d-4820-8d42-1fd0427f48af",
   "metadata": {},
   "outputs": [
    {
     "name": "stdout",
     "output_type": "stream",
     "text": [
      "<class 'pandas.core.frame.DataFrame'>\n",
      "RangeIndex: 95685 entries, 0 to 95684\n",
      "Data columns (total 27 columns):\n",
      " #   Column                 Non-Null Count  Dtype          \n",
      "---  ------                 --------------  -----          \n",
      " 0   date_time              95685 non-null  datetime64[ns] \n",
      " 1   PM2.5                  95685 non-null  float64        \n",
      " 2   PM10                   95685 non-null  float64        \n",
      " 3   SO2                    95685 non-null  float64        \n",
      " 4   NO2                    95685 non-null  float64        \n",
      " 5   CO                     95685 non-null  float64        \n",
      " 6   O3                     95685 non-null  float64        \n",
      " 7   TEMP                   95685 non-null  float64        \n",
      " 8   PRES                   95685 non-null  float64        \n",
      " 9   DEWP                   95685 non-null  float64        \n",
      " 10  RAIN                   95685 non-null  float64        \n",
      " 11  wd                     95685 non-null  object         \n",
      " 12  WSPM                   95685 non-null  float64        \n",
      " 13  station                95685 non-null  object         \n",
      " 14  year                   95685 non-null  int32          \n",
      " 15  month                  95685 non-null  int32          \n",
      " 16  day                    95685 non-null  int32          \n",
      " 17  hour                   95685 non-null  int32          \n",
      " 18  quarter                95685 non-null  int32          \n",
      " 19  day_of_week_num        95685 non-null  int32          \n",
      " 20  day_of_week_name       95685 non-null  object         \n",
      " 21  time_until_2022        95685 non-null  timedelta64[ns]\n",
      " 22  time_until_2022_days   95685 non-null  float64        \n",
      " 23  time_until_2022_weeks  95685 non-null  float64        \n",
      " 24  prior_2016_ind         95685 non-null  bool           \n",
      " 25  PM2.5_category         95685 non-null  category       \n",
      " 26  TEMP_category          95685 non-null  category       \n",
      "dtypes: bool(1), category(2), datetime64[ns](1), float64(13), int32(6), object(3), timedelta64[ns](1)\n",
      "memory usage: 15.6+ MB\n"
     ]
    }
   ],
   "source": [
    "## Having worked on this dataset previously we can see there is no missing data as shown by the NON-Null Count having the same number down the column\n",
    "## We can also see there is a mix of Categorical Data (Catrgory/Bool) and Nummerical Data (float64, Int34)\n",
    "air_quality.info()"
   ]
  },
  {
   "cell_type": "markdown",
   "id": "771c1667-24dc-4483-abef-e217c00b98af",
   "metadata": {},
   "source": [
    "### Summary Statistics For A Series"
   ]
  },
  {
   "cell_type": "markdown",
   "id": "6d8e32c2-12b9-40c2-8406-43686a3c0e1b",
   "metadata": {
    "jp-MarkdownHeadingCollapsed": true
   },
   "source": [
    "## Numeric"
   ]
  },
  {
   "cell_type": "code",
   "execution_count": 7,
   "id": "91dd3bf2-60e1-4255-b81a-1511a59b5824",
   "metadata": {},
   "outputs": [
    {
     "data": {
      "text/plain": [
       "0        -0.5\n",
       "1        -0.7\n",
       "2        -2.4\n",
       "3        -2.5\n",
       "4        -1.4\n",
       "         ... \n",
       "95680    15.4\n",
       "95681    14.9\n",
       "95682    10.8\n",
       "95683    10.5\n",
       "95684     8.6\n",
       "Name: TEMP, Length: 95685, dtype: float64"
      ]
     },
     "execution_count": 7,
     "metadata": {},
     "output_type": "execute_result"
    }
   ],
   "source": [
    "## This can be done on one column of a dataframe\n",
    "## We can call one column which is also a series\n",
    "air_quality['TEMP']"
   ]
  },
  {
   "cell_type": "code",
   "execution_count": 8,
   "id": "d4d80a3f-9e3e-422e-bce7-32ca12a51de8",
   "metadata": {},
   "outputs": [
    {
     "data": {
      "text/plain": [
       "95685"
      ]
     },
     "execution_count": 8,
     "metadata": {},
     "output_type": "execute_result"
    }
   ],
   "source": [
    "## We can then apply methods to that series\n",
    "## The count() method is used here. Returning the number of non missing data\n",
    "## Notice it matches the above info() method used on the whole dataframe\n",
    "air_quality['TEMP'].count()"
   ]
  },
  {
   "cell_type": "code",
   "execution_count": 9,
   "id": "bb215444-1dd7-46f2-9a17-36cb671685a2",
   "metadata": {},
   "outputs": [
    {
     "data": {
      "text/plain": [
       "13.72944615261222"
      ]
     },
     "execution_count": 9,
     "metadata": {},
     "output_type": "execute_result"
    }
   ],
   "source": [
    "## The mean() method is used here.\n",
    "air_quality['TEMP'].mean()"
   ]
  },
  {
   "cell_type": "code",
   "execution_count": 10,
   "id": "e65fd8df-77d3-410d-8fc1-2639c24f6a68",
   "metadata": {},
   "outputs": [
    {
     "data": {
      "text/plain": [
       "11.320713457662487"
      ]
     },
     "execution_count": 10,
     "metadata": {},
     "output_type": "execute_result"
    }
   ],
   "source": [
    "## The std() method is used here.\n",
    "## std =  Standard Deviation of the data.\n",
    "## std is the measure of variation of a set of values.\n",
    "## basically measures out how spread out the data is from its mean\n",
    "## So the higher the std the more spread out the data is from its mean.\n",
    "air_quality['TEMP'].std()"
   ]
  },
  {
   "cell_type": "code",
   "execution_count": 11,
   "id": "448b1806-f95e-4ba8-bdd5-4fe82ff8c2c7",
   "metadata": {},
   "outputs": [
    {
     "data": {
      "text/plain": [
       "-16.8"
      ]
     },
     "execution_count": 11,
     "metadata": {},
     "output_type": "execute_result"
    }
   ],
   "source": [
    "## The min() method is used here.\n",
    "air_quality['TEMP'].min()"
   ]
  },
  {
   "cell_type": "code",
   "execution_count": 12,
   "id": "9a96e4de-af5c-43ba-9d04-282fb3fe9dff",
   "metadata": {},
   "outputs": [
    {
     "data": {
      "text/plain": [
       "41.6"
      ]
     },
     "execution_count": 12,
     "metadata": {},
     "output_type": "execute_result"
    }
   ],
   "source": [
    "## The max() method is used here.\n",
    "air_quality['TEMP'].max()"
   ]
  },
  {
   "cell_type": "code",
   "execution_count": 13,
   "id": "f08ea8f9-a3ef-4133-834a-8f31339eca90",
   "metadata": {},
   "outputs": [
    {
     "data": {
      "text/plain": [
       "3.5"
      ]
     },
     "execution_count": 13,
     "metadata": {},
     "output_type": "execute_result"
    }
   ],
   "source": [
    "## The quantile(0.25) method is used here. To get the 25% quantile of the data\n",
    "## This is better known as the 1st Quartile\n",
    "## So this means that 25% of the data is below 3.5 degrees\n",
    "air_quality['TEMP'].quantile(0.25)"
   ]
  },
  {
   "cell_type": "code",
   "execution_count": 14,
   "id": "888a7160-f6e6-4550-9560-a1957e23be45",
   "metadata": {},
   "outputs": [
    {
     "data": {
      "text/plain": [
       "14.6"
      ]
     },
     "execution_count": 14,
     "metadata": {},
     "output_type": "execute_result"
    }
   ],
   "source": [
    "## The median() method is used here.\n",
    "air_quality['TEMP'].median()"
   ]
  },
  {
   "cell_type": "code",
   "execution_count": 15,
   "id": "7170349b-63a0-45fc-8998-d5d46a6d304e",
   "metadata": {},
   "outputs": [
    {
     "data": {
      "text/plain": [
       "count    95685.000000\n",
       "mean        13.729446\n",
       "std         11.320713\n",
       "min        -16.800000\n",
       "25%          3.500000\n",
       "50%         14.600000\n",
       "75%         23.400000\n",
       "max         41.600000\n",
       "Name: TEMP, dtype: float64"
      ]
     },
     "execution_count": 15,
     "metadata": {},
     "output_type": "execute_result"
    }
   ],
   "source": [
    "## All of these may look familiar because they can all be seen at once using the .describe() method\n",
    "air_quality['TEMP'].describe()"
   ]
  },
  {
   "cell_type": "code",
   "execution_count": 16,
   "id": "1339c1dc-9c74-4d10-927f-7344d4910588",
   "metadata": {},
   "outputs": [
    {
     "data": {
      "text/plain": [
       "6171.299999999999"
      ]
     },
     "execution_count": 16,
     "metadata": {},
     "output_type": "execute_result"
    }
   ],
   "source": [
    "## The sum() method is used here.\n",
    "air_quality['RAIN'].sum()"
   ]
  },
  {
   "cell_type": "markdown",
   "id": "3e3c89e4-20e3-4de1-8cd3-a7e4b6dac2bc",
   "metadata": {
    "jp-MarkdownHeadingCollapsed": true
   },
   "source": [
    "## Categorical"
   ]
  },
  {
   "cell_type": "code",
   "execution_count": 18,
   "id": "b470f89e-0fe8-4423-85ea-bb4862cf15f5",
   "metadata": {},
   "outputs": [
    {
     "data": {
      "text/plain": [
       "0    Unhealthy\n",
       "Name: PM2.5_category, dtype: category\n",
       "Categories (6, object): ['Good' < 'Moderate' < 'Unhealthy for sensitive groups' < 'Unhealthy' < 'Very unhealthy' < 'Hazardous']"
      ]
     },
     "execution_count": 18,
     "metadata": {},
     "output_type": "execute_result"
    }
   ],
   "source": [
    "## The mode() method is used here.\n",
    "## Unhealthy is the most often category used in this column\n",
    "air_quality['PM2.5_category'].mode()"
   ]
  },
  {
   "cell_type": "code",
   "execution_count": 19,
   "id": "2000087c-2753-4c95-8369-5d8a37123fc3",
   "metadata": {},
   "outputs": [
    {
     "data": {
      "text/plain": [
       "6"
      ]
     },
     "execution_count": 19,
     "metadata": {},
     "output_type": "execute_result"
    }
   ],
   "source": [
    "## The nunique() method is used here.\n",
    "## Gives us the number of unique categories in this columns\n",
    "air_quality['PM2.5_category'].nunique()"
   ]
  },
  {
   "cell_type": "code",
   "execution_count": 20,
   "id": "276b2090-d93e-4c9b-9be6-00dd7b7f9434",
   "metadata": {},
   "outputs": [
    {
     "data": {
      "text/plain": [
       "count         95685\n",
       "unique            6\n",
       "top       Unhealthy\n",
       "freq          34257\n",
       "Name: PM2.5_category, dtype: object"
      ]
     },
     "execution_count": 20,
     "metadata": {},
     "output_type": "execute_result"
    }
   ],
   "source": [
    "## The describe methos give us a different set of outputs for categorical data compared to numerical data\n",
    "## most are self explanitory except freq. This shows the frequency of the most common category.\n",
    "## So Unhealthy appeared 34257 times!\n",
    "air_quality['PM2.5_category'].describe()"
   ]
  },
  {
   "cell_type": "markdown",
   "id": "45902bfe-cf96-4d89-8653-877c09d85b22",
   "metadata": {
    "jp-MarkdownHeadingCollapsed": true
   },
   "source": [
    "## Summarize Multiple Columns At Once"
   ]
  },
  {
   "cell_type": "code",
   "execution_count": 51,
   "id": "d0be9697-c8f6-4d95-9db6-715e809f087d",
   "metadata": {},
   "outputs": [
    {
     "data": {
      "text/plain": [
       "date_time                95685\n",
       "PM2.5                    95685\n",
       "PM10                     95685\n",
       "SO2                      95685\n",
       "NO2                      95685\n",
       "CO                       95685\n",
       "O3                       95685\n",
       "TEMP                     95685\n",
       "PRES                     95685\n",
       "DEWP                     95685\n",
       "RAIN                     95685\n",
       "wd                       95685\n",
       "WSPM                     95685\n",
       "station                  95685\n",
       "year                     95685\n",
       "month                    95685\n",
       "day                      95685\n",
       "hour                     95685\n",
       "quarter                  95685\n",
       "day_of_week_num          95685\n",
       "day_of_week_name         95685\n",
       "time_until_2022          95685\n",
       "time_until_2022_days     95685\n",
       "time_until_2022_weeks    95685\n",
       "prior_2016_ind           95685\n",
       "PM2.5_category           95685\n",
       "TEMP_category            95685\n",
       "dtype: int64"
      ]
     },
     "execution_count": 51,
     "metadata": {},
     "output_type": "execute_result"
    }
   ],
   "source": [
    "air_quality.count()"
   ]
  },
  {
   "cell_type": "code",
   "execution_count": 57,
   "id": "2f2c60af-3f37-41d4-a868-449acd8cf8c8",
   "metadata": {},
   "outputs": [
    {
     "data": {
      "text/plain": [
       "PM2.5                      83.477884\n",
       "PM10                      111.899959\n",
       "SO2                        15.369771\n",
       "NO2                        54.178310\n",
       "CO                       1313.024142\n",
       "O3                         56.786295\n",
       "TEMP                       13.729446\n",
       "PRES                     1011.397848\n",
       "DEWP                        2.473027\n",
       "RAIN                        0.064496\n",
       "WSPM                        1.692044\n",
       "year                     2014.737106\n",
       "month                       6.503841\n",
       "day                        15.648336\n",
       "hour                       11.519862\n",
       "quarter                     2.505732\n",
       "day_of_week_num             3.021707\n",
       "time_until_2022_days     2470.962593\n",
       "time_until_2022_weeks     352.994656\n",
       "prior_2016_ind              0.693369\n",
       "dtype: float64"
      ]
     },
     "execution_count": 57,
     "metadata": {},
     "output_type": "execute_result"
    }
   ],
   "source": [
    "## By default the .mean() method can be applyed to all columns in a dataframe\n",
    "## It will skip all of the non-numeric columns but send an error/warning\n",
    "## use the mean(numeric_only=True) to avoid the error and get the mean of all numeric columns in the dataframe\n",
    "air_quality.mean(numeric_only=True)"
   ]
  },
  {
   "cell_type": "code",
   "execution_count": 61,
   "id": "f4376801-2cf6-4710-ba5d-28e554c889e6",
   "metadata": {},
   "outputs": [
    {
     "data": {
      "text/plain": [
       "PM2.5    83.477884\n",
       "TEMP     13.729446\n",
       "dtype: float64"
      ]
     },
     "execution_count": 61,
     "metadata": {},
     "output_type": "execute_result"
    }
   ],
   "source": [
    "## Doesn't make sense to get the mean of all the columns usually so do this to get the mean of specific columns\n",
    "air_quality[['PM2.5', 'TEMP']].mean()"
   ]
  },
  {
   "cell_type": "code",
   "execution_count": 63,
   "id": "f0ba5aae-720f-4c4c-95e9-8f0c72c69535",
   "metadata": {},
   "outputs": [
    {
     "data": {
      "text/plain": [
       "PM2.5     2.0\n",
       "TEMP    -16.8\n",
       "dtype: float64"
      ]
     },
     "execution_count": 63,
     "metadata": {},
     "output_type": "execute_result"
    }
   ],
   "source": [
    "air_quality[['PM2.5', 'TEMP']].min()"
   ]
  },
  {
   "cell_type": "code",
   "execution_count": 65,
   "id": "f4d8eced-8695-4598-81f1-3f2e31375b84",
   "metadata": {},
   "outputs": [
    {
     "data": {
      "text/plain": [
       "PM2.5    821.0\n",
       "TEMP      41.6\n",
       "dtype: float64"
      ]
     },
     "execution_count": 65,
     "metadata": {},
     "output_type": "execute_result"
    }
   ],
   "source": [
    "air_quality[['PM2.5', 'TEMP']].max()"
   ]
  },
  {
   "cell_type": "code",
   "execution_count": 71,
   "id": "ba4fe748-1239-4497-9ba6-22e30a76a33e",
   "metadata": {},
   "outputs": [
    {
     "data": {
      "text/html": [
       "<div>\n",
       "<style scoped>\n",
       "    .dataframe tbody tr th:only-of-type {\n",
       "        vertical-align: middle;\n",
       "    }\n",
       "\n",
       "    .dataframe tbody tr th {\n",
       "        vertical-align: top;\n",
       "    }\n",
       "\n",
       "    .dataframe thead th {\n",
       "        text-align: right;\n",
       "    }\n",
       "</style>\n",
       "<table border=\"1\" class=\"dataframe\">\n",
       "  <thead>\n",
       "    <tr style=\"text-align: right;\">\n",
       "      <th></th>\n",
       "      <th>count</th>\n",
       "      <th>mean</th>\n",
       "      <th>min</th>\n",
       "      <th>25%</th>\n",
       "      <th>50%</th>\n",
       "      <th>75%</th>\n",
       "      <th>max</th>\n",
       "      <th>std</th>\n",
       "    </tr>\n",
       "  </thead>\n",
       "  <tbody>\n",
       "    <tr>\n",
       "      <th>date_time</th>\n",
       "      <td>95685</td>\n",
       "      <td>2015-03-28 00:53:51.929769472</td>\n",
       "      <td>2013-03-01 00:00:00</td>\n",
       "      <td>2014-04-19 13:00:00</td>\n",
       "      <td>2015-04-08 10:00:00</td>\n",
       "      <td>2016-03-17 11:00:00</td>\n",
       "      <td>2017-02-28 23:00:00</td>\n",
       "      <td>NaN</td>\n",
       "    </tr>\n",
       "    <tr>\n",
       "      <th>PM2.5</th>\n",
       "      <td>95685.0</td>\n",
       "      <td>83.477884</td>\n",
       "      <td>2.0</td>\n",
       "      <td>23.0</td>\n",
       "      <td>59.0</td>\n",
       "      <td>116.0</td>\n",
       "      <td>821.0</td>\n",
       "      <td>82.678134</td>\n",
       "    </tr>\n",
       "    <tr>\n",
       "      <th>PM10</th>\n",
       "      <td>95685.0</td>\n",
       "      <td>111.899959</td>\n",
       "      <td>2.0</td>\n",
       "      <td>41.0</td>\n",
       "      <td>90.0</td>\n",
       "      <td>154.0</td>\n",
       "      <td>994.0</td>\n",
       "      <td>94.775897</td>\n",
       "    </tr>\n",
       "    <tr>\n",
       "      <th>SO2</th>\n",
       "      <td>95685.0</td>\n",
       "      <td>15.369771</td>\n",
       "      <td>1.0</td>\n",
       "      <td>3.0</td>\n",
       "      <td>7.0</td>\n",
       "      <td>20.0</td>\n",
       "      <td>500.0</td>\n",
       "      <td>20.381452</td>\n",
       "    </tr>\n",
       "    <tr>\n",
       "      <th>NO2</th>\n",
       "      <td>95685.0</td>\n",
       "      <td>54.17831</td>\n",
       "      <td>2.0</td>\n",
       "      <td>27.0</td>\n",
       "      <td>48.0</td>\n",
       "      <td>74.0</td>\n",
       "      <td>271.0</td>\n",
       "      <td>34.2446</td>\n",
       "    </tr>\n",
       "    <tr>\n",
       "      <th>CO</th>\n",
       "      <td>95685.0</td>\n",
       "      <td>1313.024142</td>\n",
       "      <td>100.0</td>\n",
       "      <td>600.0</td>\n",
       "      <td>900.0</td>\n",
       "      <td>1600.0</td>\n",
       "      <td>10000.0</td>\n",
       "      <td>1187.100019</td>\n",
       "    </tr>\n",
       "    <tr>\n",
       "      <th>O3</th>\n",
       "      <td>95685.0</td>\n",
       "      <td>56.786295</td>\n",
       "      <td>0.4284</td>\n",
       "      <td>9.0</td>\n",
       "      <td>43.0</td>\n",
       "      <td>82.0</td>\n",
       "      <td>1071.0</td>\n",
       "      <td>57.899402</td>\n",
       "    </tr>\n",
       "    <tr>\n",
       "      <th>TEMP</th>\n",
       "      <td>95685.0</td>\n",
       "      <td>13.729446</td>\n",
       "      <td>-16.8</td>\n",
       "      <td>3.5</td>\n",
       "      <td>14.6</td>\n",
       "      <td>23.4</td>\n",
       "      <td>41.6</td>\n",
       "      <td>11.320713</td>\n",
       "    </tr>\n",
       "    <tr>\n",
       "      <th>PRES</th>\n",
       "      <td>95685.0</td>\n",
       "      <td>1011.397848</td>\n",
       "      <td>984.0</td>\n",
       "      <td>1003.0</td>\n",
       "      <td>1011.0</td>\n",
       "      <td>1019.6</td>\n",
       "      <td>1042.0</td>\n",
       "      <td>10.28721</td>\n",
       "    </tr>\n",
       "    <tr>\n",
       "      <th>DEWP</th>\n",
       "      <td>95685.0</td>\n",
       "      <td>2.473027</td>\n",
       "      <td>-35.3</td>\n",
       "      <td>-8.7</td>\n",
       "      <td>3.0</td>\n",
       "      <td>15.0</td>\n",
       "      <td>28.8</td>\n",
       "      <td>13.717762</td>\n",
       "    </tr>\n",
       "    <tr>\n",
       "      <th>RAIN</th>\n",
       "      <td>95685.0</td>\n",
       "      <td>0.064496</td>\n",
       "      <td>0.0</td>\n",
       "      <td>0.0</td>\n",
       "      <td>0.0</td>\n",
       "      <td>0.0</td>\n",
       "      <td>46.4</td>\n",
       "      <td>0.819959</td>\n",
       "    </tr>\n",
       "    <tr>\n",
       "      <th>WSPM</th>\n",
       "      <td>95685.0</td>\n",
       "      <td>1.692044</td>\n",
       "      <td>0.0</td>\n",
       "      <td>0.9</td>\n",
       "      <td>1.4</td>\n",
       "      <td>2.2</td>\n",
       "      <td>12.0</td>\n",
       "      <td>1.258773</td>\n",
       "    </tr>\n",
       "    <tr>\n",
       "      <th>year</th>\n",
       "      <td>95685.0</td>\n",
       "      <td>2014.737106</td>\n",
       "      <td>2013.0</td>\n",
       "      <td>2014.0</td>\n",
       "      <td>2015.0</td>\n",
       "      <td>2016.0</td>\n",
       "      <td>2017.0</td>\n",
       "      <td>1.157743</td>\n",
       "    </tr>\n",
       "    <tr>\n",
       "      <th>month</th>\n",
       "      <td>95685.0</td>\n",
       "      <td>6.503841</td>\n",
       "      <td>1.0</td>\n",
       "      <td>4.0</td>\n",
       "      <td>7.0</td>\n",
       "      <td>10.0</td>\n",
       "      <td>12.0</td>\n",
       "      <td>3.443164</td>\n",
       "    </tr>\n",
       "    <tr>\n",
       "      <th>day</th>\n",
       "      <td>95685.0</td>\n",
       "      <td>15.648336</td>\n",
       "      <td>1.0</td>\n",
       "      <td>8.0</td>\n",
       "      <td>16.0</td>\n",
       "      <td>23.0</td>\n",
       "      <td>31.0</td>\n",
       "      <td>8.824385</td>\n",
       "    </tr>\n",
       "    <tr>\n",
       "      <th>hour</th>\n",
       "      <td>95685.0</td>\n",
       "      <td>11.519862</td>\n",
       "      <td>0.0</td>\n",
       "      <td>6.0</td>\n",
       "      <td>12.0</td>\n",
       "      <td>18.0</td>\n",
       "      <td>23.0</td>\n",
       "      <td>6.946633</td>\n",
       "    </tr>\n",
       "    <tr>\n",
       "      <th>quarter</th>\n",
       "      <td>95685.0</td>\n",
       "      <td>2.505732</td>\n",
       "      <td>1.0</td>\n",
       "      <td>2.0</td>\n",
       "      <td>3.0</td>\n",
       "      <td>4.0</td>\n",
       "      <td>4.0</td>\n",
       "      <td>1.117908</td>\n",
       "    </tr>\n",
       "    <tr>\n",
       "      <th>day_of_week_num</th>\n",
       "      <td>95685.0</td>\n",
       "      <td>3.021707</td>\n",
       "      <td>0.0</td>\n",
       "      <td>1.0</td>\n",
       "      <td>3.0</td>\n",
       "      <td>5.0</td>\n",
       "      <td>6.0</td>\n",
       "      <td>2.002642</td>\n",
       "    </tr>\n",
       "    <tr>\n",
       "      <th>time_until_2022</th>\n",
       "      <td>95685</td>\n",
       "      <td>2470 days 23:06:08.070230464</td>\n",
       "      <td>1767 days 01:00:00</td>\n",
       "      <td>2115 days 13:00:00</td>\n",
       "      <td>2459 days 14:00:00</td>\n",
       "      <td>2813 days 11:00:00</td>\n",
       "      <td>3228 days 00:00:00</td>\n",
       "      <td>415 days 06:49:03.472645448</td>\n",
       "    </tr>\n",
       "    <tr>\n",
       "      <th>time_until_2022_days</th>\n",
       "      <td>95685.0</td>\n",
       "      <td>2470.962593</td>\n",
       "      <td>1767.041667</td>\n",
       "      <td>2115.541667</td>\n",
       "      <td>2459.583333</td>\n",
       "      <td>2813.458333</td>\n",
       "      <td>3228.0</td>\n",
       "      <td>415.284068</td>\n",
       "    </tr>\n",
       "    <tr>\n",
       "      <th>time_until_2022_weeks</th>\n",
       "      <td>95685.0</td>\n",
       "      <td>352.994656</td>\n",
       "      <td>252.434524</td>\n",
       "      <td>302.220238</td>\n",
       "      <td>351.369048</td>\n",
       "      <td>401.922619</td>\n",
       "      <td>461.142857</td>\n",
       "      <td>59.326295</td>\n",
       "    </tr>\n",
       "  </tbody>\n",
       "</table>\n",
       "</div>"
      ],
      "text/plain": [
       "                         count                           mean  \\\n",
       "date_time                95685  2015-03-28 00:53:51.929769472   \n",
       "PM2.5                  95685.0                      83.477884   \n",
       "PM10                   95685.0                     111.899959   \n",
       "SO2                    95685.0                      15.369771   \n",
       "NO2                    95685.0                       54.17831   \n",
       "CO                     95685.0                    1313.024142   \n",
       "O3                     95685.0                      56.786295   \n",
       "TEMP                   95685.0                      13.729446   \n",
       "PRES                   95685.0                    1011.397848   \n",
       "DEWP                   95685.0                       2.473027   \n",
       "RAIN                   95685.0                       0.064496   \n",
       "WSPM                   95685.0                       1.692044   \n",
       "year                   95685.0                    2014.737106   \n",
       "month                  95685.0                       6.503841   \n",
       "day                    95685.0                      15.648336   \n",
       "hour                   95685.0                      11.519862   \n",
       "quarter                95685.0                       2.505732   \n",
       "day_of_week_num        95685.0                       3.021707   \n",
       "time_until_2022          95685   2470 days 23:06:08.070230464   \n",
       "time_until_2022_days   95685.0                    2470.962593   \n",
       "time_until_2022_weeks  95685.0                     352.994656   \n",
       "\n",
       "                                       min                  25%  \\\n",
       "date_time              2013-03-01 00:00:00  2014-04-19 13:00:00   \n",
       "PM2.5                                  2.0                 23.0   \n",
       "PM10                                   2.0                 41.0   \n",
       "SO2                                    1.0                  3.0   \n",
       "NO2                                    2.0                 27.0   \n",
       "CO                                   100.0                600.0   \n",
       "O3                                  0.4284                  9.0   \n",
       "TEMP                                 -16.8                  3.5   \n",
       "PRES                                 984.0               1003.0   \n",
       "DEWP                                 -35.3                 -8.7   \n",
       "RAIN                                   0.0                  0.0   \n",
       "WSPM                                   0.0                  0.9   \n",
       "year                                2013.0               2014.0   \n",
       "month                                  1.0                  4.0   \n",
       "day                                    1.0                  8.0   \n",
       "hour                                   0.0                  6.0   \n",
       "quarter                                1.0                  2.0   \n",
       "day_of_week_num                        0.0                  1.0   \n",
       "time_until_2022         1767 days 01:00:00   2115 days 13:00:00   \n",
       "time_until_2022_days           1767.041667          2115.541667   \n",
       "time_until_2022_weeks           252.434524           302.220238   \n",
       "\n",
       "                                       50%                  75%  \\\n",
       "date_time              2015-04-08 10:00:00  2016-03-17 11:00:00   \n",
       "PM2.5                                 59.0                116.0   \n",
       "PM10                                  90.0                154.0   \n",
       "SO2                                    7.0                 20.0   \n",
       "NO2                                   48.0                 74.0   \n",
       "CO                                   900.0               1600.0   \n",
       "O3                                    43.0                 82.0   \n",
       "TEMP                                  14.6                 23.4   \n",
       "PRES                                1011.0               1019.6   \n",
       "DEWP                                   3.0                 15.0   \n",
       "RAIN                                   0.0                  0.0   \n",
       "WSPM                                   1.4                  2.2   \n",
       "year                                2015.0               2016.0   \n",
       "month                                  7.0                 10.0   \n",
       "day                                   16.0                 23.0   \n",
       "hour                                  12.0                 18.0   \n",
       "quarter                                3.0                  4.0   \n",
       "day_of_week_num                        3.0                  5.0   \n",
       "time_until_2022         2459 days 14:00:00   2813 days 11:00:00   \n",
       "time_until_2022_days           2459.583333          2813.458333   \n",
       "time_until_2022_weeks           351.369048           401.922619   \n",
       "\n",
       "                                       max                          std  \n",
       "date_time              2017-02-28 23:00:00                          NaN  \n",
       "PM2.5                                821.0                    82.678134  \n",
       "PM10                                 994.0                    94.775897  \n",
       "SO2                                  500.0                    20.381452  \n",
       "NO2                                  271.0                      34.2446  \n",
       "CO                                 10000.0                  1187.100019  \n",
       "O3                                  1071.0                    57.899402  \n",
       "TEMP                                  41.6                    11.320713  \n",
       "PRES                                1042.0                     10.28721  \n",
       "DEWP                                  28.8                    13.717762  \n",
       "RAIN                                  46.4                     0.819959  \n",
       "WSPM                                  12.0                     1.258773  \n",
       "year                                2017.0                     1.157743  \n",
       "month                                 12.0                     3.443164  \n",
       "day                                   31.0                     8.824385  \n",
       "hour                                  23.0                     6.946633  \n",
       "quarter                                4.0                     1.117908  \n",
       "day_of_week_num                        6.0                     2.002642  \n",
       "time_until_2022         3228 days 00:00:00  415 days 06:49:03.472645448  \n",
       "time_until_2022_days                3228.0                   415.284068  \n",
       "time_until_2022_weeks           461.142857                    59.326295  "
      ]
     },
     "execution_count": 71,
     "metadata": {},
     "output_type": "execute_result"
    }
   ],
   "source": [
    "## The .describe() method will include only the numeric columns by default\n",
    "## Use .T or Transpose to make describe easier to read due to so many columns\n",
    "air_quality.describe().T"
   ]
  },
  {
   "cell_type": "code",
   "execution_count": 75,
   "id": "73e37340-a8d6-4d1a-b746-e3bd9aaaf5f9",
   "metadata": {},
   "outputs": [
    {
     "data": {
      "text/html": [
       "<div>\n",
       "<style scoped>\n",
       "    .dataframe tbody tr th:only-of-type {\n",
       "        vertical-align: middle;\n",
       "    }\n",
       "\n",
       "    .dataframe tbody tr th {\n",
       "        vertical-align: top;\n",
       "    }\n",
       "\n",
       "    .dataframe thead th {\n",
       "        text-align: right;\n",
       "    }\n",
       "</style>\n",
       "<table border=\"1\" class=\"dataframe\">\n",
       "  <thead>\n",
       "    <tr style=\"text-align: right;\">\n",
       "      <th></th>\n",
       "      <th>wd</th>\n",
       "      <th>station</th>\n",
       "      <th>day_of_week_name</th>\n",
       "      <th>prior_2016_ind</th>\n",
       "      <th>PM2.5_category</th>\n",
       "      <th>TEMP_category</th>\n",
       "    </tr>\n",
       "  </thead>\n",
       "  <tbody>\n",
       "    <tr>\n",
       "      <th>count</th>\n",
       "      <td>95685</td>\n",
       "      <td>95685</td>\n",
       "      <td>95685</td>\n",
       "      <td>95685</td>\n",
       "      <td>95685</td>\n",
       "      <td>95685</td>\n",
       "    </tr>\n",
       "    <tr>\n",
       "      <th>unique</th>\n",
       "      <td>16</td>\n",
       "      <td>3</td>\n",
       "      <td>7</td>\n",
       "      <td>2</td>\n",
       "      <td>6</td>\n",
       "      <td>5</td>\n",
       "    </tr>\n",
       "    <tr>\n",
       "      <th>top</th>\n",
       "      <td>NE</td>\n",
       "      <td>Tiantan</td>\n",
       "      <td>Sunday</td>\n",
       "      <td>True</td>\n",
       "      <td>Unhealthy</td>\n",
       "      <td>Hot</td>\n",
       "    </tr>\n",
       "    <tr>\n",
       "      <th>freq</th>\n",
       "      <td>9447</td>\n",
       "      <td>32843</td>\n",
       "      <td>13931</td>\n",
       "      <td>66345</td>\n",
       "      <td>34257</td>\n",
       "      <td>19189</td>\n",
       "    </tr>\n",
       "  </tbody>\n",
       "</table>\n",
       "</div>"
      ],
      "text/plain": [
       "           wd  station day_of_week_name prior_2016_ind PM2.5_category  \\\n",
       "count   95685    95685            95685          95685          95685   \n",
       "unique     16        3                7              2              6   \n",
       "top        NE  Tiantan           Sunday           True      Unhealthy   \n",
       "freq     9447    32843            13931          66345          34257   \n",
       "\n",
       "       TEMP_category  \n",
       "count          95685  \n",
       "unique             5  \n",
       "top              Hot  \n",
       "freq           19189  "
      ]
     },
     "execution_count": 75,
     "metadata": {},
     "output_type": "execute_result"
    }
   ],
   "source": [
    "## To show the summary stats of the categorical columns use this:\n",
    "\n",
    "air_quality.describe(include=['object','category','bool'])"
   ]
  },
  {
   "cell_type": "code",
   "execution_count": 77,
   "id": "b3f3b62e-6384-4b00-aa17-10db15cdf721",
   "metadata": {},
   "outputs": [
    {
     "data": {
      "text/html": [
       "<div>\n",
       "<style scoped>\n",
       "    .dataframe tbody tr th:only-of-type {\n",
       "        vertical-align: middle;\n",
       "    }\n",
       "\n",
       "    .dataframe tbody tr th {\n",
       "        vertical-align: top;\n",
       "    }\n",
       "\n",
       "    .dataframe thead th {\n",
       "        text-align: right;\n",
       "    }\n",
       "</style>\n",
       "<table border=\"1\" class=\"dataframe\">\n",
       "  <thead>\n",
       "    <tr style=\"text-align: right;\">\n",
       "      <th></th>\n",
       "      <th>PM2.5_category</th>\n",
       "      <th>TEMP_category</th>\n",
       "      <th>hour</th>\n",
       "    </tr>\n",
       "  </thead>\n",
       "  <tbody>\n",
       "    <tr>\n",
       "      <th>0</th>\n",
       "      <td>Unhealthy</td>\n",
       "      <td>Hot</td>\n",
       "      <td>21</td>\n",
       "    </tr>\n",
       "    <tr>\n",
       "      <th>1</th>\n",
       "      <td>NaN</td>\n",
       "      <td>NaN</td>\n",
       "      <td>23</td>\n",
       "    </tr>\n",
       "  </tbody>\n",
       "</table>\n",
       "</div>"
      ],
      "text/plain": [
       "  PM2.5_category TEMP_category  hour\n",
       "0      Unhealthy           Hot    21\n",
       "1            NaN           NaN    23"
      ]
     },
     "execution_count": 77,
     "metadata": {},
     "output_type": "execute_result"
    }
   ],
   "source": [
    "## We can apply methods to categorical data in a similar manor\n",
    "## Notice how hour has 2 listed most often hours. Lets investigate why\n",
    "air_quality[['PM2.5_category','TEMP_category','hour']].mode()"
   ]
  },
  {
   "cell_type": "code",
   "execution_count": 83,
   "id": "f44b1c50-cc0c-4394-be41-755fea283604",
   "metadata": {},
   "outputs": [
    {
     "data": {
      "text/plain": [
       "hour\n",
       "23    4062\n",
       "21    4062\n",
       "0     4052\n",
       "22    4043\n",
       "1     4037\n",
       "Name: count, dtype: int64"
      ]
     },
     "execution_count": 83,
     "metadata": {},
     "output_type": "execute_result"
    }
   ],
   "source": [
    "## This function will list the top 5 categories with the most freqent counts in the hour column\n",
    "## Notice how 23 and 21 have the same amount. \n",
    "## This is why they have 2 listed in the mode method listed earlier\n",
    "air_quality['hour'].value_counts(ascending=False).head(5)"
   ]
  },
  {
   "cell_type": "markdown",
   "id": "b7f254d4-0bff-489d-946f-9fd3881aae6c",
   "metadata": {},
   "source": [
    "# Combinations Of Statistics"
   ]
  },
  {
   "cell_type": "markdown",
   "id": "25438ca5-9b1e-4156-9195-8b6f49a62447",
   "metadata": {},
   "source": [
    "## .agg() Method\n"
   ]
  },
  {
   "cell_type": "code",
   "execution_count": 89,
   "id": "4707012e-f2ed-4d06-ac66-da02706e6512",
   "metadata": {},
   "outputs": [
    {
     "data": {
      "text/plain": [
       "PM2.5    83.477884\n",
       "TEMP     13.729446\n",
       "dtype: float64"
      ]
     },
     "execution_count": 89,
     "metadata": {},
     "output_type": "execute_result"
    }
   ],
   "source": [
    "## The agg() method is used to aggregate the data\n",
    "## The particular aggregation will be determined by what is included in the () of agg()\n",
    "## In the () you will define the function being used. See below examples:\n",
    "\n",
    "## Below \"mean\" is input as a string into the .agg() method. There is a function that searches both pandas and default python for \"mean\" methods to run on this particular dataframe\n",
    "## Since we are only using 1 function in the .agg() method then this is basically the same as just using .mean()\n",
    "## But we can use more!\n",
    "\n",
    "air_quality[['PM2.5','TEMP']].agg(\"mean\")"
   ]
  },
  {
   "cell_type": "code",
   "execution_count": 91,
   "id": "f1a4e5f2-4d43-4144-aa2f-e5365882783c",
   "metadata": {},
   "outputs": [
    {
     "data": {
      "text/plain": [
       "PM2.5    83.477884\n",
       "TEMP     13.729446\n",
       "dtype: float64"
      ]
     },
     "execution_count": 91,
     "metadata": {},
     "output_type": "execute_result"
    }
   ],
   "source": [
    "## Here we can see the mean() method is the same as above\n",
    "\n",
    "air_quality[['PM2.5','TEMP']].mean()"
   ]
  },
  {
   "cell_type": "code",
   "execution_count": 95,
   "id": "1a4cba7a-697a-4882-aa88-b73b044804a0",
   "metadata": {},
   "outputs": [
    {
     "data": {
      "text/html": [
       "<div>\n",
       "<style scoped>\n",
       "    .dataframe tbody tr th:only-of-type {\n",
       "        vertical-align: middle;\n",
       "    }\n",
       "\n",
       "    .dataframe tbody tr th {\n",
       "        vertical-align: top;\n",
       "    }\n",
       "\n",
       "    .dataframe thead th {\n",
       "        text-align: right;\n",
       "    }\n",
       "</style>\n",
       "<table border=\"1\" class=\"dataframe\">\n",
       "  <thead>\n",
       "    <tr style=\"text-align: right;\">\n",
       "      <th></th>\n",
       "      <th>min</th>\n",
       "      <th>max</th>\n",
       "      <th>mean</th>\n",
       "    </tr>\n",
       "  </thead>\n",
       "  <tbody>\n",
       "    <tr>\n",
       "      <th>PM2.5</th>\n",
       "      <td>2.0</td>\n",
       "      <td>821.0</td>\n",
       "      <td>83.477884</td>\n",
       "    </tr>\n",
       "    <tr>\n",
       "      <th>TEMP</th>\n",
       "      <td>-16.8</td>\n",
       "      <td>41.6</td>\n",
       "      <td>13.729446</td>\n",
       "    </tr>\n",
       "  </tbody>\n",
       "</table>\n",
       "</div>"
      ],
      "text/plain": [
       "        min    max       mean\n",
       "PM2.5   2.0  821.0  83.477884\n",
       "TEMP  -16.8   41.6  13.729446"
      ]
     },
     "execution_count": 95,
     "metadata": {},
     "output_type": "execute_result"
    }
   ],
   "source": [
    "## Now lets try multiple functions into the .agg() method.\n",
    "\n",
    "air_quality[['PM2.5','TEMP']].agg([\"min\", \"max\",\"mean\"])"
   ]
  },
  {
   "cell_type": "code",
   "execution_count": 103,
   "id": "dd0557ae-5fb4-4d03-a057-ea94087f8520",
   "metadata": {},
   "outputs": [],
   "source": [
    "## The above was tried on 2 numeric columns. Lets try on a numeric and categorical columns\n",
    "## Does not work well\n",
    "## Lets see if we can fix this\n",
    "\n",
    "air_quality[['PM2.5','PM2.5_category']].agg([\"min\", \"max\",\"mean\",\"nunique\"])"
   ]
  },
  {
   "cell_type": "code",
   "execution_count": 118,
   "id": "ce207677-62ff-4c53-b220-b81a5a4c02ea",
   "metadata": {},
   "outputs": [
    {
     "data": {
      "text/plain": [
       "PM2.5             2.0\n",
       "PM2.5_category    6.0\n",
       "dtype: float64"
      ]
     },
     "execution_count": 118,
     "metadata": {},
     "output_type": "execute_result"
    }
   ],
   "source": [
    "## Using a distonary {} we can specify the functions per column\n",
    "## See this works now! But only works as defined by the number of columns as they are the keys to the dictonary\n",
    "## See next cell what happens when running more than 1 function per key \n",
    "\n",
    "air_quality[['PM2.5','PM2.5_category']].agg({'PM2.5': \"min\",'PM2.5_category' :\"nunique\"})"
   ]
  },
  {
   "cell_type": "code",
   "execution_count": 116,
   "id": "220c4ef3-60aa-4456-aa2e-a32691611199",
   "metadata": {},
   "outputs": [
    {
     "data": {
      "text/plain": [
       "PM2.5             83.477884\n",
       "PM2.5_category     6.000000\n",
       "dtype: float64"
      ]
     },
     "execution_count": 116,
     "metadata": {},
     "output_type": "execute_result"
    }
   ],
   "source": [
    "## Notice how the mean is what is defined for PM2.5 rather than listing all 3 min,max, and mean.\n",
    "## This is due to key \"PM2.5\" in the dictonary being overwritten each time its called\n",
    "## BUT there is a way around this using LISTS!\n",
    "\n",
    "air_quality[['PM2.5','PM2.5_category']].agg({'PM2.5': \"min\",'PM2.5': \"max\",'PM2.5': \"mean\",'PM2.5_category' :\"nunique\"})"
   ]
  },
  {
   "cell_type": "code",
   "execution_count": 120,
   "id": "f5c2d20d-2799-403e-9403-3cda2755e936",
   "metadata": {},
   "outputs": [
    {
     "data": {
      "text/html": [
       "<div>\n",
       "<style scoped>\n",
       "    .dataframe tbody tr th:only-of-type {\n",
       "        vertical-align: middle;\n",
       "    }\n",
       "\n",
       "    .dataframe tbody tr th {\n",
       "        vertical-align: top;\n",
       "    }\n",
       "\n",
       "    .dataframe thead th {\n",
       "        text-align: right;\n",
       "    }\n",
       "</style>\n",
       "<table border=\"1\" class=\"dataframe\">\n",
       "  <thead>\n",
       "    <tr style=\"text-align: right;\">\n",
       "      <th></th>\n",
       "      <th>PM2.5</th>\n",
       "      <th>PM2.5_category</th>\n",
       "    </tr>\n",
       "  </thead>\n",
       "  <tbody>\n",
       "    <tr>\n",
       "      <th>min</th>\n",
       "      <td>2.000000</td>\n",
       "      <td>NaN</td>\n",
       "    </tr>\n",
       "    <tr>\n",
       "      <th>max</th>\n",
       "      <td>821.000000</td>\n",
       "      <td>NaN</td>\n",
       "    </tr>\n",
       "    <tr>\n",
       "      <th>mean</th>\n",
       "      <td>83.477884</td>\n",
       "      <td>NaN</td>\n",
       "    </tr>\n",
       "    <tr>\n",
       "      <th>nunique</th>\n",
       "      <td>NaN</td>\n",
       "      <td>6.0</td>\n",
       "    </tr>\n",
       "  </tbody>\n",
       "</table>\n",
       "</div>"
      ],
      "text/plain": [
       "              PM2.5  PM2.5_category\n",
       "min        2.000000             NaN\n",
       "max      821.000000             NaN\n",
       "mean      83.477884             NaN\n",
       "nunique         NaN             6.0"
      ]
     },
     "execution_count": 120,
     "metadata": {},
     "output_type": "execute_result"
    }
   ],
   "source": [
    "## Notice how the list of functions for the value of the dictonary is used to call multiple functions for PM2.5\n",
    "\n",
    "air_quality[['PM2.5','PM2.5_category']].agg({'PM2.5': [\"min\",\"max\",\"mean\"], 'PM2.5_category' :\"nunique\"})"
   ]
  },
  {
   "cell_type": "markdown",
   "id": "41d50b8d-1f79-40b2-afbb-3ef1b6ca1dad",
   "metadata": {},
   "source": [
    "# Defining Our Own Functions For Statistics"
   ]
  },
  {
   "cell_type": "code",
   "execution_count": 124,
   "id": "0613094d-5d05-44ff-a760-de428b726eac",
   "metadata": {},
   "outputs": [],
   "source": [
    "## So we want to find the range of one of the columns but there is no method or predefined function for range so we need to make our own.\n",
    "## Range = Max - Min\n",
    "## In our function we made we can pass a series into the function and use methods within the function to get our range.\n",
    "\n",
    "def max_minus_min(series):\n",
    "    return series.max()-series.min()"
   ]
  },
  {
   "cell_type": "code",
   "execution_count": 126,
   "id": "6a8352c2-43e8-47f7-b463-b67c3677ad87",
   "metadata": {},
   "outputs": [
    {
     "data": {
      "text/plain": [
       "58.400000000000006"
      ]
     },
     "execution_count": 126,
     "metadata": {},
     "output_type": "execute_result"
    }
   ],
   "source": [
    "## We can run the function by passing the column of air_quality['TEMP'] as a series into the function\n",
    "max_minus_min(air_quality['TEMP'])"
   ]
  },
  {
   "cell_type": "code",
   "execution_count": 134,
   "id": "23acd64a-5ab3-4620-a83d-6ad644645101",
   "metadata": {},
   "outputs": [
    {
     "data": {
      "text/html": [
       "<div>\n",
       "<style scoped>\n",
       "    .dataframe tbody tr th:only-of-type {\n",
       "        vertical-align: middle;\n",
       "    }\n",
       "\n",
       "    .dataframe tbody tr th {\n",
       "        vertical-align: top;\n",
       "    }\n",
       "\n",
       "    .dataframe thead th {\n",
       "        text-align: right;\n",
       "    }\n",
       "</style>\n",
       "<table border=\"1\" class=\"dataframe\">\n",
       "  <thead>\n",
       "    <tr style=\"text-align: right;\">\n",
       "      <th></th>\n",
       "      <th>PM2.5</th>\n",
       "      <th>TEMP</th>\n",
       "    </tr>\n",
       "  </thead>\n",
       "  <tbody>\n",
       "    <tr>\n",
       "      <th>min</th>\n",
       "      <td>2.0</td>\n",
       "      <td>-16.8</td>\n",
       "    </tr>\n",
       "    <tr>\n",
       "      <th>max</th>\n",
       "      <td>821.0</td>\n",
       "      <td>41.6</td>\n",
       "    </tr>\n",
       "    <tr>\n",
       "      <th>max_minus_min</th>\n",
       "      <td>819.0</td>\n",
       "      <td>58.4</td>\n",
       "    </tr>\n",
       "  </tbody>\n",
       "</table>\n",
       "</div>"
      ],
      "text/plain": [
       "               PM2.5  TEMP\n",
       "min              2.0 -16.8\n",
       "max            821.0  41.6\n",
       "max_minus_min  819.0  58.4"
      ]
     },
     "execution_count": 134,
     "metadata": {},
     "output_type": "execute_result"
    }
   ],
   "source": [
    "## Now lets try this with the .agg() method\n",
    "## Not that the max_minus_min is not in \"\" because its a function defined by us and not by default or by pandas\n",
    "\n",
    "air_quality[['PM2.5','TEMP']].agg([\"min\", \"max\",max_minus_min])"
   ]
  },
  {
   "cell_type": "markdown",
   "id": "1dd61d40-f548-4fe4-8e91-76c736e9b873",
   "metadata": {},
   "source": [
    "# Summarize Data By It's ROWS"
   ]
  },
  {
   "cell_type": "markdown",
   "id": "913e011e-951e-4f49-a82c-324bfc57fa55",
   "metadata": {},
   "source": [
    "## Less common than by columns as we've been doing but still helpful to know"
   ]
  },
  {
   "cell_type": "code",
   "execution_count": 138,
   "id": "66d6cce4-670f-4177-8589-eb889fb5e99f",
   "metadata": {},
   "outputs": [
    {
     "data": {
      "text/html": [
       "<div>\n",
       "<style scoped>\n",
       "    .dataframe tbody tr th:only-of-type {\n",
       "        vertical-align: middle;\n",
       "    }\n",
       "\n",
       "    .dataframe tbody tr th {\n",
       "        vertical-align: top;\n",
       "    }\n",
       "\n",
       "    .dataframe thead th {\n",
       "        text-align: right;\n",
       "    }\n",
       "</style>\n",
       "<table border=\"1\" class=\"dataframe\">\n",
       "  <thead>\n",
       "    <tr style=\"text-align: right;\">\n",
       "      <th></th>\n",
       "      <th>PM2.5</th>\n",
       "      <th>PM10</th>\n",
       "    </tr>\n",
       "  </thead>\n",
       "  <tbody>\n",
       "    <tr>\n",
       "      <th>0</th>\n",
       "      <td>9.0</td>\n",
       "      <td>9.0</td>\n",
       "    </tr>\n",
       "    <tr>\n",
       "      <th>1</th>\n",
       "      <td>4.0</td>\n",
       "      <td>4.0</td>\n",
       "    </tr>\n",
       "    <tr>\n",
       "      <th>2</th>\n",
       "      <td>4.0</td>\n",
       "      <td>4.0</td>\n",
       "    </tr>\n",
       "    <tr>\n",
       "      <th>3</th>\n",
       "      <td>5.0</td>\n",
       "      <td>5.0</td>\n",
       "    </tr>\n",
       "    <tr>\n",
       "      <th>4</th>\n",
       "      <td>3.0</td>\n",
       "      <td>6.0</td>\n",
       "    </tr>\n",
       "    <tr>\n",
       "      <th>...</th>\n",
       "      <td>...</td>\n",
       "      <td>...</td>\n",
       "    </tr>\n",
       "    <tr>\n",
       "      <th>95680</th>\n",
       "      <td>9.0</td>\n",
       "      <td>9.0</td>\n",
       "    </tr>\n",
       "    <tr>\n",
       "      <th>95681</th>\n",
       "      <td>10.0</td>\n",
       "      <td>29.0</td>\n",
       "    </tr>\n",
       "    <tr>\n",
       "      <th>95682</th>\n",
       "      <td>18.0</td>\n",
       "      <td>32.0</td>\n",
       "    </tr>\n",
       "    <tr>\n",
       "      <th>95683</th>\n",
       "      <td>15.0</td>\n",
       "      <td>42.0</td>\n",
       "    </tr>\n",
       "    <tr>\n",
       "      <th>95684</th>\n",
       "      <td>15.0</td>\n",
       "      <td>50.0</td>\n",
       "    </tr>\n",
       "  </tbody>\n",
       "</table>\n",
       "<p>95685 rows × 2 columns</p>\n",
       "</div>"
      ],
      "text/plain": [
       "       PM2.5  PM10\n",
       "0        9.0   9.0\n",
       "1        4.0   4.0\n",
       "2        4.0   4.0\n",
       "3        5.0   5.0\n",
       "4        3.0   6.0\n",
       "...      ...   ...\n",
       "95680    9.0   9.0\n",
       "95681   10.0  29.0\n",
       "95682   18.0  32.0\n",
       "95683   15.0  42.0\n",
       "95684   15.0  50.0\n",
       "\n",
       "[95685 rows x 2 columns]"
      ]
     },
     "execution_count": 138,
     "metadata": {},
     "output_type": "execute_result"
    }
   ],
   "source": [
    "air_quality[[\"PM2.5\",\"PM10\"]]"
   ]
  },
  {
   "cell_type": "code",
   "execution_count": 142,
   "id": "5170358c-30ec-42e8-8051-0bcd81a0ea36",
   "metadata": {},
   "outputs": [
    {
     "data": {
      "text/plain": [
       "PM2.5    2.0\n",
       "PM10     2.0\n",
       "dtype: float64"
      ]
     },
     "execution_count": 142,
     "metadata": {},
     "output_type": "execute_result"
    }
   ],
   "source": [
    "## By default this returns the minnimum of the columns\n",
    "## But how to we make this give us the min across the rows\n",
    "air_quality[[\"PM2.5\",\"PM10\"]].min()"
   ]
  },
  {
   "cell_type": "code",
   "execution_count": 146,
   "id": "66b36491-e46e-4d2d-9772-f8435252f4a7",
   "metadata": {},
   "outputs": [
    {
     "data": {
      "text/plain": [
       "0         9.0\n",
       "1         4.0\n",
       "2         4.0\n",
       "3         5.0\n",
       "4         3.0\n",
       "         ... \n",
       "95680     9.0\n",
       "95681    10.0\n",
       "95682    18.0\n",
       "95683    15.0\n",
       "95684    15.0\n",
       "Length: 95685, dtype: float64"
      ]
     },
     "execution_count": 146,
     "metadata": {},
     "output_type": "execute_result"
    }
   ],
   "source": [
    "## By using axis = 1, which we know by pressing shift + tab on the min() method, we can see this allows us to apply the min() method onto the rows of the data\n",
    "## So for each row it gives us the mins of the rows\n",
    "## Row 4 is a good example showing above there is a 3.0 and 6.0 and the min() method below choose 3.0\n",
    "air_quality[[\"PM2.5\",\"PM10\"]].min(axis = 1)"
   ]
  },
  {
   "cell_type": "code",
   "execution_count": 148,
   "id": "bd97f858-1322-4291-8f27-893bf22d5d68",
   "metadata": {},
   "outputs": [
    {
     "data": {
      "text/plain": [
       "0         9.0\n",
       "1         4.0\n",
       "2         4.0\n",
       "3         5.0\n",
       "4         4.5\n",
       "         ... \n",
       "95680     9.0\n",
       "95681    19.5\n",
       "95682    25.0\n",
       "95683    28.5\n",
       "95684    32.5\n",
       "Length: 95685, dtype: float64"
      ]
     },
     "execution_count": 148,
     "metadata": {},
     "output_type": "execute_result"
    }
   ],
   "source": [
    "## Now lets say we want the average across the rows\n",
    "air_quality[[\"PM2.5\",\"PM10\"]].mean(axis = 1)"
   ]
  },
  {
   "cell_type": "code",
   "execution_count": 150,
   "id": "71e5e96c-743d-4f17-9e45-0cf16bd88665",
   "metadata": {},
   "outputs": [
    {
     "data": {
      "text/plain": [
       "0        18.0\n",
       "1         8.0\n",
       "2         8.0\n",
       "3        10.0\n",
       "4         9.0\n",
       "         ... \n",
       "95680    18.0\n",
       "95681    39.0\n",
       "95682    50.0\n",
       "95683    57.0\n",
       "95684    65.0\n",
       "Length: 95685, dtype: float64"
      ]
     },
     "execution_count": 150,
     "metadata": {},
     "output_type": "execute_result"
    }
   ],
   "source": [
    "## Now lets say we want the sum across the rows\n",
    "air_quality[[\"PM2.5\",\"PM10\"]].sum(axis = 1)"
   ]
  },
  {
   "cell_type": "code",
   "execution_count": null,
   "id": "d404e04c-d26f-4f6d-9a81-1dc06d1c7526",
   "metadata": {},
   "outputs": [],
   "source": []
  },
  {
   "cell_type": "code",
   "execution_count": null,
   "id": "dadda501-62e0-49c7-b801-83cc12c37e4c",
   "metadata": {},
   "outputs": [],
   "source": []
  },
  {
   "cell_type": "code",
   "execution_count": null,
   "id": "3c843c4d-fc90-4c8e-8850-4d504d67333d",
   "metadata": {},
   "outputs": [],
   "source": []
  },
  {
   "cell_type": "code",
   "execution_count": null,
   "id": "6ef6a62c-13f8-45e3-a81e-d4b298668cd1",
   "metadata": {},
   "outputs": [],
   "source": []
  },
  {
   "cell_type": "code",
   "execution_count": null,
   "id": "ea859ea5-0e18-49a3-8fd2-21eaebc679e8",
   "metadata": {},
   "outputs": [],
   "source": []
  },
  {
   "cell_type": "code",
   "execution_count": null,
   "id": "b93bfa27-471f-4b5f-8878-71b41f302d3d",
   "metadata": {},
   "outputs": [],
   "source": []
  }
 ],
 "metadata": {
  "kernelspec": {
   "display_name": "Python 3 (ipykernel)",
   "language": "python",
   "name": "python3"
  },
  "language_info": {
   "codemirror_mode": {
    "name": "ipython",
    "version": 3
   },
   "file_extension": ".py",
   "mimetype": "text/x-python",
   "name": "python",
   "nbconvert_exporter": "python",
   "pygments_lexer": "ipython3",
   "version": "3.11.7"
  }
 },
 "nbformat": 4,
 "nbformat_minor": 5
}
