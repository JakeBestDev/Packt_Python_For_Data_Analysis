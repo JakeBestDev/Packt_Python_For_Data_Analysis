{
 "cells": [
  {
   "cell_type": "markdown",
   "id": "c41984af-4ff0-479d-9069-3e0a97e5f42c",
   "metadata": {},
   "source": [
    "## Binning"
   ]
  },
  {
   "cell_type": "code",
   "execution_count": 1,
   "id": "55fee04e-82cd-4e8b-94c4-884af702024f",
   "metadata": {},
   "outputs": [],
   "source": [
    "import pandas as pd\n",
    "air_quality = pd.read_pickle('aq1.pkl')"
   ]
  },
  {
   "cell_type": "code",
   "execution_count": 2,
   "id": "cda4ffe2-816f-46c5-8fe8-0c305a2f7f54",
   "metadata": {},
   "outputs": [
    {
     "data": {
      "text/plain": [
       "0    9.0\n",
       "1    4.0\n",
       "2    4.0\n",
       "3    5.0\n",
       "4    3.0\n",
       "Name: PM2.5, dtype: float64"
      ]
     },
     "execution_count": 2,
     "metadata": {},
     "output_type": "execute_result"
    }
   ],
   "source": [
    "## The PM2.5 is the tiny particles in the air with a diameter of 2.5 mincrometers or less.\n",
    "# So this is used to determine the air quality. The higher the number the worse the air quality\n",
    "air_quality['PM2.5'].head()"
   ]
  },
  {
   "cell_type": "code",
   "execution_count": 3,
   "id": "cd61e961-15e4-45b2-bacb-bf54aa5361a6",
   "metadata": {},
   "outputs": [
    {
     "data": {
      "text/plain": [
       "<Axes: >"
      ]
     },
     "execution_count": 3,
     "metadata": {},
     "output_type": "execute_result"
    },
    {
     "data": {
      "image/png": "[encoded data removed]",
      "text/plain": [
       "<Figure size 640x480 with 1 Axes>"
      ]
     },
     "metadata": {},
     "output_type": "display_data"
    }
   ],
   "source": [
    "## Binning can be exampled in a histogram. The histogram bins data into the columns within given ranges of the column used from the df.\n",
    "## So, in this example the first column in the hist as binned records from the PM2.5 column with a range of what looks like 0 to around 80.\n",
    "## The next column goes up from there with less records and so on.\n",
    "air_quality['PM2.5'].hist()"
   ]
  },
  {
   "cell_type": "markdown",
   "id": "b5a13b00-4f99-4275-93d6-2bb3fd7fec16",
   "metadata": {},
   "source": [
    "## Cut function"
   ]
  },
  {
   "cell_type": "code",
   "execution_count": 4,
   "id": "1aa8bce3-2cc2-440d-be6f-80d11171fa8c",
   "metadata": {},
   "outputs": [
    {
     "data": {
      "text/plain": [
       "0        (1.181, 83.9]\n",
       "1        (1.181, 83.9]\n",
       "2        (1.181, 83.9]\n",
       "3        (1.181, 83.9]\n",
       "4        (1.181, 83.9]\n",
       "             ...      \n",
       "95680    (1.181, 83.9]\n",
       "95681    (1.181, 83.9]\n",
       "95682    (1.181, 83.9]\n",
       "95683    (1.181, 83.9]\n",
       "95684    (1.181, 83.9]\n",
       "Name: PM2.5, Length: 95685, dtype: category\n",
       "Categories (10, interval[float64, right]): [(1.181, 83.9] < (83.9, 165.8] < (165.8, 247.7] < (247.7, 329.6] ... (493.4, 575.3] < (575.3, 657.2] < (657.2, 739.1] < (739.1, 821.0]]"
      ]
     },
     "execution_count": 4,
     "metadata": {},
     "output_type": "execute_result"
    }
   ],
   "source": [
    "# The cut function can bin the data and return a series that the data from that column belongs to.\n",
    "# If we look back above at the air_quality['PM2.5'].head() we see that there was a 9,4,4 5,3 for the first 5 variables. Those 5 variables all fall in the 1.181, 83.9 section.\n",
    "# You can view the order of the bins below in the 'categories section\n",
    "pd.cut(air_quality['PM2.5'], bins = 10)"
   ]
  },
  {
   "cell_type": "code",
   "execution_count": 5,
   "id": "6088c8a9-1d0d-4593-9517-2c23a7cd1217",
   "metadata": {},
   "outputs": [
    {
     "data": {
      "text/plain": [
       "PM2.5\n",
       "(1.181, 83.9]     59923\n",
       "(83.9, 165.8]     22741\n",
       "(165.8, 247.7]     8132\n",
       "(247.7, 329.6]     3225\n",
       "(329.6, 411.5]     1011\n",
       "(411.5, 493.4]      384\n",
       "(493.4, 575.3]      171\n",
       "(575.3, 657.2]       70\n",
       "(657.2, 739.1]       22\n",
       "(739.1, 821.0]        6\n",
       "Name: count, dtype: int64"
      ]
     },
     "execution_count": 5,
     "metadata": {},
     "output_type": "execute_result"
    }
   ],
   "source": [
    "pd.cut(air_quality['PM2.5'], bins = 10).value_counts()"
   ]
  },
  {
   "cell_type": "code",
   "execution_count": 6,
   "id": "8f3e3c13-46c2-4466-a3b4-987b0a44cc1e",
   "metadata": {},
   "outputs": [
    {
     "data": {
      "text/plain": [
       "82.71900000000001"
      ]
     },
     "execution_count": 6,
     "metadata": {},
     "output_type": "execute_result"
    }
   ],
   "source": [
    "# You can view the widths by subtracting \n",
    "83.9 - 1.181"
   ]
  },
  {
   "cell_type": "code",
   "execution_count": 7,
   "id": "e833a768-3c0a-44f0-a51a-6f20e8f9abee",
   "metadata": {},
   "outputs": [
    {
     "data": {
      "text/plain": [
       "81.9"
      ]
     },
     "execution_count": 7,
     "metadata": {},
     "output_type": "execute_result"
    }
   ],
   "source": [
    "165.8 - 83.9"
   ]
  },
  {
   "cell_type": "markdown",
   "id": "191e4a1d-0231-4dea-8c78-45f22412c30b",
   "metadata": {},
   "source": [
    "#### So we can see that the cut method seperated the data into 10 bins, similar to the hist()\n",
    "#### each of which has a width of around 82"
   ]
  },
  {
   "cell_type": "code",
   "execution_count": 8,
   "id": "54d15272-14c0-4ee7-9dbf-82ced4b51495",
   "metadata": {},
   "outputs": [
    {
     "data": {
      "text/plain": [
       "0         (0.0, 12.0]\n",
       "1         (0.0, 12.0]\n",
       "2         (0.0, 12.0]\n",
       "3         (0.0, 12.0]\n",
       "4         (0.0, 12.0]\n",
       "             ...     \n",
       "95680     (0.0, 12.0]\n",
       "95681     (0.0, 12.0]\n",
       "95682    (12.0, 35.4]\n",
       "95683    (12.0, 35.4]\n",
       "95684    (12.0, 35.4]\n",
       "Name: PM2.5, Length: 95685, dtype: category\n",
       "Categories (6, interval[float64, right]): [(0.0, 12.0] < (12.0, 35.4] < (35.4, 55.4] < (55.4, 150.4] < (150.4, 250.4] < (250.4, 999.0]]"
      ]
     },
     "execution_count": 8,
     "metadata": {},
     "output_type": "execute_result"
    }
   ],
   "source": [
    "# Returns intervals defined by the list of bins\n",
    "pd.cut(air_quality['PM2.5'], bins = [0,12,35.4,55.4,150.4,250.4,999])"
   ]
  },
  {
   "cell_type": "code",
   "execution_count": 9,
   "id": "02da5fd8-0376-460b-9891-034baf83669c",
   "metadata": {},
   "outputs": [
    {
     "data": {
      "text/plain": [
       "PM2.5\n",
       "(55.4, 150.4]     34257\n",
       "(12.0, 35.4]      19853\n",
       "(0.0, 12.0]       13576\n",
       "(35.4, 55.4]      12457\n",
       "(150.4, 250.4]    10821\n",
       "(250.4, 999.0]     4721\n",
       "Name: count, dtype: int64"
      ]
     },
     "execution_count": 9,
     "metadata": {},
     "output_type": "execute_result"
    }
   ],
   "source": [
    "pd.cut(air_quality['PM2.5'], bins = [0,12,35.4,55.4,150.4,250.4,999]).value_counts()"
   ]
  },
  {
   "cell_type": "code",
   "execution_count": 12,
   "id": "244b25b8-e9bf-4941-8618-2bfad45a8b71",
   "metadata": {},
   "outputs": [
    {
     "data": {
      "text/plain": [
       "0            Good\n",
       "1            Good\n",
       "2            Good\n",
       "3            Good\n",
       "4            Good\n",
       "           ...   \n",
       "95680        Good\n",
       "95681        Good\n",
       "95682    Moderate\n",
       "95683    Moderate\n",
       "95684    Moderate\n",
       "Name: PM2.5, Length: 95685, dtype: category\n",
       "Categories (6, object): ['Good' < 'Moderate' < 'Unhealthy for sensitive groups' < 'Unhealthy' < 'Very unhealthy' < 'Hazardous']"
      ]
     },
     "execution_count": 12,
     "metadata": {},
     "output_type": "execute_result"
    }
   ],
   "source": [
    "# The intervals used are not random, 0-12 is considered 'good' air quality, 12-35.4 is \"moderate\" and so on.\n",
    "# Lets add those lables to the interval\n",
    "pd.cut(air_quality['PM2.5'], bins = [0,12,35.4,55.4,150.4,250.4,999], \n",
    "       labels = ['Good', 'Moderate', 'Unhealthy for sensitive groups', 'Unhealthy', 'Very unhealthy', 'Hazardous'])"
   ]
  },
  {
   "cell_type": "code",
   "execution_count": 13,
   "id": "0c5f4d30-18ce-4d2f-a610-e5a8ccc67124",
   "metadata": {},
   "outputs": [
    {
     "data": {
      "text/plain": [
       "PM2.5\n",
       "Unhealthy                         34257\n",
       "Moderate                          19853\n",
       "Good                              13576\n",
       "Unhealthy for sensitive groups    12457\n",
       "Very unhealthy                    10821\n",
       "Hazardous                          4721\n",
       "Name: count, dtype: int64"
      ]
     },
     "execution_count": 13,
     "metadata": {},
     "output_type": "execute_result"
    }
   ],
   "source": [
    "pd.cut(air_quality['PM2.5'], bins = [0,12,35.4,55.4,150.4,250.4,999], \n",
    "       labels = ['Good', 'Moderate', 'Unhealthy for sensitive groups', 'Unhealthy', 'Very unhealthy', 'Hazardous']).value_counts()"
   ]
  },
  {
   "cell_type": "code",
   "execution_count": 14,
   "id": "91ef4ed2-cfc6-4c21-b681-793060f0f096",
   "metadata": {},
   "outputs": [],
   "source": [
    "# Lets make a new column in the data set called PM2.5 Category\n",
    "air_quality['PM2.5_category'] = pd.cut(air_quality['PM2.5'], bins = [0,12,35.4,55.4,150.4,250.4,999], \n",
    "       labels = ['Good', 'Moderate', 'Unhealthy for sensitive groups', 'Unhealthy', 'Very unhealthy', 'Hazardous'])"
   ]
  },
  {
   "cell_type": "code",
   "execution_count": 15,
   "id": "cd8814c4-a2c1-43d6-981c-4b6bf582df99",
   "metadata": {},
   "outputs": [
    {
     "data": {
      "text/html": [
       "<div>\n",
       "<style scoped>\n",
       "    .dataframe tbody tr th:only-of-type {\n",
       "        vertical-align: middle;\n",
       "    }\n",
       "\n",
       "    .dataframe tbody tr th {\n",
       "        vertical-align: top;\n",
       "    }\n",
       "\n",
       "    .dataframe thead th {\n",
       "        text-align: right;\n",
       "    }\n",
       "</style>\n",
       "<table border=\"1\" class=\"dataframe\">\n",
       "  <thead>\n",
       "    <tr style=\"text-align: right;\">\n",
       "      <th></th>\n",
       "      <th>PM2.5</th>\n",
       "      <th>PM2.5_category</th>\n",
       "    </tr>\n",
       "  </thead>\n",
       "  <tbody>\n",
       "    <tr>\n",
       "      <th>0</th>\n",
       "      <td>9.0</td>\n",
       "      <td>Good</td>\n",
       "    </tr>\n",
       "    <tr>\n",
       "      <th>1</th>\n",
       "      <td>4.0</td>\n",
       "      <td>Good</td>\n",
       "    </tr>\n",
       "    <tr>\n",
       "      <th>2</th>\n",
       "      <td>4.0</td>\n",
       "      <td>Good</td>\n",
       "    </tr>\n",
       "    <tr>\n",
       "      <th>3</th>\n",
       "      <td>5.0</td>\n",
       "      <td>Good</td>\n",
       "    </tr>\n",
       "    <tr>\n",
       "      <th>4</th>\n",
       "      <td>3.0</td>\n",
       "      <td>Good</td>\n",
       "    </tr>\n",
       "    <tr>\n",
       "      <th>...</th>\n",
       "      <td>...</td>\n",
       "      <td>...</td>\n",
       "    </tr>\n",
       "    <tr>\n",
       "      <th>95680</th>\n",
       "      <td>9.0</td>\n",
       "      <td>Good</td>\n",
       "    </tr>\n",
       "    <tr>\n",
       "      <th>95681</th>\n",
       "      <td>10.0</td>\n",
       "      <td>Good</td>\n",
       "    </tr>\n",
       "    <tr>\n",
       "      <th>95682</th>\n",
       "      <td>18.0</td>\n",
       "      <td>Moderate</td>\n",
       "    </tr>\n",
       "    <tr>\n",
       "      <th>95683</th>\n",
       "      <td>15.0</td>\n",
       "      <td>Moderate</td>\n",
       "    </tr>\n",
       "    <tr>\n",
       "      <th>95684</th>\n",
       "      <td>15.0</td>\n",
       "      <td>Moderate</td>\n",
       "    </tr>\n",
       "  </tbody>\n",
       "</table>\n",
       "<p>95685 rows × 2 columns</p>\n",
       "</div>"
      ],
      "text/plain": [
       "       PM2.5 PM2.5_category\n",
       "0        9.0           Good\n",
       "1        4.0           Good\n",
       "2        4.0           Good\n",
       "3        5.0           Good\n",
       "4        3.0           Good\n",
       "...      ...            ...\n",
       "95680    9.0           Good\n",
       "95681   10.0           Good\n",
       "95682   18.0       Moderate\n",
       "95683   15.0       Moderate\n",
       "95684   15.0       Moderate\n",
       "\n",
       "[95685 rows x 2 columns]"
      ]
     },
     "execution_count": 15,
     "metadata": {},
     "output_type": "execute_result"
    }
   ],
   "source": [
    "air_quality[['PM2.5','PM2.5_category']]"
   ]
  },
  {
   "cell_type": "code",
   "execution_count": 17,
   "id": "b4bb7677-5b4b-4507-85c1-bbf0d9025591",
   "metadata": {},
   "outputs": [
    {
     "data": {
      "text/plain": [
       "PM2.5_category\n",
       "Unhealthy                         0.358018\n",
       "Moderate                          0.207483\n",
       "Good                              0.141882\n",
       "Unhealthy for sensitive groups    0.130188\n",
       "Very unhealthy                    0.113090\n",
       "Hazardous                         0.049339\n",
       "Name: proportion, dtype: float64"
      ]
     },
     "execution_count": 17,
     "metadata": {},
     "output_type": "execute_result"
    }
   ],
   "source": [
    "air_quality['PM2.5_category'].value_counts(normalize = True)"
   ]
  },
  {
   "cell_type": "markdown",
   "id": "ae46c1ad-c396-4d5f-aa91-94c60497d160",
   "metadata": {},
   "source": [
    "### Obserrve the difference in binning 10 vs predetermined bins"
   ]
  },
  {
   "cell_type": "code",
   "execution_count": 18,
   "id": "e1081c1f-df9e-455f-bc52-458e670ba583",
   "metadata": {},
   "outputs": [
    {
     "data": {
      "text/plain": [
       "PM2.5\n",
       "(1.181, 83.9]     59923\n",
       "(83.9, 165.8]     22741\n",
       "(165.8, 247.7]     8132\n",
       "(247.7, 329.6]     3225\n",
       "(329.6, 411.5]     1011\n",
       "(411.5, 493.4]      384\n",
       "(493.4, 575.3]      171\n",
       "(575.3, 657.2]       70\n",
       "(657.2, 739.1]       22\n",
       "(739.1, 821.0]        6\n",
       "Name: count, dtype: int64"
      ]
     },
     "execution_count": 18,
     "metadata": {},
     "output_type": "execute_result"
    }
   ],
   "source": [
    "## Uses seperate bins with large amounts of records all the way down to small records\n",
    "# This isn't the most ideal with the large fluctuation and cound lead to false outliers\n",
    "pd.cut(air_quality['PM2.5'], bins = 10).value_counts()"
   ]
  },
  {
   "cell_type": "code",
   "execution_count": 22,
   "id": "0c94bcea-09a7-4b27-8036-a6b9e4c71257",
   "metadata": {},
   "outputs": [
    {
     "data": {
      "text/plain": [
       "PM2.5_category\n",
       "Unhealthy                         34257\n",
       "Moderate                          19853\n",
       "Good                              13576\n",
       "Unhealthy for sensitive groups    12457\n",
       "Very unhealthy                    10821\n",
       "Hazardous                          4721\n",
       "Name: count, dtype: int64"
      ]
     },
     "execution_count": 22,
     "metadata": {},
     "output_type": "execute_result"
    }
   ],
   "source": [
    "## Much nicer grouping due to the bins and can observe very poor air qualities using the newly defined lables\n",
    "air_quality['PM2.5_category'].value_counts()"
   ]
  },
  {
   "cell_type": "markdown",
   "id": "4a25e85c-b4b3-425e-a400-af8a1b1a0f7c",
   "metadata": {},
   "source": [
    "## qcut function\n",
    "#### What if we wanted to bin equal amounts of records into each bin?"
   ]
  },
  {
   "cell_type": "code",
   "execution_count": 23,
   "id": "ea692872-4607-4d9b-a81a-bab8257f27c5",
   "metadata": {},
   "outputs": [
    {
     "data": {
      "text/plain": [
       "0        (1.999, 23.0]\n",
       "1        (1.999, 23.0]\n",
       "2        (1.999, 23.0]\n",
       "3        (1.999, 23.0]\n",
       "4        (1.999, 23.0]\n",
       "             ...      \n",
       "95680    (1.999, 23.0]\n",
       "95681    (1.999, 23.0]\n",
       "95682    (1.999, 23.0]\n",
       "95683    (1.999, 23.0]\n",
       "95684    (1.999, 23.0]\n",
       "Name: PM2.5, Length: 95685, dtype: category\n",
       "Categories (4, interval[float64, right]): [(1.999, 23.0] < (23.0, 59.0] < (59.0, 116.0] < (116.0, 821.0]]"
      ]
     },
     "execution_count": 23,
     "metadata": {},
     "output_type": "execute_result"
    }
   ],
   "source": [
    "# Bins into 4 equal intervals \n",
    "pd.qcut(air_quality['PM2.5'], q = 4)"
   ]
  },
  {
   "cell_type": "code",
   "execution_count": 24,
   "id": "d6263b64-df65-4a16-a746-e7e5909cd88c",
   "metadata": {},
   "outputs": [
    {
     "data": {
      "text/plain": [
       "PM2.5\n",
       "(1.999, 23.0]     24708\n",
       "(59.0, 116.0]     23908\n",
       "(116.0, 821.0]    23645\n",
       "(23.0, 59.0]      23424\n",
       "Name: count, dtype: int64"
      ]
     },
     "execution_count": 24,
     "metadata": {},
     "output_type": "execute_result"
    }
   ],
   "source": [
    "pd.qcut(air_quality['PM2.5'], q = 4).value_counts()"
   ]
  },
  {
   "cell_type": "code",
   "execution_count": 26,
   "id": "60ab20e2-e396-4a04-8c14-83dfcd7fe69a",
   "metadata": {},
   "outputs": [
    {
     "data": {
      "text/plain": [
       "PM2.5\n",
       "(1.999, 23.0]     0.258222\n",
       "(59.0, 116.0]     0.249862\n",
       "(116.0, 821.0]    0.247113\n",
       "(23.0, 59.0]      0.244803\n",
       "Name: proportion, dtype: float64"
      ]
     },
     "execution_count": 26,
     "metadata": {},
     "output_type": "execute_result"
    }
   ],
   "source": [
    "# Very very closly binned intervals \n",
    "pd.qcut(air_quality['PM2.5'], q = 4).value_counts(normalize = True)"
   ]
  },
  {
   "cell_type": "code",
   "execution_count": 27,
   "id": "358b8c25-a464-4cd1-8490-3964b385c866",
   "metadata": {},
   "outputs": [
    {
     "data": {
      "text/plain": [
       "PM2.5\n",
       "(1.999, 23.0]     0.258222\n",
       "(23.0, 59.0]      0.244803\n",
       "(59.0, 116.0]     0.249862\n",
       "(116.0, 821.0]    0.247113\n",
       "Name: proportion, dtype: float64"
      ]
     },
     "execution_count": 27,
     "metadata": {},
     "output_type": "execute_result"
    }
   ],
   "source": [
    "# Return the order in the original interval order\n",
    "pd.qcut(air_quality['PM2.5'], q = 4).value_counts(normalize = True, sort = False)"
   ]
  },
  {
   "cell_type": "code",
   "execution_count": 29,
   "id": "c5da114b-554b-4178-bdd2-136e6b4a5bb1",
   "metadata": {},
   "outputs": [
    {
     "data": {
      "text/plain": [
       "count    95685.000000\n",
       "mean        83.477884\n",
       "std         82.678134\n",
       "min          2.000000\n",
       "25%         23.000000\n",
       "50%         59.000000\n",
       "75%        116.000000\n",
       "max        821.000000\n",
       "Name: PM2.5, dtype: float64"
      ]
     },
     "execution_count": 29,
     "metadata": {},
     "output_type": "execute_result"
    }
   ],
   "source": [
    "## Notice how the bins are seperated into 4 equal parts, these are the quartiles!\n",
    "# Check using the describe\n",
    "# Notice the min = 2 is close to 1.99 in the first interval\n",
    "# the 25% is 23 is exactly equal to 23 in the interval and so on.\n",
    "air_quality['PM2.5'].describe()"
   ]
  },
  {
   "cell_type": "code",
   "execution_count": 30,
   "id": "f7a1426b-5c44-4f9d-96cf-92f0a941356a",
   "metadata": {},
   "outputs": [
    {
     "data": {
      "text/plain": [
       "0        (-16.801000000000002, 1.8]\n",
       "1        (-16.801000000000002, 1.8]\n",
       "2        (-16.801000000000002, 1.8]\n",
       "3        (-16.801000000000002, 1.8]\n",
       "4        (-16.801000000000002, 1.8]\n",
       "                    ...            \n",
       "95680                  (10.1, 18.7]\n",
       "95681                  (10.1, 18.7]\n",
       "95682                  (10.1, 18.7]\n",
       "95683                  (10.1, 18.7]\n",
       "95684                   (1.8, 10.1]\n",
       "Name: TEMP, Length: 95685, dtype: category\n",
       "Categories (5, interval[float64, right]): [(-16.801000000000002, 1.8] < (1.8, 10.1] < (10.1, 18.7] < (18.7, 24.8] < (24.8, 41.6]]"
      ]
     },
     "execution_count": 30,
     "metadata": {},
     "output_type": "execute_result"
    }
   ],
   "source": [
    "# Lets apply the qcut to different column TEMP wit 5 intervals\n",
    "pd.qcut(air_quality['TEMP'], q = 5)"
   ]
  },
  {
   "cell_type": "code",
   "execution_count": 31,
   "id": "a112cdc8-e3bd-4493-b1c2-2320747274dd",
   "metadata": {},
   "outputs": [
    {
     "data": {
      "text/plain": [
       "0        Very Cold\n",
       "1        Very Cold\n",
       "2        Very Cold\n",
       "3        Very Cold\n",
       "4        Very Cold\n",
       "           ...    \n",
       "95680         Warm\n",
       "95681         Warm\n",
       "95682         Warm\n",
       "95683         Warm\n",
       "95684         Cold\n",
       "Name: TEMP, Length: 95685, dtype: category\n",
       "Categories (5, object): ['Very Cold' < ' Cold' < 'Warm' < 'Hot' < 'Very Hot']"
      ]
     },
     "execution_count": 31,
     "metadata": {},
     "output_type": "execute_result"
    }
   ],
   "source": [
    "# Add labels\n",
    "pd.qcut(air_quality['TEMP'], q = 5, labels = ['Very Cold', ' Cold', 'Warm', 'Hot', 'Very Hot'])"
   ]
  },
  {
   "cell_type": "code",
   "execution_count": 32,
   "id": "0c47a65c-3898-4d09-94aa-e36bc8149a40",
   "metadata": {},
   "outputs": [
    {
     "data": {
      "text/plain": [
       "TEMP\n",
       "Hot          19189\n",
       "Very Cold    19156\n",
       " Cold        19154\n",
       "Warm         19143\n",
       "Very Hot     19043\n",
       "Name: count, dtype: int64"
      ]
     },
     "execution_count": 32,
     "metadata": {},
     "output_type": "execute_result"
    }
   ],
   "source": [
    "pd.qcut(air_quality['TEMP'], q = 5, labels = ['Very Cold', ' Cold', 'Warm', 'Hot', 'Very Hot']).value_counts()"
   ]
  },
  {
   "cell_type": "code",
   "execution_count": 33,
   "id": "45b9cbcb-57aa-4d91-ae28-2f42de9372d2",
   "metadata": {},
   "outputs": [],
   "source": [
    "air_quality['TEMP_category'] = pd.qcut(air_quality['TEMP'], q = 5, labels = ['Very Cold', ' Cold', 'Warm', 'Hot', 'Very Hot'])"
   ]
  },
  {
   "cell_type": "code",
   "execution_count": 35,
   "id": "a90522d4-edca-42e6-9f7a-47a0a9a40c21",
   "metadata": {},
   "outputs": [
    {
     "data": {
      "text/html": [
       "<div>\n",
       "<style scoped>\n",
       "    .dataframe tbody tr th:only-of-type {\n",
       "        vertical-align: middle;\n",
       "    }\n",
       "\n",
       "    .dataframe tbody tr th {\n",
       "        vertical-align: top;\n",
       "    }\n",
       "\n",
       "    .dataframe thead th {\n",
       "        text-align: right;\n",
       "    }\n",
       "</style>\n",
       "<table border=\"1\" class=\"dataframe\">\n",
       "  <thead>\n",
       "    <tr style=\"text-align: right;\">\n",
       "      <th></th>\n",
       "      <th>TEMP</th>\n",
       "      <th>TEMP_category</th>\n",
       "    </tr>\n",
       "  </thead>\n",
       "  <tbody>\n",
       "    <tr>\n",
       "      <th>0</th>\n",
       "      <td>-0.5</td>\n",
       "      <td>Very Cold</td>\n",
       "    </tr>\n",
       "    <tr>\n",
       "      <th>1</th>\n",
       "      <td>-0.7</td>\n",
       "      <td>Very Cold</td>\n",
       "    </tr>\n",
       "    <tr>\n",
       "      <th>2</th>\n",
       "      <td>-2.4</td>\n",
       "      <td>Very Cold</td>\n",
       "    </tr>\n",
       "    <tr>\n",
       "      <th>3</th>\n",
       "      <td>-2.5</td>\n",
       "      <td>Very Cold</td>\n",
       "    </tr>\n",
       "    <tr>\n",
       "      <th>4</th>\n",
       "      <td>-1.4</td>\n",
       "      <td>Very Cold</td>\n",
       "    </tr>\n",
       "    <tr>\n",
       "      <th>...</th>\n",
       "      <td>...</td>\n",
       "      <td>...</td>\n",
       "    </tr>\n",
       "    <tr>\n",
       "      <th>95680</th>\n",
       "      <td>15.4</td>\n",
       "      <td>Warm</td>\n",
       "    </tr>\n",
       "    <tr>\n",
       "      <th>95681</th>\n",
       "      <td>14.9</td>\n",
       "      <td>Warm</td>\n",
       "    </tr>\n",
       "    <tr>\n",
       "      <th>95682</th>\n",
       "      <td>10.8</td>\n",
       "      <td>Warm</td>\n",
       "    </tr>\n",
       "    <tr>\n",
       "      <th>95683</th>\n",
       "      <td>10.5</td>\n",
       "      <td>Warm</td>\n",
       "    </tr>\n",
       "    <tr>\n",
       "      <th>95684</th>\n",
       "      <td>8.6</td>\n",
       "      <td>Cold</td>\n",
       "    </tr>\n",
       "  </tbody>\n",
       "</table>\n",
       "<p>95685 rows × 2 columns</p>\n",
       "</div>"
      ],
      "text/plain": [
       "       TEMP TEMP_category\n",
       "0      -0.5     Very Cold\n",
       "1      -0.7     Very Cold\n",
       "2      -2.4     Very Cold\n",
       "3      -2.5     Very Cold\n",
       "4      -1.4     Very Cold\n",
       "...     ...           ...\n",
       "95680  15.4          Warm\n",
       "95681  14.9          Warm\n",
       "95682  10.8          Warm\n",
       "95683  10.5          Warm\n",
       "95684   8.6          Cold\n",
       "\n",
       "[95685 rows x 2 columns]"
      ]
     },
     "execution_count": 35,
     "metadata": {},
     "output_type": "execute_result"
    }
   ],
   "source": [
    "air_quality[['TEMP', 'TEMP_category']]"
   ]
  },
  {
   "cell_type": "markdown",
   "id": "1aae93b9-3180-427c-b877-127c2dc40555",
   "metadata": {},
   "source": [
    "## Now pickle the data to use later"
   ]
  },
  {
   "cell_type": "code",
   "execution_count": 36,
   "id": "dfede734-5053-4a22-b0b3-19bc510a1778",
   "metadata": {},
   "outputs": [],
   "source": [
    "air_quality.to_pickle('air_quality.pkl')"
   ]
  },
  {
   "cell_type": "code",
   "execution_count": null,
   "id": "411a9ff4-09d3-4bfd-8a64-edee229141a1",
   "metadata": {},
   "outputs": [],
   "source": []
  },
  {
   "cell_type": "code",
   "execution_count": null,
   "id": "5d280031-afd1-441c-8547-e9ccdc342d4a",
   "metadata": {},
   "outputs": [],
   "source": []
  },
  {
   "cell_type": "code",
   "execution_count": null,
   "id": "7f23d8d7-d192-459d-9db4-f46ec7a03d43",
   "metadata": {},
   "outputs": [],
   "source": []
  },
  {
   "cell_type": "code",
   "execution_count": null,
   "id": "dbe7c7f2-018b-4769-a198-0cc85131d67e",
   "metadata": {},
   "outputs": [],
   "source": []
  },
  {
   "cell_type": "code",
   "execution_count": null,
   "id": "5996162e-94c8-49fa-9bd2-cba9cdcd6764",
   "metadata": {},
   "outputs": [],
   "source": []
  },
  {
   "cell_type": "code",
   "execution_count": null,
   "id": "3795b2bb-6c2c-4ef0-aabf-13b80258ce09",
   "metadata": {},
   "outputs": [],
   "source": []
  },
  {
   "cell_type": "code",
   "execution_count": null,
   "id": "cfb119e7-9d3a-49ab-a53d-139d495ab375",
   "metadata": {},
   "outputs": [],
   "source": []
  },
  {
   "cell_type": "code",
   "execution_count": null,
   "id": "19457ca7-56d8-4d55-aefb-0b6dd0ce6230",
   "metadata": {},
   "outputs": [],
   "source": []
  },
  {
   "cell_type": "code",
   "execution_count": null,
   "id": "ef5f882e-a9e9-42b6-a606-a11201eaa8ac",
   "metadata": {},
   "outputs": [],
   "source": []
  },
  {
   "cell_type": "code",
   "execution_count": null,
   "id": "3646673e-a242-4d0a-b713-7f417bbfdbe2",
   "metadata": {},
   "outputs": [],
   "source": []
  },
  {
   "cell_type": "code",
   "execution_count": null,
   "id": "c5df7f39-7822-404e-be5c-ea8c5d959a40",
   "metadata": {},
   "outputs": [],
   "source": []
  },
  {
   "cell_type": "code",
   "execution_count": null,
   "id": "dd8b5408-8364-4ddd-9f06-b0ba453fe61c",
   "metadata": {},
   "outputs": [],
   "source": []
  },
  {
   "cell_type": "code",
   "execution_count": null,
   "id": "f61492d0-82cc-4b39-bbb9-220bd4b3ee55",
   "metadata": {},
   "outputs": [],
   "source": []
  },
  {
   "cell_type": "code",
   "execution_count": null,
   "id": "17cbcd72-5697-427c-a0cf-38ebe2e87fd5",
   "metadata": {},
   "outputs": [],
   "source": []
  },
  {
   "cell_type": "code",
   "execution_count": null,
   "id": "08124752-8534-44df-993d-aff50bb255c4",
   "metadata": {},
   "outputs": [],
   "source": []
  },
  {
   "cell_type": "code",
   "execution_count": null,
   "id": "1722d43f-49a6-432c-9699-e1f0b7b7655b",
   "metadata": {},
   "outputs": [],
   "source": []
  },
  {
   "cell_type": "code",
   "execution_count": null,
   "id": "70e3b1ce-9da7-44a5-b4aa-1c292972b60e",
   "metadata": {},
   "outputs": [],
   "source": []
  },
  {
   "cell_type": "code",
   "execution_count": null,
   "id": "76c8bca7-5456-4aa9-85cf-4b69718a04c5",
   "metadata": {},
   "outputs": [],
   "source": []
  },
  {
   "cell_type": "code",
   "execution_count": null,
   "id": "1ee44372-d614-4acf-95c1-9c8c3cbdfb33",
   "metadata": {},
   "outputs": [],
   "source": []
  },
  {
   "cell_type": "code",
   "execution_count": null,
   "id": "ae6721ff-e858-4f39-9fc2-717b69a6473b",
   "metadata": {},
   "outputs": [],
   "source": []
  },
  {
   "cell_type": "code",
   "execution_count": null,
   "id": "8978823a-8c05-41fd-a839-64172c878bb5",
   "metadata": {},
   "outputs": [],
   "source": []
  },
  {
   "cell_type": "code",
   "execution_count": null,
   "id": "ad030d1c-8894-4867-ab03-338280efe977",
   "metadata": {},
   "outputs": [],
   "source": []
  },
  {
   "cell_type": "code",
   "execution_count": null,
   "id": "b8c4c665-6d32-45e5-b424-fb37cd05c7eb",
   "metadata": {},
   "outputs": [],
   "source": []
  },
  {
   "cell_type": "code",
   "execution_count": null,
   "id": "11cb3c4a-b7c5-48b3-aa13-417da9aa422a",
   "metadata": {},
   "outputs": [],
   "source": []
  },
  {
   "cell_type": "code",
   "execution_count": null,
   "id": "d3e233b9-ab1e-4dd6-a2fc-25631024e0d9",
   "metadata": {},
   "outputs": [],
   "source": []
  },
  {
   "cell_type": "code",
   "execution_count": null,
   "id": "03203f0f-798a-4d77-9d30-41adfa1b1070",
   "metadata": {},
   "outputs": [],
   "source": []
  },
  {
   "cell_type": "code",
   "execution_count": null,
   "id": "dac4e90f-3c83-4844-9889-6b24e1aa1b79",
   "metadata": {},
   "outputs": [],
   "source": []
  },
  {
   "cell_type": "code",
   "execution_count": null,
   "id": "12ee9d20-daf4-4bb6-bc0f-6e52f4c5bf0c",
   "metadata": {},
   "outputs": [],
   "source": []
  },
  {
   "cell_type": "code",
   "execution_count": null,
   "id": "f30f171e-51cc-42c8-b5c9-7104d165eb33",
   "metadata": {},
   "outputs": [],
   "source": []
  },
  {
   "cell_type": "code",
   "execution_count": null,
   "id": "ea3d9c55-fec4-4f00-92f5-7e286459612f",
   "metadata": {},
   "outputs": [],
   "source": []
  },
  {
   "cell_type": "code",
   "execution_count": null,
   "id": "b8275b71-7764-42e9-8acd-9d93d4e95981",
   "metadata": {},
   "outputs": [],
   "source": []
  },
  {
   "cell_type": "code",
   "execution_count": null,
   "id": "349273cf-cd7d-4ab8-b933-3a800cfeb239",
   "metadata": {},
   "outputs": [],
   "source": []
  },
  {
   "cell_type": "code",
   "execution_count": null,
   "id": "f829b08c-eda8-4501-9a7a-bf875380d3fd",
   "metadata": {},
   "outputs": [],
   "source": []
  }
 ],
 "metadata": {
  "kernelspec": {
   "display_name": "Python 3 (ipykernel)",
   "language": "python",
   "name": "python3"
  },
  "language_info": {
   "codemirror_mode": {
    "name": "ipython",
    "version": 3
   },
   "file_extension": ".py",
   "mimetype": "text/x-python",
   "name": "python",
   "nbconvert_exporter": "python",
   "pygments_lexer": "ipython3",
   "version": "3.11.7"
  }
 },
 "nbformat": 4,
 "nbformat_minor": 5
}
