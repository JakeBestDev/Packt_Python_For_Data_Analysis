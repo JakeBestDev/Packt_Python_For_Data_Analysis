{
 "cells": [
  {
   "cell_type": "markdown",
   "id": "094087bb-f8cd-46a4-9c92-f13284409b8c",
   "metadata": {},
   "source": [
    "# Time Series: Part 1"
   ]
  },
  {
   "cell_type": "markdown",
   "id": "92f52d9f-1aae-4a6f-a309-40afa3212dde",
   "metadata": {},
   "source": [
    "## Data and Imports"
   ]
  },
  {
   "cell_type": "code",
   "execution_count": 5,
   "id": "b485f743-66ea-4182-981a-96498b732769",
   "metadata": {},
   "outputs": [],
   "source": [
    "import pandas as pd"
   ]
  },
  {
   "cell_type": "code",
   "execution_count": 35,
   "id": "d0a5b029-6451-485f-a1c0-6c811db53ec1",
   "metadata": {},
   "outputs": [],
   "source": [
    "sp500 = pd.read_csv('sp500.csv')"
   ]
  },
  {
   "cell_type": "code",
   "execution_count": 9,
   "id": "3ab0760e-633b-48a0-a847-b226593b4798",
   "metadata": {},
   "outputs": [
    {
     "data": {
      "text/plain": [
       "Index(['Date', 'Open', 'High', 'Low', 'Close', 'Volume'], dtype='object')"
      ]
     },
     "execution_count": 9,
     "metadata": {},
     "output_type": "execute_result"
    }
   ],
   "source": [
    "sp500.columns"
   ]
  },
  {
   "cell_type": "code",
   "execution_count": 18,
   "id": "77d5a15b-c069-4c79-a233-e3d6d6a3428c",
   "metadata": {},
   "outputs": [
    {
     "name": "stdout",
     "output_type": "stream",
     "text": [
      "<class 'pandas.core.frame.DataFrame'>\n",
      "RangeIndex: 1258 entries, 0 to 1257\n",
      "Data columns (total 6 columns):\n",
      " #   Column  Non-Null Count  Dtype  \n",
      "---  ------  --------------  -----  \n",
      " 0   Date    1257 non-null   object \n",
      " 1   Open    1258 non-null   float64\n",
      " 2   High    1258 non-null   float64\n",
      " 3   Low     1258 non-null   float64\n",
      " 4   Close   1258 non-null   float64\n",
      " 5   Volume  1258 non-null   int64  \n",
      "dtypes: float64(4), int64(1), object(1)\n",
      "memory usage: 59.1+ KB\n"
     ]
    }
   ],
   "source": [
    "## Notice date is an object and not a timeseries. We'll need to change that\n",
    "\n",
    "sp500.info()"
   ]
  },
  {
   "cell_type": "code",
   "execution_count": 16,
   "id": "9c6ab28d-d341-4ca9-bbdd-2be572ae1361",
   "metadata": {},
   "outputs": [
    {
     "data": {
      "text/html": [
       "<div>\n",
       "<style scoped>\n",
       "    .dataframe tbody tr th:only-of-type {\n",
       "        vertical-align: middle;\n",
       "    }\n",
       "\n",
       "    .dataframe tbody tr th {\n",
       "        vertical-align: top;\n",
       "    }\n",
       "\n",
       "    .dataframe thead th {\n",
       "        text-align: right;\n",
       "    }\n",
       "</style>\n",
       "<table border=\"1\" class=\"dataframe\">\n",
       "  <thead>\n",
       "    <tr style=\"text-align: right;\">\n",
       "      <th></th>\n",
       "      <th>Date</th>\n",
       "      <th>Open</th>\n",
       "      <th>High</th>\n",
       "      <th>Low</th>\n",
       "      <th>Close</th>\n",
       "      <th>Volume</th>\n",
       "    </tr>\n",
       "  </thead>\n",
       "  <tbody>\n",
       "    <tr>\n",
       "      <th>0</th>\n",
       "      <td>NaN</td>\n",
       "      <td>4703.96</td>\n",
       "      <td>4740.74</td>\n",
       "      <td>4703.96</td>\n",
       "      <td>4725.79</td>\n",
       "      <td>2194630000</td>\n",
       "    </tr>\n",
       "    <tr>\n",
       "      <th>1</th>\n",
       "      <td>Dec. 22, 2021</td>\n",
       "      <td>4650.36</td>\n",
       "      <td>4697.67</td>\n",
       "      <td>4645.53</td>\n",
       "      <td>4696.56</td>\n",
       "      <td>2439570000</td>\n",
       "    </tr>\n",
       "    <tr>\n",
       "      <th>2</th>\n",
       "      <td>Dec. 21, 2021</td>\n",
       "      <td>4594.96</td>\n",
       "      <td>4651.14</td>\n",
       "      <td>4583.16</td>\n",
       "      <td>4649.23</td>\n",
       "      <td>2564370000</td>\n",
       "    </tr>\n",
       "    <tr>\n",
       "      <th>3</th>\n",
       "      <td>Dec. 20, 2021</td>\n",
       "      <td>4587.90</td>\n",
       "      <td>4587.90</td>\n",
       "      <td>4531.10</td>\n",
       "      <td>4568.02</td>\n",
       "      <td>3395780000</td>\n",
       "    </tr>\n",
       "    <tr>\n",
       "      <th>4</th>\n",
       "      <td>Dec. 17, 2021</td>\n",
       "      <td>4652.50</td>\n",
       "      <td>4666.70</td>\n",
       "      <td>4600.22</td>\n",
       "      <td>4620.64</td>\n",
       "      <td>5609780000</td>\n",
       "    </tr>\n",
       "  </tbody>\n",
       "</table>\n",
       "</div>"
      ],
      "text/plain": [
       "            Date     Open     High      Low    Close      Volume\n",
       "0            NaN  4703.96  4740.74  4703.96  4725.79  2194630000\n",
       "1  Dec. 22, 2021  4650.36  4697.67  4645.53  4696.56  2439570000\n",
       "2  Dec. 21, 2021  4594.96  4651.14  4583.16  4649.23  2564370000\n",
       "3  Dec. 20, 2021  4587.90  4587.90  4531.10  4568.02  3395780000\n",
       "4  Dec. 17, 2021  4652.50  4666.70  4600.22  4620.64  5609780000"
      ]
     },
     "execution_count": 16,
     "metadata": {},
     "output_type": "execute_result"
    }
   ],
   "source": [
    "sp500.head()"
   ]
  },
  {
   "cell_type": "markdown",
   "id": "d02e792d-b8f8-4076-86d7-7b5e03c9f35a",
   "metadata": {},
   "source": [
    "## Review Time Series"
   ]
  },
  {
   "cell_type": "markdown",
   "id": "fc828aff-2fa9-446e-9674-cce5ed57443f",
   "metadata": {},
   "source": [
    "### Change To DateTime"
   ]
  },
  {
   "cell_type": "code",
   "execution_count": 37,
   "id": "f1d48c5d-3b76-4a2f-93d2-07704278a6f8",
   "metadata": {},
   "outputs": [
    {
     "name": "stdout",
     "output_type": "stream",
     "text": [
      "<class 'pandas.core.frame.DataFrame'>\n",
      "RangeIndex: 1258 entries, 0 to 1257\n",
      "Data columns (total 6 columns):\n",
      " #   Column  Non-Null Count  Dtype         \n",
      "---  ------  --------------  -----         \n",
      " 0   Date    1257 non-null   datetime64[ns]\n",
      " 1   Open    1258 non-null   float64       \n",
      " 2   High    1258 non-null   float64       \n",
      " 3   Low     1258 non-null   float64       \n",
      " 4   Close   1258 non-null   float64       \n",
      " 5   Volume  1258 non-null   int64         \n",
      "dtypes: datetime64[ns](1), float64(4), int64(1)\n",
      "memory usage: 59.1 KB\n"
     ]
    }
   ],
   "source": [
    "## Lets change Date to a datetime \n",
    "## It is also good practice to use the format parameter to speed up the process and ensure the date and time is set properly\n",
    "## Use this website to find whats needed to set the format:\n",
    "## https://docs.python.org/3/library/datetime.html#strftime-and-strptime-behavior\n",
    "\n",
    "sp500['Date'] = pd.to_datetime(sp500['Date'], format='%b. %d, %Y')\n",
    "sp500.info()"
   ]
  },
  {
   "cell_type": "markdown",
   "id": "785107a4-8cd5-433c-bc78-f3087ff794fb",
   "metadata": {},
   "source": [
    "### Handle Missing Data"
   ]
  },
  {
   "cell_type": "code",
   "execution_count": 44,
   "id": "dcecff78-a2e0-4570-89d2-25a1f1aca613",
   "metadata": {},
   "outputs": [
    {
     "name": "stdout",
     "output_type": "stream",
     "text": [
      "<class 'pandas.core.frame.DataFrame'>\n",
      "RangeIndex: 1258 entries, 0 to 1257\n",
      "Data columns (total 6 columns):\n",
      " #   Column  Non-Null Count  Dtype         \n",
      "---  ------  --------------  -----         \n",
      " 0   Date    1257 non-null   datetime64[ns]\n",
      " 1   Open    1258 non-null   float64       \n",
      " 2   High    1258 non-null   float64       \n",
      " 3   Low     1258 non-null   float64       \n",
      " 4   Close   1258 non-null   float64       \n",
      " 5   Volume  1258 non-null   int64         \n",
      "dtypes: datetime64[ns](1), float64(4), int64(1)\n",
      "memory usage: 59.1 KB\n"
     ]
    }
   ],
   "source": [
    "## Notice missing data in Date\n",
    "\n",
    "sp500.info()"
   ]
  },
  {
   "cell_type": "code",
   "execution_count": 46,
   "id": "c668af98-db27-4eb7-b67f-3b5b5e62054e",
   "metadata": {},
   "outputs": [],
   "source": [
    "## In this situation since its just one row we can just drop the row\n",
    "\n",
    "sp500=sp500.dropna()"
   ]
  },
  {
   "cell_type": "code",
   "execution_count": 50,
   "id": "2c66f74f-7480-4de2-9912-d5dbb070082d",
   "metadata": {},
   "outputs": [
    {
     "name": "stdout",
     "output_type": "stream",
     "text": [
      "<class 'pandas.core.frame.DataFrame'>\n",
      "Index: 1257 entries, 1 to 1257\n",
      "Data columns (total 6 columns):\n",
      " #   Column  Non-Null Count  Dtype         \n",
      "---  ------  --------------  -----         \n",
      " 0   Date    1257 non-null   datetime64[ns]\n",
      " 1   Open    1257 non-null   float64       \n",
      " 2   High    1257 non-null   float64       \n",
      " 3   Low     1257 non-null   float64       \n",
      " 4   Close   1257 non-null   float64       \n",
      " 5   Volume  1257 non-null   int64         \n",
      "dtypes: datetime64[ns](1), float64(4), int64(1)\n",
      "memory usage: 68.7 KB\n"
     ]
    }
   ],
   "source": [
    "## Now no missing data\n",
    "sp500.info()"
   ]
  },
  {
   "cell_type": "markdown",
   "id": "dca023b2-851d-4bf0-839a-dae5cfc2b95b",
   "metadata": {},
   "source": [
    "### Now lets find the start and end date of the dataset"
   ]
  },
  {
   "cell_type": "code",
   "execution_count": 55,
   "id": "7c66bc93-a7fb-4ac7-b3da-1a146dde3bd2",
   "metadata": {},
   "outputs": [
    {
     "data": {
      "text/plain": [
       "Timestamp('2016-12-27 00:00:00')"
      ]
     },
     "execution_count": 55,
     "metadata": {},
     "output_type": "execute_result"
    }
   ],
   "source": [
    "## Oldest date\n",
    "sp500['Date'].min()"
   ]
  },
  {
   "cell_type": "code",
   "execution_count": 53,
   "id": "b0d079f0-bb7e-4b66-aabe-b530e28c073a",
   "metadata": {},
   "outputs": [
    {
     "data": {
      "text/plain": [
       "Timestamp('2021-12-22 00:00:00')"
      ]
     },
     "execution_count": 53,
     "metadata": {},
     "output_type": "execute_result"
    }
   ],
   "source": [
    "## Most recent date\n",
    "sp500['Date'].max()"
   ]
  },
  {
   "cell_type": "code",
   "execution_count": 57,
   "id": "6b7c57a7-2bb3-4646-a420-7dfa765b4ce8",
   "metadata": {},
   "outputs": [
    {
     "data": {
      "text/plain": [
       "Timedelta('1821 days 00:00:00')"
      ]
     },
     "execution_count": 57,
     "metadata": {},
     "output_type": "execute_result"
    }
   ],
   "source": [
    "## Want to know the length of time this dataset goes for:\n",
    "\n",
    "sp500['Date'].max() - sp500['Date'].min()"
   ]
  },
  {
   "cell_type": "code",
   "execution_count": 86,
   "id": "ca13d660-bfee-4e5d-a7cc-f6ce09c40557",
   "metadata": {},
   "outputs": [
    {
     "data": {
      "text/plain": [
       "4.989041095890411"
      ]
     },
     "execution_count": 86,
     "metadata": {},
     "output_type": "execute_result"
    }
   ],
   "source": [
    "## What if we wanna know the length in years?\n",
    "\n",
    "(sp500['Date'].max() - sp500['Date'].min())/pd.Timedelta(days=365)"
   ]
  },
  {
   "cell_type": "markdown",
   "id": "d8cfc540-5fea-42f0-9a30-83f9a307ca26",
   "metadata": {},
   "source": [
    "### Timestamp"
   ]
  },
  {
   "cell_type": "code",
   "execution_count": 89,
   "id": "554ced36-cb1c-4e9f-b820-a93470e87fe2",
   "metadata": {},
   "outputs": [
    {
     "data": {
      "text/plain": [
       "Timestamp('2021-01-01 00:00:00')"
      ]
     },
     "execution_count": 89,
     "metadata": {},
     "output_type": "execute_result"
    }
   ],
   "source": [
    "## We can define a timestamp like so: \n",
    "pd.Timestamp('2021-01-01')"
   ]
  },
  {
   "cell_type": "code",
   "execution_count": 93,
   "id": "2cc475c3-5ebf-4397-968b-0f63035a85e4",
   "metadata": {},
   "outputs": [
    {
     "data": {
      "text/plain": [
       "Timedelta('355 days 00:00:00')"
      ]
     },
     "execution_count": 93,
     "metadata": {},
     "output_type": "execute_result"
    }
   ],
   "source": [
    "## and then compare it to dates within the dataset\n",
    "\n",
    "sp500['Date'].max() - pd.Timestamp('2021-01-01')"
   ]
  },
  {
   "cell_type": "markdown",
   "id": "593df4a4-ae26-4529-ac3f-2b2c87e53004",
   "metadata": {},
   "source": [
    "### Break the Date Column down to year, month, day, day_name"
   ]
  },
  {
   "cell_type": "code",
   "execution_count": 105,
   "id": "44ef792b-9fce-4c70-97fd-6d5b390a0488",
   "metadata": {},
   "outputs": [
    {
     "data": {
      "text/plain": [
       "1       2021\n",
       "2       2021\n",
       "3       2021\n",
       "4       2021\n",
       "5       2021\n",
       "        ... \n",
       "1253    2017\n",
       "1254    2016\n",
       "1255    2016\n",
       "1256    2016\n",
       "1257    2016\n",
       "Name: Year, Length: 1257, dtype: int32"
      ]
     },
     "execution_count": 105,
     "metadata": {},
     "output_type": "execute_result"
    }
   ],
   "source": [
    "## Lets do year:\n",
    "\n",
    "sp500['Year'] = sp500['Date'].dt.year\n",
    "sp500['Year']"
   ]
  },
  {
   "cell_type": "code",
   "execution_count": 107,
   "id": "cb44ad42-92d9-41d2-a672-21952337892b",
   "metadata": {},
   "outputs": [
    {
     "data": {
      "text/plain": [
       "1       12\n",
       "2       12\n",
       "3       12\n",
       "4       12\n",
       "5       12\n",
       "        ..\n",
       "1253     1\n",
       "1254    12\n",
       "1255    12\n",
       "1256    12\n",
       "1257    12\n",
       "Name: Month, Length: 1257, dtype: int32"
      ]
     },
     "execution_count": 107,
     "metadata": {},
     "output_type": "execute_result"
    }
   ],
   "source": [
    "## Lets do month:\n",
    "\n",
    "sp500['Month'] = sp500['Date'].dt.month\n",
    "sp500['Month']"
   ]
  },
  {
   "cell_type": "code",
   "execution_count": 109,
   "id": "f0bb5c02-5db9-432b-81b3-eecd827e854d",
   "metadata": {},
   "outputs": [
    {
     "data": {
      "text/plain": [
       "1       22\n",
       "2       21\n",
       "3       20\n",
       "4       17\n",
       "5       16\n",
       "        ..\n",
       "1253     3\n",
       "1254    30\n",
       "1255    29\n",
       "1256    28\n",
       "1257    27\n",
       "Name: Day, Length: 1257, dtype: int32"
      ]
     },
     "execution_count": 109,
     "metadata": {},
     "output_type": "execute_result"
    }
   ],
   "source": [
    "## Lets do day:\n",
    "\n",
    "sp500['Day'] = sp500['Date'].dt.day\n",
    "sp500['Day']"
   ]
  },
  {
   "cell_type": "code",
   "execution_count": 111,
   "id": "b09400fd-01d1-4ae8-b40b-864c19e5b531",
   "metadata": {},
   "outputs": [
    {
     "data": {
      "text/plain": [
       "1       Wednesday\n",
       "2         Tuesday\n",
       "3          Monday\n",
       "4          Friday\n",
       "5        Thursday\n",
       "          ...    \n",
       "1253      Tuesday\n",
       "1254       Friday\n",
       "1255     Thursday\n",
       "1256    Wednesday\n",
       "1257      Tuesday\n",
       "Name: Day_name, Length: 1257, dtype: object"
      ]
     },
     "execution_count": 111,
     "metadata": {},
     "output_type": "execute_result"
    }
   ],
   "source": [
    "## Lets do day_name:\n",
    "\n",
    "sp500['Day_name'] = sp500['Date'].dt.day_name()\n",
    "sp500['Day_name']"
   ]
  },
  {
   "cell_type": "code",
   "execution_count": 113,
   "id": "6122546a-ce16-488b-9a15-4b4324814c05",
   "metadata": {},
   "outputs": [
    {
     "name": "stdout",
     "output_type": "stream",
     "text": [
      "<class 'pandas.core.frame.DataFrame'>\n",
      "Index: 1257 entries, 1 to 1257\n",
      "Data columns (total 10 columns):\n",
      " #   Column    Non-Null Count  Dtype         \n",
      "---  ------    --------------  -----         \n",
      " 0   Date      1257 non-null   datetime64[ns]\n",
      " 1   Open      1257 non-null   float64       \n",
      " 2   High      1257 non-null   float64       \n",
      " 3   Low       1257 non-null   float64       \n",
      " 4   Close     1257 non-null   float64       \n",
      " 5   Volume    1257 non-null   int64         \n",
      " 6   Year      1257 non-null   int32         \n",
      " 7   Month     1257 non-null   int32         \n",
      " 8   Day       1257 non-null   int32         \n",
      " 9   Day_name  1257 non-null   object        \n",
      "dtypes: datetime64[ns](1), float64(4), int32(3), int64(1), object(1)\n",
      "memory usage: 93.3+ KB\n"
     ]
    }
   ],
   "source": [
    "sp500.info()"
   ]
  },
  {
   "cell_type": "code",
   "execution_count": 115,
   "id": "52178db1-4ded-401d-b8ee-499e931f7af1",
   "metadata": {},
   "outputs": [
    {
     "data": {
      "text/html": [
       "<div>\n",
       "<style scoped>\n",
       "    .dataframe tbody tr th:only-of-type {\n",
       "        vertical-align: middle;\n",
       "    }\n",
       "\n",
       "    .dataframe tbody tr th {\n",
       "        vertical-align: top;\n",
       "    }\n",
       "\n",
       "    .dataframe thead th {\n",
       "        text-align: right;\n",
       "    }\n",
       "</style>\n",
       "<table border=\"1\" class=\"dataframe\">\n",
       "  <thead>\n",
       "    <tr style=\"text-align: right;\">\n",
       "      <th></th>\n",
       "      <th>Date</th>\n",
       "      <th>Open</th>\n",
       "      <th>High</th>\n",
       "      <th>Low</th>\n",
       "      <th>Close</th>\n",
       "      <th>Volume</th>\n",
       "      <th>Year</th>\n",
       "      <th>Month</th>\n",
       "      <th>Day</th>\n",
       "      <th>Day_name</th>\n",
       "    </tr>\n",
       "  </thead>\n",
       "  <tbody>\n",
       "    <tr>\n",
       "      <th>1</th>\n",
       "      <td>2021-12-22</td>\n",
       "      <td>4650.36</td>\n",
       "      <td>4697.67</td>\n",
       "      <td>4645.53</td>\n",
       "      <td>4696.56</td>\n",
       "      <td>2439570000</td>\n",
       "      <td>2021</td>\n",
       "      <td>12</td>\n",
       "      <td>22</td>\n",
       "      <td>Wednesday</td>\n",
       "    </tr>\n",
       "    <tr>\n",
       "      <th>2</th>\n",
       "      <td>2021-12-21</td>\n",
       "      <td>4594.96</td>\n",
       "      <td>4651.14</td>\n",
       "      <td>4583.16</td>\n",
       "      <td>4649.23</td>\n",
       "      <td>2564370000</td>\n",
       "      <td>2021</td>\n",
       "      <td>12</td>\n",
       "      <td>21</td>\n",
       "      <td>Tuesday</td>\n",
       "    </tr>\n",
       "    <tr>\n",
       "      <th>3</th>\n",
       "      <td>2021-12-20</td>\n",
       "      <td>4587.90</td>\n",
       "      <td>4587.90</td>\n",
       "      <td>4531.10</td>\n",
       "      <td>4568.02</td>\n",
       "      <td>3395780000</td>\n",
       "      <td>2021</td>\n",
       "      <td>12</td>\n",
       "      <td>20</td>\n",
       "      <td>Monday</td>\n",
       "    </tr>\n",
       "    <tr>\n",
       "      <th>4</th>\n",
       "      <td>2021-12-17</td>\n",
       "      <td>4652.50</td>\n",
       "      <td>4666.70</td>\n",
       "      <td>4600.22</td>\n",
       "      <td>4620.64</td>\n",
       "      <td>5609780000</td>\n",
       "      <td>2021</td>\n",
       "      <td>12</td>\n",
       "      <td>17</td>\n",
       "      <td>Friday</td>\n",
       "    </tr>\n",
       "    <tr>\n",
       "      <th>5</th>\n",
       "      <td>2021-12-16</td>\n",
       "      <td>4719.13</td>\n",
       "      <td>4731.99</td>\n",
       "      <td>4651.89</td>\n",
       "      <td>4668.67</td>\n",
       "      <td>3592810000</td>\n",
       "      <td>2021</td>\n",
       "      <td>12</td>\n",
       "      <td>16</td>\n",
       "      <td>Thursday</td>\n",
       "    </tr>\n",
       "  </tbody>\n",
       "</table>\n",
       "</div>"
      ],
      "text/plain": [
       "        Date     Open     High      Low    Close      Volume  Year  Month  \\\n",
       "1 2021-12-22  4650.36  4697.67  4645.53  4696.56  2439570000  2021     12   \n",
       "2 2021-12-21  4594.96  4651.14  4583.16  4649.23  2564370000  2021     12   \n",
       "3 2021-12-20  4587.90  4587.90  4531.10  4568.02  3395780000  2021     12   \n",
       "4 2021-12-17  4652.50  4666.70  4600.22  4620.64  5609780000  2021     12   \n",
       "5 2021-12-16  4719.13  4731.99  4651.89  4668.67  3592810000  2021     12   \n",
       "\n",
       "   Day   Day_name  \n",
       "1   22  Wednesday  \n",
       "2   21    Tuesday  \n",
       "3   20     Monday  \n",
       "4   17     Friday  \n",
       "5   16   Thursday  "
      ]
     },
     "execution_count": 115,
     "metadata": {},
     "output_type": "execute_result"
    }
   ],
   "source": [
    "sp500.head()"
   ]
  },
  {
   "cell_type": "markdown",
   "id": "a6366990-5f86-4d2b-9573-ed9567ea4a55",
   "metadata": {},
   "source": [
    "## Pickle The New Dataset For Next lesson"
   ]
  },
  {
   "cell_type": "code",
   "execution_count": 118,
   "id": "0fee4a21-d02e-40fa-b7a0-38c29989df26",
   "metadata": {},
   "outputs": [],
   "source": [
    "sp500.to_pickle('sp500.pkl')"
   ]
  },
  {
   "cell_type": "code",
   "execution_count": null,
   "id": "10ce6afd-8692-494e-b0cd-867e70dfd51b",
   "metadata": {},
   "outputs": [],
   "source": []
  },
  {
   "cell_type": "code",
   "execution_count": null,
   "id": "a817c994-cd62-4a6f-b9cb-1a6b2e486807",
   "metadata": {},
   "outputs": [],
   "source": []
  },
  {
   "cell_type": "code",
   "execution_count": null,
   "id": "1fe205a0-6ce4-4274-9e4f-40b3b75f0f86",
   "metadata": {},
   "outputs": [],
   "source": []
  },
  {
   "cell_type": "code",
   "execution_count": null,
   "id": "974406ee-c705-41f5-9b81-c26b7d44f1a1",
   "metadata": {},
   "outputs": [],
   "source": []
  },
  {
   "cell_type": "code",
   "execution_count": null,
   "id": "adc52978-0ca9-4d1f-ac48-5ec81fa893d6",
   "metadata": {},
   "outputs": [],
   "source": []
  },
  {
   "cell_type": "code",
   "execution_count": null,
   "id": "192651ba-0a01-4b19-a98c-fb2a1f3bf7e5",
   "metadata": {},
   "outputs": [],
   "source": []
  },
  {
   "cell_type": "code",
   "execution_count": null,
   "id": "d0c0c608-4d0a-44e2-9ac5-c6c7da1473bd",
   "metadata": {},
   "outputs": [],
   "source": []
  },
  {
   "cell_type": "code",
   "execution_count": null,
   "id": "8cf28060-3e9f-4ed1-8836-b4045f918e7a",
   "metadata": {},
   "outputs": [],
   "source": []
  },
  {
   "cell_type": "code",
   "execution_count": null,
   "id": "e23ce141-7f74-41c7-a8d7-1b10aa0b6f93",
   "metadata": {},
   "outputs": [],
   "source": []
  },
  {
   "cell_type": "code",
   "execution_count": null,
   "id": "85d70056-005b-4458-b819-467cbe34ea3a",
   "metadata": {},
   "outputs": [],
   "source": []
  },
  {
   "cell_type": "code",
   "execution_count": null,
   "id": "7ba2a8fd-e0e0-4cce-9502-b8df61ed42c1",
   "metadata": {},
   "outputs": [],
   "source": []
  },
  {
   "cell_type": "code",
   "execution_count": null,
   "id": "4761be6e-9e25-4e23-81b2-c3c5005557ff",
   "metadata": {},
   "outputs": [],
   "source": []
  },
  {
   "cell_type": "code",
   "execution_count": null,
   "id": "073eee0a-85f0-4b20-b88f-16a5f9ad26bf",
   "metadata": {},
   "outputs": [],
   "source": []
  },
  {
   "cell_type": "code",
   "execution_count": null,
   "id": "7947aa75-1534-4e16-be6a-930844409112",
   "metadata": {},
   "outputs": [],
   "source": []
  },
  {
   "cell_type": "code",
   "execution_count": null,
   "id": "1e3b1f84-8497-42f1-abcb-c1a6dd18e729",
   "metadata": {},
   "outputs": [],
   "source": []
  },
  {
   "cell_type": "code",
   "execution_count": null,
   "id": "aac53236-9cf8-434b-9296-8912fe73513a",
   "metadata": {},
   "outputs": [],
   "source": []
  },
  {
   "cell_type": "code",
   "execution_count": null,
   "id": "84b98cd2-2c16-46a1-b0aa-15f333b5f65f",
   "metadata": {},
   "outputs": [],
   "source": []
  },
  {
   "cell_type": "code",
   "execution_count": null,
   "id": "5d7963f6-f071-49ae-8714-a66e013e0eab",
   "metadata": {},
   "outputs": [],
   "source": []
  },
  {
   "cell_type": "code",
   "execution_count": null,
   "id": "40174e3c-4f78-4d28-9acf-9967312c3a44",
   "metadata": {},
   "outputs": [],
   "source": []
  },
  {
   "cell_type": "code",
   "execution_count": null,
   "id": "05251664-dd9f-4e7f-bb95-5b9919aa60a3",
   "metadata": {},
   "outputs": [],
   "source": []
  },
  {
   "cell_type": "code",
   "execution_count": null,
   "id": "4d524042-801b-4b7a-955d-8687d6e4b119",
   "metadata": {},
   "outputs": [],
   "source": []
  },
  {
   "cell_type": "code",
   "execution_count": null,
   "id": "8001b9cf-ca52-4a91-b159-a84f1c057bb3",
   "metadata": {},
   "outputs": [],
   "source": []
  },
  {
   "cell_type": "code",
   "execution_count": null,
   "id": "a00dad5a-2fa4-481e-bad8-bd7e10695ac9",
   "metadata": {},
   "outputs": [],
   "source": []
  },
  {
   "cell_type": "code",
   "execution_count": null,
   "id": "3ef9d787-fb92-49a7-8e74-0d12cdec9dac",
   "metadata": {},
   "outputs": [],
   "source": []
  },
  {
   "cell_type": "code",
   "execution_count": null,
   "id": "fbf673f9-ae34-4b94-96aa-1b297b2b067b",
   "metadata": {},
   "outputs": [],
   "source": []
  },
  {
   "cell_type": "code",
   "execution_count": null,
   "id": "2d436549-4e3e-403c-87fd-037cdf7979c5",
   "metadata": {},
   "outputs": [],
   "source": []
  },
  {
   "cell_type": "code",
   "execution_count": null,
   "id": "0187b3b7-d431-4f9d-8d82-b5f70ad4e601",
   "metadata": {},
   "outputs": [],
   "source": []
  },
  {
   "cell_type": "code",
   "execution_count": null,
   "id": "b8f2a699-40aa-4312-a119-c028f780ef29",
   "metadata": {},
   "outputs": [],
   "source": []
  },
  {
   "cell_type": "code",
   "execution_count": null,
   "id": "93e2067f-a7e7-4725-b4da-847c9dd3608e",
   "metadata": {},
   "outputs": [],
   "source": []
  },
  {
   "cell_type": "code",
   "execution_count": null,
   "id": "108c03de-ea01-4070-954a-0d76ee362e16",
   "metadata": {},
   "outputs": [],
   "source": []
  },
  {
   "cell_type": "code",
   "execution_count": null,
   "id": "7abf7199-ee56-409b-afeb-fe7e0aeb071f",
   "metadata": {},
   "outputs": [],
   "source": []
  },
  {
   "cell_type": "code",
   "execution_count": null,
   "id": "2297136d-1c91-4b6f-98b5-f9b5d8aa2a3d",
   "metadata": {},
   "outputs": [],
   "source": []
  },
  {
   "cell_type": "code",
   "execution_count": null,
   "id": "4e660482-333c-4a14-84f6-77467fb7a623",
   "metadata": {},
   "outputs": [],
   "source": []
  },
  {
   "cell_type": "code",
   "execution_count": null,
   "id": "754d91a8-12ce-4f11-851a-fae6acde7c40",
   "metadata": {},
   "outputs": [],
   "source": []
  },
  {
   "cell_type": "code",
   "execution_count": null,
   "id": "80c4cc7f-6ba5-4e78-9475-3fb59a82d8ba",
   "metadata": {},
   "outputs": [],
   "source": []
  },
  {
   "cell_type": "code",
   "execution_count": null,
   "id": "bdfa70b9-1541-4e4f-80d0-4328e1ef46f7",
   "metadata": {},
   "outputs": [],
   "source": []
  },
  {
   "cell_type": "code",
   "execution_count": null,
   "id": "22529823-b81a-4ccf-87a5-6f893a1fe4a5",
   "metadata": {},
   "outputs": [],
   "source": []
  },
  {
   "cell_type": "code",
   "execution_count": null,
   "id": "32438bab-58b3-491b-9894-5fbd16461c32",
   "metadata": {},
   "outputs": [],
   "source": []
  },
  {
   "cell_type": "code",
   "execution_count": null,
   "id": "942a32e0-d70f-4005-8409-7e1454354f85",
   "metadata": {},
   "outputs": [],
   "source": []
  },
  {
   "cell_type": "code",
   "execution_count": null,
   "id": "8cb2b53e-fc32-44d2-9b1d-634e29232a47",
   "metadata": {},
   "outputs": [],
   "source": []
  },
  {
   "cell_type": "code",
   "execution_count": null,
   "id": "312ffa5d-436f-4ee1-b401-0791459b5116",
   "metadata": {},
   "outputs": [],
   "source": []
  },
  {
   "cell_type": "code",
   "execution_count": null,
   "id": "4155cb51-90e8-4655-b649-0ef6d40da7f2",
   "metadata": {},
   "outputs": [],
   "source": []
  },
  {
   "cell_type": "code",
   "execution_count": null,
   "id": "c28dc4fe-7f16-4b4e-adbe-433dde8a1bc0",
   "metadata": {},
   "outputs": [],
   "source": []
  },
  {
   "cell_type": "code",
   "execution_count": null,
   "id": "384dbba6-a902-4dbe-aace-a5de8657333f",
   "metadata": {},
   "outputs": [],
   "source": []
  },
  {
   "cell_type": "code",
   "execution_count": null,
   "id": "0ad64c45-b6e7-459f-bd0e-c8c771940269",
   "metadata": {},
   "outputs": [],
   "source": []
  },
  {
   "cell_type": "code",
   "execution_count": null,
   "id": "e5a5e6a3-74b5-4a35-b66e-875940672e52",
   "metadata": {},
   "outputs": [],
   "source": []
  },
  {
   "cell_type": "code",
   "execution_count": null,
   "id": "5f0500f6-c9f4-4032-b6ef-1cd7b0a36c32",
   "metadata": {},
   "outputs": [],
   "source": []
  }
 ],
 "metadata": {
  "kernelspec": {
   "display_name": "Python 3 (ipykernel)",
   "language": "python",
   "name": "python3"
  },
  "language_info": {
   "codemirror_mode": {
    "name": "ipython",
    "version": 3
   },
   "file_extension": ".py",
   "mimetype": "text/x-python",
   "name": "python",
   "nbconvert_exporter": "python",
   "pygments_lexer": "ipython3",
   "version": "3.11.7"
  }
 },
 "nbformat": 4,
 "nbformat_minor": 5
}
