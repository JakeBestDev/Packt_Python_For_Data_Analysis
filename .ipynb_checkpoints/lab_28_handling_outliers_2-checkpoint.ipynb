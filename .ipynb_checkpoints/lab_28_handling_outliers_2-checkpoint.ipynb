{
 "cells": [
  {
   "cell_type": "markdown",
   "id": "507c9ed0-6339-41c2-a634-d7e22262b112",
   "metadata": {},
   "source": [
    "## Handling Outliers Pt.2"
   ]
  },
  {
   "cell_type": "code",
   "execution_count": 1,
   "id": "0aef4fe7-94ba-4614-8a9d-1669451a23cc",
   "metadata": {},
   "outputs": [],
   "source": [
    "import pandas as pd\n",
    "wdi_imp = pd.read_pickle('wdi_imp.pkl')"
   ]
  },
  {
   "cell_type": "code",
   "execution_count": 2,
   "id": "8a48ef43-3ccf-4958-a88f-68504f4a024d",
   "metadata": {},
   "outputs": [],
   "source": [
    "## Carryin on from Lab 27 I will reload any changes made to the df below\n",
    "wdi_imp = wdi_imp[wdi_imp['is_region'] == 0]"
   ]
  },
  {
   "cell_type": "code",
   "execution_count": 3,
   "id": "3e416e50-9e96-4d7b-a228-7287ef7d9ee0",
   "metadata": {},
   "outputs": [
    {
     "data": {
      "text/plain": [
       "(342, 19)"
      ]
     },
     "execution_count": 3,
     "metadata": {},
     "output_type": "execute_result"
    }
   ],
   "source": [
    "wdi_imp.shape"
   ]
  },
  {
   "cell_type": "code",
   "execution_count": 4,
   "id": "9cd82014-a3d7-437d-87e5-d52701e58144",
   "metadata": {},
   "outputs": [
    {
     "data": {
      "text/plain": [
       "<Axes: >"
      ]
     },
     "execution_count": 4,
     "metadata": {},
     "output_type": "execute_result"
    },
    {
     "data": {
      "image/png": "[encoded data removed]",
      "text/plain": [
       "<Figure size 640x480 with 1 Axes>"
      ]
     },
     "metadata": {},
     "output_type": "display_data"
    }
   ],
   "source": [
    "# The data is still scewed but there is far less data in the middle meaning a large number of outliers were handled.\n",
    "## We know that the largest population listed that appears to be an outlier is china at 1.4 billion population\n",
    "# Thus making it not an outlier\n",
    "# See below to confirm\n",
    "wdi_imp['population'].hist(bins = 50)"
   ]
  },
  {
   "cell_type": "code",
   "execution_count": 5,
   "id": "576ce6e8-ac3d-4387-932f-b5ca2bb590d2",
   "metadata": {},
   "outputs": [
    {
     "data": {
      "text/html": [
       "<div>\n",
       "<style scoped>\n",
       "    .dataframe tbody tr th:only-of-type {\n",
       "        vertical-align: middle;\n",
       "    }\n",
       "\n",
       "    .dataframe tbody tr th {\n",
       "        vertical-align: top;\n",
       "    }\n",
       "\n",
       "    .dataframe thead th {\n",
       "        text-align: right;\n",
       "    }\n",
       "</style>\n",
       "<table border=\"1\" class=\"dataframe\">\n",
       "  <thead>\n",
       "    <tr style=\"text-align: right;\">\n",
       "      <th></th>\n",
       "      <th>country_name</th>\n",
       "      <th>population</th>\n",
       "    </tr>\n",
       "  </thead>\n",
       "  <tbody>\n",
       "    <tr>\n",
       "      <th>253</th>\n",
       "      <td>China</td>\n",
       "      <td>1.392730e+09</td>\n",
       "    </tr>\n",
       "    <tr>\n",
       "      <th>36</th>\n",
       "      <td>China</td>\n",
       "      <td>1.386395e+09</td>\n",
       "    </tr>\n",
       "    <tr>\n",
       "      <th>308</th>\n",
       "      <td>India</td>\n",
       "      <td>1.352617e+09</td>\n",
       "    </tr>\n",
       "    <tr>\n",
       "      <th>91</th>\n",
       "      <td>India</td>\n",
       "      <td>1.338659e+09</td>\n",
       "    </tr>\n",
       "    <tr>\n",
       "      <th>424</th>\n",
       "      <td>United States</td>\n",
       "      <td>3.266875e+08</td>\n",
       "    </tr>\n",
       "    <tr>\n",
       "      <th>...</th>\n",
       "      <td>...</td>\n",
       "      <td>...</td>\n",
       "    </tr>\n",
       "    <tr>\n",
       "      <th>185</th>\n",
       "      <td>St. Lucia</td>\n",
       "      <td>1.809550e+05</td>\n",
       "    </tr>\n",
       "    <tr>\n",
       "      <th>403</th>\n",
       "      <td>St. Vincent and the Grenadines</td>\n",
       "      <td>1.102100e+05</td>\n",
       "    </tr>\n",
       "    <tr>\n",
       "      <th>186</th>\n",
       "      <td>St. Vincent and the Grenadines</td>\n",
       "      <td>1.098270e+05</td>\n",
       "    </tr>\n",
       "    <tr>\n",
       "      <th>416</th>\n",
       "      <td>Tonga</td>\n",
       "      <td>1.031970e+05</td>\n",
       "    </tr>\n",
       "    <tr>\n",
       "      <th>199</th>\n",
       "      <td>Tonga</td>\n",
       "      <td>1.019980e+05</td>\n",
       "    </tr>\n",
       "  </tbody>\n",
       "</table>\n",
       "<p>342 rows × 2 columns</p>\n",
       "</div>"
      ],
      "text/plain": [
       "                       country_name    population\n",
       "253                           China  1.392730e+09\n",
       "36                            China  1.386395e+09\n",
       "308                           India  1.352617e+09\n",
       "91                            India  1.338659e+09\n",
       "424                   United States  3.266875e+08\n",
       "..                              ...           ...\n",
       "185                       St. Lucia  1.809550e+05\n",
       "403  St. Vincent and the Grenadines  1.102100e+05\n",
       "186  St. Vincent and the Grenadines  1.098270e+05\n",
       "416                           Tonga  1.031970e+05\n",
       "199                           Tonga  1.019980e+05\n",
       "\n",
       "[342 rows x 2 columns]"
      ]
     },
     "execution_count": 5,
     "metadata": {},
     "output_type": "execute_result"
    }
   ],
   "source": [
    "wdi_imp[['country_name','population']].sort_values(by='population', ascending = False)"
   ]
  },
  {
   "cell_type": "markdown",
   "id": "d32a3668-d545-4437-b09f-a89910926e28",
   "metadata": {},
   "source": [
    "## Boxplots\n",
    "#### Built on the 5 number summary, min, Q1(25%), Q2(median), Q3(75%), max\n",
    "#### Interquartile Range (IQR) = Q3 - Q1"
   ]
  },
  {
   "cell_type": "code",
   "execution_count": 9,
   "id": "240abbaf-7200-418a-baed-4558c9c674b9",
   "metadata": {},
   "outputs": [
    {
     "data": {
      "text/plain": [
       "<Axes: >"
      ]
     },
     "execution_count": 9,
     "metadata": {},
     "output_type": "execute_result"
    },
    {
     "data": {
      "image/png": "[encoded data removed]",
      "text/plain": [
       "<Figure size 640x480 with 1 Axes>"
      ]
     },
     "metadata": {},
     "output_type": "display_data"
    }
   ],
   "source": [
    "## To see Q1, Median, and Q3 on the plot look at the box.\n",
    "# The bottom of the box, not the lower flat line(wisker) below the box, is Q1(25%)\n",
    "# The green line in the middle of the box is the median\n",
    "# The top of the box, not the upper flat(wisker) line above the box, is Q3 (75%)\n",
    "# The flat lines above and below the box are the wiskers. wisker above = Q3 + 1.5 * IQR wisker ||| wisker below = Q1 - 1.5 * IQR \n",
    "# The seperaated dots are picked up by the function as outliers that fall outside the wiskers \n",
    "wdi_imp.boxplot('atms_per_100000')"
   ]
  },
  {
   "cell_type": "code",
   "execution_count": null,
   "id": "1c35b5c8-fe9f-457a-aee3-c4956237ece6",
   "metadata": {},
   "outputs": [],
   "source": []
  },
  {
   "cell_type": "code",
   "execution_count": null,
   "id": "9c679227-b1ce-4c47-8bb3-7d27c10430d4",
   "metadata": {},
   "outputs": [],
   "source": []
  },
  {
   "cell_type": "code",
   "execution_count": null,
   "id": "37a70a45-26d2-47e5-a0bc-f6ed8e293564",
   "metadata": {},
   "outputs": [],
   "source": []
  },
  {
   "cell_type": "code",
   "execution_count": null,
   "id": "57967a5a-7340-4031-a84f-69f5039b2103",
   "metadata": {},
   "outputs": [],
   "source": []
  },
  {
   "cell_type": "code",
   "execution_count": null,
   "id": "209fcd3d-4056-4fdf-a5bf-6a8613bab57d",
   "metadata": {},
   "outputs": [],
   "source": []
  },
  {
   "cell_type": "code",
   "execution_count": null,
   "id": "e7b39957-bc01-40e6-a33a-a5c32a01213e",
   "metadata": {},
   "outputs": [],
   "source": []
  },
  {
   "cell_type": "code",
   "execution_count": null,
   "id": "6c7a2ec1-25fa-4eab-82bc-5d0265f07b0d",
   "metadata": {},
   "outputs": [],
   "source": []
  },
  {
   "cell_type": "code",
   "execution_count": null,
   "id": "ef39967d-9185-4088-91f6-b789daa045fe",
   "metadata": {},
   "outputs": [],
   "source": []
  },
  {
   "cell_type": "code",
   "execution_count": null,
   "id": "82abd5d8-9a86-4c0e-a481-f83275bcac8d",
   "metadata": {},
   "outputs": [],
   "source": []
  },
  {
   "cell_type": "code",
   "execution_count": null,
   "id": "b3fb3be9-760e-427b-bea0-f1927d862080",
   "metadata": {},
   "outputs": [],
   "source": []
  },
  {
   "cell_type": "code",
   "execution_count": null,
   "id": "8dd38302-6509-4d4b-819c-48c20fa1333b",
   "metadata": {},
   "outputs": [],
   "source": []
  },
  {
   "cell_type": "code",
   "execution_count": null,
   "id": "058d412e-50db-403c-99eb-203c932beb33",
   "metadata": {},
   "outputs": [],
   "source": []
  },
  {
   "cell_type": "code",
   "execution_count": null,
   "id": "8965b16a-8261-4486-b727-c0501ff660a2",
   "metadata": {},
   "outputs": [],
   "source": []
  },
  {
   "cell_type": "code",
   "execution_count": null,
   "id": "53c86aeb-ea12-4051-a2a6-ee281bc9fc25",
   "metadata": {},
   "outputs": [],
   "source": []
  },
  {
   "cell_type": "code",
   "execution_count": null,
   "id": "f4c3ae95-d91f-4963-812b-d58c6e63b70c",
   "metadata": {},
   "outputs": [],
   "source": []
  },
  {
   "cell_type": "code",
   "execution_count": null,
   "id": "8258c5bb-331d-4355-844b-0262c2cbcf6a",
   "metadata": {},
   "outputs": [],
   "source": []
  },
  {
   "cell_type": "code",
   "execution_count": null,
   "id": "4dd00321-1553-43a2-82dc-9443a05681d8",
   "metadata": {},
   "outputs": [],
   "source": []
  },
  {
   "cell_type": "code",
   "execution_count": null,
   "id": "67326bfc-7257-43f8-8d95-6e63740242e9",
   "metadata": {},
   "outputs": [],
   "source": []
  },
  {
   "cell_type": "code",
   "execution_count": null,
   "id": "b08ed54b-0356-4706-ab30-2c5f03cc6a2b",
   "metadata": {},
   "outputs": [],
   "source": []
  },
  {
   "cell_type": "code",
   "execution_count": null,
   "id": "b913ddb0-2d75-4de2-b435-06827d74dd9a",
   "metadata": {},
   "outputs": [],
   "source": []
  },
  {
   "cell_type": "code",
   "execution_count": null,
   "id": "67fdc05b-4657-4517-8b71-cdb7ceb232ff",
   "metadata": {},
   "outputs": [],
   "source": []
  },
  {
   "cell_type": "code",
   "execution_count": null,
   "id": "a5693941-4247-4e4b-a020-e5ad53028d20",
   "metadata": {},
   "outputs": [],
   "source": []
  },
  {
   "cell_type": "code",
   "execution_count": null,
   "id": "32fef253-7406-44f7-a1aa-3c7c748b8dff",
   "metadata": {},
   "outputs": [],
   "source": []
  },
  {
   "cell_type": "code",
   "execution_count": null,
   "id": "f0d5c509-c301-4716-8444-c34eb2d84c99",
   "metadata": {},
   "outputs": [],
   "source": []
  },
  {
   "cell_type": "code",
   "execution_count": null,
   "id": "7388bce4-6263-4554-8e75-7b386c624238",
   "metadata": {},
   "outputs": [],
   "source": []
  },
  {
   "cell_type": "code",
   "execution_count": null,
   "id": "06f05631-4d4e-4255-8e16-0a6ffb6f58e2",
   "metadata": {},
   "outputs": [],
   "source": []
  },
  {
   "cell_type": "code",
   "execution_count": null,
   "id": "f7cfb5e3-19a3-4b4a-b0a0-2ae8615e65ae",
   "metadata": {},
   "outputs": [],
   "source": []
  },
  {
   "cell_type": "code",
   "execution_count": null,
   "id": "9849830e-06c0-461f-8701-3a583344ba05",
   "metadata": {},
   "outputs": [],
   "source": []
  },
  {
   "cell_type": "code",
   "execution_count": null,
   "id": "18ade7a8-19c1-4fd7-aaf0-4b34f5d5e360",
   "metadata": {},
   "outputs": [],
   "source": []
  },
  {
   "cell_type": "code",
   "execution_count": null,
   "id": "87a4fdc1-bc71-4570-8cd9-b3387deabfd2",
   "metadata": {},
   "outputs": [],
   "source": []
  },
  {
   "cell_type": "code",
   "execution_count": null,
   "id": "7fbdef96-ad14-4031-8f87-6aa371d2f178",
   "metadata": {},
   "outputs": [],
   "source": []
  },
  {
   "cell_type": "code",
   "execution_count": null,
   "id": "d3c3e149-6c96-4968-9224-d708c72ca7ba",
   "metadata": {},
   "outputs": [],
   "source": []
  },
  {
   "cell_type": "code",
   "execution_count": null,
   "id": "5c32c0f2-8cbb-4843-8894-44540d21aad7",
   "metadata": {},
   "outputs": [],
   "source": []
  }
 ],
 "metadata": {
  "kernelspec": {
   "display_name": "Python 3 (ipykernel)",
   "language": "python",
   "name": "python3"
  },
  "language_info": {
   "codemirror_mode": {
    "name": "ipython",
    "version": 3
   },
   "file_extension": ".py",
   "mimetype": "text/x-python",
   "name": "python",
   "nbconvert_exporter": "python",
   "pygments_lexer": "ipython3",
   "version": "3.11.7"
  }
 },
 "nbformat": 4,
 "nbformat_minor": 5
}
