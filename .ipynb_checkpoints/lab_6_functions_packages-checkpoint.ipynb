{
 "cells": [
  {
   "cell_type": "markdown",
   "id": "27f1a723-34b3-4727-a518-c3240a4e91c0",
   "metadata": {},
   "source": [
    "## Functions"
   ]
  },
  {
   "cell_type": "code",
   "execution_count": 6,
   "id": "bb2c6c66-e44d-43f5-b19b-5e76349a1e6b",
   "metadata": {},
   "outputs": [],
   "source": [
    "def my_first_function():\n",
    "    '''\n",
    "    This is my first doc string!\n",
    "    '''\n",
    "    print('hello world!')\n",
    "        "
   ]
  },
  {
   "cell_type": "code",
   "execution_count": 7,
   "id": "249d11cb-76fc-4277-afaf-be847fa36d32",
   "metadata": {},
   "outputs": [
    {
     "data": {
      "text/plain": [
       "<function __main__.my_first_function()>"
      ]
     },
     "execution_count": 7,
     "metadata": {},
     "output_type": "execute_result"
    }
   ],
   "source": [
    "my_first_function"
   ]
  },
  {
   "cell_type": "code",
   "execution_count": 8,
   "id": "001636d2-e2b0-405c-a969-c017e4b39f25",
   "metadata": {},
   "outputs": [
    {
     "data": {
      "text/plain": [
       "\u001b[1;31mSignature:\u001b[0m \u001b[0mmy_first_function\u001b[0m\u001b[1;33m(\u001b[0m\u001b[1;33m)\u001b[0m\u001b[1;33m\u001b[0m\u001b[1;33m\u001b[0m\u001b[0m\n",
       "\u001b[1;31mDocstring:\u001b[0m This is my first doc string!\n",
       "\u001b[1;31mFile:\u001b[0m      c:\\users\\jakeb\\appdata\\local\\temp\\ipykernel_19708\\1030435426.py\n",
       "\u001b[1;31mType:\u001b[0m      function"
      ]
     },
     "metadata": {},
     "output_type": "display_data"
    }
   ],
   "source": [
    "?my_first_function"
   ]
  },
  {
   "cell_type": "code",
   "execution_count": 9,
   "id": "dd7e3ce9-ff0b-4002-9e1d-f70b120f634b",
   "metadata": {},
   "outputs": [
    {
     "data": {
      "text/plain": [
       "\u001b[1;31mSignature:\u001b[0m \u001b[0mlen\u001b[0m\u001b[1;33m(\u001b[0m\u001b[0mobj\u001b[0m\u001b[1;33m,\u001b[0m \u001b[1;33m/\u001b[0m\u001b[1;33m)\u001b[0m\u001b[1;33m\u001b[0m\u001b[1;33m\u001b[0m\u001b[0m\n",
       "\u001b[1;31mDocstring:\u001b[0m Return the number of items in a container.\n",
       "\u001b[1;31mType:\u001b[0m      builtin_function_or_method"
      ]
     },
     "metadata": {},
     "output_type": "display_data"
    }
   ],
   "source": [
    "?len"
   ]
  },
  {
   "cell_type": "code",
   "execution_count": 10,
   "id": "f033c5d9-0983-47e0-9b83-fed746189a80",
   "metadata": {},
   "outputs": [],
   "source": [
    "def sum_up(a,b):\n",
    "    print(a+b)"
   ]
  },
  {
   "cell_type": "code",
   "execution_count": 11,
   "id": "9fdc9261-6b2c-447f-b9ec-c36f1ddd6aeb",
   "metadata": {},
   "outputs": [
    {
     "name": "stdout",
     "output_type": "stream",
     "text": [
      "3\n"
     ]
    }
   ],
   "source": [
    "sum_up(1,2)"
   ]
  },
  {
   "cell_type": "code",
   "execution_count": 12,
   "id": "3de13bc7-a43c-4464-9040-ef9fa54000f7",
   "metadata": {},
   "outputs": [
    {
     "name": "stdout",
     "output_type": "stream",
     "text": [
      "3\n"
     ]
    }
   ],
   "source": [
    "sum_up(a=1,b=2)"
   ]
  },
  {
   "cell_type": "code",
   "execution_count": 17,
   "id": "8e1536e1-18b0-4ec8-9b4f-73b9670cc11c",
   "metadata": {},
   "outputs": [],
   "source": [
    "def sum_up(a = 1,b = 2):\n",
    "    print(a+b)"
   ]
  },
  {
   "cell_type": "code",
   "execution_count": 18,
   "id": "b8a4e32c-9516-40c5-98b6-5185b03cb8cc",
   "metadata": {},
   "outputs": [
    {
     "name": "stdout",
     "output_type": "stream",
     "text": [
      "3\n"
     ]
    }
   ],
   "source": [
    "result = sum_up()\n",
    "result"
   ]
  },
  {
   "cell_type": "code",
   "execution_count": null,
   "id": "1af26e72-d92d-481b-8c99-198c5bea9f5d",
   "metadata": {},
   "outputs": [],
   "source": [
    "def sum_up(a = 1,b = 2):\n",
    "    return a+b"
   ]
  },
  {
   "cell_type": "code",
   "execution_count": 19,
   "id": "fa94c54b-69af-45fd-b387-26e54ac7ad34",
   "metadata": {},
   "outputs": [
    {
     "name": "stdout",
     "output_type": "stream",
     "text": [
      "3\n"
     ]
    }
   ],
   "source": [
    "result = sum_up()\n",
    "result"
   ]
  },
  {
   "cell_type": "code",
   "execution_count": 20,
   "id": "52a1102a-75f4-4966-b85d-8726c410a078",
   "metadata": {},
   "outputs": [],
   "source": [
    "def abs_value(k):\n",
    "    if k > 0:\n",
    "        return k\n",
    "    else:\n",
    "        return -k"
   ]
  },
  {
   "cell_type": "code",
   "execution_count": 22,
   "id": "96a22af4-4b4c-479d-96cb-29ce4c713ccb",
   "metadata": {},
   "outputs": [
    {
     "data": {
      "text/plain": [
       "5"
      ]
     },
     "execution_count": 22,
     "metadata": {},
     "output_type": "execute_result"
    }
   ],
   "source": [
    "abs_value(5)"
   ]
  },
  {
   "cell_type": "code",
   "execution_count": 23,
   "id": "de9196e6-eec1-43a6-9b94-d6152c32129a",
   "metadata": {},
   "outputs": [
    {
     "data": {
      "text/plain": [
       "10"
      ]
     },
     "execution_count": 23,
     "metadata": {},
     "output_type": "execute_result"
    }
   ],
   "source": [
    "abs_value(-10)"
   ]
  },
  {
   "cell_type": "markdown",
   "id": "a80df692-20d7-4108-a485-f56c88a98fed",
   "metadata": {},
   "source": [
    "## modules and packages"
   ]
  },
  {
   "cell_type": "code",
   "execution_count": 24,
   "id": "52c4870a-3cfa-4c4e-b7ab-ae5d34d1e266",
   "metadata": {},
   "outputs": [
    {
     "name": "stdout",
     "output_type": "stream",
     "text": [
      "Requirement already satisfied: conda in c:\\users\\jakeb\\anaconda3\\lib\\site-packages (24.1.2)Note: you may need to restart the kernel to use updated packages.\n",
      "\n",
      "Requirement already satisfied: archspec in c:\\users\\jakeb\\anaconda3\\lib\\site-packages (from conda) (0.2.1)\n",
      "Requirement already satisfied: boltons>=23.0.0 in c:\\users\\jakeb\\anaconda3\\lib\\site-packages (from conda) (23.0.0)\n",
      "Requirement already satisfied: charset-normalizer in c:\\users\\jakeb\\anaconda3\\lib\\site-packages (from conda) (2.0.4)\n",
      "Requirement already satisfied: conda-libmamba-solver>=23.11.0 in c:\\users\\jakeb\\anaconda3\\lib\\site-packages (from conda) (24.1.0)\n",
      "Requirement already satisfied: conda-package-handling>=2.2.0 in c:\\users\\jakeb\\anaconda3\\lib\\site-packages (from conda) (2.2.0)\n",
      "Requirement already satisfied: distro>=1.5.0 in c:\\users\\jakeb\\anaconda3\\lib\\site-packages (from conda) (1.8.0)\n",
      "Requirement already satisfied: jsonpatch>=1.32 in c:\\users\\jakeb\\anaconda3\\lib\\site-packages (from conda) (1.32)\n",
      "Requirement already satisfied: menuinst>=2 in c:\\users\\jakeb\\anaconda3\\lib\\site-packages (from conda) (2.0.2)\n",
      "Requirement already satisfied: packaging>=23.0 in c:\\users\\jakeb\\anaconda3\\lib\\site-packages (from conda) (23.1)\n",
      "Requirement already satisfied: platformdirs>=3.10.0 in c:\\users\\jakeb\\anaconda3\\lib\\site-packages (from conda) (3.10.0)\n",
      "Requirement already satisfied: pluggy>=1.0.0 in c:\\users\\jakeb\\anaconda3\\lib\\site-packages (from conda) (1.0.0)\n",
      "Requirement already satisfied: pycosat>=0.6.3 in c:\\users\\jakeb\\anaconda3\\lib\\site-packages (from conda) (0.6.6)\n",
      "Requirement already satisfied: requests<3,>=2.28.0 in c:\\users\\jakeb\\anaconda3\\lib\\site-packages (from conda) (2.31.0)\n",
      "Requirement already satisfied: ruamel-yaml<0.19,>=0.11.14 in c:\\users\\jakeb\\anaconda3\\lib\\site-packages (from conda) (0.17.21)\n",
      "Requirement already satisfied: setuptools>=60.0.0 in c:\\users\\jakeb\\anaconda3\\lib\\site-packages (from conda) (68.2.2)\n",
      "Requirement already satisfied: tqdm>=4 in c:\\users\\jakeb\\anaconda3\\lib\\site-packages (from conda) (4.65.0)\n",
      "Requirement already satisfied: truststore>=0.8.0 in c:\\users\\jakeb\\anaconda3\\lib\\site-packages (from conda) (0.8.0)\n",
      "Requirement already satisfied: libmambapy>=1.5.6 in c:\\users\\jakeb\\anaconda3\\lib\\site-packages (from conda-libmamba-solver>=23.11.0->conda) (1.5.6)\n",
      "Requirement already satisfied: conda-package-streaming>=0.9.0 in c:\\users\\jakeb\\anaconda3\\lib\\site-packages (from conda-package-handling>=2.2.0->conda) (0.9.0)\n",
      "Requirement already satisfied: jsonpointer>=1.9 in c:\\users\\jakeb\\anaconda3\\lib\\site-packages (from jsonpatch>=1.32->conda) (2.1)\n",
      "Requirement already satisfied: idna<4,>=2.5 in c:\\users\\jakeb\\anaconda3\\lib\\site-packages (from requests<3,>=2.28.0->conda) (3.4)\n",
      "Requirement already satisfied: urllib3<3,>=1.21.1 in c:\\users\\jakeb\\anaconda3\\lib\\site-packages (from requests<3,>=2.28.0->conda) (2.0.7)\n",
      "Requirement already satisfied: certifi>=2017.4.17 in c:\\users\\jakeb\\anaconda3\\lib\\site-packages (from requests<3,>=2.28.0->conda) (2024.2.2)\n",
      "Requirement already satisfied: colorama in c:\\users\\jakeb\\anaconda3\\lib\\site-packages (from tqdm>=4->conda) (0.4.6)\n",
      "Requirement already satisfied: zstandard>=0.15 in c:\\users\\jakeb\\anaconda3\\lib\\site-packages (from conda-package-streaming>=0.9.0->conda-package-handling>=2.2.0->conda) (0.19.0)\n"
     ]
    }
   ],
   "source": [
    "pip install conda"
   ]
  },
  {
   "cell_type": "code",
   "execution_count": 29,
   "id": "f95ddf10-c952-4458-89ab-76847a442ffd",
   "metadata": {},
   "outputs": [
    {
     "name": "stdout",
     "output_type": "stream",
     "text": [
      "Requirement already satisfied: numpy in c:\\users\\jakeb\\anaconda3\\lib\\site-packages (1.26.4)\n",
      "Note: you may need to restart the kernel to use updated packages.\n"
     ]
    }
   ],
   "source": [
    "pip install numpy"
   ]
  },
  {
   "cell_type": "code",
   "execution_count": 35,
   "id": "e51f9b56-6de0-4a85-92f0-bc768d49d8b5",
   "metadata": {},
   "outputs": [],
   "source": [
    "import numpy as np"
   ]
  },
  {
   "cell_type": "code",
   "execution_count": 36,
   "id": "b2ef2580-2ba6-43d8-9cf6-547f81e51c81",
   "metadata": {},
   "outputs": [
    {
     "data": {
      "text/plain": [
       "array([0, 1, 2])"
      ]
     },
     "execution_count": 36,
     "metadata": {},
     "output_type": "execute_result"
    }
   ],
   "source": [
    "np.arange(3)"
   ]
  },
  {
   "cell_type": "code",
   "execution_count": 37,
   "id": "65246016-fb80-47a7-ac80-f12c349f8560",
   "metadata": {},
   "outputs": [],
   "source": [
    "from numpy import arange"
   ]
  },
  {
   "cell_type": "code",
   "execution_count": 38,
   "id": "cc382947-a4c3-4806-89d7-b9d7e06c2b80",
   "metadata": {},
   "outputs": [
    {
     "data": {
      "text/plain": [
       "array([0, 1, 2])"
      ]
     },
     "execution_count": 38,
     "metadata": {},
     "output_type": "execute_result"
    }
   ],
   "source": [
    "arange(3)"
   ]
  },
  {
   "cell_type": "code",
   "execution_count": null,
   "id": "bbc6c736-deb3-4979-8213-78072fd17e44",
   "metadata": {},
   "outputs": [],
   "source": []
  },
  {
   "cell_type": "code",
   "execution_count": null,
   "id": "b6d83a31-33d2-474a-8861-cebece4c248f",
   "metadata": {},
   "outputs": [],
   "source": []
  },
  {
   "cell_type": "code",
   "execution_count": null,
   "id": "708c8d8d-37eb-402b-89a3-c88b060a7406",
   "metadata": {},
   "outputs": [],
   "source": []
  },
  {
   "cell_type": "code",
   "execution_count": null,
   "id": "367be9dc-7bec-4c1d-96e4-95afca16082e",
   "metadata": {},
   "outputs": [],
   "source": []
  },
  {
   "cell_type": "code",
   "execution_count": null,
   "id": "d6a82d14-ca8a-4d54-a759-247f6cf0470b",
   "metadata": {},
   "outputs": [],
   "source": []
  },
  {
   "cell_type": "code",
   "execution_count": null,
   "id": "f2ce2cc2-f43c-4500-a136-7dd6bd454430",
   "metadata": {},
   "outputs": [],
   "source": []
  },
  {
   "cell_type": "code",
   "execution_count": null,
   "id": "a04aab38-db33-478b-a207-dd49fc279c85",
   "metadata": {},
   "outputs": [],
   "source": []
  },
  {
   "cell_type": "code",
   "execution_count": null,
   "id": "5f06ce0c-c5b5-42be-b2a0-e16617e80352",
   "metadata": {},
   "outputs": [],
   "source": []
  },
  {
   "cell_type": "code",
   "execution_count": null,
   "id": "51f5f9b7-275a-44a7-ba23-0e0e42ce2b13",
   "metadata": {},
   "outputs": [],
   "source": []
  },
  {
   "cell_type": "code",
   "execution_count": null,
   "id": "a976a213-d3c3-4611-a7c7-78da5e2a3824",
   "metadata": {},
   "outputs": [],
   "source": []
  },
  {
   "cell_type": "code",
   "execution_count": null,
   "id": "e5cb965e-f095-4776-9f23-e2db3b8aaea5",
   "metadata": {},
   "outputs": [],
   "source": []
  },
  {
   "cell_type": "code",
   "execution_count": null,
   "id": "286932c0-5a60-4edf-8a33-07ddc97bd448",
   "metadata": {},
   "outputs": [],
   "source": []
  },
  {
   "cell_type": "code",
   "execution_count": null,
   "id": "0a063539-8b03-47c5-83d3-50aad00e3eb5",
   "metadata": {},
   "outputs": [],
   "source": []
  },
  {
   "cell_type": "code",
   "execution_count": null,
   "id": "5c9af8c1-4881-48aa-9251-5617c67bd1b2",
   "metadata": {},
   "outputs": [],
   "source": []
  }
 ],
 "metadata": {
  "kernelspec": {
   "display_name": "Python 3 (ipykernel)",
   "language": "python",
   "name": "python3"
  },
  "language_info": {
   "codemirror_mode": {
    "name": "ipython",
    "version": 3
   },
   "file_extension": ".py",
   "mimetype": "text/x-python",
   "name": "python",
   "nbconvert_exporter": "python",
   "pygments_lexer": "ipython3",
   "version": "3.11.7"
  }
 },
 "nbformat": 4,
 "nbformat_minor": 5
}
