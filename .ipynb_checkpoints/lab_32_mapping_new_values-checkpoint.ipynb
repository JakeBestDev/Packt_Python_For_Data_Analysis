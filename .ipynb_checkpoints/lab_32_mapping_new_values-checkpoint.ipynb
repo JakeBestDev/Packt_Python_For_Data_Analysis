{
 "cells": [
  {
   "cell_type": "markdown",
   "id": "5a427571-bc7f-4ada-94c8-26cc1db1f0b1",
   "metadata": {},
   "source": [
    "## Mapping New Values"
   ]
  },
  {
   "cell_type": "code",
   "execution_count": 1,
   "id": "40e81281-6e99-4e04-b60e-c7ab655c3935",
   "metadata": {},
   "outputs": [],
   "source": [
    "import pandas as pd\n",
    "air_quality = pd.read_pickle('air_quality.pkl')"
   ]
  },
  {
   "cell_type": "code",
   "execution_count": 2,
   "id": "9bce2182-ab7e-4172-af97-b0028c21886c",
   "metadata": {},
   "outputs": [
    {
     "data": {
      "text/plain": [
       "0         Friday\n",
       "1         Friday\n",
       "2         Friday\n",
       "3         Friday\n",
       "4         Friday\n",
       "          ...   \n",
       "95680    Tuesday\n",
       "95681    Tuesday\n",
       "95682    Tuesday\n",
       "95683    Tuesday\n",
       "95684    Tuesday\n",
       "Name: day_of_week_name, Length: 95685, dtype: object"
      ]
     },
     "execution_count": 2,
     "metadata": {},
     "output_type": "execute_result"
    }
   ],
   "source": [
    "air_quality['day_of_week_name']"
   ]
  },
  {
   "cell_type": "code",
   "execution_count": 3,
   "id": "44186575-4ae2-4240-a8a7-9331642c7c8c",
   "metadata": {},
   "outputs": [
    {
     "data": {
      "text/plain": [
       "day_of_week_name\n",
       "Sunday       13931\n",
       "Saturday     13812\n",
       "Friday       13782\n",
       "Thursday     13633\n",
       "Monday       13536\n",
       "Tuesday      13523\n",
       "Wednesday    13468\n",
       "Name: count, dtype: int64"
      ]
     },
     "execution_count": 3,
     "metadata": {},
     "output_type": "execute_result"
    }
   ],
   "source": [
    "# We can see that this column stores the days of the week.\n",
    "# What if we wanted to compare weekdays vs weekend days?\n",
    "air_quality['day_of_week_name'].value_counts()"
   ]
  },
  {
   "cell_type": "markdown",
   "id": "050abe97-e1b9-43e8-843d-8e9c8da97c25",
   "metadata": {},
   "source": [
    "### .map() method"
   ]
  },
  {
   "cell_type": "code",
   "execution_count": 4,
   "id": "bd47320a-ecc1-48a3-9f9c-3697fe5af0ba",
   "metadata": {},
   "outputs": [
    {
     "data": {
      "text/plain": [
       "0        Weekday\n",
       "1        Weekday\n",
       "2        Weekday\n",
       "3        Weekday\n",
       "4        Weekday\n",
       "          ...   \n",
       "95680    Weekday\n",
       "95681    Weekday\n",
       "95682    Weekday\n",
       "95683    Weekday\n",
       "95684    Weekday\n",
       "Name: day_of_week_name, Length: 95685, dtype: object"
      ]
     },
     "execution_count": 4,
     "metadata": {},
     "output_type": "execute_result"
    }
   ],
   "source": [
    "# Using .map method mapping we can assign the days of the week to be determined as weekday or weekend\n",
    "# You first create a dictonary with the associated assignment of the variables.\n",
    "# Then use the .map method assigning the dictonary to the arg (argument)\n",
    "# You can see that it lists weekday in the output. Look back when we ran air_quality['day_of_week_name'] initially, you can see the first and last 5 we're tuesday and friday. Both weekdays\n",
    "day_of_week_mapping = { 'Monday':'Weekday',\n",
    "                       'Tuesday':'Weekday',\n",
    "                       'Wednesday':'Weekday',\n",
    "                       'Thursday':'Weekday',\n",
    "                       'Friday':'Weekday',\n",
    "                       'Saturday':'Weekend',\n",
    "                       'Sunday':'Weekend',\n",
    "}\n",
    "air_quality['day_of_week_name'].map(arg = day_of_week_mapping)"
   ]
  },
  {
   "cell_type": "code",
   "execution_count": 5,
   "id": "3aca623b-351a-4204-8e34-2e72c938e550",
   "metadata": {},
   "outputs": [
    {
     "data": {
      "text/plain": [
       "day_of_week_name\n",
       "Weekday    67942\n",
       "Weekend    27743\n",
       "Name: count, dtype: int64"
      ]
     },
     "execution_count": 5,
     "metadata": {},
     "output_type": "execute_result"
    }
   ],
   "source": [
    "# Double check using the value counts to ensure there should only be 2 different variables listed\n",
    "air_quality['day_of_week_name'].map(arg = day_of_week_mapping).value_counts()"
   ]
  },
  {
   "cell_type": "code",
   "execution_count": 6,
   "id": "3706d588-b459-4796-941c-8b9ee0b9c04e",
   "metadata": {},
   "outputs": [
    {
     "data": {
      "text/plain": [
       "day_of_week_name\n",
       "Sunday       13931\n",
       "Saturday     13812\n",
       "Friday       13782\n",
       "Thursday     13633\n",
       "Monday       13536\n",
       "Tuesday      13523\n",
       "Wednesday    13468\n",
       "Name: count, dtype: int64"
      ]
     },
     "execution_count": 6,
     "metadata": {},
     "output_type": "execute_result"
    }
   ],
   "source": [
    "# The .map() method does not save to the column. to do you you'd need to assign back to the original air_quality['day_of_week_name'] series\n",
    "air_quality['day_of_week_name'].value_counts()"
   ]
  },
  {
   "cell_type": "markdown",
   "id": "110c4d72-f133-4312-98fc-fbb5b6c0d83a",
   "metadata": {},
   "source": [
    "## .map() can also apply built in functions, custom functions, lambda functions"
   ]
  },
  {
   "cell_type": "markdown",
   "id": "5eda7007-cfb8-478b-8b6a-e76c58bc9b74",
   "metadata": {},
   "source": [
    "#### Built in function"
   ]
  },
  {
   "cell_type": "code",
   "execution_count": 7,
   "id": "eddab152-c23b-413c-a7da-1238d3aaf35a",
   "metadata": {},
   "outputs": [
    {
     "data": {
      "text/plain": [
       "0        6\n",
       "1        6\n",
       "2        6\n",
       "3        6\n",
       "4        6\n",
       "        ..\n",
       "95680    7\n",
       "95681    7\n",
       "95682    7\n",
       "95683    7\n",
       "95684    7\n",
       "Name: day_of_week_name, Length: 95685, dtype: int64"
      ]
     },
     "execution_count": 7,
     "metadata": {},
     "output_type": "execute_result"
    }
   ],
   "source": [
    "# len returns length of the string. \n",
    "air_quality['day_of_week_name'].map(len)"
   ]
  },
  {
   "cell_type": "code",
   "execution_count": 8,
   "id": "724b2f22-ea0f-4db9-9ae8-5d28645fc911",
   "metadata": {},
   "outputs": [
    {
     "data": {
      "text/plain": [
       "0        3228\n",
       "1        3227\n",
       "2        3227\n",
       "3        3227\n",
       "4        3227\n",
       "         ... \n",
       "95680    1767\n",
       "95681    1767\n",
       "95682    1767\n",
       "95683    1767\n",
       "95684    1767\n",
       "Name: time_until_2022_days, Length: 95685, dtype: int64"
      ]
     },
     "execution_count": 8,
     "metadata": {},
     "output_type": "execute_result"
    }
   ],
   "source": [
    "# The int functions can return ints based off floats\n",
    "air_quality['time_until_2022_days'].map(int)"
   ]
  },
  {
   "cell_type": "markdown",
   "id": "2187184a-44ec-4869-8b6d-564943602832",
   "metadata": {},
   "source": [
    "#### Lambda function"
   ]
  },
  {
   "cell_type": "code",
   "execution_count": 9,
   "id": "bb0965f8-8d39-4699-be7d-a03e46f5c000",
   "metadata": {},
   "outputs": [
    {
     "data": {
      "text/plain": [
       "0        Weekday\n",
       "1        Weekday\n",
       "2        Weekday\n",
       "3        Weekday\n",
       "4        Weekday\n",
       "          ...   \n",
       "95680    Weekday\n",
       "95681    Weekday\n",
       "95682    Weekday\n",
       "95683    Weekday\n",
       "95684    Weekday\n",
       "Name: day_of_week_name, Length: 95685, dtype: object"
      ]
     },
     "execution_count": 9,
     "metadata": {},
     "output_type": "execute_result"
    }
   ],
   "source": [
    "# The lambda function is a small function, in this case we use here to set the weekend or weekdays similar to above\n",
    "air_quality['day_of_week_name'].map(lambda day: 'Weekend' if day in ['Saturday', 'Sunday'] else 'Weekday')"
   ]
  },
  {
   "cell_type": "markdown",
   "id": "2e1a0711-fa48-4b45-90b8-f8f508dd40f2",
   "metadata": {},
   "source": [
    "#### Custom Defined Function"
   ]
  },
  {
   "cell_type": "code",
   "execution_count": 11,
   "id": "386e23ab-168a-408a-8ce2-83750337f22e",
   "metadata": {},
   "outputs": [
    {
     "data": {
      "text/plain": [
       "0        Weekday\n",
       "1        Weekday\n",
       "2        Weekday\n",
       "3        Weekday\n",
       "4        Weekday\n",
       "          ...   \n",
       "95680    Weekday\n",
       "95681    Weekday\n",
       "95682    Weekday\n",
       "95683    Weekday\n",
       "95684    Weekday\n",
       "Name: day_of_week_name, Length: 95685, dtype: object"
      ]
     },
     "execution_count": 11,
     "metadata": {},
     "output_type": "execute_result"
    }
   ],
   "source": [
    "def weekday_weekend(day):\n",
    "    if day in ['Saturday', 'Sunday']:\n",
    "        return 'Weekend'\n",
    "    else:\n",
    "        return 'Weekday'\n",
    "\n",
    "air_quality['day_of_week_name'].map(weekday_weekend)"
   ]
  },
  {
   "cell_type": "markdown",
   "id": "416efde9-dc12-49bf-a095-b738ee021cd8",
   "metadata": {},
   "source": [
    "#### Another custom function with .map()"
   ]
  },
  {
   "cell_type": "code",
   "execution_count": 12,
   "id": "95da96dc-b782-4a0b-977e-31c35b0f421e",
   "metadata": {},
   "outputs": [
    {
     "data": {
      "text/plain": [
       "0        North\n",
       "1        North\n",
       "2        North\n",
       "3        North\n",
       "4        North\n",
       "         ...  \n",
       "95680    North\n",
       "95681    North\n",
       "95682    North\n",
       "95683    North\n",
       "95684    North\n",
       "Name: wd, Length: 95685, dtype: object"
      ]
     },
     "execution_count": 12,
     "metadata": {},
     "output_type": "execute_result"
    }
   ],
   "source": [
    "def cardinal_dir(dir):\n",
    "    if dir[0] == 'N':\n",
    "        return 'North'\n",
    "    elif dir[0] == 'E':\n",
    "        return 'East'\n",
    "    elif dir[0] == 'S':\n",
    "        return 'South'\n",
    "    else:\n",
    "        return 'West'\n",
    "\n",
    "air_quality['wd'].map(cardinal_dir)"
   ]
  },
  {
   "cell_type": "code",
   "execution_count": 13,
   "id": "7ce2ca1e-749d-4599-a701-edb62202aa0f",
   "metadata": {},
   "outputs": [
    {
     "data": {
      "text/plain": [
       "wd\n",
       "North    34068\n",
       "South    26054\n",
       "East     22699\n",
       "West     12864\n",
       "Name: count, dtype: int64"
      ]
     },
     "execution_count": 13,
     "metadata": {},
     "output_type": "execute_result"
    }
   ],
   "source": [
    "air_quality['wd'].map(cardinal_dir).value_counts()"
   ]
  },
  {
   "cell_type": "code",
   "execution_count": null,
   "id": "f20a993e-328c-4e6e-aee5-b8658150454d",
   "metadata": {},
   "outputs": [],
   "source": []
  },
  {
   "cell_type": "code",
   "execution_count": null,
   "id": "c0ef5874-0733-4822-bb65-ae64d36064b1",
   "metadata": {},
   "outputs": [],
   "source": []
  },
  {
   "cell_type": "code",
   "execution_count": null,
   "id": "b4a0ad20-e4b3-44c1-b037-169d54214b21",
   "metadata": {},
   "outputs": [],
   "source": []
  },
  {
   "cell_type": "code",
   "execution_count": null,
   "id": "f674116d-e656-41c3-b685-a5c14d1fb6b9",
   "metadata": {},
   "outputs": [],
   "source": []
  },
  {
   "cell_type": "code",
   "execution_count": null,
   "id": "a0e6805d-1a68-4c3a-8111-db4c7257f022",
   "metadata": {},
   "outputs": [],
   "source": []
  },
  {
   "cell_type": "code",
   "execution_count": null,
   "id": "6e976467-c217-4d96-b579-cd079c99ad6e",
   "metadata": {},
   "outputs": [],
   "source": []
  },
  {
   "cell_type": "code",
   "execution_count": null,
   "id": "6d2bbc27-33e9-46a8-8716-6f92e83d6300",
   "metadata": {},
   "outputs": [],
   "source": []
  },
  {
   "cell_type": "code",
   "execution_count": null,
   "id": "ea516c5f-a0a8-46b5-963b-0ad8a90a610b",
   "metadata": {},
   "outputs": [],
   "source": []
  },
  {
   "cell_type": "code",
   "execution_count": null,
   "id": "04c8a229-b235-4bca-8e2e-883cb33f652c",
   "metadata": {},
   "outputs": [],
   "source": []
  },
  {
   "cell_type": "code",
   "execution_count": null,
   "id": "484ea3f5-8876-4a9a-8555-d3d430563660",
   "metadata": {},
   "outputs": [],
   "source": []
  },
  {
   "cell_type": "code",
   "execution_count": null,
   "id": "6737a7e7-34de-45d8-a2da-58bad6038dee",
   "metadata": {},
   "outputs": [],
   "source": []
  },
  {
   "cell_type": "code",
   "execution_count": null,
   "id": "8007e6de-319e-42af-8ef9-67acdd4363f4",
   "metadata": {},
   "outputs": [],
   "source": []
  },
  {
   "cell_type": "code",
   "execution_count": null,
   "id": "afd3f659-83e7-47a8-898b-f94cdd14b30e",
   "metadata": {},
   "outputs": [],
   "source": []
  },
  {
   "cell_type": "code",
   "execution_count": null,
   "id": "b49643a2-8ee6-49aa-adb1-261e24c8024c",
   "metadata": {},
   "outputs": [],
   "source": []
  },
  {
   "cell_type": "code",
   "execution_count": null,
   "id": "5dfc5b4d-0614-4c19-9855-0338da88e0f3",
   "metadata": {},
   "outputs": [],
   "source": []
  },
  {
   "cell_type": "code",
   "execution_count": null,
   "id": "ae0e862f-c633-456e-ab22-65f1cef3f9ea",
   "metadata": {},
   "outputs": [],
   "source": []
  },
  {
   "cell_type": "code",
   "execution_count": null,
   "id": "38f47c27-ed04-4b25-b540-bc6cf5125ea2",
   "metadata": {},
   "outputs": [],
   "source": []
  },
  {
   "cell_type": "code",
   "execution_count": null,
   "id": "20fe5324-76dc-49ff-812c-483c08ea9d13",
   "metadata": {},
   "outputs": [],
   "source": []
  },
  {
   "cell_type": "code",
   "execution_count": null,
   "id": "1fe20430-717b-41ac-a14c-98c2fa692bfd",
   "metadata": {},
   "outputs": [],
   "source": []
  },
  {
   "cell_type": "code",
   "execution_count": null,
   "id": "46e7c121-3859-4007-a11f-58a591fba4c9",
   "metadata": {},
   "outputs": [],
   "source": []
  },
  {
   "cell_type": "code",
   "execution_count": null,
   "id": "d0f63f6b-8058-403f-8b9f-9a1c93e7372b",
   "metadata": {},
   "outputs": [],
   "source": []
  },
  {
   "cell_type": "code",
   "execution_count": null,
   "id": "3a361e03-d273-4c45-b367-bb18315d850b",
   "metadata": {},
   "outputs": [],
   "source": []
  },
  {
   "cell_type": "code",
   "execution_count": null,
   "id": "d91a37d5-49b4-4b35-965d-ff14f3d29800",
   "metadata": {},
   "outputs": [],
   "source": []
  },
  {
   "cell_type": "code",
   "execution_count": null,
   "id": "daec604d-3fd9-4590-b8ee-72c22e52aeb3",
   "metadata": {},
   "outputs": [],
   "source": []
  },
  {
   "cell_type": "code",
   "execution_count": null,
   "id": "dd9018f0-3b99-4780-b9f6-9e176b52564b",
   "metadata": {},
   "outputs": [],
   "source": []
  },
  {
   "cell_type": "code",
   "execution_count": null,
   "id": "5ce7b624-50b0-44c3-9543-f3309fcf339a",
   "metadata": {},
   "outputs": [],
   "source": []
  },
  {
   "cell_type": "code",
   "execution_count": null,
   "id": "85c58fab-5cb1-4202-a273-dda7e7e99d87",
   "metadata": {},
   "outputs": [],
   "source": []
  },
  {
   "cell_type": "code",
   "execution_count": null,
   "id": "06daa9fb-8c21-4073-ac2f-7b8cc9b254c2",
   "metadata": {},
   "outputs": [],
   "source": []
  },
  {
   "cell_type": "code",
   "execution_count": null,
   "id": "55dbd68b-4b62-4110-a1c3-a1e9989e615c",
   "metadata": {},
   "outputs": [],
   "source": []
  },
  {
   "cell_type": "code",
   "execution_count": null,
   "id": "5c69275c-9cfd-478e-be5f-ae98d9e9cee3",
   "metadata": {},
   "outputs": [],
   "source": []
  },
  {
   "cell_type": "code",
   "execution_count": null,
   "id": "142b5c18-cfa7-4734-9476-ec3fc928778a",
   "metadata": {},
   "outputs": [],
   "source": []
  },
  {
   "cell_type": "code",
   "execution_count": null,
   "id": "1dc64122-3edb-4da6-aee7-ff61ead57102",
   "metadata": {},
   "outputs": [],
   "source": []
  },
  {
   "cell_type": "code",
   "execution_count": null,
   "id": "9f82686a-c615-4f80-a0d9-a9fb05849579",
   "metadata": {},
   "outputs": [],
   "source": []
  },
  {
   "cell_type": "code",
   "execution_count": null,
   "id": "b4c45aa3-3419-4930-bd2b-84590e8e16c2",
   "metadata": {},
   "outputs": [],
   "source": []
  },
  {
   "cell_type": "code",
   "execution_count": null,
   "id": "a18e3ed9-0da1-4a91-8271-0492d0c7c0bc",
   "metadata": {},
   "outputs": [],
   "source": []
  },
  {
   "cell_type": "code",
   "execution_count": null,
   "id": "5e4b99d9-4dd7-4476-baec-339d5b6a0b25",
   "metadata": {},
   "outputs": [],
   "source": []
  },
  {
   "cell_type": "code",
   "execution_count": null,
   "id": "60eb32a1-164d-4685-847f-8535dfb92cf2",
   "metadata": {},
   "outputs": [],
   "source": []
  },
  {
   "cell_type": "code",
   "execution_count": null,
   "id": "b6122516-2983-470c-89ed-a32c656cacc3",
   "metadata": {},
   "outputs": [],
   "source": []
  },
  {
   "cell_type": "code",
   "execution_count": null,
   "id": "9f0324bb-20f2-4e81-93c3-8b0de74e7f83",
   "metadata": {},
   "outputs": [],
   "source": []
  },
  {
   "cell_type": "code",
   "execution_count": null,
   "id": "823a7479-d8ff-40f5-b55a-98fa50f152fe",
   "metadata": {},
   "outputs": [],
   "source": []
  },
  {
   "cell_type": "code",
   "execution_count": null,
   "id": "4b4c6acf-cdf5-4042-81ea-3df1374e1a9c",
   "metadata": {},
   "outputs": [],
   "source": []
  },
  {
   "cell_type": "code",
   "execution_count": null,
   "id": "b0b1f0a2-4578-429e-ad0e-850ee13bbe3b",
   "metadata": {},
   "outputs": [],
   "source": []
  },
  {
   "cell_type": "code",
   "execution_count": null,
   "id": "52168a73-ee99-40f2-90be-d403262f1a9e",
   "metadata": {},
   "outputs": [],
   "source": []
  },
  {
   "cell_type": "code",
   "execution_count": null,
   "id": "67080ecf-f43c-41d1-9c44-c13f7927755b",
   "metadata": {},
   "outputs": [],
   "source": []
  },
  {
   "cell_type": "code",
   "execution_count": null,
   "id": "d2976d61-a099-4d14-89cd-02e7d994789b",
   "metadata": {},
   "outputs": [],
   "source": []
  },
  {
   "cell_type": "code",
   "execution_count": null,
   "id": "7f5ec108-a2c7-43a9-93c6-a32ed7ad5209",
   "metadata": {},
   "outputs": [],
   "source": []
  },
  {
   "cell_type": "code",
   "execution_count": null,
   "id": "193edd2d-37c7-4cc5-8f5f-19faa019423f",
   "metadata": {},
   "outputs": [],
   "source": []
  },
  {
   "cell_type": "code",
   "execution_count": null,
   "id": "2944aaac-6682-4606-8e3f-3b4f5dc70526",
   "metadata": {},
   "outputs": [],
   "source": []
  },
  {
   "cell_type": "code",
   "execution_count": null,
   "id": "cc584be3-6e3f-429a-a3a7-0180c7240f78",
   "metadata": {},
   "outputs": [],
   "source": []
  },
  {
   "cell_type": "code",
   "execution_count": null,
   "id": "12feb4a5-385a-4267-b3b8-bc8338eda84d",
   "metadata": {},
   "outputs": [],
   "source": []
  },
  {
   "cell_type": "code",
   "execution_count": null,
   "id": "d20b0613-d197-48ab-aad9-4cd007acd56c",
   "metadata": {},
   "outputs": [],
   "source": []
  },
  {
   "cell_type": "code",
   "execution_count": null,
   "id": "fe7f2597-2230-4238-b31c-f76d84bf5915",
   "metadata": {},
   "outputs": [],
   "source": []
  },
  {
   "cell_type": "code",
   "execution_count": null,
   "id": "41bde1a2-1632-4b87-b92a-63f7a9c2b768",
   "metadata": {},
   "outputs": [],
   "source": []
  },
  {
   "cell_type": "code",
   "execution_count": null,
   "id": "a7eae1bf-0c25-488a-aae3-8906df0b562b",
   "metadata": {},
   "outputs": [],
   "source": []
  }
 ],
 "metadata": {
  "kernelspec": {
   "display_name": "Python 3 (ipykernel)",
   "language": "python",
   "name": "python3"
  },
  "language_info": {
   "codemirror_mode": {
    "name": "ipython",
    "version": 3
   },
   "file_extension": ".py",
   "mimetype": "text/x-python",
   "name": "python",
   "nbconvert_exporter": "python",
   "pygments_lexer": "ipython3",
   "version": "3.11.7"
  }
 },
 "nbformat": 4,
 "nbformat_minor": 5
}
