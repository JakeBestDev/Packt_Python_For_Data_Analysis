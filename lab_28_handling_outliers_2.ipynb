{
 "cells": [
  {
   "cell_type": "markdown",
   "id": "507c9ed0-6339-41c2-a634-d7e22262b112",
   "metadata": {},
   "source": [
    "## Handling Outliers Pt.2"
   ]
  },
  {
   "cell_type": "code",
   "execution_count": 1,
   "id": "0aef4fe7-94ba-4614-8a9d-1669451a23cc",
   "metadata": {},
   "outputs": [],
   "source": [
    "import pandas as pd\n",
    "wdi_imp = pd.read_pickle('wdi_imp.pkl')"
   ]
  },
  {
   "cell_type": "code",
   "execution_count": 2,
   "id": "8a48ef43-3ccf-4958-a88f-68504f4a024d",
   "metadata": {},
   "outputs": [],
   "source": [
    "## Carryin on from Lab 27 I will reload any changes made to the df below\n",
    "wdi_imp = wdi_imp[wdi_imp['is_region'] == 0]"
   ]
  },
  {
   "cell_type": "code",
   "execution_count": 3,
   "id": "3e416e50-9e96-4d7b-a228-7287ef7d9ee0",
   "metadata": {},
   "outputs": [
    {
     "data": {
      "text/plain": [
       "(342, 19)"
      ]
     },
     "execution_count": 3,
     "metadata": {},
     "output_type": "execute_result"
    }
   ],
   "source": [
    "wdi_imp.shape"
   ]
  },
  {
   "cell_type": "code",
   "execution_count": 4,
   "id": "9cd82014-a3d7-437d-87e5-d52701e58144",
   "metadata": {},
   "outputs": [
    {
     "data": {
      "text/plain": [
       "<Axes: >"
      ]
     },
     "execution_count": 4,
     "metadata": {},
     "output_type": "execute_result"
    },
    {
     "data": {
      "image/png": "[encoded data removed]",
      "text/plain": [
       "<Figure size 640x480 with 1 Axes>"
      ]
     },
     "metadata": {},
     "output_type": "display_data"
    }
   ],
   "source": [
    "# The data is still scewed but there is far less data in the middle meaning a large number of outliers were handled.\n",
    "## We know that the largest population listed that appears to be an outlier is china at 1.4 billion population\n",
    "# Thus making it not an outlier\n",
    "# See below to confirm\n",
    "wdi_imp['population'].hist(bins = 50)"
   ]
  },
  {
   "cell_type": "code",
   "execution_count": 5,
   "id": "576ce6e8-ac3d-4387-932f-b5ca2bb590d2",
   "metadata": {},
   "outputs": [
    {
     "data": {
      "text/html": [
       "<div>\n",
       "<style scoped>\n",
       "    .dataframe tbody tr th:only-of-type {\n",
       "        vertical-align: middle;\n",
       "    }\n",
       "\n",
       "    .dataframe tbody tr th {\n",
       "        vertical-align: top;\n",
       "    }\n",
       "\n",
       "    .dataframe thead th {\n",
       "        text-align: right;\n",
       "    }\n",
       "</style>\n",
       "<table border=\"1\" class=\"dataframe\">\n",
       "  <thead>\n",
       "    <tr style=\"text-align: right;\">\n",
       "      <th></th>\n",
       "      <th>country_name</th>\n",
       "      <th>population</th>\n",
       "    </tr>\n",
       "  </thead>\n",
       "  <tbody>\n",
       "    <tr>\n",
       "      <th>253</th>\n",
       "      <td>China</td>\n",
       "      <td>1.392730e+09</td>\n",
       "    </tr>\n",
       "    <tr>\n",
       "      <th>36</th>\n",
       "      <td>China</td>\n",
       "      <td>1.386395e+09</td>\n",
       "    </tr>\n",
       "    <tr>\n",
       "      <th>308</th>\n",
       "      <td>India</td>\n",
       "      <td>1.352617e+09</td>\n",
       "    </tr>\n",
       "    <tr>\n",
       "      <th>91</th>\n",
       "      <td>India</td>\n",
       "      <td>1.338659e+09</td>\n",
       "    </tr>\n",
       "    <tr>\n",
       "      <th>424</th>\n",
       "      <td>United States</td>\n",
       "      <td>3.266875e+08</td>\n",
       "    </tr>\n",
       "    <tr>\n",
       "      <th>...</th>\n",
       "      <td>...</td>\n",
       "      <td>...</td>\n",
       "    </tr>\n",
       "    <tr>\n",
       "      <th>185</th>\n",
       "      <td>St. Lucia</td>\n",
       "      <td>1.809550e+05</td>\n",
       "    </tr>\n",
       "    <tr>\n",
       "      <th>403</th>\n",
       "      <td>St. Vincent and the Grenadines</td>\n",
       "      <td>1.102100e+05</td>\n",
       "    </tr>\n",
       "    <tr>\n",
       "      <th>186</th>\n",
       "      <td>St. Vincent and the Grenadines</td>\n",
       "      <td>1.098270e+05</td>\n",
       "    </tr>\n",
       "    <tr>\n",
       "      <th>416</th>\n",
       "      <td>Tonga</td>\n",
       "      <td>1.031970e+05</td>\n",
       "    </tr>\n",
       "    <tr>\n",
       "      <th>199</th>\n",
       "      <td>Tonga</td>\n",
       "      <td>1.019980e+05</td>\n",
       "    </tr>\n",
       "  </tbody>\n",
       "</table>\n",
       "<p>342 rows × 2 columns</p>\n",
       "</div>"
      ],
      "text/plain": [
       "                       country_name    population\n",
       "253                           China  1.392730e+09\n",
       "36                            China  1.386395e+09\n",
       "308                           India  1.352617e+09\n",
       "91                            India  1.338659e+09\n",
       "424                   United States  3.266875e+08\n",
       "..                              ...           ...\n",
       "185                       St. Lucia  1.809550e+05\n",
       "403  St. Vincent and the Grenadines  1.102100e+05\n",
       "186  St. Vincent and the Grenadines  1.098270e+05\n",
       "416                           Tonga  1.031970e+05\n",
       "199                           Tonga  1.019980e+05\n",
       "\n",
       "[342 rows x 2 columns]"
      ]
     },
     "execution_count": 5,
     "metadata": {},
     "output_type": "execute_result"
    }
   ],
   "source": [
    "wdi_imp[['country_name','population']].sort_values(by='population', ascending = False)"
   ]
  },
  {
   "cell_type": "markdown",
   "id": "d32a3668-d545-4437-b09f-a89910926e28",
   "metadata": {},
   "source": [
    "## Boxplots\n",
    "#### Built on the 5 number summary, min, Q1(25%), Q2(median), Q3(75%), max\n",
    "#### Interquartile Range (IQR) = Q3 - Q1"
   ]
  },
  {
   "cell_type": "code",
   "execution_count": 6,
   "id": "240abbaf-7200-418a-baed-4558c9c674b9",
   "metadata": {},
   "outputs": [
    {
     "data": {
      "text/plain": [
       "<Axes: >"
      ]
     },
     "execution_count": 6,
     "metadata": {},
     "output_type": "execute_result"
    },
    {
     "data": {
      "image/png": "[encoded data removed]",
      "text/plain": [
       "<Figure size 640x480 with 1 Axes>"
      ]
     },
     "metadata": {},
     "output_type": "display_data"
    }
   ],
   "source": [
    "## To see Q1, Median, and Q3 on the plot look at the box.\n",
    "# The bottom of the box, not the lower flat line(wisker) below the box, is Q1(25%)\n",
    "# The green line in the middle of the box is the median\n",
    "# The top of the box, not the upper flat(wisker) line above the box, is Q3 (75%)\n",
    "# The flat lines above and below the box are the wiskers. wisker above = Q3 + 1.5 * IQR wisker ||| wisker below = Q1 - 1.5 * IQR \n",
    "# The seperaated dots are picked up by the function as outliers that fall outside the wiskers \n",
    "wdi_imp.boxplot('atms_per_100000')"
   ]
  },
  {
   "cell_type": "markdown",
   "id": "dbb5b9f4-f407-47f0-9f10-36ead416a097",
   "metadata": {},
   "source": [
    "### Lets calculate Q1 and Q3"
   ]
  },
  {
   "cell_type": "code",
   "execution_count": 10,
   "id": "9c679227-b1ce-4c47-8bb3-7d27c10430d4",
   "metadata": {},
   "outputs": [],
   "source": [
    "## There is no percentile or quaritle methods in pandas so use quantile method\n",
    "Q1 = wdi_imp['atms_per_100000'].quantile(0.25)"
   ]
  },
  {
   "cell_type": "code",
   "execution_count": 11,
   "id": "37a70a45-26d2-47e5-a0bc-f6ed8e293564",
   "metadata": {},
   "outputs": [],
   "source": [
    "Q3 = wdi_imp['atms_per_100000'].quantile(0.75)"
   ]
  },
  {
   "cell_type": "code",
   "execution_count": 12,
   "id": "57967a5a-7340-4031-a84f-69f5039b2103",
   "metadata": {},
   "outputs": [
    {
     "name": "stdout",
     "output_type": "stream",
     "text": [
      "14.294336446341672\n",
      "66.92085678105676\n"
     ]
    }
   ],
   "source": [
    "print(Q1)\n",
    "print(Q3)"
   ]
  },
  {
   "cell_type": "code",
   "execution_count": 16,
   "id": "209fcd3d-4056-4fdf-a5bf-6a8613bab57d",
   "metadata": {},
   "outputs": [
    {
     "data": {
      "text/plain": [
       "count    342.000000\n",
       "mean      49.059720\n",
       "std       43.925416\n",
       "min        1.213235\n",
       "25%       14.294336\n",
       "50%       40.663241\n",
       "75%       66.920857\n",
       "max      272.592801\n",
       "Name: atms_per_100000, dtype: float64"
      ]
     },
     "execution_count": 16,
     "metadata": {},
     "output_type": "execute_result"
    }
   ],
   "source": [
    "## Check to see if matches describe method 25% and 75%\n",
    "wdi_imp['atms_per_100000'].describe()"
   ]
  },
  {
   "cell_type": "markdown",
   "id": "358f1193-5c78-4ed6-89ef-d23f6022c8aa",
   "metadata": {},
   "source": [
    "## Calculate IQR"
   ]
  },
  {
   "cell_type": "code",
   "execution_count": 17,
   "id": "6c7a2ec1-25fa-4eab-82bc-5d0265f07b0d",
   "metadata": {},
   "outputs": [],
   "source": [
    "IQR = Q3 - Q1"
   ]
  },
  {
   "cell_type": "code",
   "execution_count": 18,
   "id": "ef39967d-9185-4088-91f6-b789daa045fe",
   "metadata": {},
   "outputs": [
    {
     "data": {
      "text/plain": [
       "52.62652033471508"
      ]
     },
     "execution_count": 18,
     "metadata": {},
     "output_type": "execute_result"
    }
   ],
   "source": [
    "IQR"
   ]
  },
  {
   "cell_type": "code",
   "execution_count": 19,
   "id": "82abd5d8-9a86-4c0e-a481-f83275bcac8d",
   "metadata": {},
   "outputs": [],
   "source": [
    "outlire_high = Q3+1.5*IQR\n",
    "outlier_low = Q1-1.5*IQR"
   ]
  },
  {
   "cell_type": "code",
   "execution_count": 21,
   "id": "b3fb3be9-760e-427b-bea0-f1927d862080",
   "metadata": {},
   "outputs": [
    {
     "name": "stdout",
     "output_type": "stream",
     "text": [
      "145.8606372831294\n",
      "-64.64544405573095\n"
     ]
    }
   ],
   "source": [
    "# So anything above the high or below the low are considered outliers\n",
    "print(outlire_high)\n",
    "print(outlier_low)"
   ]
  },
  {
   "cell_type": "markdown",
   "id": "de954654-d392-43ad-a6f0-2137df3a37ce",
   "metadata": {},
   "source": [
    "### Lets Get Just The Outliers"
   ]
  },
  {
   "cell_type": "code",
   "execution_count": 35,
   "id": "058d412e-50db-403c-99eb-203c932beb33",
   "metadata": {},
   "outputs": [],
   "source": [
    "outlier_mask = (wdi_imp['atms_per_100000'] > outlire_high) | (wdi_imp['atms_per_100000'] < outlier_low)"
   ]
  },
  {
   "cell_type": "code",
   "execution_count": 36,
   "id": "8965b16a-8261-4486-b727-c0501ff660a2",
   "metadata": {},
   "outputs": [
    {
     "data": {
      "text/html": [
       "<div>\n",
       "<style scoped>\n",
       "    .dataframe tbody tr th:only-of-type {\n",
       "        vertical-align: middle;\n",
       "    }\n",
       "\n",
       "    .dataframe tbody tr th {\n",
       "        vertical-align: top;\n",
       "    }\n",
       "\n",
       "    .dataframe thead th {\n",
       "        text-align: right;\n",
       "    }\n",
       "</style>\n",
       "<table border=\"1\" class=\"dataframe\">\n",
       "  <thead>\n",
       "    <tr style=\"text-align: right;\">\n",
       "      <th></th>\n",
       "      <th>country_name</th>\n",
       "      <th>access_to_electricity_pct</th>\n",
       "      <th>atms_per_100000</th>\n",
       "      <th>compulsory_education_years</th>\n",
       "      <th>health_expenditure_pct_of_gdp</th>\n",
       "      <th>gdp_per_capita_usd</th>\n",
       "      <th>gdp_per_capita_ppp</th>\n",
       "      <th>life_expectancy_female</th>\n",
       "      <th>life_expectancy_male</th>\n",
       "      <th>life_expectancy</th>\n",
       "      <th>population_density</th>\n",
       "      <th>population</th>\n",
       "      <th>alcohol_consumption_per_capita</th>\n",
       "      <th>unemployment_rate_female</th>\n",
       "      <th>unemployment_rate_male</th>\n",
       "      <th>unemployment_rate</th>\n",
       "      <th>year</th>\n",
       "      <th>country_category</th>\n",
       "      <th>is_region</th>\n",
       "    </tr>\n",
       "  </thead>\n",
       "  <tbody>\n",
       "    <tr>\n",
       "      <th>7</th>\n",
       "      <td>Australia</td>\n",
       "      <td>100.0</td>\n",
       "      <td>160.324387</td>\n",
       "      <td>10.0</td>\n",
       "      <td>9.205448</td>\n",
       "      <td>54027.966818</td>\n",
       "      <td>48870.588287</td>\n",
       "      <td>84.60</td>\n",
       "      <td>80.50</td>\n",
       "      <td>82.500000</td>\n",
       "      <td>3.198361</td>\n",
       "      <td>24601860.0</td>\n",
       "      <td>10.007826</td>\n",
       "      <td>5.668</td>\n",
       "      <td>5.525</td>\n",
       "      <td>5.591</td>\n",
       "      <td>2017.0</td>\n",
       "      <td>DEVELOPED</td>\n",
       "      <td>0.0</td>\n",
       "    </tr>\n",
       "    <tr>\n",
       "      <th>8</th>\n",
       "      <td>Austria</td>\n",
       "      <td>100.0</td>\n",
       "      <td>165.036774</td>\n",
       "      <td>13.0</td>\n",
       "      <td>10.382624</td>\n",
       "      <td>47426.511960</td>\n",
       "      <td>54496.163694</td>\n",
       "      <td>84.00</td>\n",
       "      <td>79.40</td>\n",
       "      <td>81.643902</td>\n",
       "      <td>106.607445</td>\n",
       "      <td>8797566.0</td>\n",
       "      <td>10.297808</td>\n",
       "      <td>5.031</td>\n",
       "      <td>5.908</td>\n",
       "      <td>5.499</td>\n",
       "      <td>2017.0</td>\n",
       "      <td>DEVELOPED</td>\n",
       "      <td>0.0</td>\n",
       "    </tr>\n",
       "    <tr>\n",
       "      <th>30</th>\n",
       "      <td>Canada</td>\n",
       "      <td>100.0</td>\n",
       "      <td>228.429181</td>\n",
       "      <td>10.0</td>\n",
       "      <td>10.789648</td>\n",
       "      <td>45148.552706</td>\n",
       "      <td>48633.829775</td>\n",
       "      <td>84.10</td>\n",
       "      <td>79.90</td>\n",
       "      <td>81.948780</td>\n",
       "      <td>4.018616</td>\n",
       "      <td>36543321.0</td>\n",
       "      <td>10.781087</td>\n",
       "      <td>5.849</td>\n",
       "      <td>6.780</td>\n",
       "      <td>6.340</td>\n",
       "      <td>2017.0</td>\n",
       "      <td>DEVELOPED</td>\n",
       "      <td>0.0</td>\n",
       "    </tr>\n",
       "    <tr>\n",
       "      <th>103</th>\n",
       "      <td>Korea, Rep.</td>\n",
       "      <td>100.0</td>\n",
       "      <td>272.592801</td>\n",
       "      <td>9.0</td>\n",
       "      <td>7.106949</td>\n",
       "      <td>31616.843400</td>\n",
       "      <td>41001.066886</td>\n",
       "      <td>85.70</td>\n",
       "      <td>79.70</td>\n",
       "      <td>82.626829</td>\n",
       "      <td>526.848249</td>\n",
       "      <td>51361911.0</td>\n",
       "      <td>9.738237</td>\n",
       "      <td>3.584</td>\n",
       "      <td>3.783</td>\n",
       "      <td>3.700</td>\n",
       "      <td>2017.0</td>\n",
       "      <td>DEVELOPING</td>\n",
       "      <td>0.0</td>\n",
       "    </tr>\n",
       "    <tr>\n",
       "      <th>162</th>\n",
       "      <td>Portugal</td>\n",
       "      <td>100.0</td>\n",
       "      <td>167.994557</td>\n",
       "      <td>12.0</td>\n",
       "      <td>9.330050</td>\n",
       "      <td>21490.429863</td>\n",
       "      <td>33086.096774</td>\n",
       "      <td>84.60</td>\n",
       "      <td>78.40</td>\n",
       "      <td>81.424390</td>\n",
       "      <td>112.441821</td>\n",
       "      <td>10300300.0</td>\n",
       "      <td>9.344204</td>\n",
       "      <td>9.349</td>\n",
       "      <td>8.406</td>\n",
       "      <td>8.867</td>\n",
       "      <td>2017.0</td>\n",
       "      <td>DEVELOPED</td>\n",
       "      <td>0.0</td>\n",
       "    </tr>\n",
       "    <tr>\n",
       "      <th>167</th>\n",
       "      <td>Russian Federation</td>\n",
       "      <td>100.0</td>\n",
       "      <td>164.039818</td>\n",
       "      <td>11.0</td>\n",
       "      <td>5.343881</td>\n",
       "      <td>10720.332585</td>\n",
       "      <td>26005.979940</td>\n",
       "      <td>77.60</td>\n",
       "      <td>67.51</td>\n",
       "      <td>72.431951</td>\n",
       "      <td>8.823221</td>\n",
       "      <td>144496740.0</td>\n",
       "      <td>9.748107</td>\n",
       "      <td>5.051</td>\n",
       "      <td>5.364</td>\n",
       "      <td>5.212</td>\n",
       "      <td>2017.0</td>\n",
       "      <td>DEVELOPING</td>\n",
       "      <td>0.0</td>\n",
       "    </tr>\n",
       "    <tr>\n",
       "      <th>224</th>\n",
       "      <td>Australia</td>\n",
       "      <td>100.0</td>\n",
       "      <td>146.116748</td>\n",
       "      <td>10.0</td>\n",
       "      <td>9.284598</td>\n",
       "      <td>57354.964046</td>\n",
       "      <td>50999.988362</td>\n",
       "      <td>84.90</td>\n",
       "      <td>80.70</td>\n",
       "      <td>82.748780</td>\n",
       "      <td>3.247871</td>\n",
       "      <td>24982688.0</td>\n",
       "      <td>10.510000</td>\n",
       "      <td>5.318</td>\n",
       "      <td>5.281</td>\n",
       "      <td>5.298</td>\n",
       "      <td>2018.0</td>\n",
       "      <td>DEVELOPED</td>\n",
       "      <td>0.0</td>\n",
       "    </tr>\n",
       "    <tr>\n",
       "      <th>225</th>\n",
       "      <td>Austria</td>\n",
       "      <td>100.0</td>\n",
       "      <td>169.405219</td>\n",
       "      <td>13.0</td>\n",
       "      <td>10.325599</td>\n",
       "      <td>51478.285262</td>\n",
       "      <td>56819.598355</td>\n",
       "      <td>84.10</td>\n",
       "      <td>79.40</td>\n",
       "      <td>81.692683</td>\n",
       "      <td>107.127967</td>\n",
       "      <td>8840521.0</td>\n",
       "      <td>11.960000</td>\n",
       "      <td>4.650</td>\n",
       "      <td>5.020</td>\n",
       "      <td>4.848</td>\n",
       "      <td>2018.0</td>\n",
       "      <td>DEVELOPED</td>\n",
       "      <td>0.0</td>\n",
       "    </tr>\n",
       "    <tr>\n",
       "      <th>247</th>\n",
       "      <td>Canada</td>\n",
       "      <td>100.0</td>\n",
       "      <td>220.007919</td>\n",
       "      <td>10.0</td>\n",
       "      <td>10.790469</td>\n",
       "      <td>46313.171371</td>\n",
       "      <td>50077.796236</td>\n",
       "      <td>84.10</td>\n",
       "      <td>79.90</td>\n",
       "      <td>81.948780</td>\n",
       "      <td>4.075188</td>\n",
       "      <td>37057765.0</td>\n",
       "      <td>8.940000</td>\n",
       "      <td>5.492</td>\n",
       "      <td>6.136</td>\n",
       "      <td>5.831</td>\n",
       "      <td>2018.0</td>\n",
       "      <td>DEVELOPED</td>\n",
       "      <td>0.0</td>\n",
       "    </tr>\n",
       "    <tr>\n",
       "      <th>260</th>\n",
       "      <td>Croatia</td>\n",
       "      <td>100.0</td>\n",
       "      <td>147.312238</td>\n",
       "      <td>8.0</td>\n",
       "      <td>6.827024</td>\n",
       "      <td>15014.085019</td>\n",
       "      <td>28215.247954</td>\n",
       "      <td>81.40</td>\n",
       "      <td>74.90</td>\n",
       "      <td>78.070732</td>\n",
       "      <td>73.049375</td>\n",
       "      <td>4087843.0</td>\n",
       "      <td>9.230000</td>\n",
       "      <td>9.340</td>\n",
       "      <td>7.644</td>\n",
       "      <td>8.432</td>\n",
       "      <td>2018.0</td>\n",
       "      <td>NaN</td>\n",
       "      <td>0.0</td>\n",
       "    </tr>\n",
       "    <tr>\n",
       "      <th>320</th>\n",
       "      <td>Korea, Rep.</td>\n",
       "      <td>100.0</td>\n",
       "      <td>266.967032</td>\n",
       "      <td>9.0</td>\n",
       "      <td>7.562592</td>\n",
       "      <td>33422.944210</td>\n",
       "      <td>42240.571799</td>\n",
       "      <td>85.70</td>\n",
       "      <td>79.70</td>\n",
       "      <td>82.626829</td>\n",
       "      <td>529.358501</td>\n",
       "      <td>51606633.0</td>\n",
       "      <td>9.700000</td>\n",
       "      <td>3.726</td>\n",
       "      <td>3.937</td>\n",
       "      <td>3.848</td>\n",
       "      <td>2018.0</td>\n",
       "      <td>DEVELOPING</td>\n",
       "      <td>0.0</td>\n",
       "    </tr>\n",
       "    <tr>\n",
       "      <th>379</th>\n",
       "      <td>Portugal</td>\n",
       "      <td>100.0</td>\n",
       "      <td>165.767118</td>\n",
       "      <td>12.0</td>\n",
       "      <td>9.407835</td>\n",
       "      <td>23562.554523</td>\n",
       "      <td>34488.521710</td>\n",
       "      <td>84.50</td>\n",
       "      <td>78.30</td>\n",
       "      <td>81.324390</td>\n",
       "      <td>112.261941</td>\n",
       "      <td>10283822.0</td>\n",
       "      <td>12.030000</td>\n",
       "      <td>7.437</td>\n",
       "      <td>6.565</td>\n",
       "      <td>6.993</td>\n",
       "      <td>2018.0</td>\n",
       "      <td>DEVELOPED</td>\n",
       "      <td>0.0</td>\n",
       "    </tr>\n",
       "    <tr>\n",
       "      <th>384</th>\n",
       "      <td>Russian Federation</td>\n",
       "      <td>100.0</td>\n",
       "      <td>161.110857</td>\n",
       "      <td>11.0</td>\n",
       "      <td>5.315900</td>\n",
       "      <td>11370.813456</td>\n",
       "      <td>28763.516631</td>\n",
       "      <td>77.81</td>\n",
       "      <td>67.75</td>\n",
       "      <td>72.657317</td>\n",
       "      <td>8.822068</td>\n",
       "      <td>144477860.0</td>\n",
       "      <td>11.190000</td>\n",
       "      <td>4.777</td>\n",
       "      <td>4.911</td>\n",
       "      <td>4.846</td>\n",
       "      <td>2018.0</td>\n",
       "      <td>DEVELOPING</td>\n",
       "      <td>0.0</td>\n",
       "    </tr>\n",
       "  </tbody>\n",
       "</table>\n",
       "</div>"
      ],
      "text/plain": [
       "           country_name  access_to_electricity_pct  atms_per_100000  \\\n",
       "7             Australia                      100.0       160.324387   \n",
       "8               Austria                      100.0       165.036774   \n",
       "30               Canada                      100.0       228.429181   \n",
       "103         Korea, Rep.                      100.0       272.592801   \n",
       "162            Portugal                      100.0       167.994557   \n",
       "167  Russian Federation                      100.0       164.039818   \n",
       "224           Australia                      100.0       146.116748   \n",
       "225             Austria                      100.0       169.405219   \n",
       "247              Canada                      100.0       220.007919   \n",
       "260             Croatia                      100.0       147.312238   \n",
       "320         Korea, Rep.                      100.0       266.967032   \n",
       "379            Portugal                      100.0       165.767118   \n",
       "384  Russian Federation                      100.0       161.110857   \n",
       "\n",
       "     compulsory_education_years  health_expenditure_pct_of_gdp  \\\n",
       "7                          10.0                       9.205448   \n",
       "8                          13.0                      10.382624   \n",
       "30                         10.0                      10.789648   \n",
       "103                         9.0                       7.106949   \n",
       "162                        12.0                       9.330050   \n",
       "167                        11.0                       5.343881   \n",
       "224                        10.0                       9.284598   \n",
       "225                        13.0                      10.325599   \n",
       "247                        10.0                      10.790469   \n",
       "260                         8.0                       6.827024   \n",
       "320                         9.0                       7.562592   \n",
       "379                        12.0                       9.407835   \n",
       "384                        11.0                       5.315900   \n",
       "\n",
       "     gdp_per_capita_usd  gdp_per_capita_ppp  life_expectancy_female  \\\n",
       "7          54027.966818        48870.588287                   84.60   \n",
       "8          47426.511960        54496.163694                   84.00   \n",
       "30         45148.552706        48633.829775                   84.10   \n",
       "103        31616.843400        41001.066886                   85.70   \n",
       "162        21490.429863        33086.096774                   84.60   \n",
       "167        10720.332585        26005.979940                   77.60   \n",
       "224        57354.964046        50999.988362                   84.90   \n",
       "225        51478.285262        56819.598355                   84.10   \n",
       "247        46313.171371        50077.796236                   84.10   \n",
       "260        15014.085019        28215.247954                   81.40   \n",
       "320        33422.944210        42240.571799                   85.70   \n",
       "379        23562.554523        34488.521710                   84.50   \n",
       "384        11370.813456        28763.516631                   77.81   \n",
       "\n",
       "     life_expectancy_male  life_expectancy  population_density   population  \\\n",
       "7                   80.50        82.500000            3.198361   24601860.0   \n",
       "8                   79.40        81.643902          106.607445    8797566.0   \n",
       "30                  79.90        81.948780            4.018616   36543321.0   \n",
       "103                 79.70        82.626829          526.848249   51361911.0   \n",
       "162                 78.40        81.424390          112.441821   10300300.0   \n",
       "167                 67.51        72.431951            8.823221  144496740.0   \n",
       "224                 80.70        82.748780            3.247871   24982688.0   \n",
       "225                 79.40        81.692683          107.127967    8840521.0   \n",
       "247                 79.90        81.948780            4.075188   37057765.0   \n",
       "260                 74.90        78.070732           73.049375    4087843.0   \n",
       "320                 79.70        82.626829          529.358501   51606633.0   \n",
       "379                 78.30        81.324390          112.261941   10283822.0   \n",
       "384                 67.75        72.657317            8.822068  144477860.0   \n",
       "\n",
       "     alcohol_consumption_per_capita  unemployment_rate_female  \\\n",
       "7                         10.007826                     5.668   \n",
       "8                         10.297808                     5.031   \n",
       "30                        10.781087                     5.849   \n",
       "103                        9.738237                     3.584   \n",
       "162                        9.344204                     9.349   \n",
       "167                        9.748107                     5.051   \n",
       "224                       10.510000                     5.318   \n",
       "225                       11.960000                     4.650   \n",
       "247                        8.940000                     5.492   \n",
       "260                        9.230000                     9.340   \n",
       "320                        9.700000                     3.726   \n",
       "379                       12.030000                     7.437   \n",
       "384                       11.190000                     4.777   \n",
       "\n",
       "     unemployment_rate_male  unemployment_rate    year country_category  \\\n",
       "7                     5.525              5.591  2017.0        DEVELOPED   \n",
       "8                     5.908              5.499  2017.0        DEVELOPED   \n",
       "30                    6.780              6.340  2017.0        DEVELOPED   \n",
       "103                   3.783              3.700  2017.0       DEVELOPING   \n",
       "162                   8.406              8.867  2017.0        DEVELOPED   \n",
       "167                   5.364              5.212  2017.0       DEVELOPING   \n",
       "224                   5.281              5.298  2018.0        DEVELOPED   \n",
       "225                   5.020              4.848  2018.0        DEVELOPED   \n",
       "247                   6.136              5.831  2018.0        DEVELOPED   \n",
       "260                   7.644              8.432  2018.0              NaN   \n",
       "320                   3.937              3.848  2018.0       DEVELOPING   \n",
       "379                   6.565              6.993  2018.0        DEVELOPED   \n",
       "384                   4.911              4.846  2018.0       DEVELOPING   \n",
       "\n",
       "     is_region  \n",
       "7          0.0  \n",
       "8          0.0  \n",
       "30         0.0  \n",
       "103        0.0  \n",
       "162        0.0  \n",
       "167        0.0  \n",
       "224        0.0  \n",
       "225        0.0  \n",
       "247        0.0  \n",
       "260        0.0  \n",
       "320        0.0  \n",
       "379        0.0  \n",
       "384        0.0  "
      ]
     },
     "execution_count": 36,
     "metadata": {},
     "output_type": "execute_result"
    }
   ],
   "source": [
    "# These appeara to be legitimate outliers due to the countries present. Like canada and australia who could plausably have that many atms per 100000\n",
    "wdi_imp[outlier_mask]"
   ]
  },
  {
   "cell_type": "code",
   "execution_count": 37,
   "id": "53c86aeb-ea12-4051-a2a6-ee281bc9fc25",
   "metadata": {},
   "outputs": [
    {
     "data": {
      "text/plain": [
       "<Axes: >"
      ]
     },
     "execution_count": 37,
     "metadata": {},
     "output_type": "execute_result"
    },
    {
     "data": {
      "image/png": "[encoded data removed]",
      "text/plain": [
       "<Figure size 640x480 with 1 Axes>"
      ]
     },
     "metadata": {},
     "output_type": "display_data"
    }
   ],
   "source": [
    "## By the outlire_high of 145 everything above that is an outlier\n",
    "# Since we determined that some of the outliers maybe legit we will look at the 99th percentile\n",
    "wdi_imp['atms_per_100000'].hist(bins = 50)"
   ]
  },
  {
   "cell_type": "markdown",
   "id": "327df20c-a961-4819-9340-5f97db8edfb0",
   "metadata": {},
   "source": [
    "## Calculating 99th Percentile"
   ]
  },
  {
   "cell_type": "code",
   "execution_count": 38,
   "id": "8258c5bb-331d-4355-844b-0262c2cbcf6a",
   "metadata": {},
   "outputs": [],
   "source": [
    "p99 = wdi_imp['atms_per_100000'].quantile(0.99)"
   ]
  },
  {
   "cell_type": "code",
   "execution_count": 39,
   "id": "4dd00321-1553-43a2-82dc-9443a05681d8",
   "metadata": {},
   "outputs": [
    {
     "data": {
      "text/plain": [
       "199.26081239849262"
      ]
     },
     "execution_count": 39,
     "metadata": {},
     "output_type": "execute_result"
    }
   ],
   "source": [
    "# So everything above 199 is in the 99th percentile\n",
    "p99"
   ]
  },
  {
   "cell_type": "code",
   "execution_count": 40,
   "id": "67326bfc-7257-43f8-8d95-6e63740242e9",
   "metadata": {},
   "outputs": [],
   "source": [
    "outlier_mask_2 = wdi_imp['atms_per_100000'] > p99"
   ]
  },
  {
   "cell_type": "code",
   "execution_count": 45,
   "id": "b08ed54b-0356-4706-ab30-2c5f03cc6a2b",
   "metadata": {},
   "outputs": [],
   "source": [
    "## Lets assign p99 to the outliers\n",
    "# Use loc to do this\n",
    "wdi_imp.loc[wdi_imp['atms_per_100000'] > p99, 'atms_per_100000' ]=p99"
   ]
  },
  {
   "cell_type": "code",
   "execution_count": 46,
   "id": "b913ddb0-2d75-4de2-b435-06827d74dd9a",
   "metadata": {},
   "outputs": [
    {
     "data": {
      "text/plain": [
       "<Axes: >"
      ]
     },
     "execution_count": 46,
     "metadata": {},
     "output_type": "execute_result"
    },
    {
     "data": {
      "image/png": "[encoded data removed]",
      "text/plain": [
       "<Figure size 640x480 with 1 Axes>"
      ]
     },
     "metadata": {},
     "output_type": "display_data"
    }
   ],
   "source": [
    "wdi_imp['atms_per_100000'].hist(bins = 50)"
   ]
  },
  {
   "cell_type": "markdown",
   "id": "4ad34611-b2ff-4373-a716-4374ba266989",
   "metadata": {},
   "source": [
    "## Now lets look at population_density column"
   ]
  },
  {
   "cell_type": "code",
   "execution_count": 48,
   "id": "a5693941-4247-4e4b-a020-e5ad53028d20",
   "metadata": {},
   "outputs": [
    {
     "data": {
      "text/plain": [
       "<Axes: >"
      ]
     },
     "execution_count": 48,
     "metadata": {},
     "output_type": "execute_result"
    },
    {
     "data": {
      "image/png": "[encoded data removed]",
      "text/plain": [
       "<Figure size 640x480 with 1 Axes>"
      ]
     },
     "metadata": {},
     "output_type": "display_data"
    }
   ],
   "source": [
    "wdi_imp['population_density'].hist(bins=50)"
   ]
  },
  {
   "cell_type": "code",
   "execution_count": 50,
   "id": "32fef253-7406-44f7-a1aa-3c7c748b8dff",
   "metadata": {},
   "outputs": [
    {
     "data": {
      "text/html": [
       "<div>\n",
       "<style scoped>\n",
       "    .dataframe tbody tr th:only-of-type {\n",
       "        vertical-align: middle;\n",
       "    }\n",
       "\n",
       "    .dataframe tbody tr th {\n",
       "        vertical-align: top;\n",
       "    }\n",
       "\n",
       "    .dataframe thead th {\n",
       "        text-align: right;\n",
       "    }\n",
       "</style>\n",
       "<table border=\"1\" class=\"dataframe\">\n",
       "  <thead>\n",
       "    <tr style=\"text-align: right;\">\n",
       "      <th></th>\n",
       "      <th>country_name</th>\n",
       "      <th>access_to_electricity_pct</th>\n",
       "      <th>atms_per_100000</th>\n",
       "      <th>compulsory_education_years</th>\n",
       "      <th>health_expenditure_pct_of_gdp</th>\n",
       "      <th>gdp_per_capita_usd</th>\n",
       "      <th>gdp_per_capita_ppp</th>\n",
       "      <th>life_expectancy_female</th>\n",
       "      <th>life_expectancy_male</th>\n",
       "      <th>life_expectancy</th>\n",
       "      <th>population_density</th>\n",
       "      <th>population</th>\n",
       "      <th>alcohol_consumption_per_capita</th>\n",
       "      <th>unemployment_rate_female</th>\n",
       "      <th>unemployment_rate_male</th>\n",
       "      <th>unemployment_rate</th>\n",
       "      <th>year</th>\n",
       "      <th>country_category</th>\n",
       "      <th>is_region</th>\n",
       "    </tr>\n",
       "  </thead>\n",
       "  <tbody>\n",
       "    <tr>\n",
       "      <th>83</th>\n",
       "      <td>Hong Kong SAR, China</td>\n",
       "      <td>100.0</td>\n",
       "      <td>50.431834</td>\n",
       "      <td>9.0</td>\n",
       "      <td>6.923412</td>\n",
       "      <td>46165.856512</td>\n",
       "      <td>59849.248176</td>\n",
       "      <td>87.6</td>\n",
       "      <td>81.9</td>\n",
       "      <td>84.680488</td>\n",
       "      <td>7039.714286</td>\n",
       "      <td>7391700.0</td>\n",
       "      <td>2.013658</td>\n",
       "      <td>2.774</td>\n",
       "      <td>3.395</td>\n",
       "      <td>3.090</td>\n",
       "      <td>2017.0</td>\n",
       "      <td>DEVELOPING</td>\n",
       "      <td>0.0</td>\n",
       "    </tr>\n",
       "    <tr>\n",
       "      <th>175</th>\n",
       "      <td>Singapore</td>\n",
       "      <td>100.0</td>\n",
       "      <td>63.103085</td>\n",
       "      <td>6.0</td>\n",
       "      <td>4.417787</td>\n",
       "      <td>60913.745333</td>\n",
       "      <td>94940.970785</td>\n",
       "      <td>85.4</td>\n",
       "      <td>80.9</td>\n",
       "      <td>83.095122</td>\n",
       "      <td>7915.730436</td>\n",
       "      <td>5612253.0</td>\n",
       "      <td>1.801258</td>\n",
       "      <td>4.436</td>\n",
       "      <td>4.032</td>\n",
       "      <td>4.200</td>\n",
       "      <td>2017.0</td>\n",
       "      <td>NaN</td>\n",
       "      <td>0.0</td>\n",
       "    </tr>\n",
       "    <tr>\n",
       "      <th>300</th>\n",
       "      <td>Hong Kong SAR, China</td>\n",
       "      <td>100.0</td>\n",
       "      <td>51.795601</td>\n",
       "      <td>9.0</td>\n",
       "      <td>6.971941</td>\n",
       "      <td>48543.400991</td>\n",
       "      <td>62551.058589</td>\n",
       "      <td>87.7</td>\n",
       "      <td>82.3</td>\n",
       "      <td>84.934146</td>\n",
       "      <td>7096.190476</td>\n",
       "      <td>7451000.0</td>\n",
       "      <td>1.964083</td>\n",
       "      <td>2.616</td>\n",
       "      <td>3.181</td>\n",
       "      <td>2.903</td>\n",
       "      <td>2018.0</td>\n",
       "      <td>DEVELOPING</td>\n",
       "      <td>0.0</td>\n",
       "    </tr>\n",
       "    <tr>\n",
       "      <th>392</th>\n",
       "      <td>Singapore</td>\n",
       "      <td>100.0</td>\n",
       "      <td>64.593175</td>\n",
       "      <td>6.0</td>\n",
       "      <td>4.464447</td>\n",
       "      <td>66188.779396</td>\n",
       "      <td>100126.023554</td>\n",
       "      <td>85.4</td>\n",
       "      <td>81.0</td>\n",
       "      <td>83.146341</td>\n",
       "      <td>7952.998418</td>\n",
       "      <td>5638676.0</td>\n",
       "      <td>2.030000</td>\n",
       "      <td>4.255</td>\n",
       "      <td>3.849</td>\n",
       "      <td>4.019</td>\n",
       "      <td>2018.0</td>\n",
       "      <td>NaN</td>\n",
       "      <td>0.0</td>\n",
       "    </tr>\n",
       "  </tbody>\n",
       "</table>\n",
       "</div>"
      ],
      "text/plain": [
       "             country_name  access_to_electricity_pct  atms_per_100000  \\\n",
       "83   Hong Kong SAR, China                      100.0        50.431834   \n",
       "175             Singapore                      100.0        63.103085   \n",
       "300  Hong Kong SAR, China                      100.0        51.795601   \n",
       "392             Singapore                      100.0        64.593175   \n",
       "\n",
       "     compulsory_education_years  health_expenditure_pct_of_gdp  \\\n",
       "83                          9.0                       6.923412   \n",
       "175                         6.0                       4.417787   \n",
       "300                         9.0                       6.971941   \n",
       "392                         6.0                       4.464447   \n",
       "\n",
       "     gdp_per_capita_usd  gdp_per_capita_ppp  life_expectancy_female  \\\n",
       "83         46165.856512        59849.248176                    87.6   \n",
       "175        60913.745333        94940.970785                    85.4   \n",
       "300        48543.400991        62551.058589                    87.7   \n",
       "392        66188.779396       100126.023554                    85.4   \n",
       "\n",
       "     life_expectancy_male  life_expectancy  population_density  population  \\\n",
       "83                   81.9        84.680488         7039.714286   7391700.0   \n",
       "175                  80.9        83.095122         7915.730436   5612253.0   \n",
       "300                  82.3        84.934146         7096.190476   7451000.0   \n",
       "392                  81.0        83.146341         7952.998418   5638676.0   \n",
       "\n",
       "     alcohol_consumption_per_capita  unemployment_rate_female  \\\n",
       "83                         2.013658                     2.774   \n",
       "175                        1.801258                     4.436   \n",
       "300                        1.964083                     2.616   \n",
       "392                        2.030000                     4.255   \n",
       "\n",
       "     unemployment_rate_male  unemployment_rate    year country_category  \\\n",
       "83                    3.395              3.090  2017.0       DEVELOPING   \n",
       "175                   4.032              4.200  2017.0              NaN   \n",
       "300                   3.181              2.903  2018.0       DEVELOPING   \n",
       "392                   3.849              4.019  2018.0              NaN   \n",
       "\n",
       "     is_region  \n",
       "83         0.0  \n",
       "175        0.0  \n",
       "300        0.0  \n",
       "392        0.0  "
      ]
     },
     "execution_count": 50,
     "metadata": {},
     "output_type": "execute_result"
    }
   ],
   "source": [
    "# Checking the values above 7000 which seem to be outliers\n",
    "# Looking at which countries they are we notice it is Hong Kong and Singapore, both high density places\n",
    "# Meaning they are likley true outliers and not an error\n",
    "wdi_imp[wdi_imp['population_density']>=7000]"
   ]
  },
  {
   "cell_type": "code",
   "execution_count": null,
   "id": "f0d5c509-c301-4716-8444-c34eb2d84c99",
   "metadata": {},
   "outputs": [],
   "source": []
  },
  {
   "cell_type": "code",
   "execution_count": null,
   "id": "7388bce4-6263-4554-8e75-7b386c624238",
   "metadata": {},
   "outputs": [],
   "source": []
  },
  {
   "cell_type": "code",
   "execution_count": null,
   "id": "06f05631-4d4e-4255-8e16-0a6ffb6f58e2",
   "metadata": {},
   "outputs": [],
   "source": []
  },
  {
   "cell_type": "code",
   "execution_count": null,
   "id": "f7cfb5e3-19a3-4b4a-b0a0-2ae8615e65ae",
   "metadata": {},
   "outputs": [],
   "source": []
  },
  {
   "cell_type": "code",
   "execution_count": null,
   "id": "9849830e-06c0-461f-8701-3a583344ba05",
   "metadata": {},
   "outputs": [],
   "source": []
  },
  {
   "cell_type": "code",
   "execution_count": null,
   "id": "18ade7a8-19c1-4fd7-aaf0-4b34f5d5e360",
   "metadata": {},
   "outputs": [],
   "source": []
  },
  {
   "cell_type": "code",
   "execution_count": null,
   "id": "87a4fdc1-bc71-4570-8cd9-b3387deabfd2",
   "metadata": {},
   "outputs": [],
   "source": []
  },
  {
   "cell_type": "code",
   "execution_count": null,
   "id": "7fbdef96-ad14-4031-8f87-6aa371d2f178",
   "metadata": {},
   "outputs": [],
   "source": []
  },
  {
   "cell_type": "code",
   "execution_count": null,
   "id": "d3c3e149-6c96-4968-9224-d708c72ca7ba",
   "metadata": {},
   "outputs": [],
   "source": []
  },
  {
   "cell_type": "code",
   "execution_count": null,
   "id": "5c32c0f2-8cbb-4843-8894-44540d21aad7",
   "metadata": {},
   "outputs": [],
   "source": []
  }
 ],
 "metadata": {
  "kernelspec": {
   "display_name": "Python 3 (ipykernel)",
   "language": "python",
   "name": "python3"
  },
  "language_info": {
   "codemirror_mode": {
    "name": "ipython",
    "version": 3
   },
   "file_extension": ".py",
   "mimetype": "text/x-python",
   "name": "python",
   "nbconvert_exporter": "python",
   "pygments_lexer": "ipython3",
   "version": "3.11.7"
  }
 },
 "nbformat": 4,
 "nbformat_minor": 5
}
