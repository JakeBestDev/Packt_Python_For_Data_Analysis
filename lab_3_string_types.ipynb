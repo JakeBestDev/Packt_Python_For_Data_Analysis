{
 "cells": [
  {
   "cell_type": "code",
   "execution_count": 1,
   "id": "52c8a74e-85bd-418c-998b-bbc2f835f6dc",
   "metadata": {},
   "outputs": [
    {
     "data": {
      "text/plain": [
       "\"I'm into Data Science\""
      ]
     },
     "execution_count": 1,
     "metadata": {},
     "output_type": "execute_result"
    }
   ],
   "source": [
    "\"I'm into Data Science\""
   ]
  },
  {
   "cell_type": "code",
   "execution_count": 5,
   "id": "0bd4b989-56a6-4b56-90c4-f0d84b1bf44e",
   "metadata": {},
   "outputs": [],
   "source": [
    "question = 'what are you studying?'\n",
    "answer = 'data science'"
   ]
  },
  {
   "cell_type": "code",
   "execution_count": 6,
   "id": "005be45c-36ee-4e54-8c35-3cd94df0bf64",
   "metadata": {},
   "outputs": [
    {
     "data": {
      "text/plain": [
       "'what are you studying? data science'"
      ]
     },
     "execution_count": 6,
     "metadata": {},
     "output_type": "execute_result"
    }
   ],
   "source": [
    "question + ' ' + answer"
   ]
  },
  {
   "cell_type": "code",
   "execution_count": 7,
   "id": "af43c3a5-adf9-493c-bd1c-a6a195abf506",
   "metadata": {},
   "outputs": [
    {
     "name": "stdout",
     "output_type": "stream",
     "text": [
      "what are you studying?\n"
     ]
    }
   ],
   "source": [
    "print(question)"
   ]
  },
  {
   "cell_type": "code",
   "execution_count": 8,
   "id": "6669fb52-18e0-4ded-a19f-da4d3de285ae",
   "metadata": {},
   "outputs": [
    {
     "data": {
      "text/plain": [
       "'data science'"
      ]
     },
     "execution_count": 8,
     "metadata": {},
     "output_type": "execute_result"
    }
   ],
   "source": [
    "question\n",
    "answer"
   ]
  },
  {
   "cell_type": "code",
   "execution_count": 9,
   "id": "8f2379e3-1c1d-4490-9739-be7027ee16d2",
   "metadata": {},
   "outputs": [
    {
     "name": "stdout",
     "output_type": "stream",
     "text": [
      "what are you studying?data science\n"
     ]
    }
   ],
   "source": [
    "print(question+ answer)"
   ]
  },
  {
   "cell_type": "code",
   "execution_count": 11,
   "id": "6a760f6c-df72-4b86-9704-d3d11d7617c3",
   "metadata": {},
   "outputs": [
    {
     "name": "stdout",
     "output_type": "stream",
     "text": [
      "what are you studying?\n",
      "data science\n"
     ]
    }
   ],
   "source": [
    "print(question+'\\n'+answer)"
   ]
  },
  {
   "cell_type": "code",
   "execution_count": 12,
   "id": "fd4407b0-2396-4b63-9f3a-9c2b4ff51e22",
   "metadata": {},
   "outputs": [
    {
     "data": {
      "text/plain": [
       "str"
      ]
     },
     "execution_count": 12,
     "metadata": {},
     "output_type": "execute_result"
    }
   ],
   "source": [
    "type(answer)"
   ]
  },
  {
   "cell_type": "code",
   "execution_count": 13,
   "id": "ad8e2a28-1025-4199-b540-fe90b470e21f",
   "metadata": {},
   "outputs": [
    {
     "data": {
      "text/plain": [
       "12"
      ]
     },
     "execution_count": 13,
     "metadata": {},
     "output_type": "execute_result"
    }
   ],
   "source": [
    "len(answer)"
   ]
  },
  {
   "cell_type": "code",
   "execution_count": 14,
   "id": "e2f251ad-1b13-45b3-a6d5-ce72d0519808",
   "metadata": {},
   "outputs": [
    {
     "data": {
      "text/plain": [
       "'data science'"
      ]
     },
     "execution_count": 14,
     "metadata": {},
     "output_type": "execute_result"
    }
   ],
   "source": [
    "answer"
   ]
  },
  {
   "cell_type": "code",
   "execution_count": 15,
   "id": "65c03812-e1cf-4869-a24b-2df6df7d8f3e",
   "metadata": {},
   "outputs": [
    {
     "data": {
      "text/plain": [
       "'data science'"
      ]
     },
     "execution_count": 15,
     "metadata": {},
     "output_type": "execute_result"
    }
   ],
   "source": [
    "answer"
   ]
  },
  {
   "cell_type": "markdown",
   "id": "89fb0d6c-7297-4e43-886e-c4f42ffde79d",
   "metadata": {},
   "source": [
    "## Indexing"
   ]
  },
  {
   "cell_type": "code",
   "execution_count": 16,
   "id": "cbd97833-c2c1-4884-bf91-f08dcb407921",
   "metadata": {},
   "outputs": [
    {
     "data": {
      "text/plain": [
       "'d'"
      ]
     },
     "execution_count": 16,
     "metadata": {},
     "output_type": "execute_result"
    }
   ],
   "source": [
    "answer[0]"
   ]
  },
  {
   "cell_type": "code",
   "execution_count": 17,
   "id": "7da60819-0772-439f-b6d0-6d45d18699fc",
   "metadata": {},
   "outputs": [
    {
     "data": {
      "text/plain": [
       "'a'"
      ]
     },
     "execution_count": 17,
     "metadata": {},
     "output_type": "execute_result"
    }
   ],
   "source": [
    "answer[1]"
   ]
  },
  {
   "cell_type": "code",
   "execution_count": 18,
   "id": "8eb4afa4-230d-4e29-ad9e-1ea9087246e0",
   "metadata": {},
   "outputs": [
    {
     "data": {
      "text/plain": [
       "'e'"
      ]
     },
     "execution_count": 18,
     "metadata": {},
     "output_type": "execute_result"
    }
   ],
   "source": [
    "answer[-1]"
   ]
  },
  {
   "cell_type": "markdown",
   "id": "0f03cd55-a6f5-4489-93ef-0c75049aff4d",
   "metadata": {},
   "source": [
    "## slicing\n",
    "structure variable_name[start,stop,step]"
   ]
  },
  {
   "cell_type": "code",
   "execution_count": 19,
   "id": "8b8ef2c0-c58c-4970-a077-1369dced32f6",
   "metadata": {},
   "outputs": [
    {
     "data": {
      "text/plain": [
       "'at are you studying?'"
      ]
     },
     "execution_count": 19,
     "metadata": {},
     "output_type": "execute_result"
    }
   ],
   "source": [
    "question[2:]"
   ]
  },
  {
   "cell_type": "code",
   "execution_count": 20,
   "id": "44488dbb-103e-4bcb-ba05-e9a521564d52",
   "metadata": {},
   "outputs": [
    {
     "data": {
      "text/plain": [
       "'at a'"
      ]
     },
     "execution_count": 20,
     "metadata": {},
     "output_type": "execute_result"
    }
   ],
   "source": [
    "question[2:6]"
   ]
  },
  {
   "cell_type": "code",
   "execution_count": 22,
   "id": "e6566ad1-2fb5-41f3-a32a-f1f1fae02289",
   "metadata": {},
   "outputs": [
    {
     "data": {
      "text/plain": [
       "'wa '"
      ]
     },
     "execution_count": 22,
     "metadata": {},
     "output_type": "execute_result"
    }
   ],
   "source": [
    "question[:6:2]"
   ]
  },
  {
   "cell_type": "markdown",
   "id": "a668cc73-b3aa-4471-acdd-2acf9e6c3de5",
   "metadata": {},
   "source": [
    "## Method"
   ]
  },
  {
   "cell_type": "code",
   "execution_count": 23,
   "id": "4634cef7-23e2-4de3-aa15-d2ed6348dee5",
   "metadata": {},
   "outputs": [
    {
     "data": {
      "text/plain": [
       "'WHAT ARE YOU STUDYING?'"
      ]
     },
     "execution_count": 23,
     "metadata": {},
     "output_type": "execute_result"
    }
   ],
   "source": [
    "question.upper()"
   ]
  },
  {
   "cell_type": "code",
   "execution_count": 24,
   "id": "635100ec-9937-4c67-abe8-0dfade54ad1d",
   "metadata": {},
   "outputs": [
    {
     "data": {
      "text/plain": [
       "'DATA SCIENCE'"
      ]
     },
     "execution_count": 24,
     "metadata": {},
     "output_type": "execute_result"
    }
   ],
   "source": [
    "answer.upper()"
   ]
  },
  {
   "cell_type": "code",
   "execution_count": 25,
   "id": "1aba50a2-0e8e-48aa-8a71-1ebcccf4da7f",
   "metadata": {},
   "outputs": [
    {
     "data": {
      "text/plain": [
       "'data science'"
      ]
     },
     "execution_count": 25,
     "metadata": {},
     "output_type": "execute_result"
    }
   ],
   "source": [
    "answer.lower()"
   ]
  },
  {
   "cell_type": "code",
   "execution_count": 26,
   "id": "d9f637c1-40ac-4f0b-9613-9c2cf498f8a8",
   "metadata": {},
   "outputs": [],
   "source": [
    "answer_cap = answer.lower()"
   ]
  },
  {
   "cell_type": "code",
   "execution_count": 27,
   "id": "ce0a8292-4c48-4e60-9fa9-88c1c26a2122",
   "metadata": {},
   "outputs": [
    {
     "data": {
      "text/plain": [
       "'data science'"
      ]
     },
     "execution_count": 27,
     "metadata": {},
     "output_type": "execute_result"
    }
   ],
   "source": [
    "answer_cap"
   ]
  },
  {
   "cell_type": "code",
   "execution_count": 28,
   "id": "e5243936-e264-4c13-94e0-4b4a3fb57517",
   "metadata": {},
   "outputs": [
    {
     "data": {
      "text/plain": [
       "2"
      ]
     },
     "execution_count": 28,
     "metadata": {},
     "output_type": "execute_result"
    }
   ],
   "source": [
    "answer.find('t')"
   ]
  },
  {
   "cell_type": "code",
   "execution_count": 29,
   "id": "17da599c-9fd4-48a5-a84a-90246388b35d",
   "metadata": {},
   "outputs": [
    {
     "data": {
      "text/plain": [
       "5"
      ]
     },
     "execution_count": 29,
     "metadata": {},
     "output_type": "execute_result"
    }
   ],
   "source": [
    "answer.find('science')"
   ]
  },
  {
   "cell_type": "code",
   "execution_count": 30,
   "id": "dcd188bc-ee81-4b2a-b1cc-7050e87c19ae",
   "metadata": {},
   "outputs": [],
   "source": [
    "ind=answer.find('science')"
   ]
  },
  {
   "cell_type": "code",
   "execution_count": 31,
   "id": "d6131144-6d9c-43bc-8974-eff19c93cbd8",
   "metadata": {},
   "outputs": [
    {
     "data": {
      "text/plain": [
       "5"
      ]
     },
     "execution_count": 31,
     "metadata": {},
     "output_type": "execute_result"
    }
   ],
   "source": [
    "ind"
   ]
  },
  {
   "cell_type": "code",
   "execution_count": 33,
   "id": "63a012c8-46bd-43d2-93af-f8291e4f4182",
   "metadata": {},
   "outputs": [
    {
     "name": "stdout",
     "output_type": "stream",
     "text": [
      "science\n"
     ]
    }
   ],
   "source": [
    "print(answer[ind:])"
   ]
  },
  {
   "cell_type": "code",
   "execution_count": 36,
   "id": "e019e35d-d72b-4467-bc45-64bf18cfaa9f",
   "metadata": {},
   "outputs": [],
   "source": [
    "name = 'Justin'\n",
    "num = 5"
   ]
  },
  {
   "cell_type": "code",
   "execution_count": 37,
   "id": "374b1883-5279-4b10-9658-fa7abec0d409",
   "metadata": {},
   "outputs": [
    {
     "name": "stdout",
     "output_type": "stream",
     "text": [
      "Hello, I am Justin. I've been working for 5 years.\n"
     ]
    }
   ],
   "source": [
    "print(f\"Hello, I am {name}. I've been working for {num} years.\")"
   ]
  },
  {
   "cell_type": "code",
   "execution_count": null,
   "id": "9d592626-5909-407e-b2f4-2a4ae3b60755",
   "metadata": {},
   "outputs": [],
   "source": []
  },
  {
   "cell_type": "code",
   "execution_count": null,
   "id": "d2181891-8bb2-46c2-9f8c-aaf78ca82be1",
   "metadata": {},
   "outputs": [],
   "source": []
  }
 ],
 "metadata": {
  "kernelspec": {
   "display_name": "Python 3 (ipykernel)",
   "language": "python",
   "name": "python3"
  },
  "language_info": {
   "codemirror_mode": {
    "name": "ipython",
    "version": 3
   },
   "file_extension": ".py",
   "mimetype": "text/x-python",
   "name": "python",
   "nbconvert_exporter": "python",
   "pygments_lexer": "ipython3",
   "version": "3.11.7"
  }
 },
 "nbformat": 4,
 "nbformat_minor": 5
}
