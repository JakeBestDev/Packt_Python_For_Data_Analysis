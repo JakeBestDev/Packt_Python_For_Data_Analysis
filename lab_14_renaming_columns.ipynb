{
 "cells": [
  {
   "cell_type": "markdown",
   "id": "cbc57de9-5b40-4c1f-8820-9de5f7fb9ad5",
   "metadata": {},
   "source": [
    "## Renaming Columns"
   ]
  },
  {
   "cell_type": "code",
   "execution_count": 1,
   "id": "e50df358-d5cc-4ba7-b6f3-d829bb5fa890",
   "metadata": {},
   "outputs": [],
   "source": [
    "import pandas as pd"
   ]
  },
  {
   "cell_type": "code",
   "execution_count": 2,
   "id": "6f93cdc8-7d82-45cf-bf0a-7b3e6ab6fb95",
   "metadata": {},
   "outputs": [],
   "source": [
    "hero = pd.read_pickle('hero.pkl')"
   ]
  },
  {
   "cell_type": "markdown",
   "id": "332069b5-746b-41c8-b773-ebd74cd2f382",
   "metadata": {},
   "source": [
    "### Notice how the columns are different styles of caps and not real form of standard. Lets make them uniform."
   ]
  },
  {
   "cell_type": "code",
   "execution_count": 4,
   "id": "b463d343-d873-4ff9-ae5f-29cb969de3a6",
   "metadata": {
    "collapsed": true,
    "jupyter": {
     "outputs_hidden": true
    }
   },
   "outputs": [
    {
     "name": "stdout",
     "output_type": "stream",
     "text": [
      "<class 'pandas.core.frame.DataFrame'>\n",
      "RangeIndex: 537 entries, 0 to 536\n",
      "Data columns (total 177 columns):\n",
      " #    Column                        Dtype   \n",
      "---   ------                        -----   \n",
      " 0    name                          string  \n",
      " 1    Gender                        category\n",
      " 2    Eye color                     string  \n",
      " 3    Race                          string  \n",
      " 4    Hair color                    string  \n",
      " 5    Height                        int64   \n",
      " 6    Publisher                     string  \n",
      " 7    Alignment                     category\n",
      " 8    Weight                        float64 \n",
      " 9    hero_names                    string  \n",
      " 10   Agility                       bool    \n",
      " 11   Accelerated Healing           bool    \n",
      " 12   Lantern Power Ring            bool    \n",
      " 13   Dimensional Awareness         bool    \n",
      " 14   Cold Resistance               bool    \n",
      " 15   Durability                    bool    \n",
      " 16   Stealth                       bool    \n",
      " 17   Energy Absorption             bool    \n",
      " 18   Flight                        bool    \n",
      " 19   Danger Sense                  bool    \n",
      " 20   Underwater breathing          bool    \n",
      " 21   Marksmanship                  bool    \n",
      " 22   Weapons Master                bool    \n",
      " 23   Power Augmentation            bool    \n",
      " 24   Animal Attributes             bool    \n",
      " 25   Longevity                     bool    \n",
      " 26   Intelligence                  bool    \n",
      " 27   Super Strength                bool    \n",
      " 28   Cryokinesis                   bool    \n",
      " 29   Telepathy                     bool    \n",
      " 30   Energy Armor                  bool    \n",
      " 31   Energy Blasts                 bool    \n",
      " 32   Duplication                   bool    \n",
      " 33   Size Changing                 bool    \n",
      " 34   Density Control               bool    \n",
      " 35   Stamina                       bool    \n",
      " 36   Astral Travel                 bool    \n",
      " 37   Audio Control                 bool    \n",
      " 38   Dexterity                     bool    \n",
      " 39   Omnitrix                      bool    \n",
      " 40   Super Speed                   bool    \n",
      " 41   Possession                    bool    \n",
      " 42   Animal Oriented Powers        bool    \n",
      " 43   Weapon-based Powers           bool    \n",
      " 44   Electrokinesis                bool    \n",
      " 45   Darkforce Manipulation        bool    \n",
      " 46   Death Touch                   bool    \n",
      " 47   Teleportation                 bool    \n",
      " 48   Enhanced Senses               bool    \n",
      " 49   Telekinesis                   bool    \n",
      " 50   Energy Beams                  bool    \n",
      " 51   Magic                         bool    \n",
      " 52   Hyperkinesis                  bool    \n",
      " 53   Jump                          bool    \n",
      " 54   Clairvoyance                  bool    \n",
      " 55   Dimensional Travel            bool    \n",
      " 56   Power Sense                   bool    \n",
      " 57   Shapeshifting                 bool    \n",
      " 58   Peak Human Condition          bool    \n",
      " 59   Immortality                   bool    \n",
      " 60   Camouflage                    bool    \n",
      " 61   Element Control               bool    \n",
      " 62   Phasing                       bool    \n",
      " 63   Astral Projection             bool    \n",
      " 64   Electrical Transport          bool    \n",
      " 65   Fire Control                  bool    \n",
      " 66   Projection                    bool    \n",
      " 67   Summoning                     bool    \n",
      " 68   Enhanced Memory               bool    \n",
      " 69   Reflexes                      bool    \n",
      " 70   Invulnerability               bool    \n",
      " 71   Energy Constructs             bool    \n",
      " 72   Force Fields                  bool    \n",
      " 73   Self-Sustenance               bool    \n",
      " 74   Anti-Gravity                  bool    \n",
      " 75   Empathy                       bool    \n",
      " 76   Power Nullifier               bool    \n",
      " 77   Radiation Control             bool    \n",
      " 78   Psionic Powers                bool    \n",
      " 79   Elasticity                    bool    \n",
      " 80   Substance Secretion           bool    \n",
      " 81   Elemental Transmogrification  bool    \n",
      " 82   Technopath/Cyberpath          bool    \n",
      " 83   Photographic Reflexes         bool    \n",
      " 84   Seismic Power                 bool    \n",
      " 85   Animation                     bool    \n",
      " 86   Precognition                  bool    \n",
      " 87   Mind Control                  bool    \n",
      " 88   Fire Resistance               bool    \n",
      " 89   Power Absorption              bool    \n",
      " 90   Enhanced Hearing              bool    \n",
      " 91   Nova Force                    bool    \n",
      " 92   Insanity                      bool    \n",
      " 93   Hypnokinesis                  bool    \n",
      " 94   Animal Control                bool    \n",
      " 95   Natural Armor                 bool    \n",
      " 96   Intangibility                 bool    \n",
      " 97   Enhanced Sight                bool    \n",
      " 98   Molecular Manipulation        bool    \n",
      " 99   Heat Generation               bool    \n",
      " 100  Adaptation                    bool    \n",
      " 101  Gliding                       bool    \n",
      " 102  Power Suit                    bool    \n",
      " 103  Mind Blast                    bool    \n",
      " 104  Probability Manipulation      bool    \n",
      " 105  Gravity Control               bool    \n",
      " 106  Regeneration                  bool    \n",
      " 107  Light Control                 bool    \n",
      " 108  Echolocation                  bool    \n",
      " 109  Levitation                    bool    \n",
      " 110  Toxin and Disease Control     bool    \n",
      " 111  Banish                        bool    \n",
      " 112  Energy Manipulation           bool    \n",
      " 113  Heat Resistance               bool    \n",
      " 114  Natural Weapons               bool    \n",
      " 115  Time Travel                   bool    \n",
      " 116  Enhanced Smell                bool    \n",
      " 117  Illusions                     bool    \n",
      " 118  Thirstokinesis                bool    \n",
      " 119  Hair Manipulation             bool    \n",
      " 120  Illumination                  bool    \n",
      " 121  Omnipotent                    bool    \n",
      " 122  Cloaking                      bool    \n",
      " 123  Changing Armor                bool    \n",
      " 124  Power Cosmic                  bool    \n",
      " 125  Biokinesis                    bool    \n",
      " 126  Water Control                 bool    \n",
      " 127  Radiation Immunity            bool    \n",
      " 128  Vision - Telescopic           bool    \n",
      " 129  Toxin and Disease Resistance  bool    \n",
      " 130  Spatial Awareness             bool    \n",
      " 131  Energy Resistance             bool    \n",
      " 132  Telepathy Resistance          bool    \n",
      " 133  Molecular Combustion          bool    \n",
      " 134  Omnilingualism                bool    \n",
      " 135  Portal Creation               bool    \n",
      " 136  Magnetism                     bool    \n",
      " 137  Mind Control Resistance       bool    \n",
      " 138  Plant Control                 bool    \n",
      " 139  Sonar                         bool    \n",
      " 140  Sonic Scream                  bool    \n",
      " 141  Time Manipulation             bool    \n",
      " 142  Enhanced Touch                bool    \n",
      " 143  Magic Resistance              bool    \n",
      " 144  Invisibility                  bool    \n",
      " 145  Sub-Mariner                   bool    \n",
      " 146  Radiation Absorption          bool    \n",
      " 147  Intuitive aptitude            bool    \n",
      " 148  Vision - Microscopic          bool    \n",
      " 149  Melting                       bool    \n",
      " 150  Wind Control                  bool    \n",
      " 151  Super Breath                  bool    \n",
      " 152  Wallcrawling                  bool    \n",
      " 153  Vision - Night                bool    \n",
      " 154  Vision - Infrared             bool    \n",
      " 155  Grim Reaping                  bool    \n",
      " 156  Matter Absorption             bool    \n",
      " 157  The Force                     bool    \n",
      " 158  Resurrection                  bool    \n",
      " 159  Terrakinesis                  bool    \n",
      " 160  Vision - Heat                 bool    \n",
      " 161  Vitakinesis                   bool    \n",
      " 162  Radar Sense                   bool    \n",
      " 163  Qwardian Power Ring           bool    \n",
      " 164  Weather Control               bool    \n",
      " 165  Vision - X-Ray                bool    \n",
      " 166  Vision - Thermal              bool    \n",
      " 167  Web Creation                  bool    \n",
      " 168  Reality Warping               bool    \n",
      " 169  Odin Force                    bool    \n",
      " 170  Symbiote Costume              bool    \n",
      " 171  Speed Force                   bool    \n",
      " 172  Phoenix Force                 bool    \n",
      " 173  Molecular Dissipation         bool    \n",
      " 174  Vision - Cryo                 bool    \n",
      " 175  Omnipresent                   bool    \n",
      " 176  Omniscient                    bool    \n",
      "dtypes: bool(167), category(2), float64(1), int64(1), string(6)\n",
      "memory usage: 122.4 KB\n"
     ]
    }
   ],
   "source": [
    "# Notice there are issues with column spelling and capitalizations\n",
    "# Lets make this standardized\n",
    "hero.info(verbose= True)"
   ]
  },
  {
   "cell_type": "code",
   "execution_count": 5,
   "id": "325e225d-2565-489a-bfaa-20d063a29f61",
   "metadata": {},
   "outputs": [
    {
     "data": {
      "text/plain": [
       "Index(['name', 'Gender', 'Eye color', 'Race', 'Hair color', 'Height',\n",
       "       'Publisher', 'Alignment', 'Weight', 'hero_names',\n",
       "       ...\n",
       "       'Web Creation', 'Reality Warping', 'Odin Force', 'Symbiote Costume',\n",
       "       'Speed Force', 'Phoenix Force', 'Molecular Dissipation',\n",
       "       'Vision - Cryo', 'Omnipresent', 'Omniscient'],\n",
       "      dtype='object', length=177)"
      ]
     },
     "execution_count": 5,
     "metadata": {},
     "output_type": "execute_result"
    }
   ],
   "source": [
    "hero.columns"
   ]
  },
  {
   "cell_type": "code",
   "execution_count": 7,
   "id": "c5e21a4e-6b36-4364-994d-8674e3f8fa7b",
   "metadata": {},
   "outputs": [
    {
     "data": {
      "text/plain": [
       "Index(['name', 'gender', 'eye color', 'race', 'hair color', 'height',\n",
       "       'publisher', 'alignment', 'weight', 'hero_names',\n",
       "       ...\n",
       "       'web creation', 'reality warping', 'odin force', 'symbiote costume',\n",
       "       'speed force', 'phoenix force', 'molecular dissipation',\n",
       "       'vision - cryo', 'omnipresent', 'omniscient'],\n",
       "      dtype='object', length=177)"
      ]
     },
     "execution_count": 7,
     "metadata": {},
     "output_type": "execute_result"
    }
   ],
   "source": [
    "hero.columns.str.lower()"
   ]
  },
  {
   "cell_type": "code",
   "execution_count": 8,
   "id": "7408fb2b-d3d6-4aee-8679-5f57ceb3e8f6",
   "metadata": {},
   "outputs": [
    {
     "data": {
      "text/plain": [
       "Index(['NAME', 'GENDER', 'EYE COLOR', 'RACE', 'HAIR COLOR', 'HEIGHT',\n",
       "       'PUBLISHER', 'ALIGNMENT', 'WEIGHT', 'HERO_NAMES',\n",
       "       ...\n",
       "       'WEB CREATION', 'REALITY WARPING', 'ODIN FORCE', 'SYMBIOTE COSTUME',\n",
       "       'SPEED FORCE', 'PHOENIX FORCE', 'MOLECULAR DISSIPATION',\n",
       "       'VISION - CRYO', 'OMNIPRESENT', 'OMNISCIENT'],\n",
       "      dtype='object', length=177)"
      ]
     },
     "execution_count": 8,
     "metadata": {},
     "output_type": "execute_result"
    }
   ],
   "source": [
    "hero.columns.str.upper()"
   ]
  },
  {
   "cell_type": "code",
   "execution_count": 9,
   "id": "41375395-862f-40da-866a-32cae1626562",
   "metadata": {},
   "outputs": [
    {
     "data": {
      "text/plain": [
       "Index(['Name', 'Gender', 'Eye Color', 'Race', 'Hair Color', 'Height',\n",
       "       'Publisher', 'Alignment', 'Weight', 'Hero_Names',\n",
       "       ...\n",
       "       'Web Creation', 'Reality Warping', 'Odin Force', 'Symbiote Costume',\n",
       "       'Speed Force', 'Phoenix Force', 'Molecular Dissipation',\n",
       "       'Vision - Cryo', 'Omnipresent', 'Omniscient'],\n",
       "      dtype='object', length=177)"
      ]
     },
     "execution_count": 9,
     "metadata": {},
     "output_type": "execute_result"
    }
   ],
   "source": [
    "hero.columns.str.title()"
   ]
  },
  {
   "cell_type": "code",
   "execution_count": 10,
   "id": "bb64a06d-a07a-4e9c-a86e-0de6d250af34",
   "metadata": {},
   "outputs": [
    {
     "data": {
      "text/plain": [
       "Index(['Name', 'Gender', 'Eye color', 'Race', 'Hair color', 'Height',\n",
       "       'Publisher', 'Alignment', 'Weight', 'Hero_names',\n",
       "       ...\n",
       "       'Web creation', 'Reality warping', 'Odin force', 'Symbiote costume',\n",
       "       'Speed force', 'Phoenix force', 'Molecular dissipation',\n",
       "       'Vision - cryo', 'Omnipresent', 'Omniscient'],\n",
       "      dtype='object', length=177)"
      ]
     },
     "execution_count": 10,
     "metadata": {},
     "output_type": "execute_result"
    }
   ],
   "source": [
    "hero.columns.str.capitalize()"
   ]
  },
  {
   "cell_type": "code",
   "execution_count": 23,
   "id": "0d0cf22b-e8a6-4400-9600-6b08b4b17c2b",
   "metadata": {},
   "outputs": [],
   "source": [
    "# keeping them as lowercase so its easier to type\n",
    "hero.columns = hero.columns.str.lower()"
   ]
  },
  {
   "cell_type": "code",
   "execution_count": 13,
   "id": "9a2798b8-7e15-4032-95d1-5ee4ab4ce455",
   "metadata": {},
   "outputs": [
    {
     "data": {
      "text/html": [
       "<div>\n",
       "<style scoped>\n",
       "    .dataframe tbody tr th:only-of-type {\n",
       "        vertical-align: middle;\n",
       "    }\n",
       "\n",
       "    .dataframe tbody tr th {\n",
       "        vertical-align: top;\n",
       "    }\n",
       "\n",
       "    .dataframe thead th {\n",
       "        text-align: right;\n",
       "    }\n",
       "</style>\n",
       "<table border=\"1\" class=\"dataframe\">\n",
       "  <thead>\n",
       "    <tr style=\"text-align: right;\">\n",
       "      <th></th>\n",
       "      <th>name</th>\n",
       "      <th>gender</th>\n",
       "      <th>eye color</th>\n",
       "      <th>race</th>\n",
       "      <th>hair color</th>\n",
       "      <th>height</th>\n",
       "      <th>publisher</th>\n",
       "      <th>alignment</th>\n",
       "      <th>weight</th>\n",
       "      <th>hero_names</th>\n",
       "      <th>...</th>\n",
       "      <th>web creation</th>\n",
       "      <th>reality warping</th>\n",
       "      <th>odin force</th>\n",
       "      <th>symbiote costume</th>\n",
       "      <th>speed force</th>\n",
       "      <th>phoenix force</th>\n",
       "      <th>molecular dissipation</th>\n",
       "      <th>vision - cryo</th>\n",
       "      <th>omnipresent</th>\n",
       "      <th>omniscient</th>\n",
       "    </tr>\n",
       "  </thead>\n",
       "  <tbody>\n",
       "    <tr>\n",
       "      <th>0</th>\n",
       "      <td>Abin Sur</td>\n",
       "      <td>Male</td>\n",
       "      <td>blue</td>\n",
       "      <td>Ungaran</td>\n",
       "      <td>No Hair</td>\n",
       "      <td>185</td>\n",
       "      <td>DC Comics</td>\n",
       "      <td>good</td>\n",
       "      <td>90.0</td>\n",
       "      <td>Abin Sur</td>\n",
       "      <td>...</td>\n",
       "      <td>False</td>\n",
       "      <td>False</td>\n",
       "      <td>False</td>\n",
       "      <td>False</td>\n",
       "      <td>False</td>\n",
       "      <td>False</td>\n",
       "      <td>False</td>\n",
       "      <td>False</td>\n",
       "      <td>False</td>\n",
       "      <td>False</td>\n",
       "    </tr>\n",
       "  </tbody>\n",
       "</table>\n",
       "<p>1 rows × 177 columns</p>\n",
       "</div>"
      ],
      "text/plain": [
       "       name gender eye color     race hair color  height  publisher alignment  \\\n",
       "0  Abin Sur   Male      blue  Ungaran    No Hair     185  DC Comics      good   \n",
       "\n",
       "   weight hero_names  ...  web creation  reality warping  odin force  \\\n",
       "0    90.0   Abin Sur  ...         False            False       False   \n",
       "\n",
       "   symbiote costume  speed force  phoenix force  molecular dissipation  \\\n",
       "0             False        False          False                  False   \n",
       "\n",
       "   vision - cryo  omnipresent  omniscient  \n",
       "0          False        False       False  \n",
       "\n",
       "[1 rows x 177 columns]"
      ]
     },
     "execution_count": 13,
     "metadata": {},
     "output_type": "execute_result"
    }
   ],
   "source": [
    "hero.head(1)"
   ]
  },
  {
   "cell_type": "markdown",
   "id": "90803531-d8d1-423f-ba00-70406155a560",
   "metadata": {},
   "source": [
    "#### Ok great now they are all lowercase. Now lets deal with columns like hero_name that has an underscore in it"
   ]
  },
  {
   "cell_type": "code",
   "execution_count": 24,
   "id": "a2803740-c11e-4dec-a316-c560577b2ddd",
   "metadata": {},
   "outputs": [],
   "source": [
    "hero = hero.rename(columns={'hero_names':'hero names'})"
   ]
  },
  {
   "cell_type": "code",
   "execution_count": 25,
   "id": "4f93f64b-e576-43a9-b1cb-9d2d0d7d9604",
   "metadata": {},
   "outputs": [
    {
     "data": {
      "text/plain": [
       "Index(['name', 'gender', 'eye color', 'race', 'hair color', 'height',\n",
       "       'publisher', 'alignment', 'weight', 'hero names',\n",
       "       ...\n",
       "       'web creation', 'reality warping', 'odin force', 'symbiote costume',\n",
       "       'speed force', 'phoenix force', 'molecular dissipation',\n",
       "       'vision - cryo', 'omnipresent', 'omniscient'],\n",
       "      dtype='object', length=177)"
      ]
     },
     "execution_count": 25,
     "metadata": {},
     "output_type": "execute_result"
    }
   ],
   "source": [
    "hero.columns"
   ]
  },
  {
   "cell_type": "code",
   "execution_count": 26,
   "id": "4f4e0bc5-5da0-4e33-b82e-cab88e1e9c61",
   "metadata": {},
   "outputs": [
    {
     "data": {
      "text/plain": [
       "Index(['NAME', 'GENDER', 'EYE COLOR', 'RACE', 'HAIR COLOR', 'HEIGHT',\n",
       "       'PUBLISHER', 'ALIGNMENT', 'WEIGHT', 'HERO NAMES',\n",
       "       ...\n",
       "       'WEB CREATION', 'REALITY WARPING', 'ODIN FORCE', 'SYMBIOTE COSTUME',\n",
       "       'SPEED FORCE', 'PHOENIX FORCE', 'MOLECULAR DISSIPATION',\n",
       "       'VISION - CRYO', 'OMNIPRESENT', 'OMNISCIENT'],\n",
       "      dtype='object', length=177)"
      ]
     },
     "execution_count": 26,
     "metadata": {},
     "output_type": "execute_result"
    }
   ],
   "source": [
    "## can call functions also using rename\n",
    "hero = hero.rename(columns=str.upper)\n",
    "hero.columns"
   ]
  },
  {
   "cell_type": "code",
   "execution_count": 27,
   "id": "a9a89f6b-86f1-4ea0-90ff-c5cf0c986854",
   "metadata": {},
   "outputs": [],
   "source": [
    "hero= hero.rename(mapper=str.lower,axis=1)"
   ]
  },
  {
   "cell_type": "code",
   "execution_count": 29,
   "id": "c90d38b9-ff5c-400d-8f9c-9f594c0525a0",
   "metadata": {},
   "outputs": [
    {
     "data": {
      "text/html": [
       "<div>\n",
       "<style scoped>\n",
       "    .dataframe tbody tr th:only-of-type {\n",
       "        vertical-align: middle;\n",
       "    }\n",
       "\n",
       "    .dataframe tbody tr th {\n",
       "        vertical-align: top;\n",
       "    }\n",
       "\n",
       "    .dataframe thead th {\n",
       "        text-align: right;\n",
       "    }\n",
       "</style>\n",
       "<table border=\"1\" class=\"dataframe\">\n",
       "  <thead>\n",
       "    <tr style=\"text-align: right;\">\n",
       "      <th></th>\n",
       "      <th>name</th>\n",
       "      <th>gender</th>\n",
       "      <th>eye color</th>\n",
       "      <th>race</th>\n",
       "      <th>hair color</th>\n",
       "      <th>height</th>\n",
       "      <th>publisher</th>\n",
       "      <th>alignment</th>\n",
       "      <th>weight</th>\n",
       "      <th>hero names</th>\n",
       "      <th>...</th>\n",
       "      <th>web creation</th>\n",
       "      <th>reality warping</th>\n",
       "      <th>odin force</th>\n",
       "      <th>symbiote costume</th>\n",
       "      <th>speed force</th>\n",
       "      <th>phoenix force</th>\n",
       "      <th>molecular dissipation</th>\n",
       "      <th>vision - cryo</th>\n",
       "      <th>omnipresent</th>\n",
       "      <th>omniscient</th>\n",
       "    </tr>\n",
       "  </thead>\n",
       "  <tbody>\n",
       "    <tr>\n",
       "      <th>0</th>\n",
       "      <td>Abin Sur</td>\n",
       "      <td>Male</td>\n",
       "      <td>blue</td>\n",
       "      <td>Ungaran</td>\n",
       "      <td>No Hair</td>\n",
       "      <td>185</td>\n",
       "      <td>DC Comics</td>\n",
       "      <td>good</td>\n",
       "      <td>90.0</td>\n",
       "      <td>Abin Sur</td>\n",
       "      <td>...</td>\n",
       "      <td>False</td>\n",
       "      <td>False</td>\n",
       "      <td>False</td>\n",
       "      <td>False</td>\n",
       "      <td>False</td>\n",
       "      <td>False</td>\n",
       "      <td>False</td>\n",
       "      <td>False</td>\n",
       "      <td>False</td>\n",
       "      <td>False</td>\n",
       "    </tr>\n",
       "    <tr>\n",
       "      <th>1</th>\n",
       "      <td>Adam Strange</td>\n",
       "      <td>Male</td>\n",
       "      <td>blue</td>\n",
       "      <td>Human</td>\n",
       "      <td>Blond</td>\n",
       "      <td>185</td>\n",
       "      <td>DC Comics</td>\n",
       "      <td>good</td>\n",
       "      <td>88.0</td>\n",
       "      <td>Adam Strange</td>\n",
       "      <td>...</td>\n",
       "      <td>False</td>\n",
       "      <td>False</td>\n",
       "      <td>False</td>\n",
       "      <td>False</td>\n",
       "      <td>False</td>\n",
       "      <td>False</td>\n",
       "      <td>False</td>\n",
       "      <td>False</td>\n",
       "      <td>False</td>\n",
       "      <td>False</td>\n",
       "    </tr>\n",
       "  </tbody>\n",
       "</table>\n",
       "<p>2 rows × 177 columns</p>\n",
       "</div>"
      ],
      "text/plain": [
       "           name gender eye color     race hair color  height  publisher  \\\n",
       "0      Abin Sur   Male      blue  Ungaran    No Hair     185  DC Comics   \n",
       "1  Adam Strange   Male      blue    Human      Blond     185  DC Comics   \n",
       "\n",
       "  alignment  weight    hero names  ...  web creation  reality warping  \\\n",
       "0      good    90.0      Abin Sur  ...         False            False   \n",
       "1      good    88.0  Adam Strange  ...         False            False   \n",
       "\n",
       "   odin force  symbiote costume  speed force  phoenix force  \\\n",
       "0       False             False        False          False   \n",
       "1       False             False        False          False   \n",
       "\n",
       "   molecular dissipation  vision - cryo  omnipresent  omniscient  \n",
       "0                  False          False        False       False  \n",
       "1                  False          False        False       False  \n",
       "\n",
       "[2 rows x 177 columns]"
      ]
     },
     "execution_count": 29,
     "metadata": {},
     "output_type": "execute_result"
    }
   ],
   "source": [
    "hero.head(2)"
   ]
  },
  {
   "cell_type": "code",
   "execution_count": 30,
   "id": "b6f72a06-2ebd-4a5f-a316-55aeace7d190",
   "metadata": {},
   "outputs": [],
   "source": [
    "hero.to_pickle('hero.pkl')"
   ]
  },
  {
   "cell_type": "code",
   "execution_count": null,
   "id": "3b755504-2100-42d7-93b8-44fd01381f2e",
   "metadata": {},
   "outputs": [],
   "source": []
  },
  {
   "cell_type": "code",
   "execution_count": null,
   "id": "c4ab812a-f311-4608-aa30-d48794547e49",
   "metadata": {},
   "outputs": [],
   "source": []
  },
  {
   "cell_type": "code",
   "execution_count": null,
   "id": "4da13932-710e-41fa-9c03-c5e03136e5cf",
   "metadata": {},
   "outputs": [],
   "source": []
  },
  {
   "cell_type": "code",
   "execution_count": null,
   "id": "1599ab85-c3aa-4142-8ed1-f9a3b1dc682f",
   "metadata": {},
   "outputs": [],
   "source": []
  },
  {
   "cell_type": "code",
   "execution_count": null,
   "id": "8bac59e6-5183-40d3-ae40-d3ccbc4a652e",
   "metadata": {},
   "outputs": [],
   "source": []
  },
  {
   "cell_type": "code",
   "execution_count": null,
   "id": "4ffc401e-81be-4d96-9677-c653f6163207",
   "metadata": {},
   "outputs": [],
   "source": []
  },
  {
   "cell_type": "code",
   "execution_count": null,
   "id": "ff9fbc48-5cc1-409e-b69b-cf7952c99a68",
   "metadata": {},
   "outputs": [],
   "source": []
  },
  {
   "cell_type": "code",
   "execution_count": null,
   "id": "a1ee2e31-c18a-424f-a86a-b2fa3ea13d64",
   "metadata": {},
   "outputs": [],
   "source": []
  },
  {
   "cell_type": "code",
   "execution_count": null,
   "id": "7df7796a-08b6-4b8b-b684-ad2d56542974",
   "metadata": {},
   "outputs": [],
   "source": []
  },
  {
   "cell_type": "code",
   "execution_count": null,
   "id": "5fb2a610-2c45-4912-93ab-bbc1fa8ca24d",
   "metadata": {},
   "outputs": [],
   "source": []
  },
  {
   "cell_type": "code",
   "execution_count": null,
   "id": "bdd8c276-ac94-4670-950d-73a31ecdb1b3",
   "metadata": {},
   "outputs": [],
   "source": []
  },
  {
   "cell_type": "code",
   "execution_count": null,
   "id": "8ad0cf9b-893f-49ca-9d45-e7d449d30454",
   "metadata": {},
   "outputs": [],
   "source": []
  },
  {
   "cell_type": "code",
   "execution_count": null,
   "id": "e769e791-1f94-45c3-90a8-189e66776ea2",
   "metadata": {},
   "outputs": [],
   "source": []
  },
  {
   "cell_type": "code",
   "execution_count": null,
   "id": "1ef89784-d318-461a-8c0a-bce6824a8ca4",
   "metadata": {},
   "outputs": [],
   "source": []
  },
  {
   "cell_type": "code",
   "execution_count": null,
   "id": "109c0d72-57b4-4e6a-8d75-188c4931b9c8",
   "metadata": {},
   "outputs": [],
   "source": []
  },
  {
   "cell_type": "code",
   "execution_count": null,
   "id": "45b2b516-3ac9-4847-9b75-20bc43a3a189",
   "metadata": {},
   "outputs": [],
   "source": []
  },
  {
   "cell_type": "code",
   "execution_count": null,
   "id": "499961ce-9f3d-494e-bdb9-275bdbc92987",
   "metadata": {},
   "outputs": [],
   "source": []
  },
  {
   "cell_type": "code",
   "execution_count": null,
   "id": "ac408461-8d77-4508-ba44-85eda450ffb6",
   "metadata": {},
   "outputs": [],
   "source": []
  },
  {
   "cell_type": "code",
   "execution_count": null,
   "id": "27308149-9859-43ff-9477-e30025eab2cb",
   "metadata": {},
   "outputs": [],
   "source": []
  },
  {
   "cell_type": "code",
   "execution_count": null,
   "id": "d19b16e1-da09-43e6-8204-eca521a2b0c0",
   "metadata": {},
   "outputs": [],
   "source": []
  },
  {
   "cell_type": "code",
   "execution_count": null,
   "id": "5830a5b2-f742-4a75-93ca-e77884f3ae29",
   "metadata": {},
   "outputs": [],
   "source": []
  },
  {
   "cell_type": "code",
   "execution_count": null,
   "id": "dc96f524-b900-487e-a1eb-8f97e15c72f9",
   "metadata": {},
   "outputs": [],
   "source": []
  },
  {
   "cell_type": "code",
   "execution_count": null,
   "id": "e7aa930e-fd00-4223-abee-e2038b508a3b",
   "metadata": {},
   "outputs": [],
   "source": []
  },
  {
   "cell_type": "code",
   "execution_count": null,
   "id": "a1f7a348-dfd2-4282-9c7d-3a2063cf94e4",
   "metadata": {},
   "outputs": [],
   "source": []
  }
 ],
 "metadata": {
  "kernelspec": {
   "display_name": "Python 3 (ipykernel)",
   "language": "python",
   "name": "python3"
  },
  "language_info": {
   "codemirror_mode": {
    "name": "ipython",
    "version": 3
   },
   "file_extension": ".py",
   "mimetype": "text/x-python",
   "name": "python",
   "nbconvert_exporter": "python",
   "pygments_lexer": "ipython3",
   "version": "3.11.7"
  }
 },
 "nbformat": 4,
 "nbformat_minor": 5
}
