{
 "cells": [
  {
   "cell_type": "markdown",
   "id": "6ac448c1-c687-4cc3-a5d1-bad29527edd8",
   "metadata": {},
   "source": [
    "# Rolling/Shifting Time Windows"
   ]
  },
  {
   "cell_type": "markdown",
   "id": "16720a51-3ab9-4c84-b8c2-41d39b09ebfd",
   "metadata": {},
   "source": [
    "### rolling(): which can be used for rolling window calculations, such as moving average\n",
    "### shift(): which is used to shift thevalues in a time series back and forward in time."
   ]
  },
  {
   "cell_type": "markdown",
   "id": "e401cd19-b166-48c0-bcfc-cef15d0ea282",
   "metadata": {},
   "source": [
    "## Data and Imports"
   ]
  },
  {
   "cell_type": "code",
   "execution_count": 2,
   "id": "f9a4ee26-46e1-4a81-937b-cb4a33f3651d",
   "metadata": {},
   "outputs": [],
   "source": [
    "import pandas as pd"
   ]
  },
  {
   "cell_type": "code",
   "execution_count": 3,
   "id": "a4d8a4f6-3449-4430-b8fe-ef53f3c74e15",
   "metadata": {},
   "outputs": [],
   "source": [
    "sp500 = pd.read_pickle('sp500.pkl')"
   ]
  },
  {
   "cell_type": "markdown",
   "id": "a1755d91-48af-40e7-9553-7d269934f37c",
   "metadata": {},
   "source": [
    "## rolling()"
   ]
  },
  {
   "cell_type": "code",
   "execution_count": 5,
   "id": "bcff5089-30b6-4076-a9fe-cefda8034a44",
   "metadata": {},
   "outputs": [
    {
     "data": {
      "text/plain": [
       "Date\n",
       "2016-12-27    2268.88\n",
       "2016-12-28    2249.92\n",
       "2016-12-29    2249.26\n",
       "2016-12-30    2238.83\n",
       "2017-01-03    2257.83\n",
       "               ...   \n",
       "2021-12-16    4668.67\n",
       "2021-12-17    4620.64\n",
       "2021-12-20    4568.02\n",
       "2021-12-21    4649.23\n",
       "2021-12-22    4696.56\n",
       "Name: Close, Length: 1257, dtype: float64"
      ]
     },
     "execution_count": 5,
     "metadata": {},
     "output_type": "execute_result"
    }
   ],
   "source": [
    "## Its easist to look at a single column for rolling and shifting\n",
    "## We will look at 'Close' column\n",
    "\n",
    "## With rolling, we can perform rolling window calculations, \n",
    "## which means as we're sliding across the dataset, \n",
    "## we can take subsets of databased on a specific window size and perform calculations on them.\n",
    "\n",
    "sp500['Close']"
   ]
  },
  {
   "cell_type": "code",
   "execution_count": 6,
   "id": "9903aea1-9e14-4a1a-9322-62a7fb95f793",
   "metadata": {},
   "outputs": [
    {
     "data": {
      "text/plain": [
       "Date\n",
       "2016-12-27            NaN\n",
       "2016-12-28            NaN\n",
       "2016-12-29    2256.020000\n",
       "2016-12-30    2246.003333\n",
       "2017-01-03    2248.640000\n",
       "                 ...     \n",
       "2021-12-16    4670.870000\n",
       "2021-12-17    4666.386667\n",
       "2021-12-20    4619.110000\n",
       "2021-12-21    4612.630000\n",
       "2021-12-22    4637.936667\n",
       "Name: Close, Length: 1257, dtype: float64"
      ]
     },
     "execution_count": 6,
     "metadata": {},
     "output_type": "execute_result"
    }
   ],
   "source": [
    "## Lets try an example\n",
    "\n",
    "## we will set the window parameter to 3 so that when we do calulations always three observations willbe used for those calculations.\n",
    "## We can then apply a method for calulation like mean()\n",
    "\n",
    "## Go here to find rolling functions:\n",
    "## https://pandas.pydata.org/pandas-docs/stable/reference/window.html#api-functions-rolling\n",
    "\n",
    "## This example returns thatnew series of data, which is basically the three observations moving average for the closing price.\n",
    "\n",
    "sp500['Close'].rolling(window=3).mean()"
   ]
  },
  {
   "cell_type": "code",
   "execution_count": 7,
   "id": "e51ff7b3-2dce-4b2c-b2d7-e01617c36fac",
   "metadata": {},
   "outputs": [],
   "source": [
    "## Lets assign this back to a new column\n",
    "\n",
    "sp500['Close_3_mean'] = sp500['Close'].rolling(window=3).mean()"
   ]
  },
  {
   "cell_type": "code",
   "execution_count": 8,
   "id": "5fb3ea46-6abc-475f-9e61-feeaf1c28acf",
   "metadata": {},
   "outputs": [
    {
     "data": {
      "text/html": [
       "<div>\n",
       "<style scoped>\n",
       "    .dataframe tbody tr th:only-of-type {\n",
       "        vertical-align: middle;\n",
       "    }\n",
       "\n",
       "    .dataframe tbody tr th {\n",
       "        vertical-align: top;\n",
       "    }\n",
       "\n",
       "    .dataframe thead th {\n",
       "        text-align: right;\n",
       "    }\n",
       "</style>\n",
       "<table border=\"1\" class=\"dataframe\">\n",
       "  <thead>\n",
       "    <tr style=\"text-align: right;\">\n",
       "      <th></th>\n",
       "      <th>Close</th>\n",
       "      <th>Close_3_mean</th>\n",
       "    </tr>\n",
       "    <tr>\n",
       "      <th>Date</th>\n",
       "      <th></th>\n",
       "      <th></th>\n",
       "    </tr>\n",
       "  </thead>\n",
       "  <tbody>\n",
       "    <tr>\n",
       "      <th>2016-12-27</th>\n",
       "      <td>2268.88</td>\n",
       "      <td>NaN</td>\n",
       "    </tr>\n",
       "    <tr>\n",
       "      <th>2016-12-28</th>\n",
       "      <td>2249.92</td>\n",
       "      <td>NaN</td>\n",
       "    </tr>\n",
       "    <tr>\n",
       "      <th>2016-12-29</th>\n",
       "      <td>2249.26</td>\n",
       "      <td>2256.020000</td>\n",
       "    </tr>\n",
       "    <tr>\n",
       "      <th>2016-12-30</th>\n",
       "      <td>2238.83</td>\n",
       "      <td>2246.003333</td>\n",
       "    </tr>\n",
       "    <tr>\n",
       "      <th>2017-01-03</th>\n",
       "      <td>2257.83</td>\n",
       "      <td>2248.640000</td>\n",
       "    </tr>\n",
       "  </tbody>\n",
       "</table>\n",
       "</div>"
      ],
      "text/plain": [
       "              Close  Close_3_mean\n",
       "Date                             \n",
       "2016-12-27  2268.88           NaN\n",
       "2016-12-28  2249.92           NaN\n",
       "2016-12-29  2249.26   2256.020000\n",
       "2016-12-30  2238.83   2246.003333\n",
       "2017-01-03  2257.83   2248.640000"
      ]
     },
     "execution_count": 8,
     "metadata": {},
     "output_type": "execute_result"
    }
   ],
   "source": [
    "## Looking at the first 5 rows notice how the first 2 rows for the mean are NaN\n",
    "## This is because the rolling window didn't have 3 observations to complete the calculation\n",
    "\n",
    "sp500[['Close','Close_3_mean']].head()"
   ]
  },
  {
   "cell_type": "code",
   "execution_count": 9,
   "id": "bc20e8b8-0fe5-472c-80df-09c2b06de602",
   "metadata": {},
   "outputs": [
    {
     "data": {
      "text/plain": [
       "2256.02"
      ]
     },
     "execution_count": 9,
     "metadata": {},
     "output_type": "execute_result"
    }
   ],
   "source": [
    "## We can prove the above by caluclating the mean of the first 3 dates ['2016-12-27':'2016-12-29']\n",
    "## Then compare to 2016-12-29 Close_3_mean of 2256.020000\n",
    "\n",
    "## Notice it is the same!\n",
    "\n",
    "sp500.loc['2016-12-27':'2016-12-29','Close'].mean()"
   ]
  },
  {
   "cell_type": "code",
   "execution_count": 10,
   "id": "72850bcf-2050-4761-a438-b0a94d72efe9",
   "metadata": {},
   "outputs": [
    {
     "data": {
      "text/plain": [
       "2248.64"
      ]
     },
     "execution_count": 10,
     "metadata": {},
     "output_type": "execute_result"
    }
   ],
   "source": [
    "## Lets verify the Close_3_mean for 2017-01-03: 2248.640000\n",
    "\n",
    "sp500.loc['2016-12-29':'2017-01-03','Close'].mean()"
   ]
  },
  {
   "cell_type": "code",
   "execution_count": 11,
   "id": "ccc2723a-9be5-4bbd-9cf5-93d7ceae02a1",
   "metadata": {},
   "outputs": [
    {
     "data": {
      "text/html": [
       "<div>\n",
       "<style scoped>\n",
       "    .dataframe tbody tr th:only-of-type {\n",
       "        vertical-align: middle;\n",
       "    }\n",
       "\n",
       "    .dataframe tbody tr th {\n",
       "        vertical-align: top;\n",
       "    }\n",
       "\n",
       "    .dataframe thead th {\n",
       "        text-align: right;\n",
       "    }\n",
       "</style>\n",
       "<table border=\"1\" class=\"dataframe\">\n",
       "  <thead>\n",
       "    <tr style=\"text-align: right;\">\n",
       "      <th></th>\n",
       "      <th>Close</th>\n",
       "      <th>Close_3_mean</th>\n",
       "    </tr>\n",
       "    <tr>\n",
       "      <th>Date</th>\n",
       "      <th></th>\n",
       "      <th></th>\n",
       "    </tr>\n",
       "  </thead>\n",
       "  <tbody>\n",
       "    <tr>\n",
       "      <th>2016-12-27</th>\n",
       "      <td>2268.88</td>\n",
       "      <td>NaN</td>\n",
       "    </tr>\n",
       "    <tr>\n",
       "      <th>2016-12-28</th>\n",
       "      <td>2249.92</td>\n",
       "      <td>NaN</td>\n",
       "    </tr>\n",
       "    <tr>\n",
       "      <th>2016-12-29</th>\n",
       "      <td>2249.26</td>\n",
       "      <td>2256.020000</td>\n",
       "    </tr>\n",
       "    <tr>\n",
       "      <th>2016-12-30</th>\n",
       "      <td>2238.83</td>\n",
       "      <td>2246.003333</td>\n",
       "    </tr>\n",
       "    <tr>\n",
       "      <th>2017-01-03</th>\n",
       "      <td>2257.83</td>\n",
       "      <td>2248.640000</td>\n",
       "    </tr>\n",
       "  </tbody>\n",
       "</table>\n",
       "</div>"
      ],
      "text/plain": [
       "              Close  Close_3_mean\n",
       "Date                             \n",
       "2016-12-27  2268.88           NaN\n",
       "2016-12-28  2249.92           NaN\n",
       "2016-12-29  2249.26   2256.020000\n",
       "2016-12-30  2238.83   2246.003333\n",
       "2017-01-03  2257.83   2248.640000"
      ]
     },
     "execution_count": 11,
     "metadata": {},
     "output_type": "execute_result"
    }
   ],
   "source": [
    "## What if we don't want the data for the first 3 rows to be missing? \n",
    "## Lets fix that!\n",
    "\n",
    "sp500[['Close','Close_3_mean']].head()"
   ]
  },
  {
   "cell_type": "code",
   "execution_count": 61,
   "id": "f8ccae3c-64d0-46e6-912b-6f2dc4de0c9b",
   "metadata": {},
   "outputs": [
    {
     "data": {
      "text/plain": [
       "Date\n",
       "2016-12-27    2268.880000\n",
       "2016-12-28    2259.400000\n",
       "2016-12-29    2256.020000\n",
       "2016-12-30    2246.003333\n",
       "2017-01-03    2248.640000\n",
       "                 ...     \n",
       "2021-12-16    4670.870000\n",
       "2021-12-17    4666.386667\n",
       "2021-12-20    4619.110000\n",
       "2021-12-21    4612.630000\n",
       "2021-12-22    4637.936667\n",
       "Name: Close, Length: 1257, dtype: float64"
      ]
     },
     "execution_count": 61,
     "metadata": {},
     "output_type": "execute_result"
    }
   ],
   "source": [
    "# Use the min_periods= parameter \n",
    "\n",
    "## So we can see that the first 2 rows now have data! \n",
    "## The frist rows is the same as it's normal 'Close' because its the mean of itself\n",
    "\n",
    "sp500['Close'].rolling(window=3,min_periods=1).mean()"
   ]
  },
  {
   "cell_type": "code",
   "execution_count": 67,
   "id": "4e94b024-9fe3-4a66-aa77-ef59b4391be2",
   "metadata": {},
   "outputs": [
    {
     "data": {
      "text/plain": [
       "Date\n",
       "2016-12-27    2268.880000\n",
       "2016-12-28    2259.400000\n",
       "2016-12-29    2256.020000\n",
       "2016-12-30    2246.003333\n",
       "2017-01-03    2257.830000\n",
       "                 ...     \n",
       "2021-12-16    4670.870000\n",
       "2021-12-17    4666.386667\n",
       "2021-12-20    4568.020000\n",
       "2021-12-21    4608.625000\n",
       "2021-12-22    4637.936667\n",
       "Name: Close_3d_mean, Length: 1257, dtype: float64"
      ]
     },
     "execution_count": 67,
     "metadata": {},
     "output_type": "execute_result"
    }
   ],
   "source": [
    "## Using rolling we can also write the method like this\n",
    "\n",
    "## It takes the min_periods by default and sets them to 1 and we don't need to write the 'window=' parameter \n",
    "## BUT This works a little different! We can view that below:\n",
    "\n",
    "sp500['Close_3d_mean'] = sp500['Close'].rolling('3D').mean()\n",
    "sp500['Close_3d_mean']"
   ]
  },
  {
   "cell_type": "code",
   "execution_count": 73,
   "id": "e440a948-3f92-444e-8b9e-3486a4a66e84",
   "metadata": {},
   "outputs": [
    {
     "data": {
      "text/html": [
       "<div>\n",
       "<style scoped>\n",
       "    .dataframe tbody tr th:only-of-type {\n",
       "        vertical-align: middle;\n",
       "    }\n",
       "\n",
       "    .dataframe tbody tr th {\n",
       "        vertical-align: top;\n",
       "    }\n",
       "\n",
       "    .dataframe thead th {\n",
       "        text-align: right;\n",
       "    }\n",
       "</style>\n",
       "<table border=\"1\" class=\"dataframe\">\n",
       "  <thead>\n",
       "    <tr style=\"text-align: right;\">\n",
       "      <th></th>\n",
       "      <th>Close</th>\n",
       "      <th>Close_3_mean</th>\n",
       "      <th>Close_3d_mean</th>\n",
       "    </tr>\n",
       "    <tr>\n",
       "      <th>Date</th>\n",
       "      <th></th>\n",
       "      <th></th>\n",
       "      <th></th>\n",
       "    </tr>\n",
       "  </thead>\n",
       "  <tbody>\n",
       "    <tr>\n",
       "      <th>2016-12-27</th>\n",
       "      <td>2268.88</td>\n",
       "      <td>NaN</td>\n",
       "      <td>2268.880000</td>\n",
       "    </tr>\n",
       "    <tr>\n",
       "      <th>2016-12-28</th>\n",
       "      <td>2249.92</td>\n",
       "      <td>NaN</td>\n",
       "      <td>2259.400000</td>\n",
       "    </tr>\n",
       "    <tr>\n",
       "      <th>2016-12-29</th>\n",
       "      <td>2249.26</td>\n",
       "      <td>2256.020000</td>\n",
       "      <td>2256.020000</td>\n",
       "    </tr>\n",
       "    <tr>\n",
       "      <th>2016-12-30</th>\n",
       "      <td>2238.83</td>\n",
       "      <td>2246.003333</td>\n",
       "      <td>2246.003333</td>\n",
       "    </tr>\n",
       "    <tr>\n",
       "      <th>2017-01-03</th>\n",
       "      <td>2257.83</td>\n",
       "      <td>2248.640000</td>\n",
       "      <td>2257.830000</td>\n",
       "    </tr>\n",
       "    <tr>\n",
       "      <th>2017-01-04</th>\n",
       "      <td>2270.75</td>\n",
       "      <td>2255.803333</td>\n",
       "      <td>2264.290000</td>\n",
       "    </tr>\n",
       "  </tbody>\n",
       "</table>\n",
       "</div>"
      ],
      "text/plain": [
       "              Close  Close_3_mean  Close_3d_mean\n",
       "Date                                            \n",
       "2016-12-27  2268.88           NaN    2268.880000\n",
       "2016-12-28  2249.92           NaN    2259.400000\n",
       "2016-12-29  2249.26   2256.020000    2256.020000\n",
       "2016-12-30  2238.83   2246.003333    2246.003333\n",
       "2017-01-03  2257.83   2248.640000    2257.830000\n",
       "2017-01-04  2270.75   2255.803333    2264.290000"
      ]
     },
     "execution_count": 73,
     "metadata": {},
     "output_type": "execute_result"
    }
   ],
   "source": [
    "## Now lets print out our 3 Close columns\n",
    "\n",
    "## Notice how Close_3d_mean has the first record = the Close, this is the mean of itself and makes sense why it matches\n",
    "## For the 2nd row notice how its the mean of the Close of row 1 and 2\n",
    "## Then the same for the 3rd row. Its the mean of the first 3 rows\n",
    "\n",
    "## The 4th row however matches the 'Close' of the 4th row in the Close_3d_mean column instead of taking the last 3 rows\n",
    "## See whats happening??\n",
    "## The mean is taken for every 3 rows then starts over using the above rolling method\n",
    "\n",
    "sp500[['Close','Close_3_mean','Close_3d_mean']].head(6)"
   ]
  },
  {
   "cell_type": "code",
   "execution_count": 75,
   "id": "e8ce2f2c-c761-4910-b074-4bb40df92579",
   "metadata": {},
   "outputs": [
    {
     "data": {
      "text/html": [
       "<div>\n",
       "<style scoped>\n",
       "    .dataframe tbody tr th:only-of-type {\n",
       "        vertical-align: middle;\n",
       "    }\n",
       "\n",
       "    .dataframe tbody tr th {\n",
       "        vertical-align: top;\n",
       "    }\n",
       "\n",
       "    .dataframe thead th {\n",
       "        text-align: right;\n",
       "    }\n",
       "</style>\n",
       "<table border=\"1\" class=\"dataframe\">\n",
       "  <thead>\n",
       "    <tr style=\"text-align: right;\">\n",
       "      <th></th>\n",
       "      <th>Close</th>\n",
       "      <th>Close_3_mean</th>\n",
       "      <th>Close_3d_mean</th>\n",
       "    </tr>\n",
       "    <tr>\n",
       "      <th>Date</th>\n",
       "      <th></th>\n",
       "      <th></th>\n",
       "      <th></th>\n",
       "    </tr>\n",
       "  </thead>\n",
       "  <tbody>\n",
       "    <tr>\n",
       "      <th>2016-12-27</th>\n",
       "      <td>2268.88</td>\n",
       "      <td>NaN</td>\n",
       "      <td>2268.880000</td>\n",
       "    </tr>\n",
       "    <tr>\n",
       "      <th>2016-12-28</th>\n",
       "      <td>2249.92</td>\n",
       "      <td>NaN</td>\n",
       "      <td>2259.400000</td>\n",
       "    </tr>\n",
       "    <tr>\n",
       "      <th>2016-12-29</th>\n",
       "      <td>2249.26</td>\n",
       "      <td>2256.020000</td>\n",
       "      <td>2256.020000</td>\n",
       "    </tr>\n",
       "    <tr>\n",
       "      <th>2016-12-30</th>\n",
       "      <td>2238.83</td>\n",
       "      <td>2246.003333</td>\n",
       "      <td>2246.003333</td>\n",
       "    </tr>\n",
       "    <tr>\n",
       "      <th>2017-01-03</th>\n",
       "      <td>2257.83</td>\n",
       "      <td>2248.640000</td>\n",
       "      <td>2257.830000</td>\n",
       "    </tr>\n",
       "    <tr>\n",
       "      <th>2017-01-04</th>\n",
       "      <td>2270.75</td>\n",
       "      <td>2255.803333</td>\n",
       "      <td>2264.290000</td>\n",
       "    </tr>\n",
       "  </tbody>\n",
       "</table>\n",
       "</div>"
      ],
      "text/plain": [
       "              Close  Close_3_mean  Close_3d_mean\n",
       "Date                                            \n",
       "2016-12-27  2268.88           NaN    2268.880000\n",
       "2016-12-28  2249.92           NaN    2259.400000\n",
       "2016-12-29  2249.26   2256.020000    2256.020000\n",
       "2016-12-30  2238.83   2246.003333    2246.003333\n",
       "2017-01-03  2257.83   2248.640000    2257.830000\n",
       "2017-01-04  2270.75   2255.803333    2264.290000"
      ]
     },
     "execution_count": 75,
     "metadata": {},
     "output_type": "execute_result"
    }
   ],
   "source": [
    "## We can also do something similar using pandas Timedelta \n",
    "\n",
    "sp500['Close_3d_mean'] = sp500['Close'].rolling(pd.Timedelta(days=3)).mean()\n",
    "sp500[['Close','Close_3_mean','Close_3d_mean']].head(6)"
   ]
  },
  {
   "cell_type": "markdown",
   "id": "839dc8d9-02b4-4411-9c87-85f57302aec5",
   "metadata": {},
   "source": [
    "## Shifting"
   ]
  },
  {
   "cell_type": "code",
   "execution_count": 78,
   "id": "84680aea-461a-48f5-9011-a7f6275bb0d1",
   "metadata": {},
   "outputs": [
    {
     "data": {
      "text/plain": [
       "Date\n",
       "2016-12-27    2268.88\n",
       "2016-12-28    2249.92\n",
       "2016-12-29    2249.26\n",
       "2016-12-30    2238.83\n",
       "2017-01-03    2257.83\n",
       "               ...   \n",
       "2021-12-16    4668.67\n",
       "2021-12-17    4620.64\n",
       "2021-12-20    4568.02\n",
       "2021-12-21    4649.23\n",
       "2021-12-22    4696.56\n",
       "Name: Close, Length: 1257, dtype: float64"
      ]
     },
     "execution_count": 78,
     "metadata": {},
     "output_type": "execute_result"
    }
   ],
   "source": [
    "sp500['Close']"
   ]
  },
  {
   "cell_type": "code",
   "execution_count": 82,
   "id": "bcbacb43-3216-4f97-bfb0-b9b01dbb7358",
   "metadata": {},
   "outputs": [
    {
     "data": {
      "text/plain": [
       "Date\n",
       "2016-12-27        NaN\n",
       "2016-12-28    2268.88\n",
       "2016-12-29    2249.92\n",
       "2016-12-30    2249.26\n",
       "2017-01-03    2238.83\n",
       "               ...   \n",
       "2021-12-16    4709.85\n",
       "2021-12-17    4668.67\n",
       "2021-12-20    4620.64\n",
       "2021-12-21    4568.02\n",
       "2021-12-22    4649.23\n",
       "Name: Close, Length: 1257, dtype: float64"
      ]
     },
     "execution_count": 82,
     "metadata": {},
     "output_type": "execute_result"
    }
   ],
   "source": [
    "## By default, the shift method shifts the index by one period. \n",
    "## So if we compare this is the original series, youcan see that the index is shifted by one period.\n",
    "\n",
    "sp500['Close'].shift()"
   ]
  },
  {
   "cell_type": "code",
   "execution_count": 86,
   "id": "74bb03d0-145b-4869-a2a1-76a609958b20",
   "metadata": {},
   "outputs": [
    {
     "data": {
      "text/plain": [
       "Date\n",
       "2016-12-27        NaN\n",
       "2016-12-28    2268.88\n",
       "2016-12-29    2249.92\n",
       "2016-12-30    2249.26\n",
       "2017-01-03    2238.83\n",
       "               ...   \n",
       "2021-12-16    4709.85\n",
       "2021-12-17    4668.67\n",
       "2021-12-20    4620.64\n",
       "2021-12-21    4568.02\n",
       "2021-12-22    4649.23\n",
       "Name: Close_previous, Length: 1257, dtype: float64"
      ]
     },
     "execution_count": 86,
     "metadata": {},
     "output_type": "execute_result"
    }
   ],
   "source": [
    "## Lets assign this to a new column and compare\n",
    "\n",
    "sp500['Close_previous'] = sp500['Close'].shift()\n",
    "sp500['Close_previous']"
   ]
  },
  {
   "cell_type": "code",
   "execution_count": 90,
   "id": "2550a2db-a8b1-436a-b2ba-db1dd95b643b",
   "metadata": {},
   "outputs": [
    {
     "data": {
      "text/plain": [
       "Date\n",
       "2016-12-27        NaN\n",
       "2016-12-28        NaN\n",
       "2016-12-29        NaN\n",
       "2016-12-30    2268.88\n",
       "2017-01-03    2249.92\n",
       "               ...   \n",
       "2021-12-16    4668.97\n",
       "2021-12-17    4634.09\n",
       "2021-12-20    4709.85\n",
       "2021-12-21    4668.67\n",
       "2021-12-22    4620.64\n",
       "Name: Close_previous_3, Length: 1257, dtype: float64"
      ]
     },
     "execution_count": 90,
     "metadata": {},
     "output_type": "execute_result"
    }
   ],
   "source": [
    "## Lets also shift by 3 periods\n",
    "sp500['Close_previous_3'] = sp500['Close'].shift(periods = 3)\n",
    "sp500['Close_previous_3']"
   ]
  },
  {
   "cell_type": "code",
   "execution_count": 94,
   "id": "e29e3349-26f7-44a3-8d15-ad91c99d3bde",
   "metadata": {},
   "outputs": [
    {
     "data": {
      "text/html": [
       "<div>\n",
       "<style scoped>\n",
       "    .dataframe tbody tr th:only-of-type {\n",
       "        vertical-align: middle;\n",
       "    }\n",
       "\n",
       "    .dataframe tbody tr th {\n",
       "        vertical-align: top;\n",
       "    }\n",
       "\n",
       "    .dataframe thead th {\n",
       "        text-align: right;\n",
       "    }\n",
       "</style>\n",
       "<table border=\"1\" class=\"dataframe\">\n",
       "  <thead>\n",
       "    <tr style=\"text-align: right;\">\n",
       "      <th></th>\n",
       "      <th>Close</th>\n",
       "      <th>Close_previous</th>\n",
       "      <th>Close_previous_3</th>\n",
       "    </tr>\n",
       "    <tr>\n",
       "      <th>Date</th>\n",
       "      <th></th>\n",
       "      <th></th>\n",
       "      <th></th>\n",
       "    </tr>\n",
       "  </thead>\n",
       "  <tbody>\n",
       "    <tr>\n",
       "      <th>2016-12-27</th>\n",
       "      <td>2268.88</td>\n",
       "      <td>NaN</td>\n",
       "      <td>NaN</td>\n",
       "    </tr>\n",
       "    <tr>\n",
       "      <th>2016-12-28</th>\n",
       "      <td>2249.92</td>\n",
       "      <td>2268.88</td>\n",
       "      <td>NaN</td>\n",
       "    </tr>\n",
       "    <tr>\n",
       "      <th>2016-12-29</th>\n",
       "      <td>2249.26</td>\n",
       "      <td>2249.92</td>\n",
       "      <td>NaN</td>\n",
       "    </tr>\n",
       "    <tr>\n",
       "      <th>2016-12-30</th>\n",
       "      <td>2238.83</td>\n",
       "      <td>2249.26</td>\n",
       "      <td>2268.88</td>\n",
       "    </tr>\n",
       "    <tr>\n",
       "      <th>2017-01-03</th>\n",
       "      <td>2257.83</td>\n",
       "      <td>2238.83</td>\n",
       "      <td>2249.92</td>\n",
       "    </tr>\n",
       "    <tr>\n",
       "      <th>2017-01-04</th>\n",
       "      <td>2270.75</td>\n",
       "      <td>2257.83</td>\n",
       "      <td>2249.26</td>\n",
       "    </tr>\n",
       "  </tbody>\n",
       "</table>\n",
       "</div>"
      ],
      "text/plain": [
       "              Close  Close_previous  Close_previous_3\n",
       "Date                                                 \n",
       "2016-12-27  2268.88             NaN               NaN\n",
       "2016-12-28  2249.92         2268.88               NaN\n",
       "2016-12-29  2249.26         2249.92               NaN\n",
       "2016-12-30  2238.83         2249.26           2268.88\n",
       "2017-01-03  2257.83         2238.83           2249.92\n",
       "2017-01-04  2270.75         2257.83           2249.26"
      ]
     },
     "execution_count": 94,
     "metadata": {},
     "output_type": "execute_result"
    }
   ],
   "source": [
    "## This is useful for different time series analysis when you want to compare the current data to data from a previous period.\n",
    "\n",
    "sp500[['Close','Close_previous','Close_previous_3']].head(6)"
   ]
  },
  {
   "cell_type": "markdown",
   "id": "78aff495-d963-41c7-8a54-4c1d4457e6fc",
   "metadata": {},
   "source": [
    "## Rolling and Shifting Together"
   ]
  },
  {
   "cell_type": "code",
   "execution_count": 99,
   "id": "c50c43b7-2d6f-46a1-b890-8c84dd31ce1a",
   "metadata": {},
   "outputs": [
    {
     "data": {
      "text/html": [
       "<div>\n",
       "<style scoped>\n",
       "    .dataframe tbody tr th:only-of-type {\n",
       "        vertical-align: middle;\n",
       "    }\n",
       "\n",
       "    .dataframe tbody tr th {\n",
       "        vertical-align: top;\n",
       "    }\n",
       "\n",
       "    .dataframe thead th {\n",
       "        text-align: right;\n",
       "    }\n",
       "</style>\n",
       "<table border=\"1\" class=\"dataframe\">\n",
       "  <thead>\n",
       "    <tr style=\"text-align: right;\">\n",
       "      <th></th>\n",
       "      <th>Close</th>\n",
       "      <th>Volume</th>\n",
       "    </tr>\n",
       "    <tr>\n",
       "      <th>Date</th>\n",
       "      <th></th>\n",
       "      <th></th>\n",
       "    </tr>\n",
       "  </thead>\n",
       "  <tbody>\n",
       "    <tr>\n",
       "      <th>2016-12-27</th>\n",
       "      <td>NaN</td>\n",
       "      <td>NaN</td>\n",
       "    </tr>\n",
       "    <tr>\n",
       "      <th>2016-12-28</th>\n",
       "      <td>2268.880000</td>\n",
       "      <td>1.987080e+09</td>\n",
       "    </tr>\n",
       "    <tr>\n",
       "      <th>2016-12-29</th>\n",
       "      <td>2259.400000</td>\n",
       "      <td>2.189720e+09</td>\n",
       "    </tr>\n",
       "    <tr>\n",
       "      <th>2016-12-30</th>\n",
       "      <td>2256.020000</td>\n",
       "      <td>2.238603e+09</td>\n",
       "    </tr>\n",
       "    <tr>\n",
       "      <th>2017-01-03</th>\n",
       "      <td>2251.722500</td>\n",
       "      <td>2.346678e+09</td>\n",
       "    </tr>\n",
       "    <tr>\n",
       "      <th>2017-01-04</th>\n",
       "      <td>2252.944000</td>\n",
       "      <td>2.631448e+09</td>\n",
       "    </tr>\n",
       "    <tr>\n",
       "      <th>2017-01-05</th>\n",
       "      <td>2255.911667</td>\n",
       "      <td>2.820355e+09</td>\n",
       "    </tr>\n",
       "    <tr>\n",
       "      <th>2017-01-06</th>\n",
       "      <td>2257.781429</td>\n",
       "      <td>2.954850e+09</td>\n",
       "    </tr>\n",
       "    <tr>\n",
       "      <th>2017-01-09</th>\n",
       "      <td>2258.938571</td>\n",
       "      <td>3.148109e+09</td>\n",
       "    </tr>\n",
       "    <tr>\n",
       "      <th>2017-01-10</th>\n",
       "      <td>2268.692000</td>\n",
       "      <td>3.570948e+09</td>\n",
       "    </tr>\n",
       "  </tbody>\n",
       "</table>\n",
       "</div>"
      ],
      "text/plain": [
       "                  Close        Volume\n",
       "Date                                 \n",
       "2016-12-27          NaN           NaN\n",
       "2016-12-28  2268.880000  1.987080e+09\n",
       "2016-12-29  2259.400000  2.189720e+09\n",
       "2016-12-30  2256.020000  2.238603e+09\n",
       "2017-01-03  2251.722500  2.346678e+09\n",
       "2017-01-04  2252.944000  2.631448e+09\n",
       "2017-01-05  2255.911667  2.820355e+09\n",
       "2017-01-06  2257.781429  2.954850e+09\n",
       "2017-01-09  2258.938571  3.148109e+09\n",
       "2017-01-10  2268.692000  3.570948e+09"
      ]
     },
     "execution_count": 99,
     "metadata": {},
     "output_type": "execute_result"
    }
   ],
   "source": [
    "## Lets compare the mean close and volume of the last 10 day period\n",
    "\n",
    "sp500[['Close','Volume']].rolling('10D').mean().shift().head(10)"
   ]
  },
  {
   "cell_type": "code",
   "execution_count": null,
   "id": "a28b5c1c-f95b-461a-8a6a-a22fe8817eee",
   "metadata": {},
   "outputs": [],
   "source": []
  },
  {
   "cell_type": "code",
   "execution_count": null,
   "id": "4aa16fe2-f822-4ac8-aeb3-c7c0421064fd",
   "metadata": {},
   "outputs": [],
   "source": []
  },
  {
   "cell_type": "code",
   "execution_count": null,
   "id": "fc7149bf-3435-41cf-8cb9-6019320933d9",
   "metadata": {},
   "outputs": [],
   "source": []
  },
  {
   "cell_type": "code",
   "execution_count": null,
   "id": "fb722684-b79a-4e8d-b123-9519485983ee",
   "metadata": {},
   "outputs": [],
   "source": []
  },
  {
   "cell_type": "code",
   "execution_count": null,
   "id": "ac55c0f7-0735-4938-b99c-f630a717419b",
   "metadata": {},
   "outputs": [],
   "source": []
  },
  {
   "cell_type": "code",
   "execution_count": null,
   "id": "8df1ccd1-b656-4a4b-ad35-e63d5c990af7",
   "metadata": {},
   "outputs": [],
   "source": []
  },
  {
   "cell_type": "code",
   "execution_count": null,
   "id": "6bbcafe5-94e9-4ac3-b508-ed22ede9628d",
   "metadata": {},
   "outputs": [],
   "source": []
  },
  {
   "cell_type": "code",
   "execution_count": null,
   "id": "a2604bc0-7be9-4a1b-92b9-d94218173e33",
   "metadata": {},
   "outputs": [],
   "source": []
  },
  {
   "cell_type": "code",
   "execution_count": null,
   "id": "0be4bbbc-6aed-41dc-8649-31c1bb474aba",
   "metadata": {},
   "outputs": [],
   "source": []
  },
  {
   "cell_type": "code",
   "execution_count": null,
   "id": "c5ea888b-b0f0-4eb9-a6dc-507ad0050521",
   "metadata": {},
   "outputs": [],
   "source": []
  },
  {
   "cell_type": "code",
   "execution_count": null,
   "id": "c8e69c78-817b-406f-b71c-6e0ecac4891c",
   "metadata": {},
   "outputs": [],
   "source": []
  },
  {
   "cell_type": "code",
   "execution_count": null,
   "id": "450c14d0-f900-4b6f-abbf-f32c13972760",
   "metadata": {},
   "outputs": [],
   "source": []
  },
  {
   "cell_type": "code",
   "execution_count": null,
   "id": "609ac8e8-6092-46e1-9d7b-2121b66f0877",
   "metadata": {},
   "outputs": [],
   "source": []
  },
  {
   "cell_type": "code",
   "execution_count": null,
   "id": "86398918-f119-41af-ad6c-0b125c133e29",
   "metadata": {},
   "outputs": [],
   "source": []
  },
  {
   "cell_type": "code",
   "execution_count": null,
   "id": "d7e69054-e4e5-4036-8157-da5031af3b28",
   "metadata": {},
   "outputs": [],
   "source": []
  },
  {
   "cell_type": "code",
   "execution_count": null,
   "id": "0f2aaf9c-2838-49b0-9ee8-b23464562689",
   "metadata": {},
   "outputs": [],
   "source": []
  },
  {
   "cell_type": "code",
   "execution_count": null,
   "id": "faffde3a-19fc-4366-8a3a-42b03fd601e5",
   "metadata": {},
   "outputs": [],
   "source": []
  },
  {
   "cell_type": "code",
   "execution_count": null,
   "id": "eee86e82-d23c-4e48-ba48-6c44571bcfd8",
   "metadata": {},
   "outputs": [],
   "source": []
  },
  {
   "cell_type": "code",
   "execution_count": null,
   "id": "a639b611-8624-4d4c-acac-935dbe3de1f0",
   "metadata": {},
   "outputs": [],
   "source": []
  },
  {
   "cell_type": "code",
   "execution_count": null,
   "id": "bb63cff9-18f3-41d4-9afb-42cff305910b",
   "metadata": {},
   "outputs": [],
   "source": []
  },
  {
   "cell_type": "code",
   "execution_count": null,
   "id": "eeb8d3b4-d7c2-40b8-a9e1-801ebcd500ef",
   "metadata": {},
   "outputs": [],
   "source": []
  },
  {
   "cell_type": "code",
   "execution_count": null,
   "id": "6771bd3b-05c0-419d-b81c-ef01568ae5dc",
   "metadata": {},
   "outputs": [],
   "source": []
  },
  {
   "cell_type": "code",
   "execution_count": null,
   "id": "c4df210e-5a30-4b3a-a3b7-f9cc8369de51",
   "metadata": {},
   "outputs": [],
   "source": []
  },
  {
   "cell_type": "code",
   "execution_count": null,
   "id": "f3401ff2-bdbf-46a2-96b2-36b0f87042b2",
   "metadata": {},
   "outputs": [],
   "source": []
  },
  {
   "cell_type": "code",
   "execution_count": null,
   "id": "09a9fa0b-13a0-4673-84bc-e4b495bbcebe",
   "metadata": {},
   "outputs": [],
   "source": []
  },
  {
   "cell_type": "code",
   "execution_count": null,
   "id": "c3a4e96a-e33b-4a7e-941d-e20a7faac04c",
   "metadata": {},
   "outputs": [],
   "source": []
  },
  {
   "cell_type": "code",
   "execution_count": null,
   "id": "1e40a3f0-fcd2-4ceb-b04d-20e1e437ec83",
   "metadata": {},
   "outputs": [],
   "source": []
  },
  {
   "cell_type": "code",
   "execution_count": null,
   "id": "76d842f0-7096-4620-8de8-9b122db9006a",
   "metadata": {},
   "outputs": [],
   "source": []
  }
 ],
 "metadata": {
  "kernelspec": {
   "display_name": "Python 3 (ipykernel)",
   "language": "python",
   "name": "python3"
  },
  "language_info": {
   "codemirror_mode": {
    "name": "ipython",
    "version": 3
   },
   "file_extension": ".py",
   "mimetype": "text/x-python",
   "name": "python",
   "nbconvert_exporter": "python",
   "pygments_lexer": "ipython3",
   "version": "3.11.7"
  }
 },
 "nbformat": 4,
 "nbformat_minor": 5
}
