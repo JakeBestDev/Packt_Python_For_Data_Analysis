{
 "cells": [
  {
   "cell_type": "markdown",
   "id": "631fc516-0931-4bef-b56e-b6f6cc4c23b1",
   "metadata": {},
   "source": [
    "## Extracting Date & Time"
   ]
  },
  {
   "cell_type": "code",
   "execution_count": 2,
   "id": "39e22024-8484-4f57-a7ec-8ba4ce2cf49e",
   "metadata": {},
   "outputs": [],
   "source": [
    "import pandas as pd"
   ]
  },
  {
   "cell_type": "code",
   "execution_count": 3,
   "id": "3faf8538-dfa1-434b-9efd-56477569b273",
   "metadata": {},
   "outputs": [],
   "source": [
    "air_quality =  pd.read_csv('air_quality.csv')"
   ]
  },
  {
   "cell_type": "code",
   "execution_count": 4,
   "id": "3836aeff-576e-44be-8c6d-82944cf01cbd",
   "metadata": {},
   "outputs": [
    {
     "name": "stdout",
     "output_type": "stream",
     "text": [
      "<class 'pandas.core.frame.DataFrame'>\n",
      "RangeIndex: 95685 entries, 0 to 95684\n",
      "Data columns (total 14 columns):\n",
      " #   Column     Non-Null Count  Dtype  \n",
      "---  ------     --------------  -----  \n",
      " 0   date_time  95685 non-null  object \n",
      " 1   PM2.5      95685 non-null  float64\n",
      " 2   PM10       95685 non-null  float64\n",
      " 3   SO2        95685 non-null  float64\n",
      " 4   NO2        95685 non-null  float64\n",
      " 5   CO         95685 non-null  float64\n",
      " 6   O3         95685 non-null  float64\n",
      " 7   TEMP       95685 non-null  float64\n",
      " 8   PRES       95685 non-null  float64\n",
      " 9   DEWP       95685 non-null  float64\n",
      " 10  RAIN       95685 non-null  float64\n",
      " 11  wd         95685 non-null  object \n",
      " 12  WSPM       95685 non-null  float64\n",
      " 13  station    95685 non-null  object \n",
      "dtypes: float64(11), object(3)\n",
      "memory usage: 10.2+ MB\n"
     ]
    }
   ],
   "source": [
    "air_quality.info()"
   ]
  },
  {
   "cell_type": "code",
   "execution_count": 5,
   "id": "85124001-196d-4922-84c4-3c97592eea31",
   "metadata": {},
   "outputs": [
    {
     "data": {
      "text/html": [
       "<div>\n",
       "<style scoped>\n",
       "    .dataframe tbody tr th:only-of-type {\n",
       "        vertical-align: middle;\n",
       "    }\n",
       "\n",
       "    .dataframe tbody tr th {\n",
       "        vertical-align: top;\n",
       "    }\n",
       "\n",
       "    .dataframe thead th {\n",
       "        text-align: right;\n",
       "    }\n",
       "</style>\n",
       "<table border=\"1\" class=\"dataframe\">\n",
       "  <thead>\n",
       "    <tr style=\"text-align: right;\">\n",
       "      <th></th>\n",
       "      <th>date_time</th>\n",
       "      <th>PM2.5</th>\n",
       "      <th>PM10</th>\n",
       "      <th>SO2</th>\n",
       "      <th>NO2</th>\n",
       "      <th>CO</th>\n",
       "      <th>O3</th>\n",
       "      <th>TEMP</th>\n",
       "      <th>PRES</th>\n",
       "      <th>DEWP</th>\n",
       "      <th>RAIN</th>\n",
       "      <th>wd</th>\n",
       "      <th>WSPM</th>\n",
       "      <th>station</th>\n",
       "    </tr>\n",
       "  </thead>\n",
       "  <tbody>\n",
       "    <tr>\n",
       "      <th>0</th>\n",
       "      <td>2013-03-01 00:00:00</td>\n",
       "      <td>9.0</td>\n",
       "      <td>9.0</td>\n",
       "      <td>3.0</td>\n",
       "      <td>17.0</td>\n",
       "      <td>300.0</td>\n",
       "      <td>89.0</td>\n",
       "      <td>-0.5</td>\n",
       "      <td>1024.5</td>\n",
       "      <td>-21.4</td>\n",
       "      <td>0.0</td>\n",
       "      <td>NNW</td>\n",
       "      <td>5.7</td>\n",
       "      <td>Dongsi</td>\n",
       "    </tr>\n",
       "    <tr>\n",
       "      <th>1</th>\n",
       "      <td>2013-03-01 01:00:00</td>\n",
       "      <td>4.0</td>\n",
       "      <td>4.0</td>\n",
       "      <td>3.0</td>\n",
       "      <td>16.0</td>\n",
       "      <td>300.0</td>\n",
       "      <td>88.0</td>\n",
       "      <td>-0.7</td>\n",
       "      <td>1025.1</td>\n",
       "      <td>-22.1</td>\n",
       "      <td>0.0</td>\n",
       "      <td>NW</td>\n",
       "      <td>3.9</td>\n",
       "      <td>Dongsi</td>\n",
       "    </tr>\n",
       "    <tr>\n",
       "      <th>2</th>\n",
       "      <td>2013-03-01 05:00:00</td>\n",
       "      <td>4.0</td>\n",
       "      <td>4.0</td>\n",
       "      <td>9.0</td>\n",
       "      <td>25.0</td>\n",
       "      <td>300.0</td>\n",
       "      <td>78.0</td>\n",
       "      <td>-2.4</td>\n",
       "      <td>1027.5</td>\n",
       "      <td>-21.3</td>\n",
       "      <td>0.0</td>\n",
       "      <td>NW</td>\n",
       "      <td>2.4</td>\n",
       "      <td>Dongsi</td>\n",
       "    </tr>\n",
       "    <tr>\n",
       "      <th>3</th>\n",
       "      <td>2013-03-01 06:00:00</td>\n",
       "      <td>5.0</td>\n",
       "      <td>5.0</td>\n",
       "      <td>10.0</td>\n",
       "      <td>29.0</td>\n",
       "      <td>400.0</td>\n",
       "      <td>67.0</td>\n",
       "      <td>-2.5</td>\n",
       "      <td>1028.2</td>\n",
       "      <td>-20.4</td>\n",
       "      <td>0.0</td>\n",
       "      <td>NW</td>\n",
       "      <td>2.2</td>\n",
       "      <td>Dongsi</td>\n",
       "    </tr>\n",
       "    <tr>\n",
       "      <th>4</th>\n",
       "      <td>2013-03-01 07:00:00</td>\n",
       "      <td>3.0</td>\n",
       "      <td>6.0</td>\n",
       "      <td>12.0</td>\n",
       "      <td>40.0</td>\n",
       "      <td>400.0</td>\n",
       "      <td>52.0</td>\n",
       "      <td>-1.4</td>\n",
       "      <td>1029.5</td>\n",
       "      <td>-20.4</td>\n",
       "      <td>0.0</td>\n",
       "      <td>NNW</td>\n",
       "      <td>3.0</td>\n",
       "      <td>Dongsi</td>\n",
       "    </tr>\n",
       "  </tbody>\n",
       "</table>\n",
       "</div>"
      ],
      "text/plain": [
       "             date_time  PM2.5  PM10   SO2   NO2     CO    O3  TEMP    PRES  \\\n",
       "0  2013-03-01 00:00:00    9.0   9.0   3.0  17.0  300.0  89.0  -0.5  1024.5   \n",
       "1  2013-03-01 01:00:00    4.0   4.0   3.0  16.0  300.0  88.0  -0.7  1025.1   \n",
       "2  2013-03-01 05:00:00    4.0   4.0   9.0  25.0  300.0  78.0  -2.4  1027.5   \n",
       "3  2013-03-01 06:00:00    5.0   5.0  10.0  29.0  400.0  67.0  -2.5  1028.2   \n",
       "4  2013-03-01 07:00:00    3.0   6.0  12.0  40.0  400.0  52.0  -1.4  1029.5   \n",
       "\n",
       "   DEWP  RAIN   wd  WSPM station  \n",
       "0 -21.4   0.0  NNW   5.7  Dongsi  \n",
       "1 -22.1   0.0   NW   3.9  Dongsi  \n",
       "2 -21.3   0.0   NW   2.4  Dongsi  \n",
       "3 -20.4   0.0   NW   2.2  Dongsi  \n",
       "4 -20.4   0.0  NNW   3.0  Dongsi  "
      ]
     },
     "execution_count": 5,
     "metadata": {},
     "output_type": "execute_result"
    }
   ],
   "source": [
    "# Only really focusing on the date_time column sine were working with date times in this lesson\n",
    "# Notice the date_time column is labled as 'object' above in the info section. This means its currently a string, not what we want.\n",
    "air_quality.head()"
   ]
  },
  {
   "cell_type": "code",
   "execution_count": 6,
   "id": "a83b5699-ce33-4675-88eb-1fa30505c924",
   "metadata": {},
   "outputs": [
    {
     "ename": "AttributeError",
     "evalue": "Can only use .dt accessor with datetimelike values",
     "output_type": "error",
     "traceback": [
      "\u001b[1;31m---------------------------------------------------------------------------\u001b[0m",
      "\u001b[1;31mAttributeError\u001b[0m                            Traceback (most recent call last)",
      "Cell \u001b[1;32mIn[6], line 3\u001b[0m\n\u001b[0;32m      1\u001b[0m \u001b[38;5;66;03m# Because the date_time column is an object type datetime methods won't work.\u001b[39;00m\n\u001b[0;32m      2\u001b[0m \u001b[38;5;66;03m# Trying to get the year but cannot do so because the date_time column is a string not a datetime type.\u001b[39;00m\n\u001b[1;32m----> 3\u001b[0m air_quality[\u001b[38;5;124m'\u001b[39m\u001b[38;5;124mdate_time\u001b[39m\u001b[38;5;124m'\u001b[39m]\u001b[38;5;241m.\u001b[39mdt\u001b[38;5;241m.\u001b[39myear\n",
      "File \u001b[1;32m~\\anaconda3\\Lib\\site-packages\\pandas\\core\\generic.py:6204\u001b[0m, in \u001b[0;36mNDFrame.__getattr__\u001b[1;34m(self, name)\u001b[0m\n\u001b[0;32m   6197\u001b[0m \u001b[38;5;28;01mif\u001b[39;00m (\n\u001b[0;32m   6198\u001b[0m     name \u001b[38;5;129;01mnot\u001b[39;00m \u001b[38;5;129;01min\u001b[39;00m \u001b[38;5;28mself\u001b[39m\u001b[38;5;241m.\u001b[39m_internal_names_set\n\u001b[0;32m   6199\u001b[0m     \u001b[38;5;129;01mand\u001b[39;00m name \u001b[38;5;129;01mnot\u001b[39;00m \u001b[38;5;129;01min\u001b[39;00m \u001b[38;5;28mself\u001b[39m\u001b[38;5;241m.\u001b[39m_metadata\n\u001b[0;32m   6200\u001b[0m     \u001b[38;5;129;01mand\u001b[39;00m name \u001b[38;5;129;01mnot\u001b[39;00m \u001b[38;5;129;01min\u001b[39;00m \u001b[38;5;28mself\u001b[39m\u001b[38;5;241m.\u001b[39m_accessors\n\u001b[0;32m   6201\u001b[0m     \u001b[38;5;129;01mand\u001b[39;00m \u001b[38;5;28mself\u001b[39m\u001b[38;5;241m.\u001b[39m_info_axis\u001b[38;5;241m.\u001b[39m_can_hold_identifiers_and_holds_name(name)\n\u001b[0;32m   6202\u001b[0m ):\n\u001b[0;32m   6203\u001b[0m     \u001b[38;5;28;01mreturn\u001b[39;00m \u001b[38;5;28mself\u001b[39m[name]\n\u001b[1;32m-> 6204\u001b[0m \u001b[38;5;28;01mreturn\u001b[39;00m \u001b[38;5;28mobject\u001b[39m\u001b[38;5;241m.\u001b[39m\u001b[38;5;21m__getattribute__\u001b[39m(\u001b[38;5;28mself\u001b[39m, name)\n",
      "File \u001b[1;32m~\\anaconda3\\Lib\\site-packages\\pandas\\core\\accessor.py:224\u001b[0m, in \u001b[0;36mCachedAccessor.__get__\u001b[1;34m(self, obj, cls)\u001b[0m\n\u001b[0;32m    221\u001b[0m \u001b[38;5;28;01mif\u001b[39;00m obj \u001b[38;5;129;01mis\u001b[39;00m \u001b[38;5;28;01mNone\u001b[39;00m:\n\u001b[0;32m    222\u001b[0m     \u001b[38;5;66;03m# we're accessing the attribute of the class, i.e., Dataset.geo\u001b[39;00m\n\u001b[0;32m    223\u001b[0m     \u001b[38;5;28;01mreturn\u001b[39;00m \u001b[38;5;28mself\u001b[39m\u001b[38;5;241m.\u001b[39m_accessor\n\u001b[1;32m--> 224\u001b[0m accessor_obj \u001b[38;5;241m=\u001b[39m \u001b[38;5;28mself\u001b[39m\u001b[38;5;241m.\u001b[39m_accessor(obj)\n\u001b[0;32m    225\u001b[0m \u001b[38;5;66;03m# Replace the property with the accessor object. Inspired by:\u001b[39;00m\n\u001b[0;32m    226\u001b[0m \u001b[38;5;66;03m# https://www.pydanny.com/cached-property.html\u001b[39;00m\n\u001b[0;32m    227\u001b[0m \u001b[38;5;66;03m# We need to use object.__setattr__ because we overwrite __setattr__ on\u001b[39;00m\n\u001b[0;32m    228\u001b[0m \u001b[38;5;66;03m# NDFrame\u001b[39;00m\n\u001b[0;32m    229\u001b[0m \u001b[38;5;28mobject\u001b[39m\u001b[38;5;241m.\u001b[39m\u001b[38;5;21m__setattr__\u001b[39m(obj, \u001b[38;5;28mself\u001b[39m\u001b[38;5;241m.\u001b[39m_name, accessor_obj)\n",
      "File \u001b[1;32m~\\anaconda3\\Lib\\site-packages\\pandas\\core\\indexes\\accessors.py:608\u001b[0m, in \u001b[0;36mCombinedDatetimelikeProperties.__new__\u001b[1;34m(cls, data)\u001b[0m\n\u001b[0;32m    605\u001b[0m \u001b[38;5;28;01melif\u001b[39;00m \u001b[38;5;28misinstance\u001b[39m(data\u001b[38;5;241m.\u001b[39mdtype, PeriodDtype):\n\u001b[0;32m    606\u001b[0m     \u001b[38;5;28;01mreturn\u001b[39;00m PeriodProperties(data, orig)\n\u001b[1;32m--> 608\u001b[0m \u001b[38;5;28;01mraise\u001b[39;00m \u001b[38;5;167;01mAttributeError\u001b[39;00m(\u001b[38;5;124m\"\u001b[39m\u001b[38;5;124mCan only use .dt accessor with datetimelike values\u001b[39m\u001b[38;5;124m\"\u001b[39m)\n",
      "\u001b[1;31mAttributeError\u001b[0m: Can only use .dt accessor with datetimelike values"
     ]
    }
   ],
   "source": [
    "# Because the date_time column is an object type datetime methods won't work.\n",
    "# Trying to get the year but cannot do so because the date_time column is a string not a datetime type.\n",
    "air_quality['date_time'].dt.year"
   ]
  },
  {
   "cell_type": "markdown",
   "id": "94658498-b3b9-4819-990f-e90aedc98f07",
   "metadata": {},
   "source": [
    "## Use pandas to_datetime method to convert the column to datetime"
   ]
  },
  {
   "cell_type": "code",
   "execution_count": 7,
   "id": "7736e069-4b8a-4277-8e70-ad31e71f82e3",
   "metadata": {},
   "outputs": [],
   "source": [
    "air_quality['date_time'] = pd.to_datetime(air_quality['date_time'])"
   ]
  },
  {
   "cell_type": "code",
   "execution_count": 8,
   "id": "de40c5fc-3f3b-4800-9346-1f4de564996f",
   "metadata": {},
   "outputs": [
    {
     "name": "stdout",
     "output_type": "stream",
     "text": [
      "<class 'pandas.core.frame.DataFrame'>\n",
      "RangeIndex: 95685 entries, 0 to 95684\n",
      "Data columns (total 14 columns):\n",
      " #   Column     Non-Null Count  Dtype         \n",
      "---  ------     --------------  -----         \n",
      " 0   date_time  95685 non-null  datetime64[ns]\n",
      " 1   PM2.5      95685 non-null  float64       \n",
      " 2   PM10       95685 non-null  float64       \n",
      " 3   SO2        95685 non-null  float64       \n",
      " 4   NO2        95685 non-null  float64       \n",
      " 5   CO         95685 non-null  float64       \n",
      " 6   O3         95685 non-null  float64       \n",
      " 7   TEMP       95685 non-null  float64       \n",
      " 8   PRES       95685 non-null  float64       \n",
      " 9   DEWP       95685 non-null  float64       \n",
      " 10  RAIN       95685 non-null  float64       \n",
      " 11  wd         95685 non-null  object        \n",
      " 12  WSPM       95685 non-null  float64       \n",
      " 13  station    95685 non-null  object        \n",
      "dtypes: datetime64[ns](1), float64(11), object(2)\n",
      "memory usage: 10.2+ MB\n"
     ]
    }
   ],
   "source": [
    "air_quality.info()"
   ]
  },
  {
   "cell_type": "markdown",
   "id": "d31482b8-8634-429a-a6b0-c7ff6203f757",
   "metadata": {},
   "source": [
    "## Now lets gather data from the date_time column"
   ]
  },
  {
   "cell_type": "code",
   "execution_count": 9,
   "id": "d3f913c2-e0c4-4a52-a312-6ce4de75acd6",
   "metadata": {},
   "outputs": [],
   "source": [
    "# Get year from date_time and make new column\n",
    "air_quality['year'] = air_quality['date_time'].dt.year"
   ]
  },
  {
   "cell_type": "code",
   "execution_count": 10,
   "id": "6207b20d-2f7a-4c8f-80d8-407c68a8c83b",
   "metadata": {},
   "outputs": [],
   "source": [
    "# Get month from date_time and make new column\n",
    "air_quality['month'] = air_quality['date_time'].dt.month"
   ]
  },
  {
   "cell_type": "code",
   "execution_count": 11,
   "id": "725e6ff2-7c6e-4f54-b915-2a04f184cafc",
   "metadata": {},
   "outputs": [],
   "source": [
    "# Get day from date_time and make new column\n",
    "air_quality['day'] = air_quality['date_time'].dt.day"
   ]
  },
  {
   "cell_type": "code",
   "execution_count": 12,
   "id": "2ee66ad5-fed6-45f3-96ce-4e158111de0b",
   "metadata": {},
   "outputs": [],
   "source": [
    "# Get hour from date_time and make new column\n",
    "air_quality['hour'] = air_quality['date_time'].dt.hour"
   ]
  },
  {
   "cell_type": "code",
   "execution_count": 13,
   "id": "56700ba1-accb-4ce0-9c11-14d7908ee0b5",
   "metadata": {},
   "outputs": [],
   "source": [
    "# Get quarter from date_time and make new column\n",
    "air_quality['quarter'] = air_quality['date_time'].dt.quarter"
   ]
  },
  {
   "cell_type": "code",
   "execution_count": 14,
   "id": "ebb6297e-53c2-4a09-8fca-f73e6e0a3a27",
   "metadata": {},
   "outputs": [],
   "source": [
    "# Get day of the week number from date_time and make new column\n",
    "air_quality['day_of_week_num'] = air_quality['date_time'].dt.dayofweek"
   ]
  },
  {
   "cell_type": "code",
   "execution_count": 15,
   "id": "a3144eac-d021-49de-b48a-39c13dc28641",
   "metadata": {},
   "outputs": [],
   "source": [
    "# Get name of day of the week from date_time and make new column\n",
    "air_quality['day_of_week_name'] = air_quality['date_time'].dt.day_name()"
   ]
  },
  {
   "cell_type": "code",
   "execution_count": 16,
   "id": "6edd19fb-519b-4206-801b-13d480f29948",
   "metadata": {},
   "outputs": [
    {
     "name": "stdout",
     "output_type": "stream",
     "text": [
      "<class 'pandas.core.frame.DataFrame'>\n",
      "RangeIndex: 95685 entries, 0 to 95684\n",
      "Data columns (total 21 columns):\n",
      " #   Column            Non-Null Count  Dtype         \n",
      "---  ------            --------------  -----         \n",
      " 0   date_time         95685 non-null  datetime64[ns]\n",
      " 1   PM2.5             95685 non-null  float64       \n",
      " 2   PM10              95685 non-null  float64       \n",
      " 3   SO2               95685 non-null  float64       \n",
      " 4   NO2               95685 non-null  float64       \n",
      " 5   CO                95685 non-null  float64       \n",
      " 6   O3                95685 non-null  float64       \n",
      " 7   TEMP              95685 non-null  float64       \n",
      " 8   PRES              95685 non-null  float64       \n",
      " 9   DEWP              95685 non-null  float64       \n",
      " 10  RAIN              95685 non-null  float64       \n",
      " 11  wd                95685 non-null  object        \n",
      " 12  WSPM              95685 non-null  float64       \n",
      " 13  station           95685 non-null  object        \n",
      " 14  year              95685 non-null  int32         \n",
      " 15  month             95685 non-null  int32         \n",
      " 16  day               95685 non-null  int32         \n",
      " 17  hour              95685 non-null  int32         \n",
      " 18  quarter           95685 non-null  int32         \n",
      " 19  day_of_week_num   95685 non-null  int32         \n",
      " 20  day_of_week_name  95685 non-null  object        \n",
      "dtypes: datetime64[ns](1), float64(11), int32(6), object(3)\n",
      "memory usage: 13.1+ MB\n"
     ]
    }
   ],
   "source": [
    "air_quality.info()"
   ]
  },
  {
   "cell_type": "code",
   "execution_count": 17,
   "id": "45844d7a-ff77-4ac7-a8a8-e95c491292a2",
   "metadata": {},
   "outputs": [
    {
     "data": {
      "text/html": [
       "<div>\n",
       "<style scoped>\n",
       "    .dataframe tbody tr th:only-of-type {\n",
       "        vertical-align: middle;\n",
       "    }\n",
       "\n",
       "    .dataframe tbody tr th {\n",
       "        vertical-align: top;\n",
       "    }\n",
       "\n",
       "    .dataframe thead th {\n",
       "        text-align: right;\n",
       "    }\n",
       "</style>\n",
       "<table border=\"1\" class=\"dataframe\">\n",
       "  <thead>\n",
       "    <tr style=\"text-align: right;\">\n",
       "      <th></th>\n",
       "      <th>date_time</th>\n",
       "      <th>year</th>\n",
       "      <th>month</th>\n",
       "      <th>day</th>\n",
       "      <th>hour</th>\n",
       "      <th>quarter</th>\n",
       "      <th>day_of_week_num</th>\n",
       "      <th>day_of_week_name</th>\n",
       "    </tr>\n",
       "  </thead>\n",
       "  <tbody>\n",
       "    <tr>\n",
       "      <th>0</th>\n",
       "      <td>2013-03-01 00:00:00</td>\n",
       "      <td>2013</td>\n",
       "      <td>3</td>\n",
       "      <td>1</td>\n",
       "      <td>0</td>\n",
       "      <td>1</td>\n",
       "      <td>4</td>\n",
       "      <td>Friday</td>\n",
       "    </tr>\n",
       "    <tr>\n",
       "      <th>1</th>\n",
       "      <td>2013-03-01 01:00:00</td>\n",
       "      <td>2013</td>\n",
       "      <td>3</td>\n",
       "      <td>1</td>\n",
       "      <td>1</td>\n",
       "      <td>1</td>\n",
       "      <td>4</td>\n",
       "      <td>Friday</td>\n",
       "    </tr>\n",
       "    <tr>\n",
       "      <th>2</th>\n",
       "      <td>2013-03-01 05:00:00</td>\n",
       "      <td>2013</td>\n",
       "      <td>3</td>\n",
       "      <td>1</td>\n",
       "      <td>5</td>\n",
       "      <td>1</td>\n",
       "      <td>4</td>\n",
       "      <td>Friday</td>\n",
       "    </tr>\n",
       "    <tr>\n",
       "      <th>3</th>\n",
       "      <td>2013-03-01 06:00:00</td>\n",
       "      <td>2013</td>\n",
       "      <td>3</td>\n",
       "      <td>1</td>\n",
       "      <td>6</td>\n",
       "      <td>1</td>\n",
       "      <td>4</td>\n",
       "      <td>Friday</td>\n",
       "    </tr>\n",
       "    <tr>\n",
       "      <th>4</th>\n",
       "      <td>2013-03-01 07:00:00</td>\n",
       "      <td>2013</td>\n",
       "      <td>3</td>\n",
       "      <td>1</td>\n",
       "      <td>7</td>\n",
       "      <td>1</td>\n",
       "      <td>4</td>\n",
       "      <td>Friday</td>\n",
       "    </tr>\n",
       "    <tr>\n",
       "      <th>...</th>\n",
       "      <td>...</td>\n",
       "      <td>...</td>\n",
       "      <td>...</td>\n",
       "      <td>...</td>\n",
       "      <td>...</td>\n",
       "      <td>...</td>\n",
       "      <td>...</td>\n",
       "      <td>...</td>\n",
       "    </tr>\n",
       "    <tr>\n",
       "      <th>95680</th>\n",
       "      <td>2017-02-28 15:00:00</td>\n",
       "      <td>2017</td>\n",
       "      <td>2</td>\n",
       "      <td>28</td>\n",
       "      <td>15</td>\n",
       "      <td>1</td>\n",
       "      <td>1</td>\n",
       "      <td>Tuesday</td>\n",
       "    </tr>\n",
       "    <tr>\n",
       "      <th>95681</th>\n",
       "      <td>2017-02-28 16:00:00</td>\n",
       "      <td>2017</td>\n",
       "      <td>2</td>\n",
       "      <td>28</td>\n",
       "      <td>16</td>\n",
       "      <td>1</td>\n",
       "      <td>1</td>\n",
       "      <td>Tuesday</td>\n",
       "    </tr>\n",
       "    <tr>\n",
       "      <th>95682</th>\n",
       "      <td>2017-02-28 21:00:00</td>\n",
       "      <td>2017</td>\n",
       "      <td>2</td>\n",
       "      <td>28</td>\n",
       "      <td>21</td>\n",
       "      <td>1</td>\n",
       "      <td>1</td>\n",
       "      <td>Tuesday</td>\n",
       "    </tr>\n",
       "    <tr>\n",
       "      <th>95683</th>\n",
       "      <td>2017-02-28 22:00:00</td>\n",
       "      <td>2017</td>\n",
       "      <td>2</td>\n",
       "      <td>28</td>\n",
       "      <td>22</td>\n",
       "      <td>1</td>\n",
       "      <td>1</td>\n",
       "      <td>Tuesday</td>\n",
       "    </tr>\n",
       "    <tr>\n",
       "      <th>95684</th>\n",
       "      <td>2017-02-28 23:00:00</td>\n",
       "      <td>2017</td>\n",
       "      <td>2</td>\n",
       "      <td>28</td>\n",
       "      <td>23</td>\n",
       "      <td>1</td>\n",
       "      <td>1</td>\n",
       "      <td>Tuesday</td>\n",
       "    </tr>\n",
       "  </tbody>\n",
       "</table>\n",
       "<p>95685 rows × 8 columns</p>\n",
       "</div>"
      ],
      "text/plain": [
       "                date_time  year  month  day  hour  quarter  day_of_week_num  \\\n",
       "0     2013-03-01 00:00:00  2013      3    1     0        1                4   \n",
       "1     2013-03-01 01:00:00  2013      3    1     1        1                4   \n",
       "2     2013-03-01 05:00:00  2013      3    1     5        1                4   \n",
       "3     2013-03-01 06:00:00  2013      3    1     6        1                4   \n",
       "4     2013-03-01 07:00:00  2013      3    1     7        1                4   \n",
       "...                   ...   ...    ...  ...   ...      ...              ...   \n",
       "95680 2017-02-28 15:00:00  2017      2   28    15        1                1   \n",
       "95681 2017-02-28 16:00:00  2017      2   28    16        1                1   \n",
       "95682 2017-02-28 21:00:00  2017      2   28    21        1                1   \n",
       "95683 2017-02-28 22:00:00  2017      2   28    22        1                1   \n",
       "95684 2017-02-28 23:00:00  2017      2   28    23        1                1   \n",
       "\n",
       "      day_of_week_name  \n",
       "0               Friday  \n",
       "1               Friday  \n",
       "2               Friday  \n",
       "3               Friday  \n",
       "4               Friday  \n",
       "...                ...  \n",
       "95680          Tuesday  \n",
       "95681          Tuesday  \n",
       "95682          Tuesday  \n",
       "95683          Tuesday  \n",
       "95684          Tuesday  \n",
       "\n",
       "[95685 rows x 8 columns]"
      ]
     },
     "execution_count": 17,
     "metadata": {},
     "output_type": "execute_result"
    }
   ],
   "source": [
    "air_quality[['date_time','year','month','day','hour','quarter','day_of_week_num','day_of_week_name']]"
   ]
  },
  {
   "cell_type": "code",
   "execution_count": 18,
   "id": "45baa1f4-5c76-4494-93c5-57adb1b6e2ba",
   "metadata": {},
   "outputs": [
    {
     "data": {
      "text/plain": [
       "day_of_week_num  day_of_week_name\n",
       "6                Sunday              13931\n",
       "5                Saturday            13812\n",
       "4                Friday              13782\n",
       "3                Thursday            13633\n",
       "0                Monday              13536\n",
       "1                Tuesday             13523\n",
       "2                Wednesday           13468\n",
       "Name: count, dtype: int64"
      ]
     },
     "execution_count": 18,
     "metadata": {},
     "output_type": "execute_result"
    }
   ],
   "source": [
    "air_quality[['day_of_week_num','day_of_week_name']].value_counts()"
   ]
  },
  {
   "cell_type": "markdown",
   "id": "d3964111-90be-4a71-8a36-3dfb283a7dcc",
   "metadata": {},
   "source": [
    "## How to get the difference in 2 date times"
   ]
  },
  {
   "cell_type": "markdown",
   "id": "e1b9ab08-9cac-4b45-adfc-5ef536f00888",
   "metadata": {},
   "source": [
    "#### Example 1: Subtract max()-min()"
   ]
  },
  {
   "cell_type": "code",
   "execution_count": 19,
   "id": "7db95ced-b316-4483-a522-36421282ef1c",
   "metadata": {},
   "outputs": [
    {
     "data": {
      "text/plain": [
       "Timestamp('2017-02-28 23:00:00')"
      ]
     },
     "execution_count": 19,
     "metadata": {},
     "output_type": "execute_result"
    }
   ],
   "source": [
    "air_quality['date_time'].max()"
   ]
  },
  {
   "cell_type": "code",
   "execution_count": 20,
   "id": "7b3765c7-18f4-43c9-80e5-47b2c8766e88",
   "metadata": {},
   "outputs": [
    {
     "data": {
      "text/plain": [
       "Timestamp('2013-03-01 00:00:00')"
      ]
     },
     "execution_count": 20,
     "metadata": {},
     "output_type": "execute_result"
    }
   ],
   "source": [
    "air_quality['date_time'].min()"
   ]
  },
  {
   "cell_type": "code",
   "execution_count": 21,
   "id": "5aa63819-973f-4c87-9253-40f2d3053bc4",
   "metadata": {},
   "outputs": [
    {
     "data": {
      "text/plain": [
       "Timedelta('1460 days 23:00:00')"
      ]
     },
     "execution_count": 21,
     "metadata": {},
     "output_type": "execute_result"
    }
   ],
   "source": [
    "# Timedelta means the difference between the two datetime values\n",
    "air_quality['date_time'].max() - air_quality['date_time'].min()"
   ]
  },
  {
   "cell_type": "code",
   "execution_count": 22,
   "id": "b997ab41-a600-4af1-bd62-78702102d084",
   "metadata": {},
   "outputs": [],
   "source": [
    "# assign to variable\n",
    "date_time_range = air_quality['date_time'].max() - air_quality['date_time'].min()"
   ]
  },
  {
   "cell_type": "code",
   "execution_count": 23,
   "id": "27f3392b-6a4c-4603-a0e9-bbe63cacdf88",
   "metadata": {},
   "outputs": [
    {
     "data": {
      "text/plain": [
       "Timedelta('1 days 00:00:00')"
      ]
     },
     "execution_count": 23,
     "metadata": {},
     "output_type": "execute_result"
    }
   ],
   "source": [
    "# Represents 1 day\n",
    "pd.Timedelta(days=1)"
   ]
  },
  {
   "cell_type": "code",
   "execution_count": 24,
   "id": "c6e696d9-14f1-4add-997e-835b513bc64f",
   "metadata": {},
   "outputs": [
    {
     "data": {
      "text/plain": [
       "Timedelta('365 days 00:00:00')"
      ]
     },
     "execution_count": 24,
     "metadata": {},
     "output_type": "execute_result"
    }
   ],
   "source": [
    "# Since 365 is roughly a year this is representing a year\n",
    "pd.Timedelta(days=365)"
   ]
  },
  {
   "cell_type": "code",
   "execution_count": 25,
   "id": "5ea38aeb-76ca-4327-8a3a-2d833dbb89f7",
   "metadata": {},
   "outputs": [
    {
     "data": {
      "text/plain": [
       "1460.9583333333333"
      ]
     },
     "execution_count": 25,
     "metadata": {},
     "output_type": "execute_result"
    }
   ],
   "source": [
    "# Lets compare the range to see how many total single days there are using Timedelta\n",
    "# The decimal is the 23 hours in the date_time_range\n",
    "date_time_range / pd.Timedelta(days=1)"
   ]
  },
  {
   "cell_type": "code",
   "execution_count": 26,
   "id": "aa08584b-f04f-48ec-8983-d36a3af477bc",
   "metadata": {},
   "outputs": [
    {
     "data": {
      "text/plain": [
       "4.002625570776256"
      ]
     },
     "execution_count": 26,
     "metadata": {},
     "output_type": "execute_result"
    }
   ],
   "source": [
    "# Lets compare the range to see how many total years there are using Timedelta\n",
    "date_time_range / pd.Timedelta(days=365)"
   ]
  },
  {
   "cell_type": "code",
   "execution_count": 27,
   "id": "7585a8e0-b73b-490a-8a90-49beba0dcea7",
   "metadata": {},
   "outputs": [
    {
     "data": {
      "text/plain": [
       "4.002625570776256"
      ]
     },
     "execution_count": 27,
     "metadata": {},
     "output_type": "execute_result"
    }
   ],
   "source": [
    "# This is essentially whats happening above\n",
    "1460.9583333333333 / 365"
   ]
  },
  {
   "cell_type": "markdown",
   "id": "a9c6d1e3-6f08-4c81-b56c-06fcdfad0ce8",
   "metadata": {},
   "source": [
    "#### Example 2: Subtract a certain date from the date_time column"
   ]
  },
  {
   "cell_type": "code",
   "execution_count": 28,
   "id": "ca6c19be-9641-4a45-98c5-fc87bd6ee5f9",
   "metadata": {},
   "outputs": [
    {
     "data": {
      "text/plain": [
       "Timestamp('2022-01-01 00:00:00')"
      ]
     },
     "execution_count": 28,
     "metadata": {},
     "output_type": "execute_result"
    }
   ],
   "source": [
    "pd.Timestamp('2022/01/01')"
   ]
  },
  {
   "cell_type": "code",
   "execution_count": 29,
   "id": "3d4da1d2-dbd0-472d-b584-78ccbdd9ff4c",
   "metadata": {},
   "outputs": [
    {
     "data": {
      "text/plain": [
       "0       3228 days 00:00:00\n",
       "1       3227 days 23:00:00\n",
       "2       3227 days 19:00:00\n",
       "3       3227 days 18:00:00\n",
       "4       3227 days 17:00:00\n",
       "               ...        \n",
       "95680   1767 days 09:00:00\n",
       "95681   1767 days 08:00:00\n",
       "95682   1767 days 03:00:00\n",
       "95683   1767 days 02:00:00\n",
       "95684   1767 days 01:00:00\n",
       "Name: date_time, Length: 95685, dtype: timedelta64[ns]"
      ]
     },
     "execution_count": 29,
     "metadata": {},
     "output_type": "execute_result"
    }
   ],
   "source": [
    "pd.Timestamp('2022/01/01') - air_quality['date_time']"
   ]
  },
  {
   "cell_type": "code",
   "execution_count": 30,
   "id": "f8930ea7-9c95-4bb7-945f-4161aed21c37",
   "metadata": {},
   "outputs": [],
   "source": [
    "# make new column\n",
    "air_quality['time_until_2022'] = pd.Timestamp('2022/01/01') - air_quality['date_time']"
   ]
  },
  {
   "cell_type": "code",
   "execution_count": 31,
   "id": "bd77492a-1b24-40d6-a57e-2225195e496d",
   "metadata": {},
   "outputs": [
    {
     "data": {
      "text/plain": [
       "0        3228.000000\n",
       "1        3227.958333\n",
       "2        3227.791667\n",
       "3        3227.750000\n",
       "4        3227.708333\n",
       "            ...     \n",
       "95680    1767.375000\n",
       "95681    1767.333333\n",
       "95682    1767.125000\n",
       "95683    1767.083333\n",
       "95684    1767.041667\n",
       "Name: time_until_2022, Length: 95685, dtype: float64"
      ]
     },
     "execution_count": 31,
     "metadata": {},
     "output_type": "execute_result"
    }
   ],
   "source": [
    "# Now see the number of days for each column\n",
    "air_quality['time_until_2022']/pd.Timedelta(days=1)"
   ]
  },
  {
   "cell_type": "code",
   "execution_count": 32,
   "id": "c174f9c4-ea24-4756-91ba-f19eafa60f76",
   "metadata": {},
   "outputs": [],
   "source": [
    "# Assign the number of days to a new column\n",
    "air_quality['time_until_2022_days'] = air_quality['time_until_2022']/pd.Timedelta(days=1)"
   ]
  },
  {
   "cell_type": "code",
   "execution_count": 33,
   "id": "2757a865-cec9-423d-8003-4d996f928c9f",
   "metadata": {},
   "outputs": [],
   "source": [
    "# Assign the number of weeks to a new column\n",
    "air_quality['time_until_2022_weeks'] = air_quality['time_until_2022']/pd.Timedelta(weeks = 1)"
   ]
  },
  {
   "cell_type": "code",
   "execution_count": 34,
   "id": "223bca55-7b46-41fb-b608-e8a4caa6bbcd",
   "metadata": {},
   "outputs": [
    {
     "data": {
      "text/html": [
       "<div>\n",
       "<style scoped>\n",
       "    .dataframe tbody tr th:only-of-type {\n",
       "        vertical-align: middle;\n",
       "    }\n",
       "\n",
       "    .dataframe tbody tr th {\n",
       "        vertical-align: top;\n",
       "    }\n",
       "\n",
       "    .dataframe thead th {\n",
       "        text-align: right;\n",
       "    }\n",
       "</style>\n",
       "<table border=\"1\" class=\"dataframe\">\n",
       "  <thead>\n",
       "    <tr style=\"text-align: right;\">\n",
       "      <th></th>\n",
       "      <th>date_time</th>\n",
       "      <th>time_until_2022</th>\n",
       "      <th>time_until_2022_days</th>\n",
       "      <th>time_until_2022_weeks</th>\n",
       "    </tr>\n",
       "  </thead>\n",
       "  <tbody>\n",
       "    <tr>\n",
       "      <th>0</th>\n",
       "      <td>2013-03-01 00:00:00</td>\n",
       "      <td>3228 days 00:00:00</td>\n",
       "      <td>3228.000000</td>\n",
       "      <td>461.142857</td>\n",
       "    </tr>\n",
       "    <tr>\n",
       "      <th>1</th>\n",
       "      <td>2013-03-01 01:00:00</td>\n",
       "      <td>3227 days 23:00:00</td>\n",
       "      <td>3227.958333</td>\n",
       "      <td>461.136905</td>\n",
       "    </tr>\n",
       "    <tr>\n",
       "      <th>2</th>\n",
       "      <td>2013-03-01 05:00:00</td>\n",
       "      <td>3227 days 19:00:00</td>\n",
       "      <td>3227.791667</td>\n",
       "      <td>461.113095</td>\n",
       "    </tr>\n",
       "    <tr>\n",
       "      <th>3</th>\n",
       "      <td>2013-03-01 06:00:00</td>\n",
       "      <td>3227 days 18:00:00</td>\n",
       "      <td>3227.750000</td>\n",
       "      <td>461.107143</td>\n",
       "    </tr>\n",
       "    <tr>\n",
       "      <th>4</th>\n",
       "      <td>2013-03-01 07:00:00</td>\n",
       "      <td>3227 days 17:00:00</td>\n",
       "      <td>3227.708333</td>\n",
       "      <td>461.101190</td>\n",
       "    </tr>\n",
       "    <tr>\n",
       "      <th>...</th>\n",
       "      <td>...</td>\n",
       "      <td>...</td>\n",
       "      <td>...</td>\n",
       "      <td>...</td>\n",
       "    </tr>\n",
       "    <tr>\n",
       "      <th>95680</th>\n",
       "      <td>2017-02-28 15:00:00</td>\n",
       "      <td>1767 days 09:00:00</td>\n",
       "      <td>1767.375000</td>\n",
       "      <td>252.482143</td>\n",
       "    </tr>\n",
       "    <tr>\n",
       "      <th>95681</th>\n",
       "      <td>2017-02-28 16:00:00</td>\n",
       "      <td>1767 days 08:00:00</td>\n",
       "      <td>1767.333333</td>\n",
       "      <td>252.476190</td>\n",
       "    </tr>\n",
       "    <tr>\n",
       "      <th>95682</th>\n",
       "      <td>2017-02-28 21:00:00</td>\n",
       "      <td>1767 days 03:00:00</td>\n",
       "      <td>1767.125000</td>\n",
       "      <td>252.446429</td>\n",
       "    </tr>\n",
       "    <tr>\n",
       "      <th>95683</th>\n",
       "      <td>2017-02-28 22:00:00</td>\n",
       "      <td>1767 days 02:00:00</td>\n",
       "      <td>1767.083333</td>\n",
       "      <td>252.440476</td>\n",
       "    </tr>\n",
       "    <tr>\n",
       "      <th>95684</th>\n",
       "      <td>2017-02-28 23:00:00</td>\n",
       "      <td>1767 days 01:00:00</td>\n",
       "      <td>1767.041667</td>\n",
       "      <td>252.434524</td>\n",
       "    </tr>\n",
       "  </tbody>\n",
       "</table>\n",
       "<p>95685 rows × 4 columns</p>\n",
       "</div>"
      ],
      "text/plain": [
       "                date_time    time_until_2022  time_until_2022_days  \\\n",
       "0     2013-03-01 00:00:00 3228 days 00:00:00           3228.000000   \n",
       "1     2013-03-01 01:00:00 3227 days 23:00:00           3227.958333   \n",
       "2     2013-03-01 05:00:00 3227 days 19:00:00           3227.791667   \n",
       "3     2013-03-01 06:00:00 3227 days 18:00:00           3227.750000   \n",
       "4     2013-03-01 07:00:00 3227 days 17:00:00           3227.708333   \n",
       "...                   ...                ...                   ...   \n",
       "95680 2017-02-28 15:00:00 1767 days 09:00:00           1767.375000   \n",
       "95681 2017-02-28 16:00:00 1767 days 08:00:00           1767.333333   \n",
       "95682 2017-02-28 21:00:00 1767 days 03:00:00           1767.125000   \n",
       "95683 2017-02-28 22:00:00 1767 days 02:00:00           1767.083333   \n",
       "95684 2017-02-28 23:00:00 1767 days 01:00:00           1767.041667   \n",
       "\n",
       "       time_until_2022_weeks  \n",
       "0                 461.142857  \n",
       "1                 461.136905  \n",
       "2                 461.113095  \n",
       "3                 461.107143  \n",
       "4                 461.101190  \n",
       "...                      ...  \n",
       "95680             252.482143  \n",
       "95681             252.476190  \n",
       "95682             252.446429  \n",
       "95683             252.440476  \n",
       "95684             252.434524  \n",
       "\n",
       "[95685 rows x 4 columns]"
      ]
     },
     "execution_count": 34,
     "metadata": {},
     "output_type": "execute_result"
    }
   ],
   "source": [
    "air_quality[['date_time','time_until_2022','time_until_2022_days','time_until_2022_weeks']]"
   ]
  },
  {
   "cell_type": "code",
   "execution_count": 35,
   "id": "f5719775-4807-4fc9-b22f-c7163d38a55f",
   "metadata": {},
   "outputs": [
    {
     "data": {
      "text/plain": [
       "461.14285714285717"
      ]
     },
     "execution_count": 35,
     "metadata": {},
     "output_type": "execute_result"
    }
   ],
   "source": [
    "# Check the first row above. The time_until_2022_days / 7 = time_until_2022_weeks\n",
    "3228.000000\t/ 7"
   ]
  },
  {
   "cell_type": "markdown",
   "id": "e72c9b3c-0678-4b85-93a4-598d0e90eb1e",
   "metadata": {},
   "source": [
    "## Compare date times "
   ]
  },
  {
   "cell_type": "code",
   "execution_count": 36,
   "id": "9606efc3-01fd-4472-9c83-fc27afbbbfe7",
   "metadata": {},
   "outputs": [
    {
     "data": {
      "text/plain": [
       "0         True\n",
       "1         True\n",
       "2         True\n",
       "3         True\n",
       "4         True\n",
       "         ...  \n",
       "95680    False\n",
       "95681    False\n",
       "95682    False\n",
       "95683    False\n",
       "95684    False\n",
       "Name: date_time, Length: 95685, dtype: bool"
      ]
     },
     "execution_count": 36,
     "metadata": {},
     "output_type": "execute_result"
    }
   ],
   "source": [
    "air_quality['date_time']<pd.Timestamp('2016/01/01')"
   ]
  },
  {
   "cell_type": "markdown",
   "id": "2e848bb6-eea3-446c-af84-f032875c8181",
   "metadata": {},
   "source": [
    "#### This comparison allows us to analyse the data before and after specific dates"
   ]
  },
  {
   "cell_type": "code",
   "execution_count": 37,
   "id": "07db3552-11eb-48e9-a204-a858c39edf09",
   "metadata": {},
   "outputs": [],
   "source": [
    "air_quality['prior_2016_ind'] =  air_quality['date_time']<pd.Timestamp('2016/01/01')"
   ]
  },
  {
   "cell_type": "code",
   "execution_count": 38,
   "id": "8337830c-5065-4a44-89ce-ec850514c51c",
   "metadata": {},
   "outputs": [
    {
     "data": {
      "text/html": [
       "<div>\n",
       "<style scoped>\n",
       "    .dataframe tbody tr th:only-of-type {\n",
       "        vertical-align: middle;\n",
       "    }\n",
       "\n",
       "    .dataframe tbody tr th {\n",
       "        vertical-align: top;\n",
       "    }\n",
       "\n",
       "    .dataframe thead th {\n",
       "        text-align: right;\n",
       "    }\n",
       "</style>\n",
       "<table border=\"1\" class=\"dataframe\">\n",
       "  <thead>\n",
       "    <tr style=\"text-align: right;\">\n",
       "      <th></th>\n",
       "      <th>date_time</th>\n",
       "      <th>prior_2016_ind</th>\n",
       "    </tr>\n",
       "  </thead>\n",
       "  <tbody>\n",
       "    <tr>\n",
       "      <th>0</th>\n",
       "      <td>2013-03-01 00:00:00</td>\n",
       "      <td>True</td>\n",
       "    </tr>\n",
       "    <tr>\n",
       "      <th>1</th>\n",
       "      <td>2013-03-01 01:00:00</td>\n",
       "      <td>True</td>\n",
       "    </tr>\n",
       "    <tr>\n",
       "      <th>2</th>\n",
       "      <td>2013-03-01 05:00:00</td>\n",
       "      <td>True</td>\n",
       "    </tr>\n",
       "    <tr>\n",
       "      <th>3</th>\n",
       "      <td>2013-03-01 06:00:00</td>\n",
       "      <td>True</td>\n",
       "    </tr>\n",
       "    <tr>\n",
       "      <th>4</th>\n",
       "      <td>2013-03-01 07:00:00</td>\n",
       "      <td>True</td>\n",
       "    </tr>\n",
       "    <tr>\n",
       "      <th>...</th>\n",
       "      <td>...</td>\n",
       "      <td>...</td>\n",
       "    </tr>\n",
       "    <tr>\n",
       "      <th>95680</th>\n",
       "      <td>2017-02-28 15:00:00</td>\n",
       "      <td>False</td>\n",
       "    </tr>\n",
       "    <tr>\n",
       "      <th>95681</th>\n",
       "      <td>2017-02-28 16:00:00</td>\n",
       "      <td>False</td>\n",
       "    </tr>\n",
       "    <tr>\n",
       "      <th>95682</th>\n",
       "      <td>2017-02-28 21:00:00</td>\n",
       "      <td>False</td>\n",
       "    </tr>\n",
       "    <tr>\n",
       "      <th>95683</th>\n",
       "      <td>2017-02-28 22:00:00</td>\n",
       "      <td>False</td>\n",
       "    </tr>\n",
       "    <tr>\n",
       "      <th>95684</th>\n",
       "      <td>2017-02-28 23:00:00</td>\n",
       "      <td>False</td>\n",
       "    </tr>\n",
       "  </tbody>\n",
       "</table>\n",
       "<p>95685 rows × 2 columns</p>\n",
       "</div>"
      ],
      "text/plain": [
       "                date_time  prior_2016_ind\n",
       "0     2013-03-01 00:00:00            True\n",
       "1     2013-03-01 01:00:00            True\n",
       "2     2013-03-01 05:00:00            True\n",
       "3     2013-03-01 06:00:00            True\n",
       "4     2013-03-01 07:00:00            True\n",
       "...                   ...             ...\n",
       "95680 2017-02-28 15:00:00           False\n",
       "95681 2017-02-28 16:00:00           False\n",
       "95682 2017-02-28 21:00:00           False\n",
       "95683 2017-02-28 22:00:00           False\n",
       "95684 2017-02-28 23:00:00           False\n",
       "\n",
       "[95685 rows x 2 columns]"
      ]
     },
     "execution_count": 38,
     "metadata": {},
     "output_type": "execute_result"
    }
   ],
   "source": [
    "air_quality[['date_time','prior_2016_ind']]"
   ]
  },
  {
   "cell_type": "markdown",
   "id": "4ce858b3-f198-42f4-ac8a-1eb5fc70e9c0",
   "metadata": {},
   "source": [
    "## Everything We've Added"
   ]
  },
  {
   "cell_type": "code",
   "execution_count": 39,
   "id": "19720aba-36d1-481d-8ba9-e1da5bebf194",
   "metadata": {},
   "outputs": [
    {
     "data": {
      "text/plain": [
       "Index(['date_time', 'PM2.5', 'PM10', 'SO2', 'NO2', 'CO', 'O3', 'TEMP', 'PRES',\n",
       "       'DEWP', 'RAIN', 'wd', 'WSPM', 'station', 'year', 'month', 'day', 'hour',\n",
       "       'quarter', 'day_of_week_num', 'day_of_week_name', 'time_until_2022',\n",
       "       'time_until_2022_days', 'time_until_2022_weeks', 'prior_2016_ind'],\n",
       "      dtype='object')"
      ]
     },
     "execution_count": 39,
     "metadata": {},
     "output_type": "execute_result"
    }
   ],
   "source": [
    "air_quality.columns"
   ]
  },
  {
   "cell_type": "markdown",
   "id": "63a1f28e-2b2d-47c0-88cf-21fb2503511a",
   "metadata": {},
   "source": [
    "## Pickle This So I Can Use In Next Lesson"
   ]
  },
  {
   "cell_type": "code",
   "execution_count": 40,
   "id": "533def42-3fe7-4c7c-a089-edd9d37428e2",
   "metadata": {},
   "outputs": [],
   "source": [
    "air_quality.to_pickle('aq1.pkl')"
   ]
  },
  {
   "cell_type": "code",
   "execution_count": null,
   "id": "d70e35a2-2797-46dd-864c-568143466c05",
   "metadata": {},
   "outputs": [],
   "source": []
  },
  {
   "cell_type": "code",
   "execution_count": null,
   "id": "74a03164-f0b9-4f2d-bb2a-5c441b766763",
   "metadata": {},
   "outputs": [],
   "source": []
  },
  {
   "cell_type": "code",
   "execution_count": null,
   "id": "fdc24d46-6199-4ae7-872b-37f3ebc8b2c8",
   "metadata": {},
   "outputs": [],
   "source": []
  },
  {
   "cell_type": "code",
   "execution_count": null,
   "id": "5d6466c9-3c16-4032-ba92-8620cfc6ae19",
   "metadata": {},
   "outputs": [],
   "source": []
  },
  {
   "cell_type": "code",
   "execution_count": null,
   "id": "38916d0a-41e4-4653-b32d-6adb99ac7da1",
   "metadata": {},
   "outputs": [],
   "source": []
  },
  {
   "cell_type": "code",
   "execution_count": null,
   "id": "5e59e703-8db5-4d9e-8d58-96430841717d",
   "metadata": {},
   "outputs": [],
   "source": []
  },
  {
   "cell_type": "code",
   "execution_count": null,
   "id": "fe533e95-235b-4f3c-8e3c-d8ced8c833a1",
   "metadata": {},
   "outputs": [],
   "source": []
  },
  {
   "cell_type": "code",
   "execution_count": null,
   "id": "8de370f0-4bd2-49bd-b20a-bc17318035bc",
   "metadata": {},
   "outputs": [],
   "source": []
  }
 ],
 "metadata": {
  "kernelspec": {
   "display_name": "Python 3 (ipykernel)",
   "language": "python",
   "name": "python3"
  },
  "language_info": {
   "codemirror_mode": {
    "name": "ipython",
    "version": 3
   },
   "file_extension": ".py",
   "mimetype": "text/x-python",
   "name": "python",
   "nbconvert_exporter": "python",
   "pygments_lexer": "ipython3",
   "version": "3.11.7"
  }
 },
 "nbformat": 4,
 "nbformat_minor": 5
}
