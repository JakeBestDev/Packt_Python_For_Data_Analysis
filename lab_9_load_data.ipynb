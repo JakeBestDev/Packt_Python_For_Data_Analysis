{
 "cells": [
  {
   "cell_type": "markdown",
   "id": "cceb3eb6-1386-437e-a56c-333711ddf586",
   "metadata": {},
   "source": [
    "## Import/Load Data"
   ]
  },
  {
   "cell_type": "markdown",
   "id": "b7fd73fe-53d6-4ea8-99e4-7402c184ebb8",
   "metadata": {},
   "source": [
    "## CSV Read Data"
   ]
  },
  {
   "cell_type": "code",
   "execution_count": 1,
   "id": "45a5a8cd-e3e9-4962-b196-f214d5e5b204",
   "metadata": {},
   "outputs": [],
   "source": [
    "import pandas as pd"
   ]
  },
  {
   "cell_type": "code",
   "execution_count": 2,
   "id": "77a06806-8126-4240-b332-c28a7909a6f7",
   "metadata": {},
   "outputs": [],
   "source": [
    "# press shift + tab when typing 'pd.read_csv' for paramiters and tool tips\n",
    "hero_powers=pd.read_csv('superhero_powers.csv')"
   ]
  },
  {
   "cell_type": "code",
   "execution_count": 3,
   "id": "4a26f14f-ab71-4d13-82f0-dfa80e1c322f",
   "metadata": {},
   "outputs": [
    {
     "data": {
      "text/plain": [
       "pandas.core.frame.DataFrame"
      ]
     },
     "execution_count": 3,
     "metadata": {},
     "output_type": "execute_result"
    }
   ],
   "source": [
    "type(hero_powers)"
   ]
  },
  {
   "cell_type": "markdown",
   "id": "247998e3-820e-4a82-acdd-2a6a82fa7cce",
   "metadata": {},
   "source": [
    "## Read Excel File"
   ]
  },
  {
   "cell_type": "code",
   "execution_count": 4,
   "id": "ab0cfd47-335c-407f-90ee-e24f6e9177a5",
   "metadata": {},
   "outputs": [],
   "source": [
    "# sheet_name included due to excel file structure having multiple spreedsheets on same file. If not defined would select only first sheet.\n",
    "hero_dc = pd.read_excel('superhero_info.xlsx',sheet_name='DC Comics')\n",
    "hero_marvel = pd.read_excel('superhero_info.xlsx',sheet_name='Marvel Comics')"
   ]
  },
  {
   "cell_type": "code",
   "execution_count": 6,
   "id": "1603d6d9-60c6-4380-877c-afa3f7d94b98",
   "metadata": {},
   "outputs": [
    {
     "data": {
      "text/plain": [
       "pandas.core.frame.DataFrame"
      ]
     },
     "execution_count": 6,
     "metadata": {},
     "output_type": "execute_result"
    }
   ],
   "source": [
    "type(hero_dc)"
   ]
  },
  {
   "cell_type": "code",
   "execution_count": 7,
   "id": "f52de291-70e4-45d2-ad2a-2a54f820b07a",
   "metadata": {},
   "outputs": [
    {
     "data": {
      "text/plain": [
       "pandas.core.frame.DataFrame"
      ]
     },
     "execution_count": 7,
     "metadata": {},
     "output_type": "execute_result"
    }
   ],
   "source": [
    "type(hero_marvel)"
   ]
  },
  {
   "cell_type": "code",
   "execution_count": null,
   "id": "b13e2728-72cc-4de2-ad7f-336086141c54",
   "metadata": {},
   "outputs": [],
   "source": []
  },
  {
   "cell_type": "code",
   "execution_count": null,
   "id": "274df9e8-3858-4b59-828c-f6f18020bab3",
   "metadata": {},
   "outputs": [],
   "source": []
  },
  {
   "cell_type": "code",
   "execution_count": null,
   "id": "4ba4403b-1d5d-41a0-82a8-d75912e8f31f",
   "metadata": {},
   "outputs": [],
   "source": []
  },
  {
   "cell_type": "code",
   "execution_count": null,
   "id": "be87ccef-8fd9-43f8-ac2e-91ec8893a846",
   "metadata": {},
   "outputs": [],
   "source": []
  },
  {
   "cell_type": "code",
   "execution_count": null,
   "id": "756c1bb2-be3e-4768-a286-43cb759c2c92",
   "metadata": {},
   "outputs": [],
   "source": []
  },
  {
   "cell_type": "code",
   "execution_count": null,
   "id": "99776cca-b517-4cc6-9782-cf0f1dbdf0b7",
   "metadata": {},
   "outputs": [],
   "source": []
  },
  {
   "cell_type": "code",
   "execution_count": null,
   "id": "e9db65d0-c905-4594-b056-ad19143defc8",
   "metadata": {},
   "outputs": [],
   "source": []
  },
  {
   "cell_type": "code",
   "execution_count": null,
   "id": "18adf325-4f05-4140-bceb-749f5af82137",
   "metadata": {},
   "outputs": [],
   "source": []
  },
  {
   "cell_type": "code",
   "execution_count": null,
   "id": "98b3cd21-f3e0-44d0-b139-68b60e06ba6c",
   "metadata": {},
   "outputs": [],
   "source": []
  },
  {
   "cell_type": "code",
   "execution_count": null,
   "id": "468c53e9-2963-434b-a1dd-47ed04d332ce",
   "metadata": {},
   "outputs": [],
   "source": []
  },
  {
   "cell_type": "code",
   "execution_count": null,
   "id": "acd9487a-f4de-4b65-bfa3-7d0af44b28fc",
   "metadata": {},
   "outputs": [],
   "source": []
  },
  {
   "cell_type": "code",
   "execution_count": null,
   "id": "33827c83-b383-47b7-ab8b-eee4a0f87f04",
   "metadata": {},
   "outputs": [],
   "source": []
  },
  {
   "cell_type": "code",
   "execution_count": null,
   "id": "5941a557-96ba-4d9f-ae94-72396fc6ead8",
   "metadata": {},
   "outputs": [],
   "source": []
  },
  {
   "cell_type": "code",
   "execution_count": null,
   "id": "4d70f743-a77a-46a0-9e51-723476a5ebb0",
   "metadata": {},
   "outputs": [],
   "source": []
  },
  {
   "cell_type": "code",
   "execution_count": null,
   "id": "edc07cba-6ec9-4421-848a-6686403edd7b",
   "metadata": {},
   "outputs": [],
   "source": []
  },
  {
   "cell_type": "code",
   "execution_count": null,
   "id": "6703bc12-76de-44f2-8d53-645de65da13f",
   "metadata": {},
   "outputs": [],
   "source": []
  },
  {
   "cell_type": "code",
   "execution_count": null,
   "id": "dafc1915-e24d-47ab-98c5-cb5b0d85ad16",
   "metadata": {},
   "outputs": [],
   "source": []
  },
  {
   "cell_type": "code",
   "execution_count": null,
   "id": "040bc872-7939-413c-b804-d3c062a9aa60",
   "metadata": {},
   "outputs": [],
   "source": []
  },
  {
   "cell_type": "code",
   "execution_count": null,
   "id": "7f7c6a42-5781-4578-a5b4-26a7a214d03b",
   "metadata": {},
   "outputs": [],
   "source": []
  },
  {
   "cell_type": "code",
   "execution_count": null,
   "id": "2d5a9a4f-0af3-4a86-80fe-3b1b2042cfe4",
   "metadata": {},
   "outputs": [],
   "source": []
  },
  {
   "cell_type": "code",
   "execution_count": null,
   "id": "a9188a91-5c0e-4849-8824-f82454d7e486",
   "metadata": {},
   "outputs": [],
   "source": []
  },
  {
   "cell_type": "code",
   "execution_count": null,
   "id": "495637be-bef9-4804-9629-608b2152e0a1",
   "metadata": {},
   "outputs": [],
   "source": []
  },
  {
   "cell_type": "code",
   "execution_count": null,
   "id": "799fe73e-26b2-44c7-a3e3-9e6ed464bed8",
   "metadata": {},
   "outputs": [],
   "source": []
  },
  {
   "cell_type": "code",
   "execution_count": null,
   "id": "5a592455-3589-4647-b3e9-020c037a5da5",
   "metadata": {},
   "outputs": [],
   "source": []
  },
  {
   "cell_type": "code",
   "execution_count": null,
   "id": "8aad3ba0-15e3-4cc4-8a0d-b9e3acb769c4",
   "metadata": {},
   "outputs": [],
   "source": []
  },
  {
   "cell_type": "code",
   "execution_count": null,
   "id": "e74819c3-81e4-41c7-bda3-caa78383e8b5",
   "metadata": {},
   "outputs": [],
   "source": []
  },
  {
   "cell_type": "code",
   "execution_count": null,
   "id": "5ee783d1-5bc6-4a7e-98d8-e72153cbf15b",
   "metadata": {},
   "outputs": [],
   "source": []
  },
  {
   "cell_type": "code",
   "execution_count": null,
   "id": "3b643e7e-007d-46d2-a0c0-c301b9d62515",
   "metadata": {},
   "outputs": [],
   "source": []
  },
  {
   "cell_type": "code",
   "execution_count": null,
   "id": "e749874d-ced1-4b16-8d13-092d902db270",
   "metadata": {},
   "outputs": [],
   "source": []
  },
  {
   "cell_type": "code",
   "execution_count": null,
   "id": "4147d043-37e8-4f03-845d-0580ed8c9031",
   "metadata": {},
   "outputs": [],
   "source": []
  },
  {
   "cell_type": "code",
   "execution_count": null,
   "id": "683eeee5-75df-4f79-b48c-65abbee89d0e",
   "metadata": {},
   "outputs": [],
   "source": []
  },
  {
   "cell_type": "code",
   "execution_count": null,
   "id": "d0a235f3-385c-4730-93cc-9e6c491aeeca",
   "metadata": {},
   "outputs": [],
   "source": []
  },
  {
   "cell_type": "code",
   "execution_count": null,
   "id": "78f8a596-11cb-4f7c-8b06-c76dd7bc0e51",
   "metadata": {},
   "outputs": [],
   "source": []
  }
 ],
 "metadata": {
  "kernelspec": {
   "display_name": "Python 3 (ipykernel)",
   "language": "python",
   "name": "python3"
  },
  "language_info": {
   "codemirror_mode": {
    "name": "ipython",
    "version": 3
   },
   "file_extension": ".py",
   "mimetype": "text/x-python",
   "name": "python",
   "nbconvert_exporter": "python",
   "pygments_lexer": "ipython3",
   "version": "3.11.7"
  }
 },
 "nbformat": 4,
 "nbformat_minor": 5
}
